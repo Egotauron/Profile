{
 "cells": [
  {
   "cell_type": "code",
   "execution_count": 1,
   "id": "7c877f06",
   "metadata": {
    "_cell_guid": "b1076dfc-b9ad-4769-8c92-a6c4dae69d19",
    "_uuid": "8f2839f25d086af736a60e9eeb907d3b93b6e0e5",
    "execution": {
     "iopub.execute_input": "2024-10-17T11:35:54.822560Z",
     "iopub.status.busy": "2024-10-17T11:35:54.822175Z",
     "iopub.status.idle": "2024-10-17T11:35:55.548875Z",
     "shell.execute_reply": "2024-10-17T11:35:55.547914Z"
    },
    "papermill": {
     "duration": 0.741418,
     "end_time": "2024-10-17T11:35:55.551190",
     "exception": false,
     "start_time": "2024-10-17T11:35:54.809772",
     "status": "completed"
    },
    "tags": []
   },
   "outputs": [
    {
     "name": "stdout",
     "output_type": "stream",
     "text": [
      "/kaggle/input/og-dataset/credit_risk_dataset.csv\n",
      "/kaggle/input/playground-series-s4e10/sample_submission.csv\n",
      "/kaggle/input/playground-series-s4e10/train.csv\n",
      "/kaggle/input/playground-series-s4e10/test.csv\n"
     ]
    }
   ],
   "source": [
    "# This Python 3 environment comes with many helpful analytics libraries installed\n",
    "# It is defined by the kaggle/python Docker image: https://github.com/kaggle/docker-python\n",
    "# For example, here's several helpful packages to load\n",
    "\n",
    "import numpy as np # linear algebra\n",
    "import pandas as pd # data processing, CSV file I/O (e.g. pd.read_csv)\n",
    "\n",
    "# Input data files are available in the read-only \"../input/\" directory\n",
    "# For example, running this (by clicking run or pressing Shift+Enter) will list all files under the input directory\n",
    "\n",
    "import os\n",
    "for dirname, _, filenames in os.walk('/kaggle/input'):\n",
    "    for filename in filenames:\n",
    "        print(os.path.join(dirname, filename))\n",
    "\n",
    "# You can write up to 20GB to the current directory (/kaggle/working/) that gets preserved as output when you create a version using \"Save & Run All\" \n",
    "# You can also write temporary files to /kaggle/temp/, but they won't be saved outside of the current session"
   ]
  },
  {
   "cell_type": "markdown",
   "id": "24e07faf",
   "metadata": {
    "papermill": {
     "duration": 0.010741,
     "end_time": "2024-10-17T11:35:55.573839",
     "exception": false,
     "start_time": "2024-10-17T11:35:55.563098",
     "status": "completed"
    },
    "tags": []
   },
   "source": [
    "# Import Data"
   ]
  },
  {
   "cell_type": "code",
   "execution_count": 2,
   "id": "277530a7",
   "metadata": {
    "execution": {
     "iopub.execute_input": "2024-10-17T11:35:55.596005Z",
     "iopub.status.busy": "2024-10-17T11:35:55.595571Z",
     "iopub.status.idle": "2024-10-17T11:35:55.972554Z",
     "shell.execute_reply": "2024-10-17T11:35:55.971512Z"
    },
    "papermill": {
     "duration": 0.390802,
     "end_time": "2024-10-17T11:35:55.974968",
     "exception": false,
     "start_time": "2024-10-17T11:35:55.584166",
     "status": "completed"
    },
    "tags": []
   },
   "outputs": [],
   "source": [
    "train= pd.read_csv('/kaggle/input/playground-series-s4e10/train.csv')\n",
    "original = pd.read_csv('/kaggle/input/og-dataset/credit_risk_dataset.csv')\n",
    "df = pd.concat([train, original], ignore_index=True)\n",
    "df = df.fillna('None')\n",
    "test = pd.read_csv('/kaggle/input/playground-series-s4e10/test.csv')"
   ]
  },
  {
   "cell_type": "markdown",
   "id": "4ac970c1",
   "metadata": {
    "papermill": {
     "duration": 0.010268,
     "end_time": "2024-10-17T11:35:55.995885",
     "exception": false,
     "start_time": "2024-10-17T11:35:55.985617",
     "status": "completed"
    },
    "tags": []
   },
   "source": [
    "# Explore Data"
   ]
  },
  {
   "cell_type": "code",
   "execution_count": 3,
   "id": "e6d7b4e0",
   "metadata": {
    "execution": {
     "iopub.execute_input": "2024-10-17T11:35:56.017652Z",
     "iopub.status.busy": "2024-10-17T11:35:56.017289Z",
     "iopub.status.idle": "2024-10-17T11:35:56.024109Z",
     "shell.execute_reply": "2024-10-17T11:35:56.023303Z"
    },
    "papermill": {
     "duration": 0.019998,
     "end_time": "2024-10-17T11:35:56.026089",
     "exception": false,
     "start_time": "2024-10-17T11:35:56.006091",
     "status": "completed"
    },
    "tags": []
   },
   "outputs": [
    {
     "data": {
      "text/plain": [
       "array(['id', 'person_age', 'person_income', 'person_home_ownership',\n",
       "       'person_emp_length', 'loan_intent', 'loan_grade', 'loan_amnt',\n",
       "       'loan_int_rate', 'loan_percent_income',\n",
       "       'cb_person_default_on_file', 'cb_person_cred_hist_length',\n",
       "       'loan_status'], dtype=object)"
      ]
     },
     "execution_count": 3,
     "metadata": {},
     "output_type": "execute_result"
    }
   ],
   "source": [
    "df.columns.values"
   ]
  },
  {
   "cell_type": "code",
   "execution_count": 4,
   "id": "519f7334",
   "metadata": {
    "execution": {
     "iopub.execute_input": "2024-10-17T11:35:56.048284Z",
     "iopub.status.busy": "2024-10-17T11:35:56.048015Z",
     "iopub.status.idle": "2024-10-17T11:35:56.095365Z",
     "shell.execute_reply": "2024-10-17T11:35:56.094521Z"
    },
    "papermill": {
     "duration": 0.060878,
     "end_time": "2024-10-17T11:35:56.097444",
     "exception": false,
     "start_time": "2024-10-17T11:35:56.036566",
     "status": "completed"
    },
    "tags": []
   },
   "outputs": [
    {
     "data": {
      "text/html": [
       "<div>\n",
       "<style scoped>\n",
       "    .dataframe tbody tr th:only-of-type {\n",
       "        vertical-align: middle;\n",
       "    }\n",
       "\n",
       "    .dataframe tbody tr th {\n",
       "        vertical-align: top;\n",
       "    }\n",
       "\n",
       "    .dataframe thead th {\n",
       "        text-align: right;\n",
       "    }\n",
       "</style>\n",
       "<table border=\"1\" class=\"dataframe\">\n",
       "  <thead>\n",
       "    <tr style=\"text-align: right;\">\n",
       "      <th></th>\n",
       "      <th>person_age</th>\n",
       "      <th>person_income</th>\n",
       "      <th>loan_amnt</th>\n",
       "      <th>loan_percent_income</th>\n",
       "      <th>cb_person_cred_hist_length</th>\n",
       "      <th>loan_status</th>\n",
       "    </tr>\n",
       "  </thead>\n",
       "  <tbody>\n",
       "    <tr>\n",
       "      <th>count</th>\n",
       "      <td>91226.000000</td>\n",
       "      <td>9.122600e+04</td>\n",
       "      <td>91226.000000</td>\n",
       "      <td>91226.000000</td>\n",
       "      <td>91226.000000</td>\n",
       "      <td>91226.000000</td>\n",
       "    </tr>\n",
       "    <tr>\n",
       "      <th>mean</th>\n",
       "      <td>27.616480</td>\n",
       "      <td>6.477071e+04</td>\n",
       "      <td>9350.348607</td>\n",
       "      <td>0.163154</td>\n",
       "      <td>5.810219</td>\n",
       "      <td>0.169447</td>\n",
       "    </tr>\n",
       "    <tr>\n",
       "      <th>std</th>\n",
       "      <td>6.148115</td>\n",
       "      <td>4.793696e+04</td>\n",
       "      <td>5848.605423</td>\n",
       "      <td>0.097491</td>\n",
       "      <td>4.038412</td>\n",
       "      <td>0.375149</td>\n",
       "    </tr>\n",
       "    <tr>\n",
       "      <th>min</th>\n",
       "      <td>20.000000</td>\n",
       "      <td>4.000000e+03</td>\n",
       "      <td>500.000000</td>\n",
       "      <td>0.000000</td>\n",
       "      <td>2.000000</td>\n",
       "      <td>0.000000</td>\n",
       "    </tr>\n",
       "    <tr>\n",
       "      <th>25%</th>\n",
       "      <td>23.000000</td>\n",
       "      <td>4.000000e+04</td>\n",
       "      <td>5000.000000</td>\n",
       "      <td>0.090000</td>\n",
       "      <td>3.000000</td>\n",
       "      <td>0.000000</td>\n",
       "    </tr>\n",
       "    <tr>\n",
       "      <th>50%</th>\n",
       "      <td>26.000000</td>\n",
       "      <td>5.700000e+04</td>\n",
       "      <td>8000.000000</td>\n",
       "      <td>0.140000</td>\n",
       "      <td>4.000000</td>\n",
       "      <td>0.000000</td>\n",
       "    </tr>\n",
       "    <tr>\n",
       "      <th>75%</th>\n",
       "      <td>30.000000</td>\n",
       "      <td>7.800000e+04</td>\n",
       "      <td>12000.000000</td>\n",
       "      <td>0.220000</td>\n",
       "      <td>8.000000</td>\n",
       "      <td>0.000000</td>\n",
       "    </tr>\n",
       "    <tr>\n",
       "      <th>max</th>\n",
       "      <td>144.000000</td>\n",
       "      <td>6.000000e+06</td>\n",
       "      <td>35000.000000</td>\n",
       "      <td>0.830000</td>\n",
       "      <td>30.000000</td>\n",
       "      <td>1.000000</td>\n",
       "    </tr>\n",
       "  </tbody>\n",
       "</table>\n",
       "</div>"
      ],
      "text/plain": [
       "         person_age  person_income     loan_amnt  loan_percent_income  \\\n",
       "count  91226.000000   9.122600e+04  91226.000000         91226.000000   \n",
       "mean      27.616480   6.477071e+04   9350.348607             0.163154   \n",
       "std        6.148115   4.793696e+04   5848.605423             0.097491   \n",
       "min       20.000000   4.000000e+03    500.000000             0.000000   \n",
       "25%       23.000000   4.000000e+04   5000.000000             0.090000   \n",
       "50%       26.000000   5.700000e+04   8000.000000             0.140000   \n",
       "75%       30.000000   7.800000e+04  12000.000000             0.220000   \n",
       "max      144.000000   6.000000e+06  35000.000000             0.830000   \n",
       "\n",
       "       cb_person_cred_hist_length   loan_status  \n",
       "count                91226.000000  91226.000000  \n",
       "mean                     5.810219      0.169447  \n",
       "std                      4.038412      0.375149  \n",
       "min                      2.000000      0.000000  \n",
       "25%                      3.000000      0.000000  \n",
       "50%                      4.000000      0.000000  \n",
       "75%                      8.000000      0.000000  \n",
       "max                     30.000000      1.000000  "
      ]
     },
     "execution_count": 4,
     "metadata": {},
     "output_type": "execute_result"
    }
   ],
   "source": [
    "df.describe()"
   ]
  },
  {
   "cell_type": "code",
   "execution_count": 5,
   "id": "e6fd5fce",
   "metadata": {
    "execution": {
     "iopub.execute_input": "2024-10-17T11:35:56.120893Z",
     "iopub.status.busy": "2024-10-17T11:35:56.120609Z",
     "iopub.status.idle": "2024-10-17T11:35:56.126085Z",
     "shell.execute_reply": "2024-10-17T11:35:56.125243Z"
    },
    "papermill": {
     "duration": 0.019711,
     "end_time": "2024-10-17T11:35:56.128126",
     "exception": false,
     "start_time": "2024-10-17T11:35:56.108415",
     "status": "completed"
    },
    "tags": []
   },
   "outputs": [
    {
     "data": {
      "text/plain": [
       "(91226, 13)"
      ]
     },
     "execution_count": 5,
     "metadata": {},
     "output_type": "execute_result"
    }
   ],
   "source": [
    "df.shape"
   ]
  },
  {
   "cell_type": "code",
   "execution_count": 6,
   "id": "d1cc1e83",
   "metadata": {
    "execution": {
     "iopub.execute_input": "2024-10-17T11:35:56.150752Z",
     "iopub.status.busy": "2024-10-17T11:35:56.150487Z",
     "iopub.status.idle": "2024-10-17T11:35:56.201387Z",
     "shell.execute_reply": "2024-10-17T11:35:56.200350Z"
    },
    "papermill": {
     "duration": 0.064462,
     "end_time": "2024-10-17T11:35:56.203318",
     "exception": false,
     "start_time": "2024-10-17T11:35:56.138856",
     "status": "completed"
    },
    "tags": []
   },
   "outputs": [
    {
     "name": "stdout",
     "output_type": "stream",
     "text": [
      "id .... 0\n",
      "person_age .... 0\n",
      "person_income .... 0\n",
      "person_home_ownership .... 0\n",
      "person_emp_length .... 0\n",
      "loan_intent .... 0\n",
      "loan_grade .... 0\n",
      "loan_amnt .... 0\n",
      "loan_int_rate .... 0\n",
      "loan_percent_income .... 0\n",
      "cb_person_default_on_file .... 0\n",
      "cb_person_cred_hist_length .... 0\n",
      "loan_status .... 0\n"
     ]
    }
   ],
   "source": [
    "for i in df.columns.values:\n",
    "    print( i, \"....\" ,df[i].isna().sum())"
   ]
  },
  {
   "cell_type": "markdown",
   "id": "223d2d7b",
   "metadata": {
    "papermill": {
     "duration": 0.010731,
     "end_time": "2024-10-17T11:35:56.224932",
     "exception": false,
     "start_time": "2024-10-17T11:35:56.214201",
     "status": "completed"
    },
    "tags": []
   },
   "source": [
    "# Feature engineering"
   ]
  },
  {
   "cell_type": "code",
   "execution_count": 7,
   "id": "4ca6c8fc",
   "metadata": {
    "execution": {
     "iopub.execute_input": "2024-10-17T11:35:56.247972Z",
     "iopub.status.busy": "2024-10-17T11:35:56.247666Z",
     "iopub.status.idle": "2024-10-17T11:35:56.258407Z",
     "shell.execute_reply": "2024-10-17T11:35:56.257615Z"
    },
    "papermill": {
     "duration": 0.024431,
     "end_time": "2024-10-17T11:35:56.260304",
     "exception": false,
     "start_time": "2024-10-17T11:35:56.235873",
     "status": "completed"
    },
    "tags": []
   },
   "outputs": [],
   "source": [
    "def preprocess(df):\n",
    "    df['loan_to_income'] = ((df['loan_amnt'] / df['person_income']) - df['loan_percent_income']).astype('string').astype('category')\n",
    "    df['age_income_interaction'] = (df['person_age'] * df['person_income']).astype('string').astype('category')\n",
    "    df['loan_to_emp_length_ratio'] = (df['loan_amnt'] / df['person_emp_length'].replace({'None': train['person_emp_length'].mean()}).astype('float')).astype('string').astype('category')\n",
    "    monthly_income = df['person_income'] / 12\n",
    "    df['monthly_debt'] = (df['loan_amnt'] * (1 + df['loan_int_rate'].replace({'None': train['loan_int_rate'].mean()})) / 12)\n",
    "    df['dti_ratio'] = (df['monthly_debt'] / monthly_income).astype('string').astype('category')\n",
    "    df['monthly_debt'] = df['monthly_debt'].astype('string').astype('category')\n",
    "    df['risk_flag'] = (np.where((df['cb_person_default_on_file'] == 'Y') & (df['loan_grade'].isin(['C', 'D', 'E'])), 1, 0))\n",
    "    df['risk_flag'] = df['risk_flag'].astype('category')\n",
    "    df['person_home_ownership'] = df['person_home_ownership'].astype('category')\n",
    "    df['loan_intent'] = df['loan_intent'].astype('category')\n",
    "    df['loan_grade'] = df['loan_grade'].astype('category')\n",
    "    df['cb_person_default_on_file'] = df['cb_person_default_on_file'].astype('category')\n",
    "    df['person_emp_length'] = df['person_emp_length'].astype('string').astype('category')\n",
    "    df['loan_int_rate'] = (df['loan_int_rate'] * 100).astype('string').astype('category')\n",
    "    df['loan_percent_income'] = (df['loan_percent_income'] * 100).astype('string').astype('category')\n",
    "    return df"
   ]
  },
  {
   "cell_type": "code",
   "execution_count": 8,
   "id": "c437bc44",
   "metadata": {
    "execution": {
     "iopub.execute_input": "2024-10-17T11:35:56.284268Z",
     "iopub.status.busy": "2024-10-17T11:35:56.283988Z",
     "iopub.status.idle": "2024-10-17T11:35:57.653244Z",
     "shell.execute_reply": "2024-10-17T11:35:57.652331Z"
    },
    "papermill": {
     "duration": 1.384448,
     "end_time": "2024-10-17T11:35:57.655543",
     "exception": false,
     "start_time": "2024-10-17T11:35:56.271095",
     "status": "completed"
    },
    "tags": []
   },
   "outputs": [
    {
     "name": "stderr",
     "output_type": "stream",
     "text": [
      "/tmp/ipykernel_23/324284611.py:4: FutureWarning: Downcasting behavior in `replace` is deprecated and will be removed in a future version. To retain the old behavior, explicitly call `result.infer_objects(copy=False)`. To opt-in to the future behavior, set `pd.set_option('future.no_silent_downcasting', True)`\n",
      "  df['loan_to_emp_length_ratio'] = (df['loan_amnt'] / df['person_emp_length'].replace({'None': train['person_emp_length'].mean()}).astype('float')).astype('string').astype('category')\n",
      "/tmp/ipykernel_23/324284611.py:6: FutureWarning: Downcasting behavior in `replace` is deprecated and will be removed in a future version. To retain the old behavior, explicitly call `result.infer_objects(copy=False)`. To opt-in to the future behavior, set `pd.set_option('future.no_silent_downcasting', True)`\n",
      "  df['monthly_debt'] = (df['loan_amnt'] * (1 + df['loan_int_rate'].replace({'None': train['loan_int_rate'].mean()})) / 12)\n"
     ]
    }
   ],
   "source": [
    "df = preprocess(df)\n",
    "test = preprocess(test)"
   ]
  },
  {
   "cell_type": "code",
   "execution_count": 9,
   "id": "aecc28b5",
   "metadata": {
    "execution": {
     "iopub.execute_input": "2024-10-17T11:35:57.679459Z",
     "iopub.status.busy": "2024-10-17T11:35:57.679124Z",
     "iopub.status.idle": "2024-10-17T11:35:57.686155Z",
     "shell.execute_reply": "2024-10-17T11:35:57.685377Z"
    },
    "papermill": {
     "duration": 0.021271,
     "end_time": "2024-10-17T11:35:57.688254",
     "exception": false,
     "start_time": "2024-10-17T11:35:57.666983",
     "status": "completed"
    },
    "tags": []
   },
   "outputs": [],
   "source": [
    "categorical_cols = [\n",
    "    'loan_to_income', 'age_income_interaction', 'loan_to_emp_length_ratio', \n",
    "    'dti_ratio', 'monthly_debt', 'risk_flag', 'person_home_ownership', \n",
    "    'loan_intent', 'loan_grade', 'cb_person_default_on_file', 'person_emp_length', \n",
    "    'loan_int_rate', 'loan_percent_income'\n",
    "]\n",
    "numerical_cols= [\n",
    "    'person_age', 'person_income', 'cb_person_cred_hist_length', 'loan_amnt'\n",
    "]\n",
    "y = df.pop('loan_status')"
   ]
  },
  {
   "cell_type": "code",
   "execution_count": 10,
   "id": "25401856",
   "metadata": {
    "execution": {
     "iopub.execute_input": "2024-10-17T11:35:57.711726Z",
     "iopub.status.busy": "2024-10-17T11:35:57.711429Z",
     "iopub.status.idle": "2024-10-17T11:35:57.718570Z",
     "shell.execute_reply": "2024-10-17T11:35:57.717871Z"
    },
    "papermill": {
     "duration": 0.021188,
     "end_time": "2024-10-17T11:35:57.720358",
     "exception": false,
     "start_time": "2024-10-17T11:35:57.699170",
     "status": "completed"
    },
    "tags": []
   },
   "outputs": [],
   "source": [
    "X = df.drop(['id'], axis = 1)"
   ]
  },
  {
   "cell_type": "code",
   "execution_count": 11,
   "id": "9bdbcc86",
   "metadata": {
    "execution": {
     "iopub.execute_input": "2024-10-17T11:35:57.743416Z",
     "iopub.status.busy": "2024-10-17T11:35:57.743138Z",
     "iopub.status.idle": "2024-10-17T11:35:57.749222Z",
     "shell.execute_reply": "2024-10-17T11:35:57.748379Z"
    },
    "papermill": {
     "duration": 0.019487,
     "end_time": "2024-10-17T11:35:57.751024",
     "exception": false,
     "start_time": "2024-10-17T11:35:57.731537",
     "status": "completed"
    },
    "tags": []
   },
   "outputs": [
    {
     "data": {
      "text/plain": [
       "Index(['person_age', 'person_income', 'person_home_ownership',\n",
       "       'person_emp_length', 'loan_intent', 'loan_grade', 'loan_amnt',\n",
       "       'loan_int_rate', 'loan_percent_income', 'cb_person_default_on_file',\n",
       "       'cb_person_cred_hist_length', 'loan_to_income',\n",
       "       'age_income_interaction', 'loan_to_emp_length_ratio', 'monthly_debt',\n",
       "       'dti_ratio', 'risk_flag'],\n",
       "      dtype='object')"
      ]
     },
     "execution_count": 11,
     "metadata": {},
     "output_type": "execute_result"
    }
   ],
   "source": [
    "X.columns"
   ]
  },
  {
   "cell_type": "code",
   "execution_count": 12,
   "id": "f604b2d9",
   "metadata": {
    "execution": {
     "iopub.execute_input": "2024-10-17T11:35:57.774070Z",
     "iopub.status.busy": "2024-10-17T11:35:57.773789Z",
     "iopub.status.idle": "2024-10-17T11:35:59.319755Z",
     "shell.execute_reply": "2024-10-17T11:35:59.318814Z"
    },
    "papermill": {
     "duration": 1.560117,
     "end_time": "2024-10-17T11:35:59.322044",
     "exception": false,
     "start_time": "2024-10-17T11:35:57.761927",
     "status": "completed"
    },
    "tags": []
   },
   "outputs": [],
   "source": [
    "from sklearn.compose import ColumnTransformer\n",
    "from sklearn.preprocessing import OneHotEncoder, StandardScaler\n",
    "from category_encoders import BinaryEncoder\n",
    "\n",
    "# Define the column transformer\n",
    "preprocessor = ColumnTransformer(\n",
    "    transformers=[\n",
    "        ('num', StandardScaler(), numerical_cols),  # Standardize numerical features\n",
    "        ('cat', 'passthrough', categorical_cols)\n",
    "        #('cat', BinaryEncoder(handle_unknown='ignore'), categorical_cols)  # One-hot encode categorical features\n",
    "    ]\n",
    ")"
   ]
  },
  {
   "cell_type": "code",
   "execution_count": 13,
   "id": "aab25120",
   "metadata": {
    "execution": {
     "iopub.execute_input": "2024-10-17T11:35:59.346330Z",
     "iopub.status.busy": "2024-10-17T11:35:59.345873Z",
     "iopub.status.idle": "2024-10-17T11:35:59.460963Z",
     "shell.execute_reply": "2024-10-17T11:35:59.459902Z"
    },
    "papermill": {
     "duration": 0.129746,
     "end_time": "2024-10-17T11:35:59.463393",
     "exception": false,
     "start_time": "2024-10-17T11:35:59.333647",
     "status": "completed"
    },
    "tags": []
   },
   "outputs": [],
   "source": [
    "X_train_transformed=preprocessor.fit_transform(X)"
   ]
  },
  {
   "cell_type": "code",
   "execution_count": 14,
   "id": "ba6a0990",
   "metadata": {
    "execution": {
     "iopub.execute_input": "2024-10-17T11:35:59.487371Z",
     "iopub.status.busy": "2024-10-17T11:35:59.487021Z",
     "iopub.status.idle": "2024-10-17T11:35:59.491490Z",
     "shell.execute_reply": "2024-10-17T11:35:59.490642Z"
    },
    "papermill": {
     "duration": 0.018657,
     "end_time": "2024-10-17T11:35:59.493400",
     "exception": false,
     "start_time": "2024-10-17T11:35:59.474743",
     "status": "completed"
    },
    "tags": []
   },
   "outputs": [],
   "source": [
    "# Extract column names\n",
    "# Get numerical column names\n",
    "num_feature_names = numerical_cols\n",
    "\n",
    "# Get categorical column names after one-hot encoding\n",
    "cat_feature_names = categorical_cols\n",
    "\n",
    "# Combine both sets of feature names\n",
    "all_feature_names = list(num_feature_names) + list(cat_feature_names)"
   ]
  },
  {
   "cell_type": "code",
   "execution_count": 15,
   "id": "ba21e25a",
   "metadata": {
    "execution": {
     "iopub.execute_input": "2024-10-17T11:35:59.516793Z",
     "iopub.status.busy": "2024-10-17T11:35:59.516483Z",
     "iopub.status.idle": "2024-10-17T11:35:59.522479Z",
     "shell.execute_reply": "2024-10-17T11:35:59.521602Z"
    },
    "papermill": {
     "duration": 0.019907,
     "end_time": "2024-10-17T11:35:59.524270",
     "exception": false,
     "start_time": "2024-10-17T11:35:59.504363",
     "status": "completed"
    },
    "tags": []
   },
   "outputs": [
    {
     "data": {
      "text/plain": [
       "['person_age',\n",
       " 'person_income',\n",
       " 'cb_person_cred_hist_length',\n",
       " 'loan_amnt',\n",
       " 'loan_to_income',\n",
       " 'age_income_interaction',\n",
       " 'loan_to_emp_length_ratio',\n",
       " 'dti_ratio',\n",
       " 'monthly_debt',\n",
       " 'risk_flag',\n",
       " 'person_home_ownership',\n",
       " 'loan_intent',\n",
       " 'loan_grade',\n",
       " 'cb_person_default_on_file',\n",
       " 'person_emp_length',\n",
       " 'loan_int_rate',\n",
       " 'loan_percent_income']"
      ]
     },
     "execution_count": 15,
     "metadata": {},
     "output_type": "execute_result"
    }
   ],
   "source": [
    "all_feature_names"
   ]
  },
  {
   "cell_type": "code",
   "execution_count": 16,
   "id": "fb4387c5",
   "metadata": {
    "execution": {
     "iopub.execute_input": "2024-10-17T11:35:59.547830Z",
     "iopub.status.busy": "2024-10-17T11:35:59.547538Z",
     "iopub.status.idle": "2024-10-17T11:35:59.552968Z",
     "shell.execute_reply": "2024-10-17T11:35:59.552152Z"
    },
    "papermill": {
     "duration": 0.019322,
     "end_time": "2024-10-17T11:35:59.554856",
     "exception": false,
     "start_time": "2024-10-17T11:35:59.535534",
     "status": "completed"
    },
    "tags": []
   },
   "outputs": [
    {
     "data": {
      "text/plain": [
       "(91226, 17)"
      ]
     },
     "execution_count": 16,
     "metadata": {},
     "output_type": "execute_result"
    }
   ],
   "source": [
    "X_train_transformed.shape"
   ]
  },
  {
   "cell_type": "code",
   "execution_count": 17,
   "id": "a14628a2",
   "metadata": {
    "execution": {
     "iopub.execute_input": "2024-10-17T11:35:59.578668Z",
     "iopub.status.busy": "2024-10-17T11:35:59.578385Z",
     "iopub.status.idle": "2024-10-17T11:35:59.583194Z",
     "shell.execute_reply": "2024-10-17T11:35:59.582398Z"
    },
    "papermill": {
     "duration": 0.018869,
     "end_time": "2024-10-17T11:35:59.585019",
     "exception": false,
     "start_time": "2024-10-17T11:35:59.566150",
     "status": "completed"
    },
    "tags": []
   },
   "outputs": [],
   "source": [
    "# Convert the transformed array back to a DataFrame with the correct column names\n",
    "X = pd.DataFrame(X_train_transformed, columns=all_feature_names, index=X.index)"
   ]
  },
  {
   "cell_type": "code",
   "execution_count": 18,
   "id": "a3993ede",
   "metadata": {
    "execution": {
     "iopub.execute_input": "2024-10-17T11:35:59.608780Z",
     "iopub.status.busy": "2024-10-17T11:35:59.608517Z",
     "iopub.status.idle": "2024-10-17T11:35:59.746256Z",
     "shell.execute_reply": "2024-10-17T11:35:59.745383Z"
    },
    "papermill": {
     "duration": 0.152247,
     "end_time": "2024-10-17T11:35:59.748667",
     "exception": false,
     "start_time": "2024-10-17T11:35:59.596420",
     "status": "completed"
    },
    "tags": []
   },
   "outputs": [],
   "source": [
    "from sklearn.model_selection import train_test_split\n",
    "\n",
    "X_train, X_test, y_train, y_test = train_test_split(X, y, test_size=0.2, random_state=42)"
   ]
  },
  {
   "cell_type": "code",
   "execution_count": 19,
   "id": "7361ae3a",
   "metadata": {
    "execution": {
     "iopub.execute_input": "2024-10-17T11:35:59.773142Z",
     "iopub.status.busy": "2024-10-17T11:35:59.772821Z",
     "iopub.status.idle": "2024-10-17T11:35:59.793829Z",
     "shell.execute_reply": "2024-10-17T11:35:59.792997Z"
    },
    "papermill": {
     "duration": 0.03546,
     "end_time": "2024-10-17T11:35:59.795709",
     "exception": false,
     "start_time": "2024-10-17T11:35:59.760249",
     "status": "completed"
    },
    "tags": []
   },
   "outputs": [
    {
     "data": {
      "text/html": [
       "<div>\n",
       "<style scoped>\n",
       "    .dataframe tbody tr th:only-of-type {\n",
       "        vertical-align: middle;\n",
       "    }\n",
       "\n",
       "    .dataframe tbody tr th {\n",
       "        vertical-align: top;\n",
       "    }\n",
       "\n",
       "    .dataframe thead th {\n",
       "        text-align: right;\n",
       "    }\n",
       "</style>\n",
       "<table border=\"1\" class=\"dataframe\">\n",
       "  <thead>\n",
       "    <tr style=\"text-align: right;\">\n",
       "      <th></th>\n",
       "      <th>person_age</th>\n",
       "      <th>person_income</th>\n",
       "      <th>cb_person_cred_hist_length</th>\n",
       "      <th>loan_amnt</th>\n",
       "      <th>loan_to_income</th>\n",
       "      <th>age_income_interaction</th>\n",
       "      <th>loan_to_emp_length_ratio</th>\n",
       "      <th>dti_ratio</th>\n",
       "      <th>monthly_debt</th>\n",
       "      <th>risk_flag</th>\n",
       "      <th>person_home_ownership</th>\n",
       "      <th>loan_intent</th>\n",
       "      <th>loan_grade</th>\n",
       "      <th>cb_person_default_on_file</th>\n",
       "      <th>person_emp_length</th>\n",
       "      <th>loan_int_rate</th>\n",
       "      <th>loan_percent_income</th>\n",
       "    </tr>\n",
       "  </thead>\n",
       "  <tbody>\n",
       "    <tr>\n",
       "      <th>12909</th>\n",
       "      <td>0.225033</td>\n",
       "      <td>0.601403</td>\n",
       "      <td>1.037488</td>\n",
       "      <td>-0.572849</td>\n",
       "      <td>0.004102564102564099</td>\n",
       "      <td>2714400</td>\n",
       "      <td>6000.0</td>\n",
       "      <td>0.5692307692307691</td>\n",
       "      <td>4439.999999999999</td>\n",
       "      <td>0</td>\n",
       "      <td>RENT</td>\n",
       "      <td>PERSONAL</td>\n",
       "      <td>A</td>\n",
       "      <td>N</td>\n",
       "      <td>1.0</td>\n",
       "      <td>788.0</td>\n",
       "      <td>6.0</td>\n",
       "    </tr>\n",
       "    <tr>\n",
       "      <th>64185</th>\n",
       "      <td>-0.750881</td>\n",
       "      <td>-0.412434</td>\n",
       "      <td>-0.9435</td>\n",
       "      <td>0.111079</td>\n",
       "      <td>0.0022222222222222088</td>\n",
       "      <td>1035000</td>\n",
       "      <td>10000.0</td>\n",
       "      <td>2.9355555555555557</td>\n",
       "      <td>11008.333333333334</td>\n",
       "      <td>0</td>\n",
       "      <td>MORTGAGE</td>\n",
       "      <td>MEDICAL</td>\n",
       "      <td>B</td>\n",
       "      <td>N</td>\n",
       "      <td>1.0</td>\n",
       "      <td>1221.0</td>\n",
       "      <td>22.0</td>\n",
       "    </tr>\n",
       "    <tr>\n",
       "      <th>43828</th>\n",
       "      <td>0.225033</td>\n",
       "      <td>-0.308129</td>\n",
       "      <td>0.046994</td>\n",
       "      <td>0.453042</td>\n",
       "      <td>0.0</td>\n",
       "      <td>1450000</td>\n",
       "      <td>12000.0</td>\n",
       "      <td>3.4776</td>\n",
       "      <td>14490.0</td>\n",
       "      <td>1</td>\n",
       "      <td>RENT</td>\n",
       "      <td>HOMEIMPROVEMENT</td>\n",
       "      <td>C</td>\n",
       "      <td>Y</td>\n",
       "      <td>1.0</td>\n",
       "      <td>1349.0</td>\n",
       "      <td>24.0</td>\n",
       "    </tr>\n",
       "    <tr>\n",
       "      <th>79080</th>\n",
       "      <td>1.038295</td>\n",
       "      <td>-0.950643</td>\n",
       "      <td>1.037488</td>\n",
       "      <td>-0.786576</td>\n",
       "      <td>-0.0026041666666666574</td>\n",
       "      <td>652800</td>\n",
       "      <td>395.8333333333333</td>\n",
       "      <td>3.174088541666667</td>\n",
       "      <td>5078.541666666667</td>\n",
       "      <td>0</td>\n",
       "      <td>RENT</td>\n",
       "      <td>DEBTCONSOLIDATION</td>\n",
       "      <td>B</td>\n",
       "      <td>N</td>\n",
       "      <td>12.0</td>\n",
       "      <td>1183.0</td>\n",
       "      <td>25.0</td>\n",
       "    </tr>\n",
       "    <tr>\n",
       "      <th>18010</th>\n",
       "      <td>-0.750881</td>\n",
       "      <td>-0.349851</td>\n",
       "      <td>-0.448253</td>\n",
       "      <td>-0.059903</td>\n",
       "      <td>-0.0025000000000000022</td>\n",
       "      <td>1104000</td>\n",
       "      <td>4500.0</td>\n",
       "      <td>2.0625</td>\n",
       "      <td>8250.0</td>\n",
       "      <td>0</td>\n",
       "      <td>RENT</td>\n",
       "      <td>EDUCATION</td>\n",
       "      <td>B</td>\n",
       "      <td>N</td>\n",
       "      <td>2.0</td>\n",
       "      <td>1000.0</td>\n",
       "      <td>19.0</td>\n",
       "    </tr>\n",
       "    <tr>\n",
       "      <th>...</th>\n",
       "      <td>...</td>\n",
       "      <td>...</td>\n",
       "      <td>...</td>\n",
       "      <td>...</td>\n",
       "      <td>...</td>\n",
       "      <td>...</td>\n",
       "      <td>...</td>\n",
       "      <td>...</td>\n",
       "      <td>...</td>\n",
       "      <td>...</td>\n",
       "      <td>...</td>\n",
       "      <td>...</td>\n",
       "      <td>...</td>\n",
       "      <td>...</td>\n",
       "      <td>...</td>\n",
       "      <td>...</td>\n",
       "      <td>...</td>\n",
       "    </tr>\n",
       "    <tr>\n",
       "      <th>6265</th>\n",
       "      <td>0.550338</td>\n",
       "      <td>0.074125</td>\n",
       "      <td>1.037488</td>\n",
       "      <td>2.504825</td>\n",
       "      <td>-0.018732509806217434</td>\n",
       "      <td>2118044</td>\n",
       "      <td>12000.0</td>\n",
       "      <td>3.126280662724665</td>\n",
       "      <td>17800.0</td>\n",
       "      <td>0</td>\n",
       "      <td>MORTGAGE</td>\n",
       "      <td>MEDICAL</td>\n",
       "      <td>A</td>\n",
       "      <td>N</td>\n",
       "      <td>2.0</td>\n",
       "      <td>790.0</td>\n",
       "      <td>37.0</td>\n",
       "    </tr>\n",
       "    <tr>\n",
       "      <th>54886</th>\n",
       "      <td>0.06238</td>\n",
       "      <td>-0.099521</td>\n",
       "      <td>0.542241</td>\n",
       "      <td>0.111079</td>\n",
       "      <td>-0.003333333333333355</td>\n",
       "      <td>1680000</td>\n",
       "      <td>833.3333333333334</td>\n",
       "      <td>1.07</td>\n",
       "      <td>5350.0</td>\n",
       "      <td>0</td>\n",
       "      <td>MORTGAGE</td>\n",
       "      <td>PERSONAL</td>\n",
       "      <td>A</td>\n",
       "      <td>N</td>\n",
       "      <td>12.0</td>\n",
       "      <td>542.0</td>\n",
       "      <td>17.0</td>\n",
       "    </tr>\n",
       "    <tr>\n",
       "      <th>76820</th>\n",
       "      <td>0.550338</td>\n",
       "      <td>2.090868</td>\n",
       "      <td>0.294618</td>\n",
       "      <td>0.965988</td>\n",
       "      <td>0.0009090909090909149</td>\n",
       "      <td>5115000</td>\n",
       "      <td>5000.0</td>\n",
       "      <td>1.2372727272727273</td>\n",
       "      <td>17012.5</td>\n",
       "      <td>0</td>\n",
       "      <td>MORTGAGE</td>\n",
       "      <td>HOMEIMPROVEMENT</td>\n",
       "      <td>C</td>\n",
       "      <td>N</td>\n",
       "      <td>3.0</td>\n",
       "      <td>1261.0</td>\n",
       "      <td>9.0</td>\n",
       "    </tr>\n",
       "    <tr>\n",
       "      <th>860</th>\n",
       "      <td>0.71299</td>\n",
       "      <td>0.526304</td>\n",
       "      <td>0.046994</td>\n",
       "      <td>-1.025951</td>\n",
       "      <td>0.00722222222222222</td>\n",
       "      <td>2880000</td>\n",
       "      <td>inf</td>\n",
       "      <td>0.23896666666666666</td>\n",
       "      <td>1792.25</td>\n",
       "      <td>0</td>\n",
       "      <td>MORTGAGE</td>\n",
       "      <td>PERSONAL</td>\n",
       "      <td>A</td>\n",
       "      <td>N</td>\n",
       "      <td>0.0</td>\n",
       "      <td>542.0</td>\n",
       "      <td>3.0</td>\n",
       "    </tr>\n",
       "    <tr>\n",
       "      <th>15795</th>\n",
       "      <td>-0.100272</td>\n",
       "      <td>0.943521</td>\n",
       "      <td>0.789865</td>\n",
       "      <td>-1.085794</td>\n",
       "      <td>-0.0027272727272727275</td>\n",
       "      <td>2970000</td>\n",
       "      <td>1500.0</td>\n",
       "      <td>0.3880909090909091</td>\n",
       "      <td>3557.5</td>\n",
       "      <td>1</td>\n",
       "      <td>MORTGAGE</td>\n",
       "      <td>EDUCATION</td>\n",
       "      <td>C</td>\n",
       "      <td>Y</td>\n",
       "      <td>2.0</td>\n",
       "      <td>1323.0</td>\n",
       "      <td>3.0</td>\n",
       "    </tr>\n",
       "  </tbody>\n",
       "</table>\n",
       "<p>72980 rows × 17 columns</p>\n",
       "</div>"
      ],
      "text/plain": [
       "      person_age person_income cb_person_cred_hist_length loan_amnt  \\\n",
       "12909   0.225033      0.601403                   1.037488 -0.572849   \n",
       "64185  -0.750881     -0.412434                    -0.9435  0.111079   \n",
       "43828   0.225033     -0.308129                   0.046994  0.453042   \n",
       "79080   1.038295     -0.950643                   1.037488 -0.786576   \n",
       "18010  -0.750881     -0.349851                  -0.448253 -0.059903   \n",
       "...          ...           ...                        ...       ...   \n",
       "6265    0.550338      0.074125                   1.037488  2.504825   \n",
       "54886    0.06238     -0.099521                   0.542241  0.111079   \n",
       "76820   0.550338      2.090868                   0.294618  0.965988   \n",
       "860      0.71299      0.526304                   0.046994 -1.025951   \n",
       "15795  -0.100272      0.943521                   0.789865 -1.085794   \n",
       "\n",
       "               loan_to_income age_income_interaction loan_to_emp_length_ratio  \\\n",
       "12909    0.004102564102564099                2714400                   6000.0   \n",
       "64185   0.0022222222222222088                1035000                  10000.0   \n",
       "43828                     0.0                1450000                  12000.0   \n",
       "79080  -0.0026041666666666574                 652800        395.8333333333333   \n",
       "18010  -0.0025000000000000022                1104000                   4500.0   \n",
       "...                       ...                    ...                      ...   \n",
       "6265    -0.018732509806217434                2118044                  12000.0   \n",
       "54886   -0.003333333333333355                1680000        833.3333333333334   \n",
       "76820   0.0009090909090909149                5115000                   5000.0   \n",
       "860       0.00722222222222222                2880000                      inf   \n",
       "15795  -0.0027272727272727275                2970000                   1500.0   \n",
       "\n",
       "                 dti_ratio        monthly_debt risk_flag  \\\n",
       "12909   0.5692307692307691   4439.999999999999         0   \n",
       "64185   2.9355555555555557  11008.333333333334         0   \n",
       "43828               3.4776             14490.0         1   \n",
       "79080    3.174088541666667   5078.541666666667         0   \n",
       "18010               2.0625              8250.0         0   \n",
       "...                    ...                 ...       ...   \n",
       "6265     3.126280662724665             17800.0         0   \n",
       "54886                 1.07              5350.0         0   \n",
       "76820   1.2372727272727273             17012.5         0   \n",
       "860    0.23896666666666666             1792.25         0   \n",
       "15795   0.3880909090909091              3557.5         1   \n",
       "\n",
       "      person_home_ownership        loan_intent loan_grade  \\\n",
       "12909                  RENT           PERSONAL          A   \n",
       "64185              MORTGAGE            MEDICAL          B   \n",
       "43828                  RENT    HOMEIMPROVEMENT          C   \n",
       "79080                  RENT  DEBTCONSOLIDATION          B   \n",
       "18010                  RENT          EDUCATION          B   \n",
       "...                     ...                ...        ...   \n",
       "6265               MORTGAGE            MEDICAL          A   \n",
       "54886              MORTGAGE           PERSONAL          A   \n",
       "76820              MORTGAGE    HOMEIMPROVEMENT          C   \n",
       "860                MORTGAGE           PERSONAL          A   \n",
       "15795              MORTGAGE          EDUCATION          C   \n",
       "\n",
       "      cb_person_default_on_file person_emp_length loan_int_rate  \\\n",
       "12909                         N               1.0         788.0   \n",
       "64185                         N               1.0        1221.0   \n",
       "43828                         Y               1.0        1349.0   \n",
       "79080                         N              12.0        1183.0   \n",
       "18010                         N               2.0        1000.0   \n",
       "...                         ...               ...           ...   \n",
       "6265                          N               2.0         790.0   \n",
       "54886                         N              12.0         542.0   \n",
       "76820                         N               3.0        1261.0   \n",
       "860                           N               0.0         542.0   \n",
       "15795                         Y               2.0        1323.0   \n",
       "\n",
       "      loan_percent_income  \n",
       "12909                 6.0  \n",
       "64185                22.0  \n",
       "43828                24.0  \n",
       "79080                25.0  \n",
       "18010                19.0  \n",
       "...                   ...  \n",
       "6265                 37.0  \n",
       "54886                17.0  \n",
       "76820                 9.0  \n",
       "860                   3.0  \n",
       "15795                 3.0  \n",
       "\n",
       "[72980 rows x 17 columns]"
      ]
     },
     "execution_count": 19,
     "metadata": {},
     "output_type": "execute_result"
    }
   ],
   "source": [
    "X_train"
   ]
  },
  {
   "cell_type": "markdown",
   "id": "c34b5cfa",
   "metadata": {
    "papermill": {
     "duration": 0.011744,
     "end_time": "2024-10-17T11:35:59.819242",
     "exception": false,
     "start_time": "2024-10-17T11:35:59.807498",
     "status": "completed"
    },
    "tags": []
   },
   "source": [
    "# Modelling"
   ]
  },
  {
   "cell_type": "code",
   "execution_count": 20,
   "id": "cd245773",
   "metadata": {
    "execution": {
     "iopub.execute_input": "2024-10-17T11:35:59.845163Z",
     "iopub.status.busy": "2024-10-17T11:35:59.844882Z",
     "iopub.status.idle": "2024-10-17T11:36:00.256324Z",
     "shell.execute_reply": "2024-10-17T11:36:00.255296Z"
    },
    "papermill": {
     "duration": 0.427933,
     "end_time": "2024-10-17T11:36:00.259318",
     "exception": false,
     "start_time": "2024-10-17T11:35:59.831385",
     "status": "completed"
    },
    "tags": []
   },
   "outputs": [],
   "source": [
    "from catboost import Pool, cv, CatBoostClassifier\n",
    "\n",
    "from sklearn.metrics import mean_squared_error\n",
    "from sklearn.model_selection import GridSearchCV"
   ]
  },
  {
   "cell_type": "code",
   "execution_count": 21,
   "id": "7f8b39b0",
   "metadata": {
    "execution": {
     "iopub.execute_input": "2024-10-17T11:36:00.291894Z",
     "iopub.status.busy": "2024-10-17T11:36:00.291194Z",
     "iopub.status.idle": "2024-10-17T11:36:00.438887Z",
     "shell.execute_reply": "2024-10-17T11:36:00.438019Z"
    },
    "papermill": {
     "duration": 0.166811,
     "end_time": "2024-10-17T11:36:00.441184",
     "exception": false,
     "start_time": "2024-10-17T11:36:00.274373",
     "status": "completed"
    },
    "tags": []
   },
   "outputs": [],
   "source": [
    "import optuna\n",
    "from catboost import CatBoostClassifier\n",
    "from sklearn.metrics import roc_auc_score\n",
    "from sklearn.model_selection import StratifiedKFold\n",
    "import numpy as np\n",
    "\n",
    "# Define the objective function for the Optuna study\n",
    "def objective(trial):\n",
    "    # Suggest values for the hyperparameters\n",
    "    depth = trial.suggest_int('depth', 4, 8)\n",
    "    learning_rate = trial.suggest_float('learning_rate', 0.05, 0.13, log=True)\n",
    "    l2_leaf_reg = trial.suggest_float('l2_leaf_reg', 0.05, 1.4, log=True)\n",
    "\n",
    "    # Initialize StratifiedKFold for cross-validation\n",
    "    skf = StratifiedKFold(n_splits=5, shuffle=True, random_state=42)\n",
    "    roc_auc_scores = []\n",
    "\n",
    "    # Perform cross-validation with early stopping\n",
    "    for train_index, valid_index in skf.split(X, y):\n",
    "        X_train, X_valid = X.iloc[train_index], X.iloc[valid_index]\n",
    "        y_train, y_valid = y.iloc[train_index], y.iloc[valid_index]\n",
    "\n",
    "        # Create the CatBoost model with the suggested hyperparameters\n",
    "        model = CatBoostClassifier(\n",
    "            iterations=1000,\n",
    "            eval_metric = 'AUC',\n",
    "            loss_function = 'Logloss',\n",
    "            depth=depth,\n",
    "            learning_rate=learning_rate,\n",
    "            l2_leaf_reg=l2_leaf_reg,\n",
    "            cat_features=categorical_cols,\n",
    "            task_type='GPU',\n",
    "            random_strength = 0,\n",
    "            random_seed=42,\n",
    "            verbose=False  # Suppress training output\n",
    "        )\n",
    "\n",
    "        # Train the model on the training fold with early stopping\n",
    "        model.fit(\n",
    "            X_train, y_train,\n",
    "            eval_set=(X_valid, y_valid),  # Validation set for early stopping\n",
    "            early_stopping_rounds=50,     # Stop if no improvement in 50 rounds\n",
    "            use_best_model=True           # Use the best model found during training\n",
    "        )\n",
    "\n",
    "        # Predict probabilities on the validation fold\n",
    "        y_pred_proba = model.predict_proba(X_valid)[:, 1]\n",
    "\n",
    "        # Calculate the ROC AUC score for the current fold\n",
    "        roc_auc = roc_auc_score(y_valid, y_pred_proba)\n",
    "        roc_auc_scores.append(roc_auc)\n",
    "\n",
    "    # Return the average ROC AUC score across all folds\n",
    "    return np.mean(roc_auc_scores)"
   ]
  },
  {
   "cell_type": "code",
   "execution_count": 22,
   "id": "e02b4cc0",
   "metadata": {
    "execution": {
     "iopub.execute_input": "2024-10-17T11:36:00.466777Z",
     "iopub.status.busy": "2024-10-17T11:36:00.466434Z",
     "iopub.status.idle": "2024-10-17T11:36:00.890746Z",
     "shell.execute_reply": "2024-10-17T11:36:00.889915Z"
    },
    "papermill": {
     "duration": 0.439563,
     "end_time": "2024-10-17T11:36:00.893070",
     "exception": false,
     "start_time": "2024-10-17T11:36:00.453507",
     "status": "completed"
    },
    "tags": []
   },
   "outputs": [],
   "source": [
    "from optuna.visualization import (\n",
    "    plot_optimization_history,\n",
    "    plot_param_importances,\n",
    "    plot_parallel_coordinate,\n",
    "    plot_contour,\n",
    "    plot_slice,\n",
    "    plot_intermediate_values\n",
    ")\n"
   ]
  },
  {
   "cell_type": "code",
   "execution_count": 23,
   "id": "32f60feb",
   "metadata": {
    "execution": {
     "iopub.execute_input": "2024-10-17T11:36:00.920669Z",
     "iopub.status.busy": "2024-10-17T11:36:00.919409Z",
     "iopub.status.idle": "2024-10-17T14:50:23.060207Z",
     "shell.execute_reply": "2024-10-17T14:50:23.059351Z"
    },
    "papermill": {
     "duration": 11662.157098,
     "end_time": "2024-10-17T14:50:23.062331",
     "exception": false,
     "start_time": "2024-10-17T11:36:00.905233",
     "status": "completed"
    },
    "tags": []
   },
   "outputs": [
    {
     "name": "stderr",
     "output_type": "stream",
     "text": [
      "/opt/conda/lib/python3.10/site-packages/optuna/_experimental.py:30: ExperimentalWarning: Argument ``multivariate`` is an experimental feature. The interface can change in the future.\n",
      "  warnings.warn(\n",
      "[I 2024-10-17 11:36:00,928] A new study created in memory with name: no-name-ca566402-d510-40ee-b392-08498babb801\n",
      "Default metric period is 5 because AUC is/are not implemented for GPU\n",
      "Default metric period is 5 because AUC is/are not implemented for GPU\n",
      "Default metric period is 5 because AUC is/are not implemented for GPU\n",
      "Default metric period is 5 because AUC is/are not implemented for GPU\n",
      "Default metric period is 5 because AUC is/are not implemented for GPU\n",
      "[I 2024-10-17 11:38:30,427] Trial 0 finished with value: 0.9628134445060936 and parameters: {'depth': 6, 'learning_rate': 0.09902720698000689, 'l2_leaf_reg': 0.37261802964665525}. Best is trial 0 with value: 0.9628134445060936.\n",
      "Default metric period is 5 because AUC is/are not implemented for GPU\n",
      "Default metric period is 5 because AUC is/are not implemented for GPU\n",
      "Default metric period is 5 because AUC is/are not implemented for GPU\n",
      "Default metric period is 5 because AUC is/are not implemented for GPU\n",
      "Default metric period is 5 because AUC is/are not implemented for GPU\n",
      "[I 2024-10-17 11:40:53,297] Trial 1 finished with value: 0.962986655040611 and parameters: {'depth': 6, 'learning_rate': 0.07495065884252618, 'l2_leaf_reg': 0.4302103529954851}. Best is trial 1 with value: 0.962986655040611.\n",
      "Default metric period is 5 because AUC is/are not implemented for GPU\n",
      "Default metric period is 5 because AUC is/are not implemented for GPU\n",
      "Default metric period is 5 because AUC is/are not implemented for GPU\n",
      "Default metric period is 5 because AUC is/are not implemented for GPU\n",
      "Default metric period is 5 because AUC is/are not implemented for GPU\n",
      "[I 2024-10-17 11:42:39,349] Trial 2 finished with value: 0.9622858276030607 and parameters: {'depth': 6, 'learning_rate': 0.11722818259249132, 'l2_leaf_reg': 1.2403444499686993}. Best is trial 1 with value: 0.962986655040611.\n",
      "Default metric period is 5 because AUC is/are not implemented for GPU\n",
      "Default metric period is 5 because AUC is/are not implemented for GPU\n",
      "Default metric period is 5 because AUC is/are not implemented for GPU\n",
      "Default metric period is 5 because AUC is/are not implemented for GPU\n",
      "Default metric period is 5 because AUC is/are not implemented for GPU\n",
      "[I 2024-10-17 11:44:27,291] Trial 3 finished with value: 0.9628077478854271 and parameters: {'depth': 5, 'learning_rate': 0.10654051556344273, 'l2_leaf_reg': 0.2913161321956179}. Best is trial 1 with value: 0.962986655040611.\n",
      "Default metric period is 5 because AUC is/are not implemented for GPU\n",
      "Default metric period is 5 because AUC is/are not implemented for GPU\n",
      "Default metric period is 5 because AUC is/are not implemented for GPU\n",
      "Default metric period is 5 because AUC is/are not implemented for GPU\n",
      "Default metric period is 5 because AUC is/are not implemented for GPU\n",
      "[I 2024-10-17 11:45:41,530] Trial 4 finished with value: 0.9615038693824947 and parameters: {'depth': 6, 'learning_rate': 0.12107875320233528, 'l2_leaf_reg': 0.06335346991219014}. Best is trial 1 with value: 0.962986655040611.\n",
      "Default metric period is 5 because AUC is/are not implemented for GPU\n",
      "Default metric period is 5 because AUC is/are not implemented for GPU\n",
      "Default metric period is 5 because AUC is/are not implemented for GPU\n",
      "Default metric period is 5 because AUC is/are not implemented for GPU\n",
      "Default metric period is 5 because AUC is/are not implemented for GPU\n",
      "[I 2024-10-17 11:47:23,116] Trial 5 finished with value: 0.9606555957144005 and parameters: {'depth': 4, 'learning_rate': 0.050975336391352453, 'l2_leaf_reg': 0.8014981068390051}. Best is trial 1 with value: 0.962986655040611.\n",
      "Default metric period is 5 because AUC is/are not implemented for GPU\n",
      "Default metric period is 5 because AUC is/are not implemented for GPU\n",
      "Default metric period is 5 because AUC is/are not implemented for GPU\n",
      "Default metric period is 5 because AUC is/are not implemented for GPU\n",
      "Default metric period is 5 because AUC is/are not implemented for GPU\n",
      "[I 2024-10-17 11:48:51,078] Trial 6 finished with value: 0.9619356772588304 and parameters: {'depth': 7, 'learning_rate': 0.11481585342536937, 'l2_leaf_reg': 1.3037232119171354}. Best is trial 1 with value: 0.962986655040611.\n",
      "Default metric period is 5 because AUC is/are not implemented for GPU\n",
      "Default metric period is 5 because AUC is/are not implemented for GPU\n",
      "Default metric period is 5 because AUC is/are not implemented for GPU\n",
      "Default metric period is 5 because AUC is/are not implemented for GPU\n",
      "Default metric period is 5 because AUC is/are not implemented for GPU\n",
      "[I 2024-10-17 11:51:10,553] Trial 7 finished with value: 0.9624012493048962 and parameters: {'depth': 7, 'learning_rate': 0.0777090572655816, 'l2_leaf_reg': 0.6737814815357923}. Best is trial 1 with value: 0.962986655040611.\n",
      "Default metric period is 5 because AUC is/are not implemented for GPU\n",
      "Default metric period is 5 because AUC is/are not implemented for GPU\n",
      "Default metric period is 5 because AUC is/are not implemented for GPU\n",
      "Default metric period is 5 because AUC is/are not implemented for GPU\n",
      "Default metric period is 5 because AUC is/are not implemented for GPU\n",
      "[I 2024-10-17 11:52:51,776] Trial 8 finished with value: 0.9623908843766225 and parameters: {'depth': 4, 'learning_rate': 0.0921552693894246, 'l2_leaf_reg': 0.08061667196158001}. Best is trial 1 with value: 0.962986655040611.\n",
      "Default metric period is 5 because AUC is/are not implemented for GPU\n",
      "Default metric period is 5 because AUC is/are not implemented for GPU\n",
      "Default metric period is 5 because AUC is/are not implemented for GPU\n",
      "Default metric period is 5 because AUC is/are not implemented for GPU\n",
      "Default metric period is 5 because AUC is/are not implemented for GPU\n",
      "[I 2024-10-17 11:54:32,280] Trial 9 finished with value: 0.960860833635029 and parameters: {'depth': 8, 'learning_rate': 0.08232337172361609, 'l2_leaf_reg': 0.19909087764458064}. Best is trial 1 with value: 0.962986655040611.\n",
      "Default metric period is 5 because AUC is/are not implemented for GPU\n",
      "Default metric period is 5 because AUC is/are not implemented for GPU\n",
      "Default metric period is 5 because AUC is/are not implemented for GPU\n",
      "Default metric period is 5 because AUC is/are not implemented for GPU\n",
      "Default metric period is 5 because AUC is/are not implemented for GPU\n",
      "[I 2024-10-17 11:56:29,742] Trial 10 finished with value: 0.9626569036452548 and parameters: {'depth': 5, 'learning_rate': 0.10477468179851718, 'l2_leaf_reg': 0.22860810364726095}. Best is trial 1 with value: 0.962986655040611.\n",
      "Default metric period is 5 because AUC is/are not implemented for GPU\n",
      "Default metric period is 5 because AUC is/are not implemented for GPU\n",
      "Default metric period is 5 because AUC is/are not implemented for GPU\n",
      "Default metric period is 5 because AUC is/are not implemented for GPU\n",
      "Default metric period is 5 because AUC is/are not implemented for GPU\n",
      "[I 2024-10-17 11:58:59,504] Trial 11 finished with value: 0.9623502303824265 and parameters: {'depth': 6, 'learning_rate': 0.050905800448511826, 'l2_leaf_reg': 0.39154904980004107}. Best is trial 1 with value: 0.962986655040611.\n",
      "Default metric period is 5 because AUC is/are not implemented for GPU\n",
      "Default metric period is 5 because AUC is/are not implemented for GPU\n",
      "Default metric period is 5 because AUC is/are not implemented for GPU\n",
      "Default metric period is 5 because AUC is/are not implemented for GPU\n",
      "Default metric period is 5 because AUC is/are not implemented for GPU\n",
      "[I 2024-10-17 12:01:12,292] Trial 12 finished with value: 0.9624687051564809 and parameters: {'depth': 7, 'learning_rate': 0.09015320494528678, 'l2_leaf_reg': 1.1607070324114797}. Best is trial 1 with value: 0.962986655040611.\n",
      "Default metric period is 5 because AUC is/are not implemented for GPU\n",
      "Default metric period is 5 because AUC is/are not implemented for GPU\n",
      "Default metric period is 5 because AUC is/are not implemented for GPU\n",
      "Default metric period is 5 because AUC is/are not implemented for GPU\n",
      "Default metric period is 5 because AUC is/are not implemented for GPU\n",
      "[I 2024-10-17 12:03:15,198] Trial 13 finished with value: 0.9617531655561535 and parameters: {'depth': 7, 'learning_rate': 0.07049465695008988, 'l2_leaf_reg': 0.21449852308698222}. Best is trial 1 with value: 0.962986655040611.\n",
      "Default metric period is 5 because AUC is/are not implemented for GPU\n",
      "Default metric period is 5 because AUC is/are not implemented for GPU\n",
      "Default metric period is 5 because AUC is/are not implemented for GPU\n",
      "Default metric period is 5 because AUC is/are not implemented for GPU\n",
      "Default metric period is 5 because AUC is/are not implemented for GPU\n",
      "[I 2024-10-17 12:06:10,348] Trial 14 finished with value: 0.9624375267419092 and parameters: {'depth': 7, 'learning_rate': 0.05296170646347989, 'l2_leaf_reg': 0.4611973589346946}. Best is trial 1 with value: 0.962986655040611.\n",
      "Default metric period is 5 because AUC is/are not implemented for GPU\n",
      "Default metric period is 5 because AUC is/are not implemented for GPU\n",
      "Default metric period is 5 because AUC is/are not implemented for GPU\n",
      "Default metric period is 5 because AUC is/are not implemented for GPU\n",
      "Default metric period is 5 because AUC is/are not implemented for GPU\n",
      "[I 2024-10-17 12:08:16,003] Trial 15 finished with value: 0.9615939638653248 and parameters: {'depth': 7, 'learning_rate': 0.06113264125987456, 'l2_leaf_reg': 0.07683281257299784}. Best is trial 1 with value: 0.962986655040611.\n",
      "Default metric period is 5 because AUC is/are not implemented for GPU\n",
      "Default metric period is 5 because AUC is/are not implemented for GPU\n",
      "Default metric period is 5 because AUC is/are not implemented for GPU\n",
      "Default metric period is 5 because AUC is/are not implemented for GPU\n",
      "Default metric period is 5 because AUC is/are not implemented for GPU\n",
      "[I 2024-10-17 12:10:17,665] Trial 16 finished with value: 0.9625054518319134 and parameters: {'depth': 5, 'learning_rate': 0.07077832499882215, 'l2_leaf_reg': 0.3342988172740612}. Best is trial 1 with value: 0.962986655040611.\n",
      "Default metric period is 5 because AUC is/are not implemented for GPU\n",
      "Default metric period is 5 because AUC is/are not implemented for GPU\n",
      "Default metric period is 5 because AUC is/are not implemented for GPU\n",
      "Default metric period is 5 because AUC is/are not implemented for GPU\n",
      "Default metric period is 5 because AUC is/are not implemented for GPU\n",
      "[I 2024-10-17 12:11:40,655] Trial 17 finished with value: 0.961867386412244 and parameters: {'depth': 6, 'learning_rate': 0.1285638309175481, 'l2_leaf_reg': 0.07024978052731923}. Best is trial 1 with value: 0.962986655040611.\n",
      "Default metric period is 5 because AUC is/are not implemented for GPU\n",
      "Default metric period is 5 because AUC is/are not implemented for GPU\n",
      "Default metric period is 5 because AUC is/are not implemented for GPU\n",
      "Default metric period is 5 because AUC is/are not implemented for GPU\n",
      "Default metric period is 5 because AUC is/are not implemented for GPU\n",
      "[I 2024-10-17 12:13:44,723] Trial 18 finished with value: 0.9620526692508211 and parameters: {'depth': 5, 'learning_rate': 0.0583323073000736, 'l2_leaf_reg': 0.44067758715363037}. Best is trial 1 with value: 0.962986655040611.\n",
      "Default metric period is 5 because AUC is/are not implemented for GPU\n",
      "Default metric period is 5 because AUC is/are not implemented for GPU\n",
      "Default metric period is 5 because AUC is/are not implemented for GPU\n",
      "Default metric period is 5 because AUC is/are not implemented for GPU\n",
      "Default metric period is 5 because AUC is/are not implemented for GPU\n",
      "[I 2024-10-17 12:15:47,015] Trial 19 finished with value: 0.9624080104413558 and parameters: {'depth': 5, 'learning_rate': 0.07806862798643455, 'l2_leaf_reg': 0.11289961550192466}. Best is trial 1 with value: 0.962986655040611.\n",
      "Default metric period is 5 because AUC is/are not implemented for GPU\n",
      "Default metric period is 5 because AUC is/are not implemented for GPU\n",
      "Default metric period is 5 because AUC is/are not implemented for GPU\n",
      "Default metric period is 5 because AUC is/are not implemented for GPU\n",
      "Default metric period is 5 because AUC is/are not implemented for GPU\n",
      "[I 2024-10-17 12:17:29,035] Trial 20 finished with value: 0.9609287107190913 and parameters: {'depth': 4, 'learning_rate': 0.055561344466648385, 'l2_leaf_reg': 0.4454332587174054}. Best is trial 1 with value: 0.962986655040611.\n",
      "Default metric period is 5 because AUC is/are not implemented for GPU\n",
      "Default metric period is 5 because AUC is/are not implemented for GPU\n",
      "Default metric period is 5 because AUC is/are not implemented for GPU\n",
      "Default metric period is 5 because AUC is/are not implemented for GPU\n",
      "Default metric period is 5 because AUC is/are not implemented for GPU\n",
      "[I 2024-10-17 12:19:10,591] Trial 21 finished with value: 0.9612168556531854 and parameters: {'depth': 4, 'learning_rate': 0.06033182256372552, 'l2_leaf_reg': 0.170833719378713}. Best is trial 1 with value: 0.962986655040611.\n",
      "Default metric period is 5 because AUC is/are not implemented for GPU\n",
      "Default metric period is 5 because AUC is/are not implemented for GPU\n",
      "Default metric period is 5 because AUC is/are not implemented for GPU\n",
      "Default metric period is 5 because AUC is/are not implemented for GPU\n",
      "Default metric period is 5 because AUC is/are not implemented for GPU\n",
      "[I 2024-10-17 12:22:28,341] Trial 22 finished with value: 0.9619071628960505 and parameters: {'depth': 8, 'learning_rate': 0.05486109173944057, 'l2_leaf_reg': 0.8158469739665021}. Best is trial 1 with value: 0.962986655040611.\n",
      "Default metric period is 5 because AUC is/are not implemented for GPU\n",
      "Default metric period is 5 because AUC is/are not implemented for GPU\n",
      "Default metric period is 5 because AUC is/are not implemented for GPU\n",
      "Default metric period is 5 because AUC is/are not implemented for GPU\n",
      "Default metric period is 5 because AUC is/are not implemented for GPU\n",
      "[I 2024-10-17 12:24:08,095] Trial 23 finished with value: 0.962769323570917 and parameters: {'depth': 4, 'learning_rate': 0.12710851873825008, 'l2_leaf_reg': 0.23833199848730477}. Best is trial 1 with value: 0.962986655040611.\n",
      "Default metric period is 5 because AUC is/are not implemented for GPU\n",
      "Default metric period is 5 because AUC is/are not implemented for GPU\n",
      "Default metric period is 5 because AUC is/are not implemented for GPU\n",
      "Default metric period is 5 because AUC is/are not implemented for GPU\n",
      "Default metric period is 5 because AUC is/are not implemented for GPU\n",
      "[I 2024-10-17 12:26:01,064] Trial 24 finished with value: 0.9613785883140606 and parameters: {'depth': 8, 'learning_rate': 0.08911786523075182, 'l2_leaf_reg': 0.5872205298145801}. Best is trial 1 with value: 0.962986655040611.\n",
      "Default metric period is 5 because AUC is/are not implemented for GPU\n",
      "Default metric period is 5 because AUC is/are not implemented for GPU\n",
      "Default metric period is 5 because AUC is/are not implemented for GPU\n",
      "Default metric period is 5 because AUC is/are not implemented for GPU\n",
      "Default metric period is 5 because AUC is/are not implemented for GPU\n",
      "[I 2024-10-17 12:27:42,932] Trial 25 finished with value: 0.9613821704761467 and parameters: {'depth': 4, 'learning_rate': 0.06551298025916188, 'l2_leaf_reg': 0.07462999684068243}. Best is trial 1 with value: 0.962986655040611.\n",
      "Default metric period is 5 because AUC is/are not implemented for GPU\n",
      "Default metric period is 5 because AUC is/are not implemented for GPU\n",
      "Default metric period is 5 because AUC is/are not implemented for GPU\n",
      "Default metric period is 5 because AUC is/are not implemented for GPU\n",
      "Default metric period is 5 because AUC is/are not implemented for GPU\n",
      "[I 2024-10-17 12:29:47,471] Trial 26 finished with value: 0.9619599397686363 and parameters: {'depth': 5, 'learning_rate': 0.05600655288712946, 'l2_leaf_reg': 0.14425866746053273}. Best is trial 1 with value: 0.962986655040611.\n",
      "Default metric period is 5 because AUC is/are not implemented for GPU\n",
      "Default metric period is 5 because AUC is/are not implemented for GPU\n",
      "Default metric period is 5 because AUC is/are not implemented for GPU\n",
      "Default metric period is 5 because AUC is/are not implemented for GPU\n",
      "Default metric period is 5 because AUC is/are not implemented for GPU\n",
      "[I 2024-10-17 12:32:17,970] Trial 27 finished with value: 0.9623653524018592 and parameters: {'depth': 6, 'learning_rate': 0.053160554914312215, 'l2_leaf_reg': 0.5024427608874781}. Best is trial 1 with value: 0.962986655040611.\n",
      "Default metric period is 5 because AUC is/are not implemented for GPU\n",
      "Default metric period is 5 because AUC is/are not implemented for GPU\n",
      "Default metric period is 5 because AUC is/are not implemented for GPU\n",
      "Default metric period is 5 because AUC is/are not implemented for GPU\n",
      "Default metric period is 5 because AUC is/are not implemented for GPU\n",
      "[I 2024-10-17 12:34:47,616] Trial 28 finished with value: 0.9626490883305099 and parameters: {'depth': 6, 'learning_rate': 0.06443169699645514, 'l2_leaf_reg': 0.2858858282316471}. Best is trial 1 with value: 0.962986655040611.\n",
      "Default metric period is 5 because AUC is/are not implemented for GPU\n",
      "Default metric period is 5 because AUC is/are not implemented for GPU\n",
      "Default metric period is 5 because AUC is/are not implemented for GPU\n",
      "Default metric period is 5 because AUC is/are not implemented for GPU\n",
      "Default metric period is 5 because AUC is/are not implemented for GPU\n",
      "[I 2024-10-17 12:36:28,829] Trial 29 finished with value: 0.96214149081791 and parameters: {'depth': 4, 'learning_rate': 0.08669068804175253, 'l2_leaf_reg': 1.1061358297830441}. Best is trial 1 with value: 0.962986655040611.\n",
      "Default metric period is 5 because AUC is/are not implemented for GPU\n",
      "Default metric period is 5 because AUC is/are not implemented for GPU\n",
      "Default metric period is 5 because AUC is/are not implemented for GPU\n",
      "Default metric period is 5 because AUC is/are not implemented for GPU\n",
      "Default metric period is 5 because AUC is/are not implemented for GPU\n",
      "[I 2024-10-17 12:38:19,849] Trial 30 finished with value: 0.9627124859030575 and parameters: {'depth': 5, 'learning_rate': 0.09460792648347063, 'l2_leaf_reg': 0.0775715267835044}. Best is trial 1 with value: 0.962986655040611.\n",
      "Default metric period is 5 because AUC is/are not implemented for GPU\n",
      "Default metric period is 5 because AUC is/are not implemented for GPU\n",
      "Default metric period is 5 because AUC is/are not implemented for GPU\n",
      "Default metric period is 5 because AUC is/are not implemented for GPU\n",
      "Default metric period is 5 because AUC is/are not implemented for GPU\n",
      "[I 2024-10-17 12:40:31,110] Trial 31 finished with value: 0.9619617135685627 and parameters: {'depth': 7, 'learning_rate': 0.06592738041412467, 'l2_leaf_reg': 0.09206124739791155}. Best is trial 1 with value: 0.962986655040611.\n",
      "Default metric period is 5 because AUC is/are not implemented for GPU\n",
      "Default metric period is 5 because AUC is/are not implemented for GPU\n",
      "Default metric period is 5 because AUC is/are not implemented for GPU\n",
      "Default metric period is 5 because AUC is/are not implemented for GPU\n",
      "Default metric period is 5 because AUC is/are not implemented for GPU\n",
      "[I 2024-10-17 12:43:01,042] Trial 32 finished with value: 0.9623637626220578 and parameters: {'depth': 6, 'learning_rate': 0.050969937387968726, 'l2_leaf_reg': 0.791730225524486}. Best is trial 1 with value: 0.962986655040611.\n",
      "Default metric period is 5 because AUC is/are not implemented for GPU\n",
      "Default metric period is 5 because AUC is/are not implemented for GPU\n",
      "Default metric period is 5 because AUC is/are not implemented for GPU\n",
      "Default metric period is 5 because AUC is/are not implemented for GPU\n",
      "Default metric period is 5 because AUC is/are not implemented for GPU\n",
      "[I 2024-10-17 12:44:41,149] Trial 33 finished with value: 0.9623394701518059 and parameters: {'depth': 4, 'learning_rate': 0.09555332455569414, 'l2_leaf_reg': 0.12294594552258943}. Best is trial 1 with value: 0.962986655040611.\n",
      "Default metric period is 5 because AUC is/are not implemented for GPU\n",
      "Default metric period is 5 because AUC is/are not implemented for GPU\n",
      "Default metric period is 5 because AUC is/are not implemented for GPU\n",
      "Default metric period is 5 because AUC is/are not implemented for GPU\n",
      "Default metric period is 5 because AUC is/are not implemented for GPU\n",
      "[I 2024-10-17 12:45:51,706] Trial 34 finished with value: 0.9612653018976299 and parameters: {'depth': 7, 'learning_rate': 0.12538702733422158, 'l2_leaf_reg': 0.11453945538878198}. Best is trial 1 with value: 0.962986655040611.\n",
      "Default metric period is 5 because AUC is/are not implemented for GPU\n",
      "Default metric period is 5 because AUC is/are not implemented for GPU\n",
      "Default metric period is 5 because AUC is/are not implemented for GPU\n",
      "Default metric period is 5 because AUC is/are not implemented for GPU\n",
      "Default metric period is 5 because AUC is/are not implemented for GPU\n",
      "[I 2024-10-17 12:47:24,970] Trial 35 finished with value: 0.9626564160581988 and parameters: {'depth': 4, 'learning_rate': 0.12781298796233204, 'l2_leaf_reg': 0.22300400603846335}. Best is trial 1 with value: 0.962986655040611.\n",
      "Default metric period is 5 because AUC is/are not implemented for GPU\n",
      "Default metric period is 5 because AUC is/are not implemented for GPU\n",
      "Default metric period is 5 because AUC is/are not implemented for GPU\n",
      "Default metric period is 5 because AUC is/are not implemented for GPU\n",
      "Default metric period is 5 because AUC is/are not implemented for GPU\n",
      "[I 2024-10-17 12:48:58,463] Trial 36 finished with value: 0.962134639764739 and parameters: {'depth': 6, 'learning_rate': 0.11342059010288874, 'l2_leaf_reg': 0.4690423881362291}. Best is trial 1 with value: 0.962986655040611.\n",
      "Default metric period is 5 because AUC is/are not implemented for GPU\n",
      "Default metric period is 5 because AUC is/are not implemented for GPU\n",
      "Default metric period is 5 because AUC is/are not implemented for GPU\n",
      "Default metric period is 5 because AUC is/are not implemented for GPU\n",
      "Default metric period is 5 because AUC is/are not implemented for GPU\n",
      "[I 2024-10-17 12:50:37,817] Trial 37 finished with value: 0.9626468658924481 and parameters: {'depth': 4, 'learning_rate': 0.11506998469034603, 'l2_leaf_reg': 0.5387811986415983}. Best is trial 1 with value: 0.962986655040611.\n",
      "Default metric period is 5 because AUC is/are not implemented for GPU\n",
      "Default metric period is 5 because AUC is/are not implemented for GPU\n",
      "Default metric period is 5 because AUC is/are not implemented for GPU\n",
      "Default metric period is 5 because AUC is/are not implemented for GPU\n",
      "Default metric period is 5 because AUC is/are not implemented for GPU\n",
      "[I 2024-10-17 12:52:20,300] Trial 38 finished with value: 0.9620485201030163 and parameters: {'depth': 6, 'learning_rate': 0.0966181879427425, 'l2_leaf_reg': 0.23139468096087693}. Best is trial 1 with value: 0.962986655040611.\n",
      "Default metric period is 5 because AUC is/are not implemented for GPU\n",
      "Default metric period is 5 because AUC is/are not implemented for GPU\n",
      "Default metric period is 5 because AUC is/are not implemented for GPU\n",
      "Default metric period is 5 because AUC is/are not implemented for GPU\n",
      "Default metric period is 5 because AUC is/are not implemented for GPU\n",
      "[I 2024-10-17 12:54:15,635] Trial 39 finished with value: 0.9626807163166813 and parameters: {'depth': 5, 'learning_rate': 0.0934501069161815, 'l2_leaf_reg': 0.49903767113685915}. Best is trial 1 with value: 0.962986655040611.\n",
      "Default metric period is 5 because AUC is/are not implemented for GPU\n",
      "Default metric period is 5 because AUC is/are not implemented for GPU\n",
      "Default metric period is 5 because AUC is/are not implemented for GPU\n",
      "Default metric period is 5 because AUC is/are not implemented for GPU\n",
      "Default metric period is 5 because AUC is/are not implemented for GPU\n",
      "[I 2024-10-17 12:55:58,682] Trial 40 finished with value: 0.9626940246674318 and parameters: {'depth': 5, 'learning_rate': 0.1236263388301731, 'l2_leaf_reg': 0.3586435694803785}. Best is trial 1 with value: 0.962986655040611.\n",
      "Default metric period is 5 because AUC is/are not implemented for GPU\n",
      "Default metric period is 5 because AUC is/are not implemented for GPU\n",
      "Default metric period is 5 because AUC is/are not implemented for GPU\n",
      "Default metric period is 5 because AUC is/are not implemented for GPU\n",
      "Default metric period is 5 because AUC is/are not implemented for GPU\n",
      "[I 2024-10-17 12:57:52,483] Trial 41 finished with value: 0.9625949924601684 and parameters: {'depth': 5, 'learning_rate': 0.09324985134841188, 'l2_leaf_reg': 0.08266412984232543}. Best is trial 1 with value: 0.962986655040611.\n",
      "Default metric period is 5 because AUC is/are not implemented for GPU\n",
      "Default metric period is 5 because AUC is/are not implemented for GPU\n",
      "Default metric period is 5 because AUC is/are not implemented for GPU\n",
      "Default metric period is 5 because AUC is/are not implemented for GPU\n",
      "Default metric period is 5 because AUC is/are not implemented for GPU\n",
      "[I 2024-10-17 12:59:20,567] Trial 42 finished with value: 0.9624301947143129 and parameters: {'depth': 4, 'learning_rate': 0.12977364282269246, 'l2_leaf_reg': 0.061890810258414995}. Best is trial 1 with value: 0.962986655040611.\n",
      "Default metric period is 5 because AUC is/are not implemented for GPU\n",
      "Default metric period is 5 because AUC is/are not implemented for GPU\n",
      "Default metric period is 5 because AUC is/are not implemented for GPU\n",
      "Default metric period is 5 because AUC is/are not implemented for GPU\n",
      "Default metric period is 5 because AUC is/are not implemented for GPU\n",
      "[I 2024-10-17 13:01:13,793] Trial 43 finished with value: 0.9623516965954544 and parameters: {'depth': 6, 'learning_rate': 0.0932411588284545, 'l2_leaf_reg': 0.3611403238640027}. Best is trial 1 with value: 0.962986655040611.\n",
      "Default metric period is 5 because AUC is/are not implemented for GPU\n",
      "Default metric period is 5 because AUC is/are not implemented for GPU\n",
      "Default metric period is 5 because AUC is/are not implemented for GPU\n",
      "Default metric period is 5 because AUC is/are not implemented for GPU\n",
      "Default metric period is 5 because AUC is/are not implemented for GPU\n",
      "[I 2024-10-17 13:03:22,402] Trial 44 finished with value: 0.9625310159048288 and parameters: {'depth': 6, 'learning_rate': 0.08187186451137436, 'l2_leaf_reg': 0.41821481158909674}. Best is trial 1 with value: 0.962986655040611.\n",
      "Default metric period is 5 because AUC is/are not implemented for GPU\n",
      "Default metric period is 5 because AUC is/are not implemented for GPU\n",
      "Default metric period is 5 because AUC is/are not implemented for GPU\n",
      "Default metric period is 5 because AUC is/are not implemented for GPU\n",
      "Default metric period is 5 because AUC is/are not implemented for GPU\n",
      "[I 2024-10-17 13:05:00,905] Trial 45 finished with value: 0.9619580319516252 and parameters: {'depth': 6, 'learning_rate': 0.0854575944175626, 'l2_leaf_reg': 0.05934372758102124}. Best is trial 1 with value: 0.962986655040611.\n",
      "Default metric period is 5 because AUC is/are not implemented for GPU\n",
      "Default metric period is 5 because AUC is/are not implemented for GPU\n",
      "Default metric period is 5 because AUC is/are not implemented for GPU\n",
      "Default metric period is 5 because AUC is/are not implemented for GPU\n",
      "Default metric period is 5 because AUC is/are not implemented for GPU\n",
      "[I 2024-10-17 13:06:54,203] Trial 46 finished with value: 0.9627494252932693 and parameters: {'depth': 5, 'learning_rate': 0.10352508481277979, 'l2_leaf_reg': 0.23933893594881248}. Best is trial 1 with value: 0.962986655040611.\n",
      "Default metric period is 5 because AUC is/are not implemented for GPU\n",
      "Default metric period is 5 because AUC is/are not implemented for GPU\n",
      "Default metric period is 5 because AUC is/are not implemented for GPU\n",
      "Default metric period is 5 because AUC is/are not implemented for GPU\n",
      "Default metric period is 5 because AUC is/are not implemented for GPU\n",
      "[I 2024-10-17 13:08:52,141] Trial 47 finished with value: 0.9627423485507023 and parameters: {'depth': 5, 'learning_rate': 0.09871140525066781, 'l2_leaf_reg': 0.28312534659167515}. Best is trial 1 with value: 0.962986655040611.\n",
      "Default metric period is 5 because AUC is/are not implemented for GPU\n",
      "Default metric period is 5 because AUC is/are not implemented for GPU\n",
      "Default metric period is 5 because AUC is/are not implemented for GPU\n",
      "Default metric period is 5 because AUC is/are not implemented for GPU\n",
      "Default metric period is 5 because AUC is/are not implemented for GPU\n",
      "[I 2024-10-17 13:11:17,815] Trial 48 finished with value: 0.9629357943801992 and parameters: {'depth': 6, 'learning_rate': 0.07392940298876588, 'l2_leaf_reg': 0.9604161694046423}. Best is trial 1 with value: 0.962986655040611.\n",
      "Default metric period is 5 because AUC is/are not implemented for GPU\n",
      "Default metric period is 5 because AUC is/are not implemented for GPU\n",
      "Default metric period is 5 because AUC is/are not implemented for GPU\n",
      "Default metric period is 5 because AUC is/are not implemented for GPU\n",
      "Default metric period is 5 because AUC is/are not implemented for GPU\n",
      "[I 2024-10-17 13:13:32,385] Trial 49 finished with value: 0.9625549918213178 and parameters: {'depth': 6, 'learning_rate': 0.07146576288920184, 'l2_leaf_reg': 1.2385034047049797}. Best is trial 1 with value: 0.962986655040611.\n",
      "Default metric period is 5 because AUC is/are not implemented for GPU\n",
      "Default metric period is 5 because AUC is/are not implemented for GPU\n",
      "Default metric period is 5 because AUC is/are not implemented for GPU\n",
      "Default metric period is 5 because AUC is/are not implemented for GPU\n",
      "Default metric period is 5 because AUC is/are not implemented for GPU\n",
      "[I 2024-10-17 13:15:36,807] Trial 50 finished with value: 0.9623537543225964 and parameters: {'depth': 5, 'learning_rate': 0.07158536591968369, 'l2_leaf_reg': 0.9617795531242967}. Best is trial 1 with value: 0.962986655040611.\n",
      "Default metric period is 5 because AUC is/are not implemented for GPU\n",
      "Default metric period is 5 because AUC is/are not implemented for GPU\n",
      "Default metric period is 5 because AUC is/are not implemented for GPU\n",
      "Default metric period is 5 because AUC is/are not implemented for GPU\n",
      "Default metric period is 5 because AUC is/are not implemented for GPU\n",
      "[I 2024-10-17 13:16:49,903] Trial 51 finished with value: 0.9615477882045862 and parameters: {'depth': 6, 'learning_rate': 0.1155586782567983, 'l2_leaf_reg': 0.1883269831616264}. Best is trial 1 with value: 0.962986655040611.\n",
      "Default metric period is 5 because AUC is/are not implemented for GPU\n",
      "Default metric period is 5 because AUC is/are not implemented for GPU\n",
      "Default metric period is 5 because AUC is/are not implemented for GPU\n",
      "Default metric period is 5 because AUC is/are not implemented for GPU\n",
      "Default metric period is 5 because AUC is/are not implemented for GPU\n",
      "[I 2024-10-17 13:19:09,688] Trial 52 finished with value: 0.9622393934996346 and parameters: {'depth': 7, 'learning_rate': 0.07268246334253498, 'l2_leaf_reg': 0.7236037473293148}. Best is trial 1 with value: 0.962986655040611.\n",
      "Default metric period is 5 because AUC is/are not implemented for GPU\n",
      "Default metric period is 5 because AUC is/are not implemented for GPU\n",
      "Default metric period is 5 because AUC is/are not implemented for GPU\n",
      "Default metric period is 5 because AUC is/are not implemented for GPU\n",
      "Default metric period is 5 because AUC is/are not implemented for GPU\n",
      "[I 2024-10-17 13:20:50,568] Trial 53 finished with value: 0.9625102642506281 and parameters: {'depth': 4, 'learning_rate': 0.11001938659356751, 'l2_leaf_reg': 0.18763723235897678}. Best is trial 1 with value: 0.962986655040611.\n",
      "Default metric period is 5 because AUC is/are not implemented for GPU\n",
      "Default metric period is 5 because AUC is/are not implemented for GPU\n",
      "Default metric period is 5 because AUC is/are not implemented for GPU\n",
      "Default metric period is 5 because AUC is/are not implemented for GPU\n",
      "Default metric period is 5 because AUC is/are not implemented for GPU\n",
      "[I 2024-10-17 13:23:19,005] Trial 54 finished with value: 0.9627613247032819 and parameters: {'depth': 6, 'learning_rate': 0.07102017819449391, 'l2_leaf_reg': 0.6737038228291367}. Best is trial 1 with value: 0.962986655040611.\n",
      "Default metric period is 5 because AUC is/are not implemented for GPU\n",
      "Default metric period is 5 because AUC is/are not implemented for GPU\n",
      "Default metric period is 5 because AUC is/are not implemented for GPU\n",
      "Default metric period is 5 because AUC is/are not implemented for GPU\n",
      "Default metric period is 5 because AUC is/are not implemented for GPU\n",
      "[I 2024-10-17 13:25:37,823] Trial 55 finished with value: 0.9626666032494187 and parameters: {'depth': 6, 'learning_rate': 0.0711828277867237, 'l2_leaf_reg': 0.6829105050078278}. Best is trial 1 with value: 0.962986655040611.\n",
      "Default metric period is 5 because AUC is/are not implemented for GPU\n",
      "Default metric period is 5 because AUC is/are not implemented for GPU\n",
      "Default metric period is 5 because AUC is/are not implemented for GPU\n",
      "Default metric period is 5 because AUC is/are not implemented for GPU\n",
      "Default metric period is 5 because AUC is/are not implemented for GPU\n",
      "[I 2024-10-17 13:28:03,303] Trial 56 finished with value: 0.962833362639342 and parameters: {'depth': 6, 'learning_rate': 0.0781916875679353, 'l2_leaf_reg': 1.010782957820542}. Best is trial 1 with value: 0.962986655040611.\n",
      "Default metric period is 5 because AUC is/are not implemented for GPU\n",
      "Default metric period is 5 because AUC is/are not implemented for GPU\n",
      "Default metric period is 5 because AUC is/are not implemented for GPU\n",
      "Default metric period is 5 because AUC is/are not implemented for GPU\n",
      "Default metric period is 5 because AUC is/are not implemented for GPU\n",
      "[I 2024-10-17 13:30:19,292] Trial 57 finished with value: 0.962939303698444 and parameters: {'depth': 6, 'learning_rate': 0.09712938899900796, 'l2_leaf_reg': 1.279423118344358}. Best is trial 1 with value: 0.962986655040611.\n",
      "Default metric period is 5 because AUC is/are not implemented for GPU\n",
      "Default metric period is 5 because AUC is/are not implemented for GPU\n",
      "Default metric period is 5 because AUC is/are not implemented for GPU\n",
      "Default metric period is 5 because AUC is/are not implemented for GPU\n",
      "Default metric period is 5 because AUC is/are not implemented for GPU\n",
      "[I 2024-10-17 13:32:28,527] Trial 58 finished with value: 0.96288599611206 and parameters: {'depth': 6, 'learning_rate': 0.0886099986182871, 'l2_leaf_reg': 1.027343799285577}. Best is trial 1 with value: 0.962986655040611.\n",
      "Default metric period is 5 because AUC is/are not implemented for GPU\n",
      "Default metric period is 5 because AUC is/are not implemented for GPU\n",
      "Default metric period is 5 because AUC is/are not implemented for GPU\n",
      "Default metric period is 5 because AUC is/are not implemented for GPU\n",
      "Default metric period is 5 because AUC is/are not implemented for GPU\n",
      "[I 2024-10-17 13:34:39,440] Trial 59 finished with value: 0.9627259638132427 and parameters: {'depth': 6, 'learning_rate': 0.08910329019323565, 'l2_leaf_reg': 1.393688219299296}. Best is trial 1 with value: 0.962986655040611.\n",
      "Default metric period is 5 because AUC is/are not implemented for GPU\n",
      "Default metric period is 5 because AUC is/are not implemented for GPU\n",
      "Default metric period is 5 because AUC is/are not implemented for GPU\n",
      "Default metric period is 5 because AUC is/are not implemented for GPU\n",
      "Default metric period is 5 because AUC is/are not implemented for GPU\n",
      "[I 2024-10-17 13:36:56,787] Trial 60 finished with value: 0.9629486080921084 and parameters: {'depth': 6, 'learning_rate': 0.08605298236770582, 'l2_leaf_reg': 0.7833976985475681}. Best is trial 1 with value: 0.962986655040611.\n",
      "Default metric period is 5 because AUC is/are not implemented for GPU\n",
      "Default metric period is 5 because AUC is/are not implemented for GPU\n",
      "Default metric period is 5 because AUC is/are not implemented for GPU\n",
      "Default metric period is 5 because AUC is/are not implemented for GPU\n",
      "Default metric period is 5 because AUC is/are not implemented for GPU\n",
      "[I 2024-10-17 13:38:38,901] Trial 61 finished with value: 0.9620976703317481 and parameters: {'depth': 6, 'learning_rate': 0.09746361094595114, 'l2_leaf_reg': 0.745182214290828}. Best is trial 1 with value: 0.962986655040611.\n",
      "Default metric period is 5 because AUC is/are not implemented for GPU\n",
      "Default metric period is 5 because AUC is/are not implemented for GPU\n",
      "Default metric period is 5 because AUC is/are not implemented for GPU\n",
      "Default metric period is 5 because AUC is/are not implemented for GPU\n",
      "Default metric period is 5 because AUC is/are not implemented for GPU\n",
      "[I 2024-10-17 13:40:24,896] Trial 62 finished with value: 0.9626044527948258 and parameters: {'depth': 6, 'learning_rate': 0.11671352755066873, 'l2_leaf_reg': 0.964670015404193}. Best is trial 1 with value: 0.962986655040611.\n",
      "Default metric period is 5 because AUC is/are not implemented for GPU\n",
      "Default metric period is 5 because AUC is/are not implemented for GPU\n",
      "Default metric period is 5 because AUC is/are not implemented for GPU\n",
      "Default metric period is 5 because AUC is/are not implemented for GPU\n",
      "Default metric period is 5 because AUC is/are not implemented for GPU\n",
      "[I 2024-10-17 13:42:36,623] Trial 63 finished with value: 0.9626135800199265 and parameters: {'depth': 6, 'learning_rate': 0.08674244586118059, 'l2_leaf_reg': 0.6540545309653331}. Best is trial 1 with value: 0.962986655040611.\n",
      "Default metric period is 5 because AUC is/are not implemented for GPU\n",
      "Default metric period is 5 because AUC is/are not implemented for GPU\n",
      "Default metric period is 5 because AUC is/are not implemented for GPU\n",
      "Default metric period is 5 because AUC is/are not implemented for GPU\n",
      "Default metric period is 5 because AUC is/are not implemented for GPU\n",
      "[I 2024-10-17 13:44:36,773] Trial 64 finished with value: 0.9629449820939777 and parameters: {'depth': 5, 'learning_rate': 0.1034668692288277, 'l2_leaf_reg': 1.1953291517016462}. Best is trial 1 with value: 0.962986655040611.\n",
      "Default metric period is 5 because AUC is/are not implemented for GPU\n",
      "Default metric period is 5 because AUC is/are not implemented for GPU\n",
      "Default metric period is 5 because AUC is/are not implemented for GPU\n",
      "Default metric period is 5 because AUC is/are not implemented for GPU\n",
      "Default metric period is 5 because AUC is/are not implemented for GPU\n",
      "[I 2024-10-17 13:46:39,197] Trial 65 finished with value: 0.962900103327988 and parameters: {'depth': 5, 'learning_rate': 0.10840740706356913, 'l2_leaf_reg': 1.3882214230513872}. Best is trial 1 with value: 0.962986655040611.\n",
      "Default metric period is 5 because AUC is/are not implemented for GPU\n",
      "Default metric period is 5 because AUC is/are not implemented for GPU\n",
      "Default metric period is 5 because AUC is/are not implemented for GPU\n",
      "Default metric period is 5 because AUC is/are not implemented for GPU\n",
      "Default metric period is 5 because AUC is/are not implemented for GPU\n",
      "[I 2024-10-17 13:48:39,820] Trial 66 finished with value: 0.9629279562763206 and parameters: {'depth': 5, 'learning_rate': 0.10652365422635028, 'l2_leaf_reg': 1.325337839400464}. Best is trial 1 with value: 0.962986655040611.\n",
      "Default metric period is 5 because AUC is/are not implemented for GPU\n",
      "Default metric period is 5 because AUC is/are not implemented for GPU\n",
      "Default metric period is 5 because AUC is/are not implemented for GPU\n",
      "Default metric period is 5 because AUC is/are not implemented for GPU\n",
      "Default metric period is 5 because AUC is/are not implemented for GPU\n",
      "[I 2024-10-17 13:50:27,868] Trial 67 finished with value: 0.9627999859235136 and parameters: {'depth': 5, 'learning_rate': 0.1270727697087701, 'l2_leaf_reg': 1.1914108739178135}. Best is trial 1 with value: 0.962986655040611.\n",
      "Default metric period is 5 because AUC is/are not implemented for GPU\n",
      "Default metric period is 5 because AUC is/are not implemented for GPU\n",
      "Default metric period is 5 because AUC is/are not implemented for GPU\n",
      "Default metric period is 5 because AUC is/are not implemented for GPU\n",
      "Default metric period is 5 because AUC is/are not implemented for GPU\n",
      "[I 2024-10-17 13:52:17,510] Trial 68 finished with value: 0.9626070411585129 and parameters: {'depth': 5, 'learning_rate': 0.09887878080149139, 'l2_leaf_reg': 1.2199069086903502}. Best is trial 1 with value: 0.962986655040611.\n",
      "Default metric period is 5 because AUC is/are not implemented for GPU\n",
      "Default metric period is 5 because AUC is/are not implemented for GPU\n",
      "Default metric period is 5 because AUC is/are not implemented for GPU\n",
      "Default metric period is 5 because AUC is/are not implemented for GPU\n",
      "Default metric period is 5 because AUC is/are not implemented for GPU\n",
      "[I 2024-10-17 13:53:57,949] Trial 69 finished with value: 0.9625800527562116 and parameters: {'depth': 4, 'learning_rate': 0.10677325876804405, 'l2_leaf_reg': 1.3892699781451654}. Best is trial 1 with value: 0.962986655040611.\n",
      "Default metric period is 5 because AUC is/are not implemented for GPU\n",
      "Default metric period is 5 because AUC is/are not implemented for GPU\n",
      "Default metric period is 5 because AUC is/are not implemented for GPU\n",
      "Default metric period is 5 because AUC is/are not implemented for GPU\n",
      "Default metric period is 5 because AUC is/are not implemented for GPU\n",
      "[I 2024-10-17 13:55:57,614] Trial 70 finished with value: 0.9630307068213589 and parameters: {'depth': 5, 'learning_rate': 0.10589333021345024, 'l2_leaf_reg': 1.3493314922882345}. Best is trial 70 with value: 0.9630307068213589.\n",
      "Default metric period is 5 because AUC is/are not implemented for GPU\n",
      "Default metric period is 5 because AUC is/are not implemented for GPU\n",
      "Default metric period is 5 because AUC is/are not implemented for GPU\n",
      "Default metric period is 5 because AUC is/are not implemented for GPU\n",
      "Default metric period is 5 because AUC is/are not implemented for GPU\n",
      "[I 2024-10-17 13:57:54,591] Trial 71 finished with value: 0.9629572288612639 and parameters: {'depth': 5, 'learning_rate': 0.10775739484293968, 'l2_leaf_reg': 0.8697386381750832}. Best is trial 70 with value: 0.9630307068213589.\n",
      "Default metric period is 5 because AUC is/are not implemented for GPU\n",
      "Default metric period is 5 because AUC is/are not implemented for GPU\n",
      "Default metric period is 5 because AUC is/are not implemented for GPU\n",
      "Default metric period is 5 because AUC is/are not implemented for GPU\n",
      "Default metric period is 5 because AUC is/are not implemented for GPU\n",
      "[I 2024-10-17 13:59:58,329] Trial 72 finished with value: 0.9629800468609824 and parameters: {'depth': 5, 'learning_rate': 0.09748743352187071, 'l2_leaf_reg': 0.7692317152504252}. Best is trial 70 with value: 0.9630307068213589.\n",
      "Default metric period is 5 because AUC is/are not implemented for GPU\n",
      "Default metric period is 5 because AUC is/are not implemented for GPU\n",
      "Default metric period is 5 because AUC is/are not implemented for GPU\n",
      "Default metric period is 5 because AUC is/are not implemented for GPU\n",
      "Default metric period is 5 because AUC is/are not implemented for GPU\n",
      "[I 2024-10-17 14:02:02,482] Trial 73 finished with value: 0.962893972296009 and parameters: {'depth': 5, 'learning_rate': 0.08896116474440104, 'l2_leaf_reg': 0.8403108445598261}. Best is trial 70 with value: 0.9630307068213589.\n",
      "Default metric period is 5 because AUC is/are not implemented for GPU\n",
      "Default metric period is 5 because AUC is/are not implemented for GPU\n",
      "Default metric period is 5 because AUC is/are not implemented for GPU\n",
      "Default metric period is 5 because AUC is/are not implemented for GPU\n",
      "Default metric period is 5 because AUC is/are not implemented for GPU\n",
      "[I 2024-10-17 14:03:51,207] Trial 74 finished with value: 0.9624169615153054 and parameters: {'depth': 5, 'learning_rate': 0.10309122924748707, 'l2_leaf_reg': 0.5298991468872658}. Best is trial 70 with value: 0.9630307068213589.\n",
      "Default metric period is 5 because AUC is/are not implemented for GPU\n",
      "Default metric period is 5 because AUC is/are not implemented for GPU\n",
      "Default metric period is 5 because AUC is/are not implemented for GPU\n",
      "Default metric period is 5 because AUC is/are not implemented for GPU\n",
      "Default metric period is 5 because AUC is/are not implemented for GPU\n",
      "[I 2024-10-17 14:05:38,451] Trial 75 finished with value: 0.9626304212549763 and parameters: {'depth': 6, 'learning_rate': 0.10983793718178778, 'l2_leaf_reg': 1.1669084173680544}. Best is trial 70 with value: 0.9630307068213589.\n",
      "Default metric period is 5 because AUC is/are not implemented for GPU\n",
      "Default metric period is 5 because AUC is/are not implemented for GPU\n",
      "Default metric period is 5 because AUC is/are not implemented for GPU\n",
      "Default metric period is 5 because AUC is/are not implemented for GPU\n",
      "Default metric period is 5 because AUC is/are not implemented for GPU\n",
      "[I 2024-10-17 14:07:30,255] Trial 76 finished with value: 0.9625947725140719 and parameters: {'depth': 5, 'learning_rate': 0.09419881014076208, 'l2_leaf_reg': 0.9932396925917845}. Best is trial 70 with value: 0.9630307068213589.\n",
      "Default metric period is 5 because AUC is/are not implemented for GPU\n",
      "Default metric period is 5 because AUC is/are not implemented for GPU\n",
      "Default metric period is 5 because AUC is/are not implemented for GPU\n",
      "Default metric period is 5 because AUC is/are not implemented for GPU\n",
      "Default metric period is 5 because AUC is/are not implemented for GPU\n",
      "[I 2024-10-17 14:09:17,929] Trial 77 finished with value: 0.9622567075405714 and parameters: {'depth': 7, 'learning_rate': 0.1006926877268916, 'l2_leaf_reg': 1.0335449434331951}. Best is trial 70 with value: 0.9630307068213589.\n",
      "Default metric period is 5 because AUC is/are not implemented for GPU\n",
      "Default metric period is 5 because AUC is/are not implemented for GPU\n",
      "Default metric period is 5 because AUC is/are not implemented for GPU\n",
      "Default metric period is 5 because AUC is/are not implemented for GPU\n",
      "Default metric period is 5 because AUC is/are not implemented for GPU\n",
      "[I 2024-10-17 14:11:09,280] Trial 78 finished with value: 0.9626639425881546 and parameters: {'depth': 5, 'learning_rate': 0.10879965959937889, 'l2_leaf_reg': 0.7345832196506893}. Best is trial 70 with value: 0.9630307068213589.\n",
      "Default metric period is 5 because AUC is/are not implemented for GPU\n",
      "Default metric period is 5 because AUC is/are not implemented for GPU\n",
      "Default metric period is 5 because AUC is/are not implemented for GPU\n",
      "Default metric period is 5 because AUC is/are not implemented for GPU\n",
      "Default metric period is 5 because AUC is/are not implemented for GPU\n",
      "[I 2024-10-17 14:13:04,430] Trial 79 finished with value: 0.962810882646677 and parameters: {'depth': 5, 'learning_rate': 0.10583387059374538, 'l2_leaf_reg': 0.8040111672653617}. Best is trial 70 with value: 0.9630307068213589.\n",
      "Default metric period is 5 because AUC is/are not implemented for GPU\n",
      "Default metric period is 5 because AUC is/are not implemented for GPU\n",
      "Default metric period is 5 because AUC is/are not implemented for GPU\n",
      "Default metric period is 5 because AUC is/are not implemented for GPU\n",
      "Default metric period is 5 because AUC is/are not implemented for GPU\n",
      "[I 2024-10-17 14:14:46,163] Trial 80 finished with value: 0.9619546626875429 and parameters: {'depth': 4, 'learning_rate': 0.08132558677693003, 'l2_leaf_reg': 0.5797979036184747}. Best is trial 70 with value: 0.9630307068213589.\n",
      "Default metric period is 5 because AUC is/are not implemented for GPU\n",
      "Default metric period is 5 because AUC is/are not implemented for GPU\n",
      "Default metric period is 5 because AUC is/are not implemented for GPU\n",
      "Default metric period is 5 because AUC is/are not implemented for GPU\n",
      "Default metric period is 5 because AUC is/are not implemented for GPU\n",
      "[I 2024-10-17 14:16:34,822] Trial 81 finished with value: 0.9626075468684594 and parameters: {'depth': 5, 'learning_rate': 0.10602026685756952, 'l2_leaf_reg': 1.1652338565661338}. Best is trial 70 with value: 0.9630307068213589.\n",
      "Default metric period is 5 because AUC is/are not implemented for GPU\n",
      "Default metric period is 5 because AUC is/are not implemented for GPU\n",
      "Default metric period is 5 because AUC is/are not implemented for GPU\n",
      "Default metric period is 5 because AUC is/are not implemented for GPU\n",
      "Default metric period is 5 because AUC is/are not implemented for GPU\n",
      "[I 2024-10-17 14:18:36,010] Trial 82 finished with value: 0.9626932982690437 and parameters: {'depth': 5, 'learning_rate': 0.09365974991799551, 'l2_leaf_reg': 1.3271097191798613}. Best is trial 70 with value: 0.9630307068213589.\n",
      "Default metric period is 5 because AUC is/are not implemented for GPU\n",
      "Default metric period is 5 because AUC is/are not implemented for GPU\n",
      "Default metric period is 5 because AUC is/are not implemented for GPU\n",
      "Default metric period is 5 because AUC is/are not implemented for GPU\n",
      "Default metric period is 5 because AUC is/are not implemented for GPU\n",
      "[I 2024-10-17 14:20:50,920] Trial 83 finished with value: 0.9624241911336775 and parameters: {'depth': 6, 'learning_rate': 0.07562955544673435, 'l2_leaf_reg': 0.28137412387253274}. Best is trial 70 with value: 0.9630307068213589.\n",
      "Default metric period is 5 because AUC is/are not implemented for GPU\n",
      "Default metric period is 5 because AUC is/are not implemented for GPU\n",
      "Default metric period is 5 because AUC is/are not implemented for GPU\n",
      "Default metric period is 5 because AUC is/are not implemented for GPU\n",
      "Default metric period is 5 because AUC is/are not implemented for GPU\n",
      "[I 2024-10-17 14:22:36,573] Trial 84 finished with value: 0.9625097712771821 and parameters: {'depth': 5, 'learning_rate': 0.10629220090940215, 'l2_leaf_reg': 1.1412756115401745}. Best is trial 70 with value: 0.9630307068213589.\n",
      "Default metric period is 5 because AUC is/are not implemented for GPU\n",
      "Default metric period is 5 because AUC is/are not implemented for GPU\n",
      "Default metric period is 5 because AUC is/are not implemented for GPU\n",
      "Default metric period is 5 because AUC is/are not implemented for GPU\n",
      "Default metric period is 5 because AUC is/are not implemented for GPU\n",
      "[I 2024-10-17 14:24:16,454] Trial 85 finished with value: 0.9624718796627947 and parameters: {'depth': 6, 'learning_rate': 0.10961335620742127, 'l2_leaf_reg': 1.3369172222049917}. Best is trial 70 with value: 0.9630307068213589.\n",
      "Default metric period is 5 because AUC is/are not implemented for GPU\n",
      "Default metric period is 5 because AUC is/are not implemented for GPU\n",
      "Default metric period is 5 because AUC is/are not implemented for GPU\n",
      "Default metric period is 5 because AUC is/are not implemented for GPU\n",
      "Default metric period is 5 because AUC is/are not implemented for GPU\n",
      "[I 2024-10-17 14:25:57,659] Trial 86 finished with value: 0.9624786483783764 and parameters: {'depth': 4, 'learning_rate': 0.10208138990386721, 'l2_leaf_reg': 0.8549632148697913}. Best is trial 70 with value: 0.9630307068213589.\n",
      "Default metric period is 5 because AUC is/are not implemented for GPU\n",
      "Default metric period is 5 because AUC is/are not implemented for GPU\n",
      "Default metric period is 5 because AUC is/are not implemented for GPU\n",
      "Default metric period is 5 because AUC is/are not implemented for GPU\n",
      "Default metric period is 5 because AUC is/are not implemented for GPU\n",
      "[I 2024-10-17 14:27:57,984] Trial 87 finished with value: 0.9628378873304204 and parameters: {'depth': 5, 'learning_rate': 0.09077521839470071, 'l2_leaf_reg': 0.6901415507398432}. Best is trial 70 with value: 0.9630307068213589.\n",
      "Default metric period is 5 because AUC is/are not implemented for GPU\n",
      "Default metric period is 5 because AUC is/are not implemented for GPU\n",
      "Default metric period is 5 because AUC is/are not implemented for GPU\n",
      "Default metric period is 5 because AUC is/are not implemented for GPU\n",
      "Default metric period is 5 because AUC is/are not implemented for GPU\n",
      "[I 2024-10-17 14:29:42,986] Trial 88 finished with value: 0.9626397347977494 and parameters: {'depth': 5, 'learning_rate': 0.11101974802115665, 'l2_leaf_reg': 1.3653862977006592}. Best is trial 70 with value: 0.9630307068213589.\n",
      "Default metric period is 5 because AUC is/are not implemented for GPU\n",
      "Default metric period is 5 because AUC is/are not implemented for GPU\n",
      "Default metric period is 5 because AUC is/are not implemented for GPU\n",
      "Default metric period is 5 because AUC is/are not implemented for GPU\n",
      "Default metric period is 5 because AUC is/are not implemented for GPU\n",
      "[I 2024-10-17 14:31:11,889] Trial 89 finished with value: 0.9607607106577903 and parameters: {'depth': 8, 'learning_rate': 0.10704852662722354, 'l2_leaf_reg': 0.3419458699331405}. Best is trial 70 with value: 0.9630307068213589.\n",
      "Default metric period is 5 because AUC is/are not implemented for GPU\n",
      "Default metric period is 5 because AUC is/are not implemented for GPU\n",
      "Default metric period is 5 because AUC is/are not implemented for GPU\n",
      "Default metric period is 5 because AUC is/are not implemented for GPU\n",
      "Default metric period is 5 because AUC is/are not implemented for GPU\n",
      "[I 2024-10-17 14:33:25,188] Trial 90 finished with value: 0.9621413932385178 and parameters: {'depth': 7, 'learning_rate': 0.08945920210926947, 'l2_leaf_reg': 0.4463107177909856}. Best is trial 70 with value: 0.9630307068213589.\n",
      "Default metric period is 5 because AUC is/are not implemented for GPU\n",
      "Default metric period is 5 because AUC is/are not implemented for GPU\n",
      "Default metric period is 5 because AUC is/are not implemented for GPU\n",
      "Default metric period is 5 because AUC is/are not implemented for GPU\n",
      "Default metric period is 5 because AUC is/are not implemented for GPU\n",
      "[I 2024-10-17 14:35:03,738] Trial 91 finished with value: 0.9627292629778509 and parameters: {'depth': 4, 'learning_rate': 0.12524004406479558, 'l2_leaf_reg': 0.9242941176521275}. Best is trial 70 with value: 0.9630307068213589.\n",
      "Default metric period is 5 because AUC is/are not implemented for GPU\n",
      "Default metric period is 5 because AUC is/are not implemented for GPU\n",
      "Default metric period is 5 because AUC is/are not implemented for GPU\n",
      "Default metric period is 5 because AUC is/are not implemented for GPU\n",
      "Default metric period is 5 because AUC is/are not implemented for GPU\n",
      "[I 2024-10-17 14:37:06,625] Trial 92 finished with value: 0.9628047920744219 and parameters: {'depth': 5, 'learning_rate': 0.09716784888600193, 'l2_leaf_reg': 1.3727974928404394}. Best is trial 70 with value: 0.9630307068213589.\n",
      "Default metric period is 5 because AUC is/are not implemented for GPU\n",
      "Default metric period is 5 because AUC is/are not implemented for GPU\n",
      "Default metric period is 5 because AUC is/are not implemented for GPU\n",
      "Default metric period is 5 because AUC is/are not implemented for GPU\n",
      "Default metric period is 5 because AUC is/are not implemented for GPU\n",
      "[I 2024-10-17 14:38:57,397] Trial 93 finished with value: 0.9627457908243177 and parameters: {'depth': 5, 'learning_rate': 0.11887711265993318, 'l2_leaf_reg': 1.1117756828227603}. Best is trial 70 with value: 0.9630307068213589.\n",
      "Default metric period is 5 because AUC is/are not implemented for GPU\n",
      "Default metric period is 5 because AUC is/are not implemented for GPU\n",
      "Default metric period is 5 because AUC is/are not implemented for GPU\n",
      "Default metric period is 5 because AUC is/are not implemented for GPU\n",
      "Default metric period is 5 because AUC is/are not implemented for GPU\n",
      "[I 2024-10-17 14:40:45,649] Trial 94 finished with value: 0.9629758749346828 and parameters: {'depth': 5, 'learning_rate': 0.11752047079894938, 'l2_leaf_reg': 1.2596546826370052}. Best is trial 70 with value: 0.9630307068213589.\n",
      "Default metric period is 5 because AUC is/are not implemented for GPU\n",
      "Default metric period is 5 because AUC is/are not implemented for GPU\n",
      "Default metric period is 5 because AUC is/are not implemented for GPU\n",
      "Default metric period is 5 because AUC is/are not implemented for GPU\n",
      "Default metric period is 5 because AUC is/are not implemented for GPU\n",
      "[I 2024-10-17 14:43:04,680] Trial 95 finished with value: 0.9626214811073412 and parameters: {'depth': 6, 'learning_rate': 0.07110206353225453, 'l2_leaf_reg': 0.48077112760357127}. Best is trial 70 with value: 0.9630307068213589.\n",
      "Default metric period is 5 because AUC is/are not implemented for GPU\n",
      "Default metric period is 5 because AUC is/are not implemented for GPU\n",
      "Default metric period is 5 because AUC is/are not implemented for GPU\n",
      "Default metric period is 5 because AUC is/are not implemented for GPU\n",
      "Default metric period is 5 because AUC is/are not implemented for GPU\n",
      "[I 2024-10-17 14:44:48,102] Trial 96 finished with value: 0.9623315011692885 and parameters: {'depth': 6, 'learning_rate': 0.10590736237212967, 'l2_leaf_reg': 0.6428183992367937}. Best is trial 70 with value: 0.9630307068213589.\n",
      "Default metric period is 5 because AUC is/are not implemented for GPU\n",
      "Default metric period is 5 because AUC is/are not implemented for GPU\n",
      "Default metric period is 5 because AUC is/are not implemented for GPU\n",
      "Default metric period is 5 because AUC is/are not implemented for GPU\n",
      "Default metric period is 5 because AUC is/are not implemented for GPU\n",
      "[I 2024-10-17 14:47:02,028] Trial 97 finished with value: 0.9626337418925079 and parameters: {'depth': 6, 'learning_rate': 0.08953412021177198, 'l2_leaf_reg': 0.876690043856303}. Best is trial 70 with value: 0.9630307068213589.\n",
      "Default metric period is 5 because AUC is/are not implemented for GPU\n",
      "Default metric period is 5 because AUC is/are not implemented for GPU\n",
      "Default metric period is 5 because AUC is/are not implemented for GPU\n",
      "Default metric period is 5 because AUC is/are not implemented for GPU\n",
      "Default metric period is 5 because AUC is/are not implemented for GPU\n",
      "[I 2024-10-17 14:48:39,667] Trial 98 finished with value: 0.9625532567440285 and parameters: {'depth': 5, 'learning_rate': 0.11679854470092635, 'l2_leaf_reg': 0.7374333851771311}. Best is trial 70 with value: 0.9630307068213589.\n",
      "Default metric period is 5 because AUC is/are not implemented for GPU\n",
      "Default metric period is 5 because AUC is/are not implemented for GPU\n",
      "Default metric period is 5 because AUC is/are not implemented for GPU\n",
      "Default metric period is 5 because AUC is/are not implemented for GPU\n",
      "Default metric period is 5 because AUC is/are not implemented for GPU\n",
      "[I 2024-10-17 14:50:20,607] Trial 99 finished with value: 0.9623219874632589 and parameters: {'depth': 6, 'learning_rate': 0.1022828895356355, 'l2_leaf_reg': 1.0740708139452377}. Best is trial 70 with value: 0.9630307068213589.\n"
     ]
    },
    {
     "name": "stdout",
     "output_type": "stream",
     "text": [
      "Best hyperparameters: {'depth': 5, 'learning_rate': 0.10589333021345024, 'l2_leaf_reg': 1.3493314922882345}\n",
      "Best AUC score: 0.9630307068213589\n"
     ]
    },
    {
     "data": {
      "text/html": [
       "        <script type=\"text/javascript\">\n",
       "        window.PlotlyConfig = {MathJaxConfig: 'local'};\n",
       "        if (window.MathJax && window.MathJax.Hub && window.MathJax.Hub.Config) {window.MathJax.Hub.Config({SVG: {font: \"STIX-Web\"}});}\n",
       "        if (typeof require !== 'undefined') {\n",
       "        require.undef(\"plotly\");\n",
       "        requirejs.config({\n",
       "            paths: {\n",
       "                'plotly': ['https://cdn.plot.ly/plotly-2.32.0.min']\n",
       "            }\n",
       "        });\n",
       "        require(['plotly'], function(Plotly) {\n",
       "            window._Plotly = Plotly;\n",
       "        });\n",
       "        }\n",
       "        </script>\n",
       "        "
      ]
     },
     "metadata": {},
     "output_type": "display_data"
    },
    {
     "data": {
      "text/html": [
       "<div>                            <div id=\"e105fcf5-08c1-4ad1-a19a-bf867e53c509\" class=\"plotly-graph-div\" style=\"height:525px; width:100%;\"></div>            <script type=\"text/javascript\">                require([\"plotly\"], function(Plotly) {                    window.PLOTLYENV=window.PLOTLYENV || {};                                    if (document.getElementById(\"e105fcf5-08c1-4ad1-a19a-bf867e53c509\")) {                    Plotly.newPlot(                        \"e105fcf5-08c1-4ad1-a19a-bf867e53c509\",                        [{\"mode\":\"markers\",\"name\":\"Objective Value\",\"x\":[0,1,2,3,4,5,6,7,8,9,10,11,12,13,14,15,16,17,18,19,20,21,22,23,24,25,26,27,28,29,30,31,32,33,34,35,36,37,38,39,40,41,42,43,44,45,46,47,48,49,50,51,52,53,54,55,56,57,58,59,60,61,62,63,64,65,66,67,68,69,70,71,72,73,74,75,76,77,78,79,80,81,82,83,84,85,86,87,88,89,90,91,92,93,94,95,96,97,98,99],\"y\":[0.9628134445060936,0.962986655040611,0.9622858276030607,0.9628077478854271,0.9615038693824947,0.9606555957144005,0.9619356772588304,0.9624012493048962,0.9623908843766225,0.960860833635029,0.9626569036452548,0.9623502303824265,0.9624687051564809,0.9617531655561535,0.9624375267419092,0.9615939638653248,0.9625054518319134,0.961867386412244,0.9620526692508211,0.9624080104413558,0.9609287107190913,0.9612168556531854,0.9619071628960505,0.962769323570917,0.9613785883140606,0.9613821704761467,0.9619599397686363,0.9623653524018592,0.9626490883305099,0.96214149081791,0.9627124859030575,0.9619617135685627,0.9623637626220578,0.9623394701518059,0.9612653018976299,0.9626564160581988,0.962134639764739,0.9626468658924481,0.9620485201030163,0.9626807163166813,0.9626940246674318,0.9625949924601684,0.9624301947143129,0.9623516965954544,0.9625310159048288,0.9619580319516252,0.9627494252932693,0.9627423485507023,0.9629357943801992,0.9625549918213178,0.9623537543225964,0.9615477882045862,0.9622393934996346,0.9625102642506281,0.9627613247032819,0.9626666032494187,0.962833362639342,0.962939303698444,0.96288599611206,0.9627259638132427,0.9629486080921084,0.9620976703317481,0.9626044527948258,0.9626135800199265,0.9629449820939777,0.962900103327988,0.9629279562763206,0.9627999859235136,0.9626070411585129,0.9625800527562116,0.9630307068213589,0.9629572288612639,0.9629800468609824,0.962893972296009,0.9624169615153054,0.9626304212549763,0.9625947725140719,0.9622567075405714,0.9626639425881546,0.962810882646677,0.9619546626875429,0.9626075468684594,0.9626932982690437,0.9624241911336775,0.9625097712771821,0.9624718796627947,0.9624786483783764,0.9628378873304204,0.9626397347977494,0.9607607106577903,0.9621413932385178,0.9627292629778509,0.9628047920744219,0.9627457908243177,0.9629758749346828,0.9626214811073412,0.9623315011692885,0.9626337418925079,0.9625532567440285,0.9623219874632589],\"type\":\"scatter\"},{\"mode\":\"lines\",\"name\":\"Best Value\",\"x\":[0,1,2,3,4,5,6,7,8,9,10,11,12,13,14,15,16,17,18,19,20,21,22,23,24,25,26,27,28,29,30,31,32,33,34,35,36,37,38,39,40,41,42,43,44,45,46,47,48,49,50,51,52,53,54,55,56,57,58,59,60,61,62,63,64,65,66,67,68,69,70,71,72,73,74,75,76,77,78,79,80,81,82,83,84,85,86,87,88,89,90,91,92,93,94,95,96,97,98,99],\"y\":[0.9628134445060936,0.962986655040611,0.962986655040611,0.962986655040611,0.962986655040611,0.962986655040611,0.962986655040611,0.962986655040611,0.962986655040611,0.962986655040611,0.962986655040611,0.962986655040611,0.962986655040611,0.962986655040611,0.962986655040611,0.962986655040611,0.962986655040611,0.962986655040611,0.962986655040611,0.962986655040611,0.962986655040611,0.962986655040611,0.962986655040611,0.962986655040611,0.962986655040611,0.962986655040611,0.962986655040611,0.962986655040611,0.962986655040611,0.962986655040611,0.962986655040611,0.962986655040611,0.962986655040611,0.962986655040611,0.962986655040611,0.962986655040611,0.962986655040611,0.962986655040611,0.962986655040611,0.962986655040611,0.962986655040611,0.962986655040611,0.962986655040611,0.962986655040611,0.962986655040611,0.962986655040611,0.962986655040611,0.962986655040611,0.962986655040611,0.962986655040611,0.962986655040611,0.962986655040611,0.962986655040611,0.962986655040611,0.962986655040611,0.962986655040611,0.962986655040611,0.962986655040611,0.962986655040611,0.962986655040611,0.962986655040611,0.962986655040611,0.962986655040611,0.962986655040611,0.962986655040611,0.962986655040611,0.962986655040611,0.962986655040611,0.962986655040611,0.962986655040611,0.9630307068213589,0.9630307068213589,0.9630307068213589,0.9630307068213589,0.9630307068213589,0.9630307068213589,0.9630307068213589,0.9630307068213589,0.9630307068213589,0.9630307068213589,0.9630307068213589,0.9630307068213589,0.9630307068213589,0.9630307068213589,0.9630307068213589,0.9630307068213589,0.9630307068213589,0.9630307068213589,0.9630307068213589,0.9630307068213589,0.9630307068213589,0.9630307068213589,0.9630307068213589,0.9630307068213589,0.9630307068213589,0.9630307068213589,0.9630307068213589,0.9630307068213589,0.9630307068213589,0.9630307068213589],\"type\":\"scatter\"},{\"marker\":{\"color\":\"#cccccc\"},\"mode\":\"markers\",\"name\":\"Infeasible Trial\",\"showlegend\":false,\"x\":[],\"y\":[],\"type\":\"scatter\"}],                        {\"title\":{\"text\":\"Optimization History Plot\"},\"xaxis\":{\"title\":{\"text\":\"Trial\"}},\"yaxis\":{\"title\":{\"text\":\"Objective Value\"}},\"template\":{\"data\":{\"histogram2dcontour\":[{\"type\":\"histogram2dcontour\",\"colorbar\":{\"outlinewidth\":0,\"ticks\":\"\"},\"colorscale\":[[0.0,\"#0d0887\"],[0.1111111111111111,\"#46039f\"],[0.2222222222222222,\"#7201a8\"],[0.3333333333333333,\"#9c179e\"],[0.4444444444444444,\"#bd3786\"],[0.5555555555555556,\"#d8576b\"],[0.6666666666666666,\"#ed7953\"],[0.7777777777777778,\"#fb9f3a\"],[0.8888888888888888,\"#fdca26\"],[1.0,\"#f0f921\"]]}],\"choropleth\":[{\"type\":\"choropleth\",\"colorbar\":{\"outlinewidth\":0,\"ticks\":\"\"}}],\"histogram2d\":[{\"type\":\"histogram2d\",\"colorbar\":{\"outlinewidth\":0,\"ticks\":\"\"},\"colorscale\":[[0.0,\"#0d0887\"],[0.1111111111111111,\"#46039f\"],[0.2222222222222222,\"#7201a8\"],[0.3333333333333333,\"#9c179e\"],[0.4444444444444444,\"#bd3786\"],[0.5555555555555556,\"#d8576b\"],[0.6666666666666666,\"#ed7953\"],[0.7777777777777778,\"#fb9f3a\"],[0.8888888888888888,\"#fdca26\"],[1.0,\"#f0f921\"]]}],\"heatmap\":[{\"type\":\"heatmap\",\"colorbar\":{\"outlinewidth\":0,\"ticks\":\"\"},\"colorscale\":[[0.0,\"#0d0887\"],[0.1111111111111111,\"#46039f\"],[0.2222222222222222,\"#7201a8\"],[0.3333333333333333,\"#9c179e\"],[0.4444444444444444,\"#bd3786\"],[0.5555555555555556,\"#d8576b\"],[0.6666666666666666,\"#ed7953\"],[0.7777777777777778,\"#fb9f3a\"],[0.8888888888888888,\"#fdca26\"],[1.0,\"#f0f921\"]]}],\"heatmapgl\":[{\"type\":\"heatmapgl\",\"colorbar\":{\"outlinewidth\":0,\"ticks\":\"\"},\"colorscale\":[[0.0,\"#0d0887\"],[0.1111111111111111,\"#46039f\"],[0.2222222222222222,\"#7201a8\"],[0.3333333333333333,\"#9c179e\"],[0.4444444444444444,\"#bd3786\"],[0.5555555555555556,\"#d8576b\"],[0.6666666666666666,\"#ed7953\"],[0.7777777777777778,\"#fb9f3a\"],[0.8888888888888888,\"#fdca26\"],[1.0,\"#f0f921\"]]}],\"contourcarpet\":[{\"type\":\"contourcarpet\",\"colorbar\":{\"outlinewidth\":0,\"ticks\":\"\"}}],\"contour\":[{\"type\":\"contour\",\"colorbar\":{\"outlinewidth\":0,\"ticks\":\"\"},\"colorscale\":[[0.0,\"#0d0887\"],[0.1111111111111111,\"#46039f\"],[0.2222222222222222,\"#7201a8\"],[0.3333333333333333,\"#9c179e\"],[0.4444444444444444,\"#bd3786\"],[0.5555555555555556,\"#d8576b\"],[0.6666666666666666,\"#ed7953\"],[0.7777777777777778,\"#fb9f3a\"],[0.8888888888888888,\"#fdca26\"],[1.0,\"#f0f921\"]]}],\"surface\":[{\"type\":\"surface\",\"colorbar\":{\"outlinewidth\":0,\"ticks\":\"\"},\"colorscale\":[[0.0,\"#0d0887\"],[0.1111111111111111,\"#46039f\"],[0.2222222222222222,\"#7201a8\"],[0.3333333333333333,\"#9c179e\"],[0.4444444444444444,\"#bd3786\"],[0.5555555555555556,\"#d8576b\"],[0.6666666666666666,\"#ed7953\"],[0.7777777777777778,\"#fb9f3a\"],[0.8888888888888888,\"#fdca26\"],[1.0,\"#f0f921\"]]}],\"mesh3d\":[{\"type\":\"mesh3d\",\"colorbar\":{\"outlinewidth\":0,\"ticks\":\"\"}}],\"scatter\":[{\"fillpattern\":{\"fillmode\":\"overlay\",\"size\":10,\"solidity\":0.2},\"type\":\"scatter\"}],\"parcoords\":[{\"type\":\"parcoords\",\"line\":{\"colorbar\":{\"outlinewidth\":0,\"ticks\":\"\"}}}],\"scatterpolargl\":[{\"type\":\"scatterpolargl\",\"marker\":{\"colorbar\":{\"outlinewidth\":0,\"ticks\":\"\"}}}],\"bar\":[{\"error_x\":{\"color\":\"#2a3f5f\"},\"error_y\":{\"color\":\"#2a3f5f\"},\"marker\":{\"line\":{\"color\":\"#E5ECF6\",\"width\":0.5},\"pattern\":{\"fillmode\":\"overlay\",\"size\":10,\"solidity\":0.2}},\"type\":\"bar\"}],\"scattergeo\":[{\"type\":\"scattergeo\",\"marker\":{\"colorbar\":{\"outlinewidth\":0,\"ticks\":\"\"}}}],\"scatterpolar\":[{\"type\":\"scatterpolar\",\"marker\":{\"colorbar\":{\"outlinewidth\":0,\"ticks\":\"\"}}}],\"histogram\":[{\"marker\":{\"pattern\":{\"fillmode\":\"overlay\",\"size\":10,\"solidity\":0.2}},\"type\":\"histogram\"}],\"scattergl\":[{\"type\":\"scattergl\",\"marker\":{\"colorbar\":{\"outlinewidth\":0,\"ticks\":\"\"}}}],\"scatter3d\":[{\"type\":\"scatter3d\",\"line\":{\"colorbar\":{\"outlinewidth\":0,\"ticks\":\"\"}},\"marker\":{\"colorbar\":{\"outlinewidth\":0,\"ticks\":\"\"}}}],\"scattermapbox\":[{\"type\":\"scattermapbox\",\"marker\":{\"colorbar\":{\"outlinewidth\":0,\"ticks\":\"\"}}}],\"scatterternary\":[{\"type\":\"scatterternary\",\"marker\":{\"colorbar\":{\"outlinewidth\":0,\"ticks\":\"\"}}}],\"scattercarpet\":[{\"type\":\"scattercarpet\",\"marker\":{\"colorbar\":{\"outlinewidth\":0,\"ticks\":\"\"}}}],\"carpet\":[{\"aaxis\":{\"endlinecolor\":\"#2a3f5f\",\"gridcolor\":\"white\",\"linecolor\":\"white\",\"minorgridcolor\":\"white\",\"startlinecolor\":\"#2a3f5f\"},\"baxis\":{\"endlinecolor\":\"#2a3f5f\",\"gridcolor\":\"white\",\"linecolor\":\"white\",\"minorgridcolor\":\"white\",\"startlinecolor\":\"#2a3f5f\"},\"type\":\"carpet\"}],\"table\":[{\"cells\":{\"fill\":{\"color\":\"#EBF0F8\"},\"line\":{\"color\":\"white\"}},\"header\":{\"fill\":{\"color\":\"#C8D4E3\"},\"line\":{\"color\":\"white\"}},\"type\":\"table\"}],\"barpolar\":[{\"marker\":{\"line\":{\"color\":\"#E5ECF6\",\"width\":0.5},\"pattern\":{\"fillmode\":\"overlay\",\"size\":10,\"solidity\":0.2}},\"type\":\"barpolar\"}],\"pie\":[{\"automargin\":true,\"type\":\"pie\"}]},\"layout\":{\"autotypenumbers\":\"strict\",\"colorway\":[\"#636efa\",\"#EF553B\",\"#00cc96\",\"#ab63fa\",\"#FFA15A\",\"#19d3f3\",\"#FF6692\",\"#B6E880\",\"#FF97FF\",\"#FECB52\"],\"font\":{\"color\":\"#2a3f5f\"},\"hovermode\":\"closest\",\"hoverlabel\":{\"align\":\"left\"},\"paper_bgcolor\":\"white\",\"plot_bgcolor\":\"#E5ECF6\",\"polar\":{\"bgcolor\":\"#E5ECF6\",\"angularaxis\":{\"gridcolor\":\"white\",\"linecolor\":\"white\",\"ticks\":\"\"},\"radialaxis\":{\"gridcolor\":\"white\",\"linecolor\":\"white\",\"ticks\":\"\"}},\"ternary\":{\"bgcolor\":\"#E5ECF6\",\"aaxis\":{\"gridcolor\":\"white\",\"linecolor\":\"white\",\"ticks\":\"\"},\"baxis\":{\"gridcolor\":\"white\",\"linecolor\":\"white\",\"ticks\":\"\"},\"caxis\":{\"gridcolor\":\"white\",\"linecolor\":\"white\",\"ticks\":\"\"}},\"coloraxis\":{\"colorbar\":{\"outlinewidth\":0,\"ticks\":\"\"}},\"colorscale\":{\"sequential\":[[0.0,\"#0d0887\"],[0.1111111111111111,\"#46039f\"],[0.2222222222222222,\"#7201a8\"],[0.3333333333333333,\"#9c179e\"],[0.4444444444444444,\"#bd3786\"],[0.5555555555555556,\"#d8576b\"],[0.6666666666666666,\"#ed7953\"],[0.7777777777777778,\"#fb9f3a\"],[0.8888888888888888,\"#fdca26\"],[1.0,\"#f0f921\"]],\"sequentialminus\":[[0.0,\"#0d0887\"],[0.1111111111111111,\"#46039f\"],[0.2222222222222222,\"#7201a8\"],[0.3333333333333333,\"#9c179e\"],[0.4444444444444444,\"#bd3786\"],[0.5555555555555556,\"#d8576b\"],[0.6666666666666666,\"#ed7953\"],[0.7777777777777778,\"#fb9f3a\"],[0.8888888888888888,\"#fdca26\"],[1.0,\"#f0f921\"]],\"diverging\":[[0,\"#8e0152\"],[0.1,\"#c51b7d\"],[0.2,\"#de77ae\"],[0.3,\"#f1b6da\"],[0.4,\"#fde0ef\"],[0.5,\"#f7f7f7\"],[0.6,\"#e6f5d0\"],[0.7,\"#b8e186\"],[0.8,\"#7fbc41\"],[0.9,\"#4d9221\"],[1,\"#276419\"]]},\"xaxis\":{\"gridcolor\":\"white\",\"linecolor\":\"white\",\"ticks\":\"\",\"title\":{\"standoff\":15},\"zerolinecolor\":\"white\",\"automargin\":true,\"zerolinewidth\":2},\"yaxis\":{\"gridcolor\":\"white\",\"linecolor\":\"white\",\"ticks\":\"\",\"title\":{\"standoff\":15},\"zerolinecolor\":\"white\",\"automargin\":true,\"zerolinewidth\":2},\"scene\":{\"xaxis\":{\"backgroundcolor\":\"#E5ECF6\",\"gridcolor\":\"white\",\"linecolor\":\"white\",\"showbackground\":true,\"ticks\":\"\",\"zerolinecolor\":\"white\",\"gridwidth\":2},\"yaxis\":{\"backgroundcolor\":\"#E5ECF6\",\"gridcolor\":\"white\",\"linecolor\":\"white\",\"showbackground\":true,\"ticks\":\"\",\"zerolinecolor\":\"white\",\"gridwidth\":2},\"zaxis\":{\"backgroundcolor\":\"#E5ECF6\",\"gridcolor\":\"white\",\"linecolor\":\"white\",\"showbackground\":true,\"ticks\":\"\",\"zerolinecolor\":\"white\",\"gridwidth\":2}},\"shapedefaults\":{\"line\":{\"color\":\"#2a3f5f\"}},\"annotationdefaults\":{\"arrowcolor\":\"#2a3f5f\",\"arrowhead\":0,\"arrowwidth\":1},\"geo\":{\"bgcolor\":\"white\",\"landcolor\":\"#E5ECF6\",\"subunitcolor\":\"white\",\"showland\":true,\"showlakes\":true,\"lakecolor\":\"white\"},\"title\":{\"x\":0.05},\"mapbox\":{\"style\":\"light\"}}}},                        {\"responsive\": true}                    ).then(function(){\n",
       "                            \n",
       "var gd = document.getElementById('e105fcf5-08c1-4ad1-a19a-bf867e53c509');\n",
       "var x = new MutationObserver(function (mutations, observer) {{\n",
       "        var display = window.getComputedStyle(gd).display;\n",
       "        if (!display || display === 'none') {{\n",
       "            console.log([gd, 'removed!']);\n",
       "            Plotly.purge(gd);\n",
       "            observer.disconnect();\n",
       "        }}\n",
       "}});\n",
       "\n",
       "// Listen for the removal of the full notebook cells\n",
       "var notebookContainer = gd.closest('#notebook-container');\n",
       "if (notebookContainer) {{\n",
       "    x.observe(notebookContainer, {childList: true});\n",
       "}}\n",
       "\n",
       "// Listen for the clearing of the current output cell\n",
       "var outputEl = gd.closest('.output');\n",
       "if (outputEl) {{\n",
       "    x.observe(outputEl, {childList: true});\n",
       "}}\n",
       "\n",
       "                        })                };                });            </script>        </div>"
      ]
     },
     "metadata": {},
     "output_type": "display_data"
    },
    {
     "data": {
      "text/html": [
       "<div>                            <div id=\"710dc335-3274-4400-b9a0-461ea7f496d9\" class=\"plotly-graph-div\" style=\"height:525px; width:100%;\"></div>            <script type=\"text/javascript\">                require([\"plotly\"], function(Plotly) {                    window.PLOTLYENV=window.PLOTLYENV || {};                                    if (document.getElementById(\"710dc335-3274-4400-b9a0-461ea7f496d9\")) {                    Plotly.newPlot(                        \"710dc335-3274-4400-b9a0-461ea7f496d9\",                        [{\"cliponaxis\":false,\"hovertemplate\":[\"learning_rate (FloatDistribution): 0.137117555644772\\u003cextra\\u003e\\u003c\\u002fextra\\u003e\",\"l2_leaf_reg (FloatDistribution): 0.20210296104020503\\u003cextra\\u003e\\u003c\\u002fextra\\u003e\",\"depth (IntDistribution): 0.6607794833150229\\u003cextra\\u003e\\u003c\\u002fextra\\u003e\"],\"name\":\"Objective Value\",\"orientation\":\"h\",\"text\":[\"0.14\",\"0.20\",\"0.66\"],\"textposition\":\"outside\",\"x\":[0.137117555644772,0.20210296104020503,0.6607794833150229],\"y\":[\"learning_rate\",\"l2_leaf_reg\",\"depth\"],\"type\":\"bar\"}],                        {\"title\":{\"text\":\"Hyperparameter Importances\"},\"xaxis\":{\"title\":{\"text\":\"Hyperparameter Importance\"}},\"yaxis\":{\"title\":{\"text\":\"Hyperparameter\"}},\"template\":{\"data\":{\"histogram2dcontour\":[{\"type\":\"histogram2dcontour\",\"colorbar\":{\"outlinewidth\":0,\"ticks\":\"\"},\"colorscale\":[[0.0,\"#0d0887\"],[0.1111111111111111,\"#46039f\"],[0.2222222222222222,\"#7201a8\"],[0.3333333333333333,\"#9c179e\"],[0.4444444444444444,\"#bd3786\"],[0.5555555555555556,\"#d8576b\"],[0.6666666666666666,\"#ed7953\"],[0.7777777777777778,\"#fb9f3a\"],[0.8888888888888888,\"#fdca26\"],[1.0,\"#f0f921\"]]}],\"choropleth\":[{\"type\":\"choropleth\",\"colorbar\":{\"outlinewidth\":0,\"ticks\":\"\"}}],\"histogram2d\":[{\"type\":\"histogram2d\",\"colorbar\":{\"outlinewidth\":0,\"ticks\":\"\"},\"colorscale\":[[0.0,\"#0d0887\"],[0.1111111111111111,\"#46039f\"],[0.2222222222222222,\"#7201a8\"],[0.3333333333333333,\"#9c179e\"],[0.4444444444444444,\"#bd3786\"],[0.5555555555555556,\"#d8576b\"],[0.6666666666666666,\"#ed7953\"],[0.7777777777777778,\"#fb9f3a\"],[0.8888888888888888,\"#fdca26\"],[1.0,\"#f0f921\"]]}],\"heatmap\":[{\"type\":\"heatmap\",\"colorbar\":{\"outlinewidth\":0,\"ticks\":\"\"},\"colorscale\":[[0.0,\"#0d0887\"],[0.1111111111111111,\"#46039f\"],[0.2222222222222222,\"#7201a8\"],[0.3333333333333333,\"#9c179e\"],[0.4444444444444444,\"#bd3786\"],[0.5555555555555556,\"#d8576b\"],[0.6666666666666666,\"#ed7953\"],[0.7777777777777778,\"#fb9f3a\"],[0.8888888888888888,\"#fdca26\"],[1.0,\"#f0f921\"]]}],\"heatmapgl\":[{\"type\":\"heatmapgl\",\"colorbar\":{\"outlinewidth\":0,\"ticks\":\"\"},\"colorscale\":[[0.0,\"#0d0887\"],[0.1111111111111111,\"#46039f\"],[0.2222222222222222,\"#7201a8\"],[0.3333333333333333,\"#9c179e\"],[0.4444444444444444,\"#bd3786\"],[0.5555555555555556,\"#d8576b\"],[0.6666666666666666,\"#ed7953\"],[0.7777777777777778,\"#fb9f3a\"],[0.8888888888888888,\"#fdca26\"],[1.0,\"#f0f921\"]]}],\"contourcarpet\":[{\"type\":\"contourcarpet\",\"colorbar\":{\"outlinewidth\":0,\"ticks\":\"\"}}],\"contour\":[{\"type\":\"contour\",\"colorbar\":{\"outlinewidth\":0,\"ticks\":\"\"},\"colorscale\":[[0.0,\"#0d0887\"],[0.1111111111111111,\"#46039f\"],[0.2222222222222222,\"#7201a8\"],[0.3333333333333333,\"#9c179e\"],[0.4444444444444444,\"#bd3786\"],[0.5555555555555556,\"#d8576b\"],[0.6666666666666666,\"#ed7953\"],[0.7777777777777778,\"#fb9f3a\"],[0.8888888888888888,\"#fdca26\"],[1.0,\"#f0f921\"]]}],\"surface\":[{\"type\":\"surface\",\"colorbar\":{\"outlinewidth\":0,\"ticks\":\"\"},\"colorscale\":[[0.0,\"#0d0887\"],[0.1111111111111111,\"#46039f\"],[0.2222222222222222,\"#7201a8\"],[0.3333333333333333,\"#9c179e\"],[0.4444444444444444,\"#bd3786\"],[0.5555555555555556,\"#d8576b\"],[0.6666666666666666,\"#ed7953\"],[0.7777777777777778,\"#fb9f3a\"],[0.8888888888888888,\"#fdca26\"],[1.0,\"#f0f921\"]]}],\"mesh3d\":[{\"type\":\"mesh3d\",\"colorbar\":{\"outlinewidth\":0,\"ticks\":\"\"}}],\"scatter\":[{\"fillpattern\":{\"fillmode\":\"overlay\",\"size\":10,\"solidity\":0.2},\"type\":\"scatter\"}],\"parcoords\":[{\"type\":\"parcoords\",\"line\":{\"colorbar\":{\"outlinewidth\":0,\"ticks\":\"\"}}}],\"scatterpolargl\":[{\"type\":\"scatterpolargl\",\"marker\":{\"colorbar\":{\"outlinewidth\":0,\"ticks\":\"\"}}}],\"bar\":[{\"error_x\":{\"color\":\"#2a3f5f\"},\"error_y\":{\"color\":\"#2a3f5f\"},\"marker\":{\"line\":{\"color\":\"#E5ECF6\",\"width\":0.5},\"pattern\":{\"fillmode\":\"overlay\",\"size\":10,\"solidity\":0.2}},\"type\":\"bar\"}],\"scattergeo\":[{\"type\":\"scattergeo\",\"marker\":{\"colorbar\":{\"outlinewidth\":0,\"ticks\":\"\"}}}],\"scatterpolar\":[{\"type\":\"scatterpolar\",\"marker\":{\"colorbar\":{\"outlinewidth\":0,\"ticks\":\"\"}}}],\"histogram\":[{\"marker\":{\"pattern\":{\"fillmode\":\"overlay\",\"size\":10,\"solidity\":0.2}},\"type\":\"histogram\"}],\"scattergl\":[{\"type\":\"scattergl\",\"marker\":{\"colorbar\":{\"outlinewidth\":0,\"ticks\":\"\"}}}],\"scatter3d\":[{\"type\":\"scatter3d\",\"line\":{\"colorbar\":{\"outlinewidth\":0,\"ticks\":\"\"}},\"marker\":{\"colorbar\":{\"outlinewidth\":0,\"ticks\":\"\"}}}],\"scattermapbox\":[{\"type\":\"scattermapbox\",\"marker\":{\"colorbar\":{\"outlinewidth\":0,\"ticks\":\"\"}}}],\"scatterternary\":[{\"type\":\"scatterternary\",\"marker\":{\"colorbar\":{\"outlinewidth\":0,\"ticks\":\"\"}}}],\"scattercarpet\":[{\"type\":\"scattercarpet\",\"marker\":{\"colorbar\":{\"outlinewidth\":0,\"ticks\":\"\"}}}],\"carpet\":[{\"aaxis\":{\"endlinecolor\":\"#2a3f5f\",\"gridcolor\":\"white\",\"linecolor\":\"white\",\"minorgridcolor\":\"white\",\"startlinecolor\":\"#2a3f5f\"},\"baxis\":{\"endlinecolor\":\"#2a3f5f\",\"gridcolor\":\"white\",\"linecolor\":\"white\",\"minorgridcolor\":\"white\",\"startlinecolor\":\"#2a3f5f\"},\"type\":\"carpet\"}],\"table\":[{\"cells\":{\"fill\":{\"color\":\"#EBF0F8\"},\"line\":{\"color\":\"white\"}},\"header\":{\"fill\":{\"color\":\"#C8D4E3\"},\"line\":{\"color\":\"white\"}},\"type\":\"table\"}],\"barpolar\":[{\"marker\":{\"line\":{\"color\":\"#E5ECF6\",\"width\":0.5},\"pattern\":{\"fillmode\":\"overlay\",\"size\":10,\"solidity\":0.2}},\"type\":\"barpolar\"}],\"pie\":[{\"automargin\":true,\"type\":\"pie\"}]},\"layout\":{\"autotypenumbers\":\"strict\",\"colorway\":[\"#636efa\",\"#EF553B\",\"#00cc96\",\"#ab63fa\",\"#FFA15A\",\"#19d3f3\",\"#FF6692\",\"#B6E880\",\"#FF97FF\",\"#FECB52\"],\"font\":{\"color\":\"#2a3f5f\"},\"hovermode\":\"closest\",\"hoverlabel\":{\"align\":\"left\"},\"paper_bgcolor\":\"white\",\"plot_bgcolor\":\"#E5ECF6\",\"polar\":{\"bgcolor\":\"#E5ECF6\",\"angularaxis\":{\"gridcolor\":\"white\",\"linecolor\":\"white\",\"ticks\":\"\"},\"radialaxis\":{\"gridcolor\":\"white\",\"linecolor\":\"white\",\"ticks\":\"\"}},\"ternary\":{\"bgcolor\":\"#E5ECF6\",\"aaxis\":{\"gridcolor\":\"white\",\"linecolor\":\"white\",\"ticks\":\"\"},\"baxis\":{\"gridcolor\":\"white\",\"linecolor\":\"white\",\"ticks\":\"\"},\"caxis\":{\"gridcolor\":\"white\",\"linecolor\":\"white\",\"ticks\":\"\"}},\"coloraxis\":{\"colorbar\":{\"outlinewidth\":0,\"ticks\":\"\"}},\"colorscale\":{\"sequential\":[[0.0,\"#0d0887\"],[0.1111111111111111,\"#46039f\"],[0.2222222222222222,\"#7201a8\"],[0.3333333333333333,\"#9c179e\"],[0.4444444444444444,\"#bd3786\"],[0.5555555555555556,\"#d8576b\"],[0.6666666666666666,\"#ed7953\"],[0.7777777777777778,\"#fb9f3a\"],[0.8888888888888888,\"#fdca26\"],[1.0,\"#f0f921\"]],\"sequentialminus\":[[0.0,\"#0d0887\"],[0.1111111111111111,\"#46039f\"],[0.2222222222222222,\"#7201a8\"],[0.3333333333333333,\"#9c179e\"],[0.4444444444444444,\"#bd3786\"],[0.5555555555555556,\"#d8576b\"],[0.6666666666666666,\"#ed7953\"],[0.7777777777777778,\"#fb9f3a\"],[0.8888888888888888,\"#fdca26\"],[1.0,\"#f0f921\"]],\"diverging\":[[0,\"#8e0152\"],[0.1,\"#c51b7d\"],[0.2,\"#de77ae\"],[0.3,\"#f1b6da\"],[0.4,\"#fde0ef\"],[0.5,\"#f7f7f7\"],[0.6,\"#e6f5d0\"],[0.7,\"#b8e186\"],[0.8,\"#7fbc41\"],[0.9,\"#4d9221\"],[1,\"#276419\"]]},\"xaxis\":{\"gridcolor\":\"white\",\"linecolor\":\"white\",\"ticks\":\"\",\"title\":{\"standoff\":15},\"zerolinecolor\":\"white\",\"automargin\":true,\"zerolinewidth\":2},\"yaxis\":{\"gridcolor\":\"white\",\"linecolor\":\"white\",\"ticks\":\"\",\"title\":{\"standoff\":15},\"zerolinecolor\":\"white\",\"automargin\":true,\"zerolinewidth\":2},\"scene\":{\"xaxis\":{\"backgroundcolor\":\"#E5ECF6\",\"gridcolor\":\"white\",\"linecolor\":\"white\",\"showbackground\":true,\"ticks\":\"\",\"zerolinecolor\":\"white\",\"gridwidth\":2},\"yaxis\":{\"backgroundcolor\":\"#E5ECF6\",\"gridcolor\":\"white\",\"linecolor\":\"white\",\"showbackground\":true,\"ticks\":\"\",\"zerolinecolor\":\"white\",\"gridwidth\":2},\"zaxis\":{\"backgroundcolor\":\"#E5ECF6\",\"gridcolor\":\"white\",\"linecolor\":\"white\",\"showbackground\":true,\"ticks\":\"\",\"zerolinecolor\":\"white\",\"gridwidth\":2}},\"shapedefaults\":{\"line\":{\"color\":\"#2a3f5f\"}},\"annotationdefaults\":{\"arrowcolor\":\"#2a3f5f\",\"arrowhead\":0,\"arrowwidth\":1},\"geo\":{\"bgcolor\":\"white\",\"landcolor\":\"#E5ECF6\",\"subunitcolor\":\"white\",\"showland\":true,\"showlakes\":true,\"lakecolor\":\"white\"},\"title\":{\"x\":0.05},\"mapbox\":{\"style\":\"light\"}}}},                        {\"responsive\": true}                    ).then(function(){\n",
       "                            \n",
       "var gd = document.getElementById('710dc335-3274-4400-b9a0-461ea7f496d9');\n",
       "var x = new MutationObserver(function (mutations, observer) {{\n",
       "        var display = window.getComputedStyle(gd).display;\n",
       "        if (!display || display === 'none') {{\n",
       "            console.log([gd, 'removed!']);\n",
       "            Plotly.purge(gd);\n",
       "            observer.disconnect();\n",
       "        }}\n",
       "}});\n",
       "\n",
       "// Listen for the removal of the full notebook cells\n",
       "var notebookContainer = gd.closest('#notebook-container');\n",
       "if (notebookContainer) {{\n",
       "    x.observe(notebookContainer, {childList: true});\n",
       "}}\n",
       "\n",
       "// Listen for the clearing of the current output cell\n",
       "var outputEl = gd.closest('.output');\n",
       "if (outputEl) {{\n",
       "    x.observe(outputEl, {childList: true});\n",
       "}}\n",
       "\n",
       "                        })                };                });            </script>        </div>"
      ]
     },
     "metadata": {},
     "output_type": "display_data"
    },
    {
     "data": {
      "text/html": [
       "<div>                            <div id=\"2ce424cb-b4e7-4e3d-8947-22aa257804c0\" class=\"plotly-graph-div\" style=\"height:525px; width:100%;\"></div>            <script type=\"text/javascript\">                require([\"plotly\"], function(Plotly) {                    window.PLOTLYENV=window.PLOTLYENV || {};                                    if (document.getElementById(\"2ce424cb-b4e7-4e3d-8947-22aa257804c0\")) {                    Plotly.newPlot(                        \"2ce424cb-b4e7-4e3d-8947-22aa257804c0\",                        [{\"dimensions\":[{\"label\":\"Objective Value\",\"range\":[0.9606555957144005,0.9630307068213589],\"values\":[0.9628134445060936,0.962986655040611,0.9622858276030607,0.9628077478854271,0.9615038693824947,0.9606555957144005,0.9619356772588304,0.9624012493048962,0.9623908843766225,0.960860833635029,0.9626569036452548,0.9623502303824265,0.9624687051564809,0.9617531655561535,0.9624375267419092,0.9615939638653248,0.9625054518319134,0.961867386412244,0.9620526692508211,0.9624080104413558,0.9609287107190913,0.9612168556531854,0.9619071628960505,0.962769323570917,0.9613785883140606,0.9613821704761467,0.9619599397686363,0.9623653524018592,0.9626490883305099,0.96214149081791,0.9627124859030575,0.9619617135685627,0.9623637626220578,0.9623394701518059,0.9612653018976299,0.9626564160581988,0.962134639764739,0.9626468658924481,0.9620485201030163,0.9626807163166813,0.9626940246674318,0.9625949924601684,0.9624301947143129,0.9623516965954544,0.9625310159048288,0.9619580319516252,0.9627494252932693,0.9627423485507023,0.9629357943801992,0.9625549918213178,0.9623537543225964,0.9615477882045862,0.9622393934996346,0.9625102642506281,0.9627613247032819,0.9626666032494187,0.962833362639342,0.962939303698444,0.96288599611206,0.9627259638132427,0.9629486080921084,0.9620976703317481,0.9626044527948258,0.9626135800199265,0.9629449820939777,0.962900103327988,0.9629279562763206,0.9627999859235136,0.9626070411585129,0.9625800527562116,0.9630307068213589,0.9629572288612639,0.9629800468609824,0.962893972296009,0.9624169615153054,0.9626304212549763,0.9625947725140719,0.9622567075405714,0.9626639425881546,0.962810882646677,0.9619546626875429,0.9626075468684594,0.9626932982690437,0.9624241911336775,0.9625097712771821,0.9624718796627947,0.9624786483783764,0.9628378873304204,0.9626397347977494,0.9607607106577903,0.9621413932385178,0.9627292629778509,0.9628047920744219,0.9627457908243177,0.9629758749346828,0.9626214811073412,0.9623315011692885,0.9626337418925079,0.9625532567440285,0.9623219874632589]},{\"label\":\"depth\",\"range\":[4,8],\"values\":[6,6,6,5,6,4,7,7,4,8,5,6,7,7,7,7,5,6,5,5,4,4,8,4,8,4,5,6,6,4,5,7,6,4,7,4,6,4,6,5,5,5,4,6,6,6,5,5,6,6,5,6,7,4,6,6,6,6,6,6,6,6,6,6,5,5,5,5,5,4,5,5,5,5,5,6,5,7,5,5,4,5,5,6,5,6,4,5,5,8,7,4,5,5,5,6,6,6,5,6]},{\"label\":\"l2_leaf_reg\",\"range\":[-1.226625177651398,0.14416562901136407],\"ticktext\":[\"0.0593\",\"0.1\",\"1\",\"1.39\"],\"tickvals\":[-1.226625177651398,-1,0,0.14416562901136407],\"values\":[-0.42873613498295127,-0.3663191425429103,0.09354230770049696,-0.5356354648074668,-1.1982295935280156,-0.09609749912436469,0.11518539791697176,-0.17148092950411023,-1.0935751344706701,-0.7009486389147497,-0.6409083788973815,-0.407213825628582,0.06472261572224448,-0.6685756937700824,-0.336113188375111,-1.1144532685615427,-0.4758651599083512,-1.1533550282331755,-0.35587903713026176,-0.9473075371332852,-0.3512173590617691,-0.7674264035839365,-0.0883912929547742,-0.622817645301328,-0.2311987694589325,-1.127086576764627,-0.840858083772255,-0.29891340663708893,-0.5438073727054638,0.043808460154222684,-1.1102976605717283,-1.0359231448628623,-0.10142277488102022,-0.9102857887325051,-0.9410448861974502,-0.6516873352264045,-0.3287879076008772,-0.268587567864927,-0.635646628339715,-0.3018666693077778,-0.4453369517077418,-1.0826829014626143,-1.2083738315993962,-0.4423240168240852,-0.3786005901756819,-1.226625177651398,-0.6209866440852685,-0.548021248995376,-0.017540536844811962,0.09289720481975869,-0.016924460012971442,-0.7250874505693918,-0.1404991927240132,-0.726680981502372,-0.17153098830282273,-0.1656362066082287,0.004657910941889422,0.1070141938715198,0.011715804012661616,0.14416562901136407,-0.10601770864921968,-0.1277375192179969,-0.015621220332250486,-0.18438604141570136,0.0774875112125164,0.1424587421562509,0.12232659758264784,0.07606155955412366,0.08632669085128229,0.1427866507954186,0.13011865655555394,-0.06061123594639318,-0.11394281820071392,-0.07556003167026397,-0.2758067796788222,0.06703677258998127,-0.0029459331678806594,0.014329366556578283,-0.1339589966228326,-0.09473791910224114,-0.23672335926141863,0.06641309482469365,0.12290682977066138,-0.5507158442718922,0.05739053672046182,0.12610451791828353,-0.06805257056158011,-0.16106182462442506,0.13525554018633917,-0.4660426373647252,-0.3503626838034463,-0.03418981087051668,0.1376064773471734,0.0460171707536431,0.10025150545135275,-0.3180616214939924,-0.1919117010240448,-0.057153925489486904,-0.13227720485032513,0.031032915527243167]},{\"label\":\"learning_rate\",\"range\":[-1.2932327292692032,-0.8868135042922853],\"ticktext\":[\"0.0509\",\"0.1\",\"0.13\"],\"tickvals\":[-1.2932327292692032,-1,-0.8868135042922853],\"values\":[-1.0042454698672902,-1.1252245451984106,-0.9309679678994587,-0.9724852059384945,-0.9169320598011413,-1.2926398995875648,-0.9399981417307149,-1.1095283596904442,-1.0354798270067935,-1.0844768504544011,-0.9797436494476658,-1.2932327292692032,-1.0450188295038452,-1.1518437985409173,-1.2760380300688616,-1.2137268399404944,-1.1500997193528737,-0.8908811950377771,-1.2340908449676857,-1.1075234530569402,-1.2552272538022777,-1.219453554885599,-1.2607355541558967,-0.8958253423095786,-1.05003522533023,-1.1836726435741907,-1.2517611566326001,-1.2744104943401802,-1.1909004300925685,-1.0620275501509737,-1.0240724758199764,-1.1809341803505273,-1.292685899903079,-1.0197541980796643,-0.9017473937174274,-0.8934250122670393,-0.9453080975035411,-0.9390379446875066,-1.0149411118903549,-1.029420197408947,-0.9078889921113835,-1.0303518518368717,-0.8868135042922853,-1.03039233757879,-1.0868653190793447,-1.0682493364881938,-0.9849544050302965,-1.0056326654532932,-1.131182800900163,-1.1459019658824334,-1.1451757507355405,-0.9371974341959766,-1.13857036207478,-0.9585307807621066,-1.1486182423584201,-1.1476247633429009,-1.1068394136314441,-1.0126493432233734,-1.0525172702151195,-1.0501062590788988,-1.0652340735828725,-1.0111575024062924,-0.9328788046218814,-1.0617683362910335,-0.9851986918930864,-0.9649410431026572,-0.9725539437809884,-0.8959475039874406,-1.0048968971748486,-0.9715375022106318,-0.9751313934592404,-0.967552916719111,-1.0110513628024105,-1.0507995396249363,-0.9867782818692281,-0.959247631989247,-1.0259545829031405,-0.9970020666377108,-0.9633724634093705,-0.9753753204116045,-1.0897727945316484,-0.9746111069703352,-1.0284470061672164,-1.1213084523950805,-0.9734986002581725,-0.9601365245580775,-0.9910534253835859,-1.0420326975514038,-0.9545997627107463,-0.9704193057826217,-1.0483749796385098,-0.9022567882517512,-1.0124774116293265,-0.9249017517925056,-0.929886477386484,-1.1481177949429944,-0.9750738479524889,-1.048011429535192,-0.9325625684590191,-0.9901970114664322]}],\"labelangle\":30,\"labelside\":\"bottom\",\"line\":{\"color\":[0.9628134445060936,0.962986655040611,0.9622858276030607,0.9628077478854271,0.9615038693824947,0.9606555957144005,0.9619356772588304,0.9624012493048962,0.9623908843766225,0.960860833635029,0.9626569036452548,0.9623502303824265,0.9624687051564809,0.9617531655561535,0.9624375267419092,0.9615939638653248,0.9625054518319134,0.961867386412244,0.9620526692508211,0.9624080104413558,0.9609287107190913,0.9612168556531854,0.9619071628960505,0.962769323570917,0.9613785883140606,0.9613821704761467,0.9619599397686363,0.9623653524018592,0.9626490883305099,0.96214149081791,0.9627124859030575,0.9619617135685627,0.9623637626220578,0.9623394701518059,0.9612653018976299,0.9626564160581988,0.962134639764739,0.9626468658924481,0.9620485201030163,0.9626807163166813,0.9626940246674318,0.9625949924601684,0.9624301947143129,0.9623516965954544,0.9625310159048288,0.9619580319516252,0.9627494252932693,0.9627423485507023,0.9629357943801992,0.9625549918213178,0.9623537543225964,0.9615477882045862,0.9622393934996346,0.9625102642506281,0.9627613247032819,0.9626666032494187,0.962833362639342,0.962939303698444,0.96288599611206,0.9627259638132427,0.9629486080921084,0.9620976703317481,0.9626044527948258,0.9626135800199265,0.9629449820939777,0.962900103327988,0.9629279562763206,0.9627999859235136,0.9626070411585129,0.9625800527562116,0.9630307068213589,0.9629572288612639,0.9629800468609824,0.962893972296009,0.9624169615153054,0.9626304212549763,0.9625947725140719,0.9622567075405714,0.9626639425881546,0.962810882646677,0.9619546626875429,0.9626075468684594,0.9626932982690437,0.9624241911336775,0.9625097712771821,0.9624718796627947,0.9624786483783764,0.9628378873304204,0.9626397347977494,0.9607607106577903,0.9621413932385178,0.9627292629778509,0.9628047920744219,0.9627457908243177,0.9629758749346828,0.9626214811073412,0.9623315011692885,0.9626337418925079,0.9625532567440285,0.9623219874632589],\"colorbar\":{\"title\":{\"text\":\"Objective Value\"}},\"colorscale\":[[0.0,\"rgb(247,251,255)\"],[0.125,\"rgb(222,235,247)\"],[0.25,\"rgb(198,219,239)\"],[0.375,\"rgb(158,202,225)\"],[0.5,\"rgb(107,174,214)\"],[0.625,\"rgb(66,146,198)\"],[0.75,\"rgb(33,113,181)\"],[0.875,\"rgb(8,81,156)\"],[1.0,\"rgb(8,48,107)\"]],\"reversescale\":false,\"showscale\":true},\"type\":\"parcoords\"}],                        {\"title\":{\"text\":\"Parallel Coordinate Plot\"},\"template\":{\"data\":{\"histogram2dcontour\":[{\"type\":\"histogram2dcontour\",\"colorbar\":{\"outlinewidth\":0,\"ticks\":\"\"},\"colorscale\":[[0.0,\"#0d0887\"],[0.1111111111111111,\"#46039f\"],[0.2222222222222222,\"#7201a8\"],[0.3333333333333333,\"#9c179e\"],[0.4444444444444444,\"#bd3786\"],[0.5555555555555556,\"#d8576b\"],[0.6666666666666666,\"#ed7953\"],[0.7777777777777778,\"#fb9f3a\"],[0.8888888888888888,\"#fdca26\"],[1.0,\"#f0f921\"]]}],\"choropleth\":[{\"type\":\"choropleth\",\"colorbar\":{\"outlinewidth\":0,\"ticks\":\"\"}}],\"histogram2d\":[{\"type\":\"histogram2d\",\"colorbar\":{\"outlinewidth\":0,\"ticks\":\"\"},\"colorscale\":[[0.0,\"#0d0887\"],[0.1111111111111111,\"#46039f\"],[0.2222222222222222,\"#7201a8\"],[0.3333333333333333,\"#9c179e\"],[0.4444444444444444,\"#bd3786\"],[0.5555555555555556,\"#d8576b\"],[0.6666666666666666,\"#ed7953\"],[0.7777777777777778,\"#fb9f3a\"],[0.8888888888888888,\"#fdca26\"],[1.0,\"#f0f921\"]]}],\"heatmap\":[{\"type\":\"heatmap\",\"colorbar\":{\"outlinewidth\":0,\"ticks\":\"\"},\"colorscale\":[[0.0,\"#0d0887\"],[0.1111111111111111,\"#46039f\"],[0.2222222222222222,\"#7201a8\"],[0.3333333333333333,\"#9c179e\"],[0.4444444444444444,\"#bd3786\"],[0.5555555555555556,\"#d8576b\"],[0.6666666666666666,\"#ed7953\"],[0.7777777777777778,\"#fb9f3a\"],[0.8888888888888888,\"#fdca26\"],[1.0,\"#f0f921\"]]}],\"heatmapgl\":[{\"type\":\"heatmapgl\",\"colorbar\":{\"outlinewidth\":0,\"ticks\":\"\"},\"colorscale\":[[0.0,\"#0d0887\"],[0.1111111111111111,\"#46039f\"],[0.2222222222222222,\"#7201a8\"],[0.3333333333333333,\"#9c179e\"],[0.4444444444444444,\"#bd3786\"],[0.5555555555555556,\"#d8576b\"],[0.6666666666666666,\"#ed7953\"],[0.7777777777777778,\"#fb9f3a\"],[0.8888888888888888,\"#fdca26\"],[1.0,\"#f0f921\"]]}],\"contourcarpet\":[{\"type\":\"contourcarpet\",\"colorbar\":{\"outlinewidth\":0,\"ticks\":\"\"}}],\"contour\":[{\"type\":\"contour\",\"colorbar\":{\"outlinewidth\":0,\"ticks\":\"\"},\"colorscale\":[[0.0,\"#0d0887\"],[0.1111111111111111,\"#46039f\"],[0.2222222222222222,\"#7201a8\"],[0.3333333333333333,\"#9c179e\"],[0.4444444444444444,\"#bd3786\"],[0.5555555555555556,\"#d8576b\"],[0.6666666666666666,\"#ed7953\"],[0.7777777777777778,\"#fb9f3a\"],[0.8888888888888888,\"#fdca26\"],[1.0,\"#f0f921\"]]}],\"surface\":[{\"type\":\"surface\",\"colorbar\":{\"outlinewidth\":0,\"ticks\":\"\"},\"colorscale\":[[0.0,\"#0d0887\"],[0.1111111111111111,\"#46039f\"],[0.2222222222222222,\"#7201a8\"],[0.3333333333333333,\"#9c179e\"],[0.4444444444444444,\"#bd3786\"],[0.5555555555555556,\"#d8576b\"],[0.6666666666666666,\"#ed7953\"],[0.7777777777777778,\"#fb9f3a\"],[0.8888888888888888,\"#fdca26\"],[1.0,\"#f0f921\"]]}],\"mesh3d\":[{\"type\":\"mesh3d\",\"colorbar\":{\"outlinewidth\":0,\"ticks\":\"\"}}],\"scatter\":[{\"fillpattern\":{\"fillmode\":\"overlay\",\"size\":10,\"solidity\":0.2},\"type\":\"scatter\"}],\"parcoords\":[{\"type\":\"parcoords\",\"line\":{\"colorbar\":{\"outlinewidth\":0,\"ticks\":\"\"}}}],\"scatterpolargl\":[{\"type\":\"scatterpolargl\",\"marker\":{\"colorbar\":{\"outlinewidth\":0,\"ticks\":\"\"}}}],\"bar\":[{\"error_x\":{\"color\":\"#2a3f5f\"},\"error_y\":{\"color\":\"#2a3f5f\"},\"marker\":{\"line\":{\"color\":\"#E5ECF6\",\"width\":0.5},\"pattern\":{\"fillmode\":\"overlay\",\"size\":10,\"solidity\":0.2}},\"type\":\"bar\"}],\"scattergeo\":[{\"type\":\"scattergeo\",\"marker\":{\"colorbar\":{\"outlinewidth\":0,\"ticks\":\"\"}}}],\"scatterpolar\":[{\"type\":\"scatterpolar\",\"marker\":{\"colorbar\":{\"outlinewidth\":0,\"ticks\":\"\"}}}],\"histogram\":[{\"marker\":{\"pattern\":{\"fillmode\":\"overlay\",\"size\":10,\"solidity\":0.2}},\"type\":\"histogram\"}],\"scattergl\":[{\"type\":\"scattergl\",\"marker\":{\"colorbar\":{\"outlinewidth\":0,\"ticks\":\"\"}}}],\"scatter3d\":[{\"type\":\"scatter3d\",\"line\":{\"colorbar\":{\"outlinewidth\":0,\"ticks\":\"\"}},\"marker\":{\"colorbar\":{\"outlinewidth\":0,\"ticks\":\"\"}}}],\"scattermapbox\":[{\"type\":\"scattermapbox\",\"marker\":{\"colorbar\":{\"outlinewidth\":0,\"ticks\":\"\"}}}],\"scatterternary\":[{\"type\":\"scatterternary\",\"marker\":{\"colorbar\":{\"outlinewidth\":0,\"ticks\":\"\"}}}],\"scattercarpet\":[{\"type\":\"scattercarpet\",\"marker\":{\"colorbar\":{\"outlinewidth\":0,\"ticks\":\"\"}}}],\"carpet\":[{\"aaxis\":{\"endlinecolor\":\"#2a3f5f\",\"gridcolor\":\"white\",\"linecolor\":\"white\",\"minorgridcolor\":\"white\",\"startlinecolor\":\"#2a3f5f\"},\"baxis\":{\"endlinecolor\":\"#2a3f5f\",\"gridcolor\":\"white\",\"linecolor\":\"white\",\"minorgridcolor\":\"white\",\"startlinecolor\":\"#2a3f5f\"},\"type\":\"carpet\"}],\"table\":[{\"cells\":{\"fill\":{\"color\":\"#EBF0F8\"},\"line\":{\"color\":\"white\"}},\"header\":{\"fill\":{\"color\":\"#C8D4E3\"},\"line\":{\"color\":\"white\"}},\"type\":\"table\"}],\"barpolar\":[{\"marker\":{\"line\":{\"color\":\"#E5ECF6\",\"width\":0.5},\"pattern\":{\"fillmode\":\"overlay\",\"size\":10,\"solidity\":0.2}},\"type\":\"barpolar\"}],\"pie\":[{\"automargin\":true,\"type\":\"pie\"}]},\"layout\":{\"autotypenumbers\":\"strict\",\"colorway\":[\"#636efa\",\"#EF553B\",\"#00cc96\",\"#ab63fa\",\"#FFA15A\",\"#19d3f3\",\"#FF6692\",\"#B6E880\",\"#FF97FF\",\"#FECB52\"],\"font\":{\"color\":\"#2a3f5f\"},\"hovermode\":\"closest\",\"hoverlabel\":{\"align\":\"left\"},\"paper_bgcolor\":\"white\",\"plot_bgcolor\":\"#E5ECF6\",\"polar\":{\"bgcolor\":\"#E5ECF6\",\"angularaxis\":{\"gridcolor\":\"white\",\"linecolor\":\"white\",\"ticks\":\"\"},\"radialaxis\":{\"gridcolor\":\"white\",\"linecolor\":\"white\",\"ticks\":\"\"}},\"ternary\":{\"bgcolor\":\"#E5ECF6\",\"aaxis\":{\"gridcolor\":\"white\",\"linecolor\":\"white\",\"ticks\":\"\"},\"baxis\":{\"gridcolor\":\"white\",\"linecolor\":\"white\",\"ticks\":\"\"},\"caxis\":{\"gridcolor\":\"white\",\"linecolor\":\"white\",\"ticks\":\"\"}},\"coloraxis\":{\"colorbar\":{\"outlinewidth\":0,\"ticks\":\"\"}},\"colorscale\":{\"sequential\":[[0.0,\"#0d0887\"],[0.1111111111111111,\"#46039f\"],[0.2222222222222222,\"#7201a8\"],[0.3333333333333333,\"#9c179e\"],[0.4444444444444444,\"#bd3786\"],[0.5555555555555556,\"#d8576b\"],[0.6666666666666666,\"#ed7953\"],[0.7777777777777778,\"#fb9f3a\"],[0.8888888888888888,\"#fdca26\"],[1.0,\"#f0f921\"]],\"sequentialminus\":[[0.0,\"#0d0887\"],[0.1111111111111111,\"#46039f\"],[0.2222222222222222,\"#7201a8\"],[0.3333333333333333,\"#9c179e\"],[0.4444444444444444,\"#bd3786\"],[0.5555555555555556,\"#d8576b\"],[0.6666666666666666,\"#ed7953\"],[0.7777777777777778,\"#fb9f3a\"],[0.8888888888888888,\"#fdca26\"],[1.0,\"#f0f921\"]],\"diverging\":[[0,\"#8e0152\"],[0.1,\"#c51b7d\"],[0.2,\"#de77ae\"],[0.3,\"#f1b6da\"],[0.4,\"#fde0ef\"],[0.5,\"#f7f7f7\"],[0.6,\"#e6f5d0\"],[0.7,\"#b8e186\"],[0.8,\"#7fbc41\"],[0.9,\"#4d9221\"],[1,\"#276419\"]]},\"xaxis\":{\"gridcolor\":\"white\",\"linecolor\":\"white\",\"ticks\":\"\",\"title\":{\"standoff\":15},\"zerolinecolor\":\"white\",\"automargin\":true,\"zerolinewidth\":2},\"yaxis\":{\"gridcolor\":\"white\",\"linecolor\":\"white\",\"ticks\":\"\",\"title\":{\"standoff\":15},\"zerolinecolor\":\"white\",\"automargin\":true,\"zerolinewidth\":2},\"scene\":{\"xaxis\":{\"backgroundcolor\":\"#E5ECF6\",\"gridcolor\":\"white\",\"linecolor\":\"white\",\"showbackground\":true,\"ticks\":\"\",\"zerolinecolor\":\"white\",\"gridwidth\":2},\"yaxis\":{\"backgroundcolor\":\"#E5ECF6\",\"gridcolor\":\"white\",\"linecolor\":\"white\",\"showbackground\":true,\"ticks\":\"\",\"zerolinecolor\":\"white\",\"gridwidth\":2},\"zaxis\":{\"backgroundcolor\":\"#E5ECF6\",\"gridcolor\":\"white\",\"linecolor\":\"white\",\"showbackground\":true,\"ticks\":\"\",\"zerolinecolor\":\"white\",\"gridwidth\":2}},\"shapedefaults\":{\"line\":{\"color\":\"#2a3f5f\"}},\"annotationdefaults\":{\"arrowcolor\":\"#2a3f5f\",\"arrowhead\":0,\"arrowwidth\":1},\"geo\":{\"bgcolor\":\"white\",\"landcolor\":\"#E5ECF6\",\"subunitcolor\":\"white\",\"showland\":true,\"showlakes\":true,\"lakecolor\":\"white\"},\"title\":{\"x\":0.05},\"mapbox\":{\"style\":\"light\"}}}},                        {\"responsive\": true}                    ).then(function(){\n",
       "                            \n",
       "var gd = document.getElementById('2ce424cb-b4e7-4e3d-8947-22aa257804c0');\n",
       "var x = new MutationObserver(function (mutations, observer) {{\n",
       "        var display = window.getComputedStyle(gd).display;\n",
       "        if (!display || display === 'none') {{\n",
       "            console.log([gd, 'removed!']);\n",
       "            Plotly.purge(gd);\n",
       "            observer.disconnect();\n",
       "        }}\n",
       "}});\n",
       "\n",
       "// Listen for the removal of the full notebook cells\n",
       "var notebookContainer = gd.closest('#notebook-container');\n",
       "if (notebookContainer) {{\n",
       "    x.observe(notebookContainer, {childList: true});\n",
       "}}\n",
       "\n",
       "// Listen for the clearing of the current output cell\n",
       "var outputEl = gd.closest('.output');\n",
       "if (outputEl) {{\n",
       "    x.observe(outputEl, {childList: true});\n",
       "}}\n",
       "\n",
       "                        })                };                });            </script>        </div>"
      ]
     },
     "metadata": {},
     "output_type": "display_data"
    },
    {
     "data": {
      "text/html": [
       "<div>                            <div id=\"d94031db-7079-44aa-8014-ae279760cbf8\" class=\"plotly-graph-div\" style=\"height:525px; width:100%;\"></div>            <script type=\"text/javascript\">                require([\"plotly\"], function(Plotly) {                    window.PLOTLYENV=window.PLOTLYENV || {};                                    if (document.getElementById(\"d94031db-7079-44aa-8014-ae279760cbf8\")) {                    Plotly.newPlot(                        \"d94031db-7079-44aa-8014-ae279760cbf8\",                        [{\"type\":\"scatter\",\"xaxis\":\"x\",\"yaxis\":\"y\"},{\"colorbar\":{\"title\":{\"text\":\"Objective Value\"}},\"colorscale\":[[0.0,\"rgb(247,251,255)\"],[0.125,\"rgb(222,235,247)\"],[0.25,\"rgb(198,219,239)\"],[0.375,\"rgb(158,202,225)\"],[0.5,\"rgb(107,174,214)\"],[0.625,\"rgb(66,146,198)\"],[0.75,\"rgb(33,113,181)\"],[0.875,\"rgb(8,81,156)\"],[1.0,\"rgb(8,48,107)\"]],\"connectgaps\":true,\"contours\":{\"coloring\":\"heatmap\"},\"hoverinfo\":\"none\",\"line\":{\"smoothing\":1.3},\"reversescale\":false,\"showscale\":true,\"x\":[3.8,4,5,6,7,8,8.2],\"y\":[0.05067984547317382,0.05934372758102124,0.061890810258414995,0.06335346991219014,0.07024978052731923,0.07462999684068243,0.07683281257299784,0.0775715267835044,0.08061667196158001,0.08266412984232543,0.09206124739791155,0.11289961550192466,0.11453945538878198,0.12294594552258943,0.14425866746053273,0.170833719378713,0.18763723235897678,0.1883269831616264,0.19909087764458064,0.21449852308698222,0.22300400603846335,0.22860810364726095,0.23139468096087693,0.23833199848730477,0.23933893594881248,0.28137412387253274,0.28312534659167515,0.2858858282316471,0.2913161321956179,0.3342988172740612,0.3419458699331405,0.3586435694803785,0.3611403238640027,0.37261802964665525,0.39154904980004107,0.41821481158909674,0.4302103529954851,0.44067758715363037,0.4454332587174054,0.4463107177909856,0.4611973589346946,0.4690423881362291,0.48077112760357127,0.49903767113685915,0.5024427608874781,0.5298991468872658,0.5387811986415983,0.5797979036184747,0.5872205298145801,0.6428183992367937,0.6540545309653331,0.6737038228291367,0.6737814815357923,0.6829105050078278,0.6901415507398432,0.7236037473293148,0.7345832196506893,0.7374333851771311,0.745182214290828,0.7692317152504252,0.7833976985475681,0.791730225524486,0.8014981068390051,0.8040111672653617,0.8158469739665021,0.8403108445598261,0.8549632148697913,0.8697386381750832,0.876690043856303,0.9242941176521275,0.9604161694046423,0.9617795531242967,0.964670015404193,0.9932396925917845,1.010782957820542,1.027343799285577,1.0335449434331951,1.0740708139452377,1.1061358297830441,1.1117756828227603,1.1412756115401745,1.1607070324114797,1.1652338565661338,1.1669084173680544,1.1914108739178135,1.1953291517016462,1.2199069086903502,1.2385034047049797,1.2403444499686993,1.2596546826370052,1.279423118344358,1.3037232119171354,1.325337839400464,1.3271097191798613,1.3369172222049917,1.3493314922882345,1.3653862977006592,1.3727974928404394,1.3882214230513872,1.3892699781451654,1.393688219299296,1.6319436897800885],\"z\":[[null,null,null,null,null,null,null],[null,null,null,0.9619580319516252,null,null,null],[null,0.9624301947143129,null,null,null,null,null],[null,null,null,0.9615038693824947,null,null,null],[null,null,null,0.961867386412244,null,null,null],[null,0.9613821704761467,null,null,null,null,null],[null,null,null,null,0.9615939638653248,null,null],[null,null,0.9627124859030575,null,null,null,null],[null,0.9623908843766225,null,null,null,null,null],[null,null,0.9625949924601684,null,null,null,null],[null,null,null,null,0.9619617135685627,null,null],[null,null,0.9624080104413558,null,null,null,null],[null,null,null,null,0.9612653018976299,null,null],[null,0.9623394701518059,null,null,null,null,null],[null,null,0.9619599397686363,null,null,null,null],[null,0.9612168556531854,null,null,null,null,null],[null,0.9625102642506281,null,null,null,null,null],[null,null,null,0.9615477882045862,null,null,null],[null,null,null,null,null,0.960860833635029,null],[null,null,null,null,0.9617531655561535,null,null],[null,0.9626564160581988,null,null,null,null,null],[null,null,0.9626569036452548,null,null,null,null],[null,null,null,0.9620485201030163,null,null,null],[null,0.962769323570917,null,null,null,null,null],[null,null,0.9627494252932693,null,null,null,null],[null,null,null,0.9624241911336775,null,null,null],[null,null,0.9627423485507023,null,null,null,null],[null,null,null,0.9626490883305099,null,null,null],[null,null,0.9628077478854271,null,null,null,null],[null,null,0.9625054518319134,null,null,null,null],[null,null,null,null,null,0.9607607106577903,null],[null,null,0.9626940246674318,null,null,null,null],[null,null,null,0.9623516965954544,null,null,null],[null,null,null,0.9628134445060936,null,null,null],[null,null,null,0.9623502303824265,null,null,null],[null,null,null,0.9625310159048288,null,null,null],[null,null,null,0.962986655040611,null,null,null],[null,null,0.9620526692508211,null,null,null,null],[null,0.9609287107190913,null,null,null,null,null],[null,null,null,null,0.9621413932385178,null,null],[null,null,null,null,0.9624375267419092,null,null],[null,null,null,0.962134639764739,null,null,null],[null,null,null,0.9626214811073412,null,null,null],[null,null,0.9626807163166813,null,null,null,null],[null,null,null,0.9623653524018592,null,null,null],[null,null,0.9624169615153054,null,null,null,null],[null,0.9626468658924481,null,null,null,null,null],[null,0.9619546626875429,null,null,null,null,null],[null,null,null,null,null,0.9613785883140606,null],[null,null,null,0.9623315011692885,null,null,null],[null,null,null,0.9626135800199265,null,null,null],[null,null,null,0.9627613247032819,null,null,null],[null,null,null,null,0.9624012493048962,null,null],[null,null,null,0.9626666032494187,null,null,null],[null,null,0.9628378873304204,null,null,null,null],[null,null,null,null,0.9622393934996346,null,null],[null,null,0.9626639425881546,null,null,null,null],[null,null,0.9625532567440285,null,null,null,null],[null,null,null,0.9620976703317481,null,null,null],[null,null,0.9629800468609824,null,null,null,null],[null,null,null,0.9629486080921084,null,null,null],[null,null,null,0.9623637626220578,null,null,null],[null,0.9606555957144005,null,null,null,null,null],[null,null,0.962810882646677,null,null,null,null],[null,null,null,null,null,0.9619071628960505,null],[null,null,0.962893972296009,null,null,null,null],[null,0.9624786483783764,null,null,null,null,null],[null,null,0.9629572288612639,null,null,null,null],[null,null,null,0.9626337418925079,null,null,null],[null,0.9627292629778509,null,null,null,null,null],[null,null,null,0.9629357943801992,null,null,null],[null,null,0.9623537543225964,null,null,null,null],[null,null,null,0.9626044527948258,null,null,null],[null,null,0.9625947725140719,null,null,null,null],[null,null,null,0.962833362639342,null,null,null],[null,null,null,0.96288599611206,null,null,null],[null,null,null,null,0.9622567075405714,null,null],[null,null,null,0.9623219874632589,null,null,null],[null,0.96214149081791,null,null,null,null,null],[null,null,0.9627457908243177,null,null,null,null],[null,null,0.9625097712771821,null,null,null,null],[null,null,null,null,0.9624687051564809,null,null],[null,null,0.9626075468684594,null,null,null,null],[null,null,null,0.9626304212549763,null,null,null],[null,null,0.9627999859235136,null,null,null,null],[null,null,0.9629449820939777,null,null,null,null],[null,null,0.9626070411585129,null,null,null,null],[null,null,null,0.9625549918213178,null,null,null],[null,null,null,0.9622858276030607,null,null,null],[null,null,0.9629758749346828,null,null,null,null],[null,null,null,0.962939303698444,null,null,null],[null,null,null,null,0.9619356772588304,null,null],[null,null,0.9629279562763206,null,null,null,null],[null,null,0.9626932982690437,null,null,null,null],[null,null,null,0.9624718796627947,null,null,null],[null,null,0.9630307068213589,null,null,null,null],[null,null,0.9626397347977494,null,null,null,null],[null,null,0.9628047920744219,null,null,null,null],[null,null,0.962900103327988,null,null,null,null],[null,0.9625800527562116,null,null,null,null,null],[null,null,null,0.9627259638132427,null,null,null],[null,null,null,null,null,null,null]],\"type\":\"contour\",\"xaxis\":\"x4\",\"yaxis\":\"y4\"},{\"marker\":{\"color\":\"black\",\"line\":{\"color\":\"Gray\",\"width\":2.0}},\"mode\":\"markers\",\"name\":\"Feasible Trial\",\"showlegend\":false,\"x\":[6,6,6,5,6,4,7,7,4,8,5,6,7,7,7,7,5,6,5,5,4,4,8,4,8,4,5,6,6,4,5,7,6,4,7,4,6,4,6,5,5,5,4,6,6,6,5,5,6,6,5,6,7,4,6,6,6,6,6,6,6,6,6,6,5,5,5,5,5,4,5,5,5,5,5,6,5,7,5,5,4,5,5,6,5,6,4,5,5,8,7,4,5,5,5,6,6,6,5,6],\"y\":[0.37261802964665525,0.4302103529954851,1.2403444499686993,0.2913161321956179,0.06335346991219014,0.8014981068390051,1.3037232119171354,0.6737814815357923,0.08061667196158001,0.19909087764458064,0.22860810364726095,0.39154904980004107,1.1607070324114797,0.21449852308698222,0.4611973589346946,0.07683281257299784,0.3342988172740612,0.07024978052731923,0.44067758715363037,0.11289961550192466,0.4454332587174054,0.170833719378713,0.8158469739665021,0.23833199848730477,0.5872205298145801,0.07462999684068243,0.14425866746053273,0.5024427608874781,0.2858858282316471,1.1061358297830441,0.0775715267835044,0.09206124739791155,0.791730225524486,0.12294594552258943,0.11453945538878198,0.22300400603846335,0.4690423881362291,0.5387811986415983,0.23139468096087693,0.49903767113685915,0.3586435694803785,0.08266412984232543,0.061890810258414995,0.3611403238640027,0.41821481158909674,0.05934372758102124,0.23933893594881248,0.28312534659167515,0.9604161694046423,1.2385034047049797,0.9617795531242967,0.1883269831616264,0.7236037473293148,0.18763723235897678,0.6737038228291367,0.6829105050078278,1.010782957820542,1.279423118344358,1.027343799285577,1.393688219299296,0.7833976985475681,0.745182214290828,0.964670015404193,0.6540545309653331,1.1953291517016462,1.3882214230513872,1.325337839400464,1.1914108739178135,1.2199069086903502,1.3892699781451654,1.3493314922882345,0.8697386381750832,0.7692317152504252,0.8403108445598261,0.5298991468872658,1.1669084173680544,0.9932396925917845,1.0335449434331951,0.7345832196506893,0.8040111672653617,0.5797979036184747,1.1652338565661338,1.3271097191798613,0.28137412387253274,1.1412756115401745,1.3369172222049917,0.8549632148697913,0.6901415507398432,1.3653862977006592,0.3419458699331405,0.4463107177909856,0.9242941176521275,1.3727974928404394,1.1117756828227603,1.2596546826370052,0.48077112760357127,0.6428183992367937,0.876690043856303,0.7374333851771311,1.0740708139452377],\"type\":\"scatter\",\"xaxis\":\"x4\",\"yaxis\":\"y4\"},{\"colorbar\":{\"title\":{\"text\":\"Objective Value\"}},\"colorscale\":[[0.0,\"rgb(247,251,255)\"],[0.125,\"rgb(222,235,247)\"],[0.25,\"rgb(198,219,239)\"],[0.375,\"rgb(158,202,225)\"],[0.5,\"rgb(107,174,214)\"],[0.625,\"rgb(66,146,198)\"],[0.75,\"rgb(33,113,181)\"],[0.875,\"rgb(8,81,156)\"],[1.0,\"rgb(8,48,107)\"]],\"connectgaps\":true,\"contours\":{\"coloring\":\"heatmap\"},\"hoverinfo\":\"none\",\"line\":{\"smoothing\":1.3},\"reversescale\":false,\"showscale\":false,\"x\":[3.8,4,5,6,7,8,8.2],\"y\":[0.048578747078395094,0.050905800448511826,0.050969937387968726,0.050975336391352453,0.05296170646347989,0.053160554914312215,0.05486109173944057,0.055561344466648385,0.05600655288712946,0.0583323073000736,0.06033182256372552,0.06113264125987456,0.06443169699645514,0.06551298025916188,0.06592738041412467,0.07049465695008988,0.07077832499882215,0.07102017819449391,0.07110206353225453,0.0711828277867237,0.07146576288920184,0.07158536591968369,0.07268246334253498,0.07392940298876588,0.07495065884252618,0.07562955544673435,0.0777090572655816,0.07806862798643455,0.0781916875679353,0.08132558677693003,0.08187186451137436,0.08232337172361609,0.0854575944175626,0.08605298236770582,0.08669068804175253,0.08674244586118059,0.0886099986182871,0.08896116474440104,0.08910329019323565,0.08911786523075182,0.08945920210926947,0.08953412021177198,0.09015320494528678,0.09077521839470071,0.0921552693894246,0.0932411588284545,0.09324985134841188,0.0934501069161815,0.09365974991799551,0.09419881014076208,0.09460792648347063,0.09555332455569414,0.0966181879427425,0.09712938899900796,0.09716784888600193,0.09746361094595114,0.09748743352187071,0.09871140525066781,0.09887878080149139,0.09902720698000689,0.1006926877268916,0.10208138990386721,0.1022828895356355,0.10309122924748707,0.1034668692288277,0.10352508481277979,0.10477468179851718,0.10583387059374538,0.10589333021345024,0.10590736237212967,0.10602026685756952,0.10629220090940215,0.10652365422635028,0.10654051556344273,0.10677325876804405,0.10704852662722354,0.10775739484293968,0.10840740706356913,0.10879965959937889,0.10961335620742127,0.10983793718178778,0.11001938659356751,0.11101974802115665,0.11342059010288874,0.11481585342536937,0.11506998469034603,0.1155586782567983,0.11671352755066873,0.11679854470092635,0.11722818259249132,0.11752047079894938,0.11887711265993318,0.12107875320233528,0.1236263388301731,0.12524004406479558,0.12538702733422158,0.1270727697087701,0.12710851873825008,0.12781298796233204,0.1285638309175481,0.12977364282269246,0.135990151296975],\"z\":[[null,null,null,null,null,null,null],[null,null,null,0.9623502303824265,null,null,null],[null,null,null,0.9623637626220578,null,null,null],[null,0.9606555957144005,null,null,null,null,null],[null,null,null,null,0.9624375267419092,null,null],[null,null,null,0.9623653524018592,null,null,null],[null,null,null,null,null,0.9619071628960505,null],[null,0.9609287107190913,null,null,null,null,null],[null,null,0.9619599397686363,null,null,null,null],[null,null,0.9620526692508211,null,null,null,null],[null,0.9612168556531854,null,null,null,null,null],[null,null,null,null,0.9615939638653248,null,null],[null,null,null,0.9626490883305099,null,null,null],[null,0.9613821704761467,null,null,null,null,null],[null,null,null,null,0.9619617135685627,null,null],[null,null,null,null,0.9617531655561535,null,null],[null,null,0.9625054518319134,null,null,null,null],[null,null,null,0.9627613247032819,null,null,null],[null,null,null,0.9626214811073412,null,null,null],[null,null,null,0.9626666032494187,null,null,null],[null,null,null,0.9625549918213178,null,null,null],[null,null,0.9623537543225964,null,null,null,null],[null,null,null,null,0.9622393934996346,null,null],[null,null,null,0.9629357943801992,null,null,null],[null,null,null,0.962986655040611,null,null,null],[null,null,null,0.9624241911336775,null,null,null],[null,null,null,null,0.9624012493048962,null,null],[null,null,0.9624080104413558,null,null,null,null],[null,null,null,0.962833362639342,null,null,null],[null,0.9619546626875429,null,null,null,null,null],[null,null,null,0.9625310159048288,null,null,null],[null,null,null,null,null,0.960860833635029,null],[null,null,null,0.9619580319516252,null,null,null],[null,null,null,0.9629486080921084,null,null,null],[null,0.96214149081791,null,null,null,null,null],[null,null,null,0.9626135800199265,null,null,null],[null,null,null,0.96288599611206,null,null,null],[null,null,0.962893972296009,null,null,null,null],[null,null,null,0.9627259638132427,null,null,null],[null,null,null,null,null,0.9613785883140606,null],[null,null,null,null,0.9621413932385178,null,null],[null,null,null,0.9626337418925079,null,null,null],[null,null,null,null,0.9624687051564809,null,null],[null,null,0.9628378873304204,null,null,null,null],[null,0.9623908843766225,null,null,null,null,null],[null,null,null,0.9623516965954544,null,null,null],[null,null,0.9625949924601684,null,null,null,null],[null,null,0.9626807163166813,null,null,null,null],[null,null,0.9626932982690437,null,null,null,null],[null,null,0.9625947725140719,null,null,null,null],[null,null,0.9627124859030575,null,null,null,null],[null,0.9623394701518059,null,null,null,null,null],[null,null,null,0.9620485201030163,null,null,null],[null,null,null,0.962939303698444,null,null,null],[null,null,0.9628047920744219,null,null,null,null],[null,null,null,0.9620976703317481,null,null,null],[null,null,0.9629800468609824,null,null,null,null],[null,null,0.9627423485507023,null,null,null,null],[null,null,0.9626070411585129,null,null,null,null],[null,null,null,0.9628134445060936,null,null,null],[null,null,null,null,0.9622567075405714,null,null],[null,0.9624786483783764,null,null,null,null,null],[null,null,null,0.9623219874632589,null,null,null],[null,null,0.9624169615153054,null,null,null,null],[null,null,0.9629449820939777,null,null,null,null],[null,null,0.9627494252932693,null,null,null,null],[null,null,0.9626569036452548,null,null,null,null],[null,null,0.962810882646677,null,null,null,null],[null,null,0.9630307068213589,null,null,null,null],[null,null,null,0.9623315011692885,null,null,null],[null,null,0.9626075468684594,null,null,null,null],[null,null,0.9625097712771821,null,null,null,null],[null,null,0.9629279562763206,null,null,null,null],[null,null,0.9628077478854271,null,null,null,null],[null,0.9625800527562116,null,null,null,null,null],[null,null,null,null,null,0.9607607106577903,null],[null,null,0.9629572288612639,null,null,null,null],[null,null,0.962900103327988,null,null,null,null],[null,null,0.9626639425881546,null,null,null,null],[null,null,null,0.9624718796627947,null,null,null],[null,null,null,0.9626304212549763,null,null,null],[null,0.9625102642506281,null,null,null,null,null],[null,null,0.9626397347977494,null,null,null,null],[null,null,null,0.962134639764739,null,null,null],[null,null,null,null,0.9619356772588304,null,null],[null,0.9626468658924481,null,null,null,null,null],[null,null,null,0.9615477882045862,null,null,null],[null,null,null,0.9626044527948258,null,null,null],[null,null,0.9625532567440285,null,null,null,null],[null,null,null,0.9622858276030607,null,null,null],[null,null,0.9629758749346828,null,null,null,null],[null,null,0.9627457908243177,null,null,null,null],[null,null,null,0.9615038693824947,null,null,null],[null,null,0.9626940246674318,null,null,null,null],[null,0.9627292629778509,null,null,null,null,null],[null,null,null,null,0.9612653018976299,null,null],[null,null,0.9627999859235136,null,null,null,null],[null,0.962769323570917,null,null,null,null,null],[null,0.9626564160581988,null,null,null,null,null],[null,null,null,0.961867386412244,null,null,null],[null,0.9624301947143129,null,null,null,null,null],[null,null,null,null,null,null,null]],\"type\":\"contour\",\"xaxis\":\"x7\",\"yaxis\":\"y7\"},{\"marker\":{\"color\":\"black\",\"line\":{\"color\":\"Gray\",\"width\":2.0}},\"mode\":\"markers\",\"name\":\"Feasible Trial\",\"showlegend\":false,\"x\":[6,6,6,5,6,4,7,7,4,8,5,6,7,7,7,7,5,6,5,5,4,4,8,4,8,4,5,6,6,4,5,7,6,4,7,4,6,4,6,5,5,5,4,6,6,6,5,5,6,6,5,6,7,4,6,6,6,6,6,6,6,6,6,6,5,5,5,5,5,4,5,5,5,5,5,6,5,7,5,5,4,5,5,6,5,6,4,5,5,8,7,4,5,5,5,6,6,6,5,6],\"y\":[0.09902720698000689,0.07495065884252618,0.11722818259249132,0.10654051556344273,0.12107875320233528,0.050975336391352453,0.11481585342536937,0.0777090572655816,0.0921552693894246,0.08232337172361609,0.10477468179851718,0.050905800448511826,0.09015320494528678,0.07049465695008988,0.05296170646347989,0.06113264125987456,0.07077832499882215,0.1285638309175481,0.0583323073000736,0.07806862798643455,0.055561344466648385,0.06033182256372552,0.05486109173944057,0.12710851873825008,0.08911786523075182,0.06551298025916188,0.05600655288712946,0.053160554914312215,0.06443169699645514,0.08669068804175253,0.09460792648347063,0.06592738041412467,0.050969937387968726,0.09555332455569414,0.12538702733422158,0.12781298796233204,0.11342059010288874,0.11506998469034603,0.0966181879427425,0.0934501069161815,0.1236263388301731,0.09324985134841188,0.12977364282269246,0.0932411588284545,0.08187186451137436,0.0854575944175626,0.10352508481277979,0.09871140525066781,0.07392940298876588,0.07146576288920184,0.07158536591968369,0.1155586782567983,0.07268246334253498,0.11001938659356751,0.07102017819449391,0.0711828277867237,0.0781916875679353,0.09712938899900796,0.0886099986182871,0.08910329019323565,0.08605298236770582,0.09746361094595114,0.11671352755066873,0.08674244586118059,0.1034668692288277,0.10840740706356913,0.10652365422635028,0.1270727697087701,0.09887878080149139,0.10677325876804405,0.10589333021345024,0.10775739484293968,0.09748743352187071,0.08896116474440104,0.10309122924748707,0.10983793718178778,0.09419881014076208,0.1006926877268916,0.10879965959937889,0.10583387059374538,0.08132558677693003,0.10602026685756952,0.09365974991799551,0.07562955544673435,0.10629220090940215,0.10961335620742127,0.10208138990386721,0.09077521839470071,0.11101974802115665,0.10704852662722354,0.08945920210926947,0.12524004406479558,0.09716784888600193,0.11887711265993318,0.11752047079894938,0.07110206353225453,0.10590736237212967,0.08953412021177198,0.11679854470092635,0.1022828895356355],\"type\":\"scatter\",\"xaxis\":\"x7\",\"yaxis\":\"y7\"},{\"colorbar\":{\"title\":{\"text\":\"Objective Value\"}},\"colorscale\":[[0.0,\"rgb(247,251,255)\"],[0.125,\"rgb(222,235,247)\"],[0.25,\"rgb(198,219,239)\"],[0.375,\"rgb(158,202,225)\"],[0.5,\"rgb(107,174,214)\"],[0.625,\"rgb(66,146,198)\"],[0.75,\"rgb(33,113,181)\"],[0.875,\"rgb(8,81,156)\"],[1.0,\"rgb(8,48,107)\"]],\"connectgaps\":true,\"contours\":{\"coloring\":\"heatmap\"},\"hoverinfo\":\"none\",\"line\":{\"smoothing\":1.3},\"reversescale\":false,\"showscale\":false,\"x\":[0.05067984547317382,0.05934372758102124,0.061890810258414995,0.06335346991219014,0.07024978052731923,0.07462999684068243,0.07683281257299784,0.0775715267835044,0.08061667196158001,0.08266412984232543,0.09206124739791155,0.11289961550192466,0.11453945538878198,0.12294594552258943,0.14425866746053273,0.170833719378713,0.18763723235897678,0.1883269831616264,0.19909087764458064,0.21449852308698222,0.22300400603846335,0.22860810364726095,0.23139468096087693,0.23833199848730477,0.23933893594881248,0.28137412387253274,0.28312534659167515,0.2858858282316471,0.2913161321956179,0.3342988172740612,0.3419458699331405,0.3586435694803785,0.3611403238640027,0.37261802964665525,0.39154904980004107,0.41821481158909674,0.4302103529954851,0.44067758715363037,0.4454332587174054,0.4463107177909856,0.4611973589346946,0.4690423881362291,0.48077112760357127,0.49903767113685915,0.5024427608874781,0.5298991468872658,0.5387811986415983,0.5797979036184747,0.5872205298145801,0.6428183992367937,0.6540545309653331,0.6737038228291367,0.6737814815357923,0.6829105050078278,0.6901415507398432,0.7236037473293148,0.7345832196506893,0.7374333851771311,0.745182214290828,0.7692317152504252,0.7833976985475681,0.791730225524486,0.8014981068390051,0.8040111672653617,0.8158469739665021,0.8403108445598261,0.8549632148697913,0.8697386381750832,0.876690043856303,0.9242941176521275,0.9604161694046423,0.9617795531242967,0.964670015404193,0.9932396925917845,1.010782957820542,1.027343799285577,1.0335449434331951,1.0740708139452377,1.1061358297830441,1.1117756828227603,1.1412756115401745,1.1607070324114797,1.1652338565661338,1.1669084173680544,1.1914108739178135,1.1953291517016462,1.2199069086903502,1.2385034047049797,1.2403444499686993,1.2596546826370052,1.279423118344358,1.3037232119171354,1.325337839400464,1.3271097191798613,1.3369172222049917,1.3493314922882345,1.3653862977006592,1.3727974928404394,1.3882214230513872,1.3892699781451654,1.393688219299296,1.6319436897800885],\"y\":[3.8,4,5,6,7,8,8.2],\"z\":[[null,null,null,null,null,null,null,null,null,null,null,null,null,null,null,null,null,null,null,null,null,null,null,null,null,null,null,null,null,null,null,null,null,null,null,null,null,null,null,null,null,null,null,null,null,null,null,null,null,null,null,null,null,null,null,null,null,null,null,null,null,null,null,null,null,null,null,null,null,null,null,null,null,null,null,null,null,null,null,null,null,null,null,null,null,null,null,null,null,null,null,null,null,null,null,null,null,null,null,null,null,null],[null,null,0.9624301947143129,null,null,0.9613821704761467,null,null,0.9623908843766225,null,null,null,null,0.9623394701518059,null,0.9612168556531854,0.9625102642506281,null,null,null,0.9626564160581988,null,null,0.962769323570917,null,null,null,null,null,null,null,null,null,null,null,null,null,null,0.9609287107190913,null,null,null,null,null,null,null,0.9626468658924481,0.9619546626875429,null,null,null,null,null,null,null,null,null,null,null,null,null,null,0.9606555957144005,null,null,null,0.9624786483783764,null,null,0.9627292629778509,null,null,null,null,null,null,null,null,0.96214149081791,null,null,null,null,null,null,null,null,null,null,null,null,null,null,null,null,null,null,null,null,0.9625800527562116,null,null],[null,null,null,null,null,null,null,0.9627124859030575,null,0.9625949924601684,null,0.9624080104413558,null,null,0.9619599397686363,null,null,null,null,null,null,0.9626569036452548,null,null,0.9627494252932693,null,0.9627423485507023,null,0.9628077478854271,0.9625054518319134,null,0.9626940246674318,null,null,null,null,null,0.9620526692508211,null,null,null,null,null,0.9626807163166813,null,0.9624169615153054,null,null,null,null,null,null,null,null,0.9628378873304204,null,0.9626639425881546,0.9625532567440285,null,0.9629800468609824,null,null,null,0.962810882646677,null,0.962893972296009,null,0.9629572288612639,null,null,null,0.9623537543225964,null,0.9625947725140719,null,null,null,null,null,0.9627457908243177,0.9625097712771821,null,0.9626075468684594,null,0.9627999859235136,0.9629449820939777,0.9626070411585129,null,null,0.9629758749346828,null,null,0.9629279562763206,0.9626932982690437,null,0.9630307068213589,0.9626397347977494,0.9628047920744219,0.962900103327988,null,null,null],[null,0.9619580319516252,null,0.9615038693824947,0.961867386412244,null,null,null,null,null,null,null,null,null,null,null,null,0.9615477882045862,null,null,null,null,0.9620485201030163,null,null,0.9624241911336775,null,0.9626490883305099,null,null,null,null,0.9623516965954544,0.9628134445060936,0.9623502303824265,0.9625310159048288,0.962986655040611,null,null,null,null,0.962134639764739,0.9626214811073412,null,0.9623653524018592,null,null,null,null,0.9623315011692885,0.9626135800199265,0.9627613247032819,null,0.9626666032494187,null,null,null,null,0.9620976703317481,null,0.9629486080921084,0.9623637626220578,null,null,null,null,null,null,0.9626337418925079,null,0.9629357943801992,null,0.9626044527948258,null,0.962833362639342,0.96288599611206,null,0.9623219874632589,null,null,null,null,null,0.9626304212549763,null,null,null,0.9625549918213178,0.9622858276030607,null,0.962939303698444,null,null,null,0.9624718796627947,null,null,null,null,null,0.9627259638132427,null],[null,null,null,null,null,null,0.9615939638653248,null,null,null,0.9619617135685627,null,0.9612653018976299,null,null,null,null,null,null,0.9617531655561535,null,null,null,null,null,null,null,null,null,null,null,null,null,null,null,null,null,null,null,0.9621413932385178,0.9624375267419092,null,null,null,null,null,null,null,null,null,null,null,0.9624012493048962,null,null,0.9622393934996346,null,null,null,null,null,null,null,null,null,null,null,null,null,null,null,null,null,null,null,null,0.9622567075405714,null,null,null,null,0.9624687051564809,null,null,null,null,null,null,null,null,null,0.9619356772588304,null,null,null,null,null,null,null,null,null,null],[null,null,null,null,null,null,null,null,null,null,null,null,null,null,null,null,null,null,0.960860833635029,null,null,null,null,null,null,null,null,null,null,null,0.9607607106577903,null,null,null,null,null,null,null,null,null,null,null,null,null,null,null,null,null,0.9613785883140606,null,null,null,null,null,null,null,null,null,null,null,null,null,null,null,0.9619071628960505,null,null,null,null,null,null,null,null,null,null,null,null,null,null,null,null,null,null,null,null,null,null,null,null,null,null,null,null,null,null,null,null,null,null,null,null,null],[null,null,null,null,null,null,null,null,null,null,null,null,null,null,null,null,null,null,null,null,null,null,null,null,null,null,null,null,null,null,null,null,null,null,null,null,null,null,null,null,null,null,null,null,null,null,null,null,null,null,null,null,null,null,null,null,null,null,null,null,null,null,null,null,null,null,null,null,null,null,null,null,null,null,null,null,null,null,null,null,null,null,null,null,null,null,null,null,null,null,null,null,null,null,null,null,null,null,null,null,null,null]],\"type\":\"contour\",\"xaxis\":\"x2\",\"yaxis\":\"y2\"},{\"marker\":{\"color\":\"black\",\"line\":{\"color\":\"Gray\",\"width\":2.0}},\"mode\":\"markers\",\"name\":\"Feasible Trial\",\"showlegend\":false,\"x\":[0.37261802964665525,0.4302103529954851,1.2403444499686993,0.2913161321956179,0.06335346991219014,0.8014981068390051,1.3037232119171354,0.6737814815357923,0.08061667196158001,0.19909087764458064,0.22860810364726095,0.39154904980004107,1.1607070324114797,0.21449852308698222,0.4611973589346946,0.07683281257299784,0.3342988172740612,0.07024978052731923,0.44067758715363037,0.11289961550192466,0.4454332587174054,0.170833719378713,0.8158469739665021,0.23833199848730477,0.5872205298145801,0.07462999684068243,0.14425866746053273,0.5024427608874781,0.2858858282316471,1.1061358297830441,0.0775715267835044,0.09206124739791155,0.791730225524486,0.12294594552258943,0.11453945538878198,0.22300400603846335,0.4690423881362291,0.5387811986415983,0.23139468096087693,0.49903767113685915,0.3586435694803785,0.08266412984232543,0.061890810258414995,0.3611403238640027,0.41821481158909674,0.05934372758102124,0.23933893594881248,0.28312534659167515,0.9604161694046423,1.2385034047049797,0.9617795531242967,0.1883269831616264,0.7236037473293148,0.18763723235897678,0.6737038228291367,0.6829105050078278,1.010782957820542,1.279423118344358,1.027343799285577,1.393688219299296,0.7833976985475681,0.745182214290828,0.964670015404193,0.6540545309653331,1.1953291517016462,1.3882214230513872,1.325337839400464,1.1914108739178135,1.2199069086903502,1.3892699781451654,1.3493314922882345,0.8697386381750832,0.7692317152504252,0.8403108445598261,0.5298991468872658,1.1669084173680544,0.9932396925917845,1.0335449434331951,0.7345832196506893,0.8040111672653617,0.5797979036184747,1.1652338565661338,1.3271097191798613,0.28137412387253274,1.1412756115401745,1.3369172222049917,0.8549632148697913,0.6901415507398432,1.3653862977006592,0.3419458699331405,0.4463107177909856,0.9242941176521275,1.3727974928404394,1.1117756828227603,1.2596546826370052,0.48077112760357127,0.6428183992367937,0.876690043856303,0.7374333851771311,1.0740708139452377],\"y\":[6,6,6,5,6,4,7,7,4,8,5,6,7,7,7,7,5,6,5,5,4,4,8,4,8,4,5,6,6,4,5,7,6,4,7,4,6,4,6,5,5,5,4,6,6,6,5,5,6,6,5,6,7,4,6,6,6,6,6,6,6,6,6,6,5,5,5,5,5,4,5,5,5,5,5,6,5,7,5,5,4,5,5,6,5,6,4,5,5,8,7,4,5,5,5,6,6,6,5,6],\"type\":\"scatter\",\"xaxis\":\"x2\",\"yaxis\":\"y2\"},{\"type\":\"scatter\",\"xaxis\":\"x5\",\"yaxis\":\"y5\"},{\"colorbar\":{\"title\":{\"text\":\"Objective Value\"}},\"colorscale\":[[0.0,\"rgb(247,251,255)\"],[0.125,\"rgb(222,235,247)\"],[0.25,\"rgb(198,219,239)\"],[0.375,\"rgb(158,202,225)\"],[0.5,\"rgb(107,174,214)\"],[0.625,\"rgb(66,146,198)\"],[0.75,\"rgb(33,113,181)\"],[0.875,\"rgb(8,81,156)\"],[1.0,\"rgb(8,48,107)\"]],\"connectgaps\":true,\"contours\":{\"coloring\":\"heatmap\"},\"hoverinfo\":\"none\",\"line\":{\"smoothing\":1.3},\"reversescale\":false,\"showscale\":false,\"x\":[0.05067984547317382,0.05934372758102124,0.061890810258414995,0.06335346991219014,0.07024978052731923,0.07462999684068243,0.07683281257299784,0.0775715267835044,0.08061667196158001,0.08266412984232543,0.09206124739791155,0.11289961550192466,0.11453945538878198,0.12294594552258943,0.14425866746053273,0.170833719378713,0.18763723235897678,0.1883269831616264,0.19909087764458064,0.21449852308698222,0.22300400603846335,0.22860810364726095,0.23139468096087693,0.23833199848730477,0.23933893594881248,0.28137412387253274,0.28312534659167515,0.2858858282316471,0.2913161321956179,0.3342988172740612,0.3419458699331405,0.3586435694803785,0.3611403238640027,0.37261802964665525,0.39154904980004107,0.41821481158909674,0.4302103529954851,0.44067758715363037,0.4454332587174054,0.4463107177909856,0.4611973589346946,0.4690423881362291,0.48077112760357127,0.49903767113685915,0.5024427608874781,0.5298991468872658,0.5387811986415983,0.5797979036184747,0.5872205298145801,0.6428183992367937,0.6540545309653331,0.6737038228291367,0.6737814815357923,0.6829105050078278,0.6901415507398432,0.7236037473293148,0.7345832196506893,0.7374333851771311,0.745182214290828,0.7692317152504252,0.7833976985475681,0.791730225524486,0.8014981068390051,0.8040111672653617,0.8158469739665021,0.8403108445598261,0.8549632148697913,0.8697386381750832,0.876690043856303,0.9242941176521275,0.9604161694046423,0.9617795531242967,0.964670015404193,0.9932396925917845,1.010782957820542,1.027343799285577,1.0335449434331951,1.0740708139452377,1.1061358297830441,1.1117756828227603,1.1412756115401745,1.1607070324114797,1.1652338565661338,1.1669084173680544,1.1914108739178135,1.1953291517016462,1.2199069086903502,1.2385034047049797,1.2403444499686993,1.2596546826370052,1.279423118344358,1.3037232119171354,1.325337839400464,1.3271097191798613,1.3369172222049917,1.3493314922882345,1.3653862977006592,1.3727974928404394,1.3882214230513872,1.3892699781451654,1.393688219299296,1.6319436897800885],\"y\":[0.048578747078395094,0.050905800448511826,0.050969937387968726,0.050975336391352453,0.05296170646347989,0.053160554914312215,0.05486109173944057,0.055561344466648385,0.05600655288712946,0.0583323073000736,0.06033182256372552,0.06113264125987456,0.06443169699645514,0.06551298025916188,0.06592738041412467,0.07049465695008988,0.07077832499882215,0.07102017819449391,0.07110206353225453,0.0711828277867237,0.07146576288920184,0.07158536591968369,0.07268246334253498,0.07392940298876588,0.07495065884252618,0.07562955544673435,0.0777090572655816,0.07806862798643455,0.0781916875679353,0.08132558677693003,0.08187186451137436,0.08232337172361609,0.0854575944175626,0.08605298236770582,0.08669068804175253,0.08674244586118059,0.0886099986182871,0.08896116474440104,0.08910329019323565,0.08911786523075182,0.08945920210926947,0.08953412021177198,0.09015320494528678,0.09077521839470071,0.0921552693894246,0.0932411588284545,0.09324985134841188,0.0934501069161815,0.09365974991799551,0.09419881014076208,0.09460792648347063,0.09555332455569414,0.0966181879427425,0.09712938899900796,0.09716784888600193,0.09746361094595114,0.09748743352187071,0.09871140525066781,0.09887878080149139,0.09902720698000689,0.1006926877268916,0.10208138990386721,0.1022828895356355,0.10309122924748707,0.1034668692288277,0.10352508481277979,0.10477468179851718,0.10583387059374538,0.10589333021345024,0.10590736237212967,0.10602026685756952,0.10629220090940215,0.10652365422635028,0.10654051556344273,0.10677325876804405,0.10704852662722354,0.10775739484293968,0.10840740706356913,0.10879965959937889,0.10961335620742127,0.10983793718178778,0.11001938659356751,0.11101974802115665,0.11342059010288874,0.11481585342536937,0.11506998469034603,0.1155586782567983,0.11671352755066873,0.11679854470092635,0.11722818259249132,0.11752047079894938,0.11887711265993318,0.12107875320233528,0.1236263388301731,0.12524004406479558,0.12538702733422158,0.1270727697087701,0.12710851873825008,0.12781298796233204,0.1285638309175481,0.12977364282269246,0.135990151296975],\"z\":[[null,null,null,null,null,null,null,null,null,null,null,null,null,null,null,null,null,null,null,null,null,null,null,null,null,null,null,null,null,null,null,null,null,null,null,null,null,null,null,null,null,null,null,null,null,null,null,null,null,null,null,null,null,null,null,null,null,null,null,null,null,null,null,null,null,null,null,null,null,null,null,null,null,null,null,null,null,null,null,null,null,null,null,null,null,null,null,null,null,null,null,null,null,null,null,null,null,null,null,null,null,null],[null,null,null,null,null,null,null,null,null,null,null,null,null,null,null,null,null,null,null,null,null,null,null,null,null,null,null,null,null,null,null,null,null,null,0.9623502303824265,null,null,null,null,null,null,null,null,null,null,null,null,null,null,null,null,null,null,null,null,null,null,null,null,null,null,null,null,null,null,null,null,null,null,null,null,null,null,null,null,null,null,null,null,null,null,null,null,null,null,null,null,null,null,null,null,null,null,null,null,null,null,null,null,null,null,null],[null,null,null,null,null,null,null,null,null,null,null,null,null,null,null,null,null,null,null,null,null,null,null,null,null,null,null,null,null,null,null,null,null,null,null,null,null,null,null,null,null,null,null,null,null,null,null,null,null,null,null,null,null,null,null,null,null,null,null,null,null,0.9623637626220578,null,null,null,null,null,null,null,null,null,null,null,null,null,null,null,null,null,null,null,null,null,null,null,null,null,null,null,null,null,null,null,null,null,null,null,null,null,null,null,null],[null,null,null,null,null,null,null,null,null,null,null,null,null,null,null,null,null,null,null,null,null,null,null,null,null,null,null,null,null,null,null,null,null,null,null,null,null,null,null,null,null,null,null,null,null,null,null,null,null,null,null,null,null,null,null,null,null,null,null,null,null,null,0.9606555957144005,null,null,null,null,null,null,null,null,null,null,null,null,null,null,null,null,null,null,null,null,null,null,null,null,null,null,null,null,null,null,null,null,null,null,null,null,null,null,null],[null,null,null,null,null,null,null,null,null,null,null,null,null,null,null,null,null,null,null,null,null,null,null,null,null,null,null,null,null,null,null,null,null,null,null,null,null,null,null,null,0.9624375267419092,null,null,null,null,null,null,null,null,null,null,null,null,null,null,null,null,null,null,null,null,null,null,null,null,null,null,null,null,null,null,null,null,null,null,null,null,null,null,null,null,null,null,null,null,null,null,null,null,null,null,null,null,null,null,null,null,null,null,null,null,null],[null,null,null,null,null,null,null,null,null,null,null,null,null,null,null,null,null,null,null,null,null,null,null,null,null,null,null,null,null,null,null,null,null,null,null,null,null,null,null,null,null,null,null,null,0.9623653524018592,null,null,null,null,null,null,null,null,null,null,null,null,null,null,null,null,null,null,null,null,null,null,null,null,null,null,null,null,null,null,null,null,null,null,null,null,null,null,null,null,null,null,null,null,null,null,null,null,null,null,null,null,null,null,null,null,null],[null,null,null,null,null,null,null,null,null,null,null,null,null,null,null,null,null,null,null,null,null,null,null,null,null,null,null,null,null,null,null,null,null,null,null,null,null,null,null,null,null,null,null,null,null,null,null,null,null,null,null,null,null,null,null,null,null,null,null,null,null,null,null,null,0.9619071628960505,null,null,null,null,null,null,null,null,null,null,null,null,null,null,null,null,null,null,null,null,null,null,null,null,null,null,null,null,null,null,null,null,null,null,null,null,null],[null,null,null,null,null,null,null,null,null,null,null,null,null,null,null,null,null,null,null,null,null,null,null,null,null,null,null,null,null,null,null,null,null,null,null,null,null,null,0.9609287107190913,null,null,null,null,null,null,null,null,null,null,null,null,null,null,null,null,null,null,null,null,null,null,null,null,null,null,null,null,null,null,null,null,null,null,null,null,null,null,null,null,null,null,null,null,null,null,null,null,null,null,null,null,null,null,null,null,null,null,null,null,null,null,null],[null,null,null,null,null,null,null,null,null,null,null,null,null,null,0.9619599397686363,null,null,null,null,null,null,null,null,null,null,null,null,null,null,null,null,null,null,null,null,null,null,null,null,null,null,null,null,null,null,null,null,null,null,null,null,null,null,null,null,null,null,null,null,null,null,null,null,null,null,null,null,null,null,null,null,null,null,null,null,null,null,null,null,null,null,null,null,null,null,null,null,null,null,null,null,null,null,null,null,null,null,null,null,null,null,null],[null,null,null,null,null,null,null,null,null,null,null,null,null,null,null,null,null,null,null,null,null,null,null,null,null,null,null,null,null,null,null,null,null,null,null,null,null,0.9620526692508211,null,null,null,null,null,null,null,null,null,null,null,null,null,null,null,null,null,null,null,null,null,null,null,null,null,null,null,null,null,null,null,null,null,null,null,null,null,null,null,null,null,null,null,null,null,null,null,null,null,null,null,null,null,null,null,null,null,null,null,null,null,null,null,null],[null,null,null,null,null,null,null,null,null,null,null,null,null,null,null,0.9612168556531854,null,null,null,null,null,null,null,null,null,null,null,null,null,null,null,null,null,null,null,null,null,null,null,null,null,null,null,null,null,null,null,null,null,null,null,null,null,null,null,null,null,null,null,null,null,null,null,null,null,null,null,null,null,null,null,null,null,null,null,null,null,null,null,null,null,null,null,null,null,null,null,null,null,null,null,null,null,null,null,null,null,null,null,null,null,null],[null,null,null,null,null,null,0.9615939638653248,null,null,null,null,null,null,null,null,null,null,null,null,null,null,null,null,null,null,null,null,null,null,null,null,null,null,null,null,null,null,null,null,null,null,null,null,null,null,null,null,null,null,null,null,null,null,null,null,null,null,null,null,null,null,null,null,null,null,null,null,null,null,null,null,null,null,null,null,null,null,null,null,null,null,null,null,null,null,null,null,null,null,null,null,null,null,null,null,null,null,null,null,null,null,null],[null,null,null,null,null,null,null,null,null,null,null,null,null,null,null,null,null,null,null,null,null,null,null,null,null,null,null,0.9626490883305099,null,null,null,null,null,null,null,null,null,null,null,null,null,null,null,null,null,null,null,null,null,null,null,null,null,null,null,null,null,null,null,null,null,null,null,null,null,null,null,null,null,null,null,null,null,null,null,null,null,null,null,null,null,null,null,null,null,null,null,null,null,null,null,null,null,null,null,null,null,null,null,null,null,null],[null,null,null,null,null,0.9613821704761467,null,null,null,null,null,null,null,null,null,null,null,null,null,null,null,null,null,null,null,null,null,null,null,null,null,null,null,null,null,null,null,null,null,null,null,null,null,null,null,null,null,null,null,null,null,null,null,null,null,null,null,null,null,null,null,null,null,null,null,null,null,null,null,null,null,null,null,null,null,null,null,null,null,null,null,null,null,null,null,null,null,null,null,null,null,null,null,null,null,null,null,null,null,null,null,null],[null,null,null,null,null,null,null,null,null,null,0.9619617135685627,null,null,null,null,null,null,null,null,null,null,null,null,null,null,null,null,null,null,null,null,null,null,null,null,null,null,null,null,null,null,null,null,null,null,null,null,null,null,null,null,null,null,null,null,null,null,null,null,null,null,null,null,null,null,null,null,null,null,null,null,null,null,null,null,null,null,null,null,null,null,null,null,null,null,null,null,null,null,null,null,null,null,null,null,null,null,null,null,null,null,null],[null,null,null,null,null,null,null,null,null,null,null,null,null,null,null,null,null,null,null,0.9617531655561535,null,null,null,null,null,null,null,null,null,null,null,null,null,null,null,null,null,null,null,null,null,null,null,null,null,null,null,null,null,null,null,null,null,null,null,null,null,null,null,null,null,null,null,null,null,null,null,null,null,null,null,null,null,null,null,null,null,null,null,null,null,null,null,null,null,null,null,null,null,null,null,null,null,null,null,null,null,null,null,null,null,null],[null,null,null,null,null,null,null,null,null,null,null,null,null,null,null,null,null,null,null,null,null,null,null,null,null,null,null,null,null,0.9625054518319134,null,null,null,null,null,null,null,null,null,null,null,null,null,null,null,null,null,null,null,null,null,null,null,null,null,null,null,null,null,null,null,null,null,null,null,null,null,null,null,null,null,null,null,null,null,null,null,null,null,null,null,null,null,null,null,null,null,null,null,null,null,null,null,null,null,null,null,null,null,null,null,null],[null,null,null,null,null,null,null,null,null,null,null,null,null,null,null,null,null,null,null,null,null,null,null,null,null,null,null,null,null,null,null,null,null,null,null,null,null,null,null,null,null,null,null,null,null,null,null,null,null,null,null,0.9627613247032819,null,null,null,null,null,null,null,null,null,null,null,null,null,null,null,null,null,null,null,null,null,null,null,null,null,null,null,null,null,null,null,null,null,null,null,null,null,null,null,null,null,null,null,null,null,null,null,null,null,null],[null,null,null,null,null,null,null,null,null,null,null,null,null,null,null,null,null,null,null,null,null,null,null,null,null,null,null,null,null,null,null,null,null,null,null,null,null,null,null,null,null,null,0.9626214811073412,null,null,null,null,null,null,null,null,null,null,null,null,null,null,null,null,null,null,null,null,null,null,null,null,null,null,null,null,null,null,null,null,null,null,null,null,null,null,null,null,null,null,null,null,null,null,null,null,null,null,null,null,null,null,null,null,null,null,null],[null,null,null,null,null,null,null,null,null,null,null,null,null,null,null,null,null,null,null,null,null,null,null,null,null,null,null,null,null,null,null,null,null,null,null,null,null,null,null,null,null,null,null,null,null,null,null,null,null,null,null,null,null,0.9626666032494187,null,null,null,null,null,null,null,null,null,null,null,null,null,null,null,null,null,null,null,null,null,null,null,null,null,null,null,null,null,null,null,null,null,null,null,null,null,null,null,null,null,null,null,null,null,null,null,null],[null,null,null,null,null,null,null,null,null,null,null,null,null,null,null,null,null,null,null,null,null,null,null,null,null,null,null,null,null,null,null,null,null,null,null,null,null,null,null,null,null,null,null,null,null,null,null,null,null,null,null,null,null,null,null,null,null,null,null,null,null,null,null,null,null,null,null,null,null,null,null,null,null,null,null,null,null,null,null,null,null,null,null,null,null,null,null,0.9625549918213178,null,null,null,null,null,null,null,null,null,null,null,null,null,null],[null,null,null,null,null,null,null,null,null,null,null,null,null,null,null,null,null,null,null,null,null,null,null,null,null,null,null,null,null,null,null,null,null,null,null,null,null,null,null,null,null,null,null,null,null,null,null,null,null,null,null,null,null,null,null,null,null,null,null,null,null,null,null,null,null,null,null,null,null,null,null,0.9623537543225964,null,null,null,null,null,null,null,null,null,null,null,null,null,null,null,null,null,null,null,null,null,null,null,null,null,null,null,null,null,null],[null,null,null,null,null,null,null,null,null,null,null,null,null,null,null,null,null,null,null,null,null,null,null,null,null,null,null,null,null,null,null,null,null,null,null,null,null,null,null,null,null,null,null,null,null,null,null,null,null,null,null,null,null,null,null,0.9622393934996346,null,null,null,null,null,null,null,null,null,null,null,null,null,null,null,null,null,null,null,null,null,null,null,null,null,null,null,null,null,null,null,null,null,null,null,null,null,null,null,null,null,null,null,null,null,null],[null,null,null,null,null,null,null,null,null,null,null,null,null,null,null,null,null,null,null,null,null,null,null,null,null,null,null,null,null,null,null,null,null,null,null,null,null,null,null,null,null,null,null,null,null,null,null,null,null,null,null,null,null,null,null,null,null,null,null,null,null,null,null,null,null,null,null,null,null,null,0.9629357943801992,null,null,null,null,null,null,null,null,null,null,null,null,null,null,null,null,null,null,null,null,null,null,null,null,null,null,null,null,null,null,null],[null,null,null,null,null,null,null,null,null,null,null,null,null,null,null,null,null,null,null,null,null,null,null,null,null,null,null,null,null,null,null,null,null,null,null,null,0.962986655040611,null,null,null,null,null,null,null,null,null,null,null,null,null,null,null,null,null,null,null,null,null,null,null,null,null,null,null,null,null,null,null,null,null,null,null,null,null,null,null,null,null,null,null,null,null,null,null,null,null,null,null,null,null,null,null,null,null,null,null,null,null,null,null,null,null],[null,null,null,null,null,null,null,null,null,null,null,null,null,null,null,null,null,null,null,null,null,null,null,null,null,0.9624241911336775,null,null,null,null,null,null,null,null,null,null,null,null,null,null,null,null,null,null,null,null,null,null,null,null,null,null,null,null,null,null,null,null,null,null,null,null,null,null,null,null,null,null,null,null,null,null,null,null,null,null,null,null,null,null,null,null,null,null,null,null,null,null,null,null,null,null,null,null,null,null,null,null,null,null,null,null],[null,null,null,null,null,null,null,null,null,null,null,null,null,null,null,null,null,null,null,null,null,null,null,null,null,null,null,null,null,null,null,null,null,null,null,null,null,null,null,null,null,null,null,null,null,null,null,null,null,null,null,null,0.9624012493048962,null,null,null,null,null,null,null,null,null,null,null,null,null,null,null,null,null,null,null,null,null,null,null,null,null,null,null,null,null,null,null,null,null,null,null,null,null,null,null,null,null,null,null,null,null,null,null,null,null],[null,null,null,null,null,null,null,null,null,null,null,0.9624080104413558,null,null,null,null,null,null,null,null,null,null,null,null,null,null,null,null,null,null,null,null,null,null,null,null,null,null,null,null,null,null,null,null,null,null,null,null,null,null,null,null,null,null,null,null,null,null,null,null,null,null,null,null,null,null,null,null,null,null,null,null,null,null,null,null,null,null,null,null,null,null,null,null,null,null,null,null,null,null,null,null,null,null,null,null,null,null,null,null,null,null],[null,null,null,null,null,null,null,null,null,null,null,null,null,null,null,null,null,null,null,null,null,null,null,null,null,null,null,null,null,null,null,null,null,null,null,null,null,null,null,null,null,null,null,null,null,null,null,null,null,null,null,null,null,null,null,null,null,null,null,null,null,null,null,null,null,null,null,null,null,null,null,null,null,null,0.962833362639342,null,null,null,null,null,null,null,null,null,null,null,null,null,null,null,null,null,null,null,null,null,null,null,null,null,null,null],[null,null,null,null,null,null,null,null,null,null,null,null,null,null,null,null,null,null,null,null,null,null,null,null,null,null,null,null,null,null,null,null,null,null,null,null,null,null,null,null,null,null,null,null,null,null,null,0.9619546626875429,null,null,null,null,null,null,null,null,null,null,null,null,null,null,null,null,null,null,null,null,null,null,null,null,null,null,null,null,null,null,null,null,null,null,null,null,null,null,null,null,null,null,null,null,null,null,null,null,null,null,null,null,null,null],[null,null,null,null,null,null,null,null,null,null,null,null,null,null,null,null,null,null,null,null,null,null,null,null,null,null,null,null,null,null,null,null,null,null,null,0.9625310159048288,null,null,null,null,null,null,null,null,null,null,null,null,null,null,null,null,null,null,null,null,null,null,null,null,null,null,null,null,null,null,null,null,null,null,null,null,null,null,null,null,null,null,null,null,null,null,null,null,null,null,null,null,null,null,null,null,null,null,null,null,null,null,null,null,null,null],[null,null,null,null,null,null,null,null,null,null,null,null,null,null,null,null,null,null,0.960860833635029,null,null,null,null,null,null,null,null,null,null,null,null,null,null,null,null,null,null,null,null,null,null,null,null,null,null,null,null,null,null,null,null,null,null,null,null,null,null,null,null,null,null,null,null,null,null,null,null,null,null,null,null,null,null,null,null,null,null,null,null,null,null,null,null,null,null,null,null,null,null,null,null,null,null,null,null,null,null,null,null,null,null,null],[null,0.9619580319516252,null,null,null,null,null,null,null,null,null,null,null,null,null,null,null,null,null,null,null,null,null,null,null,null,null,null,null,null,null,null,null,null,null,null,null,null,null,null,null,null,null,null,null,null,null,null,null,null,null,null,null,null,null,null,null,null,null,null,null,null,null,null,null,null,null,null,null,null,null,null,null,null,null,null,null,null,null,null,null,null,null,null,null,null,null,null,null,null,null,null,null,null,null,null,null,null,null,null,null,null],[null,null,null,null,null,null,null,null,null,null,null,null,null,null,null,null,null,null,null,null,null,null,null,null,null,null,null,null,null,null,null,null,null,null,null,null,null,null,null,null,null,null,null,null,null,null,null,null,null,null,null,null,null,null,null,null,null,null,null,null,0.9629486080921084,null,null,null,null,null,null,null,null,null,null,null,null,null,null,null,null,null,null,null,null,null,null,null,null,null,null,null,null,null,null,null,null,null,null,null,null,null,null,null,null,null],[null,null,null,null,null,null,null,null,null,null,null,null,null,null,null,null,null,null,null,null,null,null,null,null,null,null,null,null,null,null,null,null,null,null,null,null,null,null,null,null,null,null,null,null,null,null,null,null,null,null,null,null,null,null,null,null,null,null,null,null,null,null,null,null,null,null,null,null,null,null,null,null,null,null,null,null,null,null,0.96214149081791,null,null,null,null,null,null,null,null,null,null,null,null,null,null,null,null,null,null,null,null,null,null,null],[null,null,null,null,null,null,null,null,null,null,null,null,null,null,null,null,null,null,null,null,null,null,null,null,null,null,null,null,null,null,null,null,null,null,null,null,null,null,null,null,null,null,null,null,null,null,null,null,null,null,0.9626135800199265,null,null,null,null,null,null,null,null,null,null,null,null,null,null,null,null,null,null,null,null,null,null,null,null,null,null,null,null,null,null,null,null,null,null,null,null,null,null,null,null,null,null,null,null,null,null,null,null,null,null,null],[null,null,null,null,null,null,null,null,null,null,null,null,null,null,null,null,null,null,null,null,null,null,null,null,null,null,null,null,null,null,null,null,null,null,null,null,null,null,null,null,null,null,null,null,null,null,null,null,null,null,null,null,null,null,null,null,null,null,null,null,null,null,null,null,null,null,null,null,null,null,null,null,null,null,null,0.96288599611206,null,null,null,null,null,null,null,null,null,null,null,null,null,null,null,null,null,null,null,null,null,null,null,null,null,null],[null,null,null,null,null,null,null,null,null,null,null,null,null,null,null,null,null,null,null,null,null,null,null,null,null,null,null,null,null,null,null,null,null,null,null,null,null,null,null,null,null,null,null,null,null,null,null,null,null,null,null,null,null,null,null,null,null,null,null,null,null,null,null,null,null,0.962893972296009,null,null,null,null,null,null,null,null,null,null,null,null,null,null,null,null,null,null,null,null,null,null,null,null,null,null,null,null,null,null,null,null,null,null,null,null],[null,null,null,null,null,null,null,null,null,null,null,null,null,null,null,null,null,null,null,null,null,null,null,null,null,null,null,null,null,null,null,null,null,null,null,null,null,null,null,null,null,null,null,null,null,null,null,null,null,null,null,null,null,null,null,null,null,null,null,null,null,null,null,null,null,null,null,null,null,null,null,null,null,null,null,null,null,null,null,null,null,null,null,null,null,null,null,null,null,null,null,null,null,null,null,null,null,null,null,null,0.9627259638132427,null],[null,null,null,null,null,null,null,null,null,null,null,null,null,null,null,null,null,null,null,null,null,null,null,null,null,null,null,null,null,null,null,null,null,null,null,null,null,null,null,null,null,null,null,null,null,null,null,null,0.9613785883140606,null,null,null,null,null,null,null,null,null,null,null,null,null,null,null,null,null,null,null,null,null,null,null,null,null,null,null,null,null,null,null,null,null,null,null,null,null,null,null,null,null,null,null,null,null,null,null,null,null,null,null,null,null],[null,null,null,null,null,null,null,null,null,null,null,null,null,null,null,null,null,null,null,null,null,null,null,null,null,null,null,null,null,null,null,null,null,null,null,null,null,null,null,0.9621413932385178,null,null,null,null,null,null,null,null,null,null,null,null,null,null,null,null,null,null,null,null,null,null,null,null,null,null,null,null,null,null,null,null,null,null,null,null,null,null,null,null,null,null,null,null,null,null,null,null,null,null,null,null,null,null,null,null,null,null,null,null,null,null],[null,null,null,null,null,null,null,null,null,null,null,null,null,null,null,null,null,null,null,null,null,null,null,null,null,null,null,null,null,null,null,null,null,null,null,null,null,null,null,null,null,null,null,null,null,null,null,null,null,null,null,null,null,null,null,null,null,null,null,null,null,null,null,null,null,null,null,null,0.9626337418925079,null,null,null,null,null,null,null,null,null,null,null,null,null,null,null,null,null,null,null,null,null,null,null,null,null,null,null,null,null,null,null,null,null],[null,null,null,null,null,null,null,null,null,null,null,null,null,null,null,null,null,null,null,null,null,null,null,null,null,null,null,null,null,null,null,null,null,null,null,null,null,null,null,null,null,null,null,null,null,null,null,null,null,null,null,null,null,null,null,null,null,null,null,null,null,null,null,null,null,null,null,null,null,null,null,null,null,null,null,null,null,null,null,null,null,0.9624687051564809,null,null,null,null,null,null,null,null,null,null,null,null,null,null,null,null,null,null,null,null],[null,null,null,null,null,null,null,null,null,null,null,null,null,null,null,null,null,null,null,null,null,null,null,null,null,null,null,null,null,null,null,null,null,null,null,null,null,null,null,null,null,null,null,null,null,null,null,null,null,null,null,null,null,null,0.9628378873304204,null,null,null,null,null,null,null,null,null,null,null,null,null,null,null,null,null,null,null,null,null,null,null,null,null,null,null,null,null,null,null,null,null,null,null,null,null,null,null,null,null,null,null,null,null,null,null],[null,null,null,null,null,null,null,null,0.9623908843766225,null,null,null,null,null,null,null,null,null,null,null,null,null,null,null,null,null,null,null,null,null,null,null,null,null,null,null,null,null,null,null,null,null,null,null,null,null,null,null,null,null,null,null,null,null,null,null,null,null,null,null,null,null,null,null,null,null,null,null,null,null,null,null,null,null,null,null,null,null,null,null,null,null,null,null,null,null,null,null,null,null,null,null,null,null,null,null,null,null,null,null,null,null],[null,null,null,null,null,null,null,null,null,null,null,null,null,null,null,null,null,null,null,null,null,null,null,null,null,null,null,null,null,null,null,null,0.9623516965954544,null,null,null,null,null,null,null,null,null,null,null,null,null,null,null,null,null,null,null,null,null,null,null,null,null,null,null,null,null,null,null,null,null,null,null,null,null,null,null,null,null,null,null,null,null,null,null,null,null,null,null,null,null,null,null,null,null,null,null,null,null,null,null,null,null,null,null,null,null],[null,null,null,null,null,null,null,null,null,0.9625949924601684,null,null,null,null,null,null,null,null,null,null,null,null,null,null,null,null,null,null,null,null,null,null,null,null,null,null,null,null,null,null,null,null,null,null,null,null,null,null,null,null,null,null,null,null,null,null,null,null,null,null,null,null,null,null,null,null,null,null,null,null,null,null,null,null,null,null,null,null,null,null,null,null,null,null,null,null,null,null,null,null,null,null,null,null,null,null,null,null,null,null,null,null],[null,null,null,null,null,null,null,null,null,null,null,null,null,null,null,null,null,null,null,null,null,null,null,null,null,null,null,null,null,null,null,null,null,null,null,null,null,null,null,null,null,null,null,0.9626807163166813,null,null,null,null,null,null,null,null,null,null,null,null,null,null,null,null,null,null,null,null,null,null,null,null,null,null,null,null,null,null,null,null,null,null,null,null,null,null,null,null,null,null,null,null,null,null,null,null,null,null,null,null,null,null,null,null,null,null],[null,null,null,null,null,null,null,null,null,null,null,null,null,null,null,null,null,null,null,null,null,null,null,null,null,null,null,null,null,null,null,null,null,null,null,null,null,null,null,null,null,null,null,null,null,null,null,null,null,null,null,null,null,null,null,null,null,null,null,null,null,null,null,null,null,null,null,null,null,null,null,null,null,null,null,null,null,null,null,null,null,null,null,null,null,null,null,null,null,null,null,null,null,0.9626932982690437,null,null,null,null,null,null,null,null],[null,null,null,null,null,null,null,null,null,null,null,null,null,null,null,null,null,null,null,null,null,null,null,null,null,null,null,null,null,null,null,null,null,null,null,null,null,null,null,null,null,null,null,null,null,null,null,null,null,null,null,null,null,null,null,null,null,null,null,null,null,null,null,null,null,null,null,null,null,null,null,null,null,0.9625947725140719,null,null,null,null,null,null,null,null,null,null,null,null,null,null,null,null,null,null,null,null,null,null,null,null,null,null,null,null],[null,null,null,null,null,null,null,0.9627124859030575,null,null,null,null,null,null,null,null,null,null,null,null,null,null,null,null,null,null,null,null,null,null,null,null,null,null,null,null,null,null,null,null,null,null,null,null,null,null,null,null,null,null,null,null,null,null,null,null,null,null,null,null,null,null,null,null,null,null,null,null,null,null,null,null,null,null,null,null,null,null,null,null,null,null,null,null,null,null,null,null,null,null,null,null,null,null,null,null,null,null,null,null,null,null],[null,null,null,null,null,null,null,null,null,null,null,null,null,0.9623394701518059,null,null,null,null,null,null,null,null,null,null,null,null,null,null,null,null,null,null,null,null,null,null,null,null,null,null,null,null,null,null,null,null,null,null,null,null,null,null,null,null,null,null,null,null,null,null,null,null,null,null,null,null,null,null,null,null,null,null,null,null,null,null,null,null,null,null,null,null,null,null,null,null,null,null,null,null,null,null,null,null,null,null,null,null,null,null,null,null],[null,null,null,null,null,null,null,null,null,null,null,null,null,null,null,null,null,null,null,null,null,null,0.9620485201030163,null,null,null,null,null,null,null,null,null,null,null,null,null,null,null,null,null,null,null,null,null,null,null,null,null,null,null,null,null,null,null,null,null,null,null,null,null,null,null,null,null,null,null,null,null,null,null,null,null,null,null,null,null,null,null,null,null,null,null,null,null,null,null,null,null,null,null,null,null,null,null,null,null,null,null,null,null,null,null],[null,null,null,null,null,null,null,null,null,null,null,null,null,null,null,null,null,null,null,null,null,null,null,null,null,null,null,null,null,null,null,null,null,null,null,null,null,null,null,null,null,null,null,null,null,null,null,null,null,null,null,null,null,null,null,null,null,null,null,null,null,null,null,null,null,null,null,null,null,null,null,null,null,null,null,null,null,null,null,null,null,null,null,null,null,null,null,null,null,null,0.962939303698444,null,null,null,null,null,null,null,null,null,null,null],[null,null,null,null,null,null,null,null,null,null,null,null,null,null,null,null,null,null,null,null,null,null,null,null,null,null,null,null,null,null,null,null,null,null,null,null,null,null,null,null,null,null,null,null,null,null,null,null,null,null,null,null,null,null,null,null,null,null,null,null,null,null,null,null,null,null,null,null,null,null,null,null,null,null,null,null,null,null,null,null,null,null,null,null,null,null,null,null,null,null,null,null,null,null,null,null,null,0.9628047920744219,null,null,null,null],[null,null,null,null,null,null,null,null,null,null,null,null,null,null,null,null,null,null,null,null,null,null,null,null,null,null,null,null,null,null,null,null,null,null,null,null,null,null,null,null,null,null,null,null,null,null,null,null,null,null,null,null,null,null,null,null,null,null,0.9620976703317481,null,null,null,null,null,null,null,null,null,null,null,null,null,null,null,null,null,null,null,null,null,null,null,null,null,null,null,null,null,null,null,null,null,null,null,null,null,null,null,null,null,null,null],[null,null,null,null,null,null,null,null,null,null,null,null,null,null,null,null,null,null,null,null,null,null,null,null,null,null,null,null,null,null,null,null,null,null,null,null,null,null,null,null,null,null,null,null,null,null,null,null,null,null,null,null,null,null,null,null,null,null,null,0.9629800468609824,null,null,null,null,null,null,null,null,null,null,null,null,null,null,null,null,null,null,null,null,null,null,null,null,null,null,null,null,null,null,null,null,null,null,null,null,null,null,null,null,null,null],[null,null,null,null,null,null,null,null,null,null,null,null,null,null,null,null,null,null,null,null,null,null,null,null,null,null,0.9627423485507023,null,null,null,null,null,null,null,null,null,null,null,null,null,null,null,null,null,null,null,null,null,null,null,null,null,null,null,null,null,null,null,null,null,null,null,null,null,null,null,null,null,null,null,null,null,null,null,null,null,null,null,null,null,null,null,null,null,null,null,null,null,null,null,null,null,null,null,null,null,null,null,null,null,null,null],[null,null,null,null,null,null,null,null,null,null,null,null,null,null,null,null,null,null,null,null,null,null,null,null,null,null,null,null,null,null,null,null,null,null,null,null,null,null,null,null,null,null,null,null,null,null,null,null,null,null,null,null,null,null,null,null,null,null,null,null,null,null,null,null,null,null,null,null,null,null,null,null,null,null,null,null,null,null,null,null,null,null,null,null,null,null,0.9626070411585129,null,null,null,null,null,null,null,null,null,null,null,null,null,null,null],[null,null,null,null,null,null,null,null,null,null,null,null,null,null,null,null,null,null,null,null,null,null,null,null,null,null,null,null,null,null,null,null,null,0.9628134445060936,null,null,null,null,null,null,null,null,null,null,null,null,null,null,null,null,null,null,null,null,null,null,null,null,null,null,null,null,null,null,null,null,null,null,null,null,null,null,null,null,null,null,null,null,null,null,null,null,null,null,null,null,null,null,null,null,null,null,null,null,null,null,null,null,null,null,null,null],[null,null,null,null,null,null,null,null,null,null,null,null,null,null,null,null,null,null,null,null,null,null,null,null,null,null,null,null,null,null,null,null,null,null,null,null,null,null,null,null,null,null,null,null,null,null,null,null,null,null,null,null,null,null,null,null,null,null,null,null,null,null,null,null,null,null,null,null,null,null,null,null,null,null,null,null,0.9622567075405714,null,null,null,null,null,null,null,null,null,null,null,null,null,null,null,null,null,null,null,null,null,null,null,null,null],[null,null,null,null,null,null,null,null,null,null,null,null,null,null,null,null,null,null,null,null,null,null,null,null,null,null,null,null,null,null,null,null,null,null,null,null,null,null,null,null,null,null,null,null,null,null,null,null,null,null,null,null,null,null,null,null,null,null,null,null,null,null,null,null,null,null,0.9624786483783764,null,null,null,null,null,null,null,null,null,null,null,null,null,null,null,null,null,null,null,null,null,null,null,null,null,null,null,null,null,null,null,null,null,null,null],[null,null,null,null,null,null,null,null,null,null,null,null,null,null,null,null,null,null,null,null,null,null,null,null,null,null,null,null,null,null,null,null,null,null,null,null,null,null,null,null,null,null,null,null,null,null,null,null,null,null,null,null,null,null,null,null,null,null,null,null,null,null,null,null,null,null,null,null,null,null,null,null,null,null,null,null,null,0.9623219874632589,null,null,null,null,null,null,null,null,null,null,null,null,null,null,null,null,null,null,null,null,null,null,null,null],[null,null,null,null,null,null,null,null,null,null,null,null,null,null,null,null,null,null,null,null,null,null,null,null,null,null,null,null,null,null,null,null,null,null,null,null,null,null,null,null,null,null,null,null,null,0.9624169615153054,null,null,null,null,null,null,null,null,null,null,null,null,null,null,null,null,null,null,null,null,null,null,null,null,null,null,null,null,null,null,null,null,null,null,null,null,null,null,null,null,null,null,null,null,null,null,null,null,null,null,null,null,null,null,null,null],[null,null,null,null,null,null,null,null,null,null,null,null,null,null,null,null,null,null,null,null,null,null,null,null,null,null,null,null,null,null,null,null,null,null,null,null,null,null,null,null,null,null,null,null,null,null,null,null,null,null,null,null,null,null,null,null,null,null,null,null,null,null,null,null,null,null,null,null,null,null,null,null,null,null,null,null,null,null,null,null,null,null,null,null,null,0.9629449820939777,null,null,null,null,null,null,null,null,null,null,null,null,null,null,null,null],[null,null,null,null,null,null,null,null,null,null,null,null,null,null,null,null,null,null,null,null,null,null,null,null,0.9627494252932693,null,null,null,null,null,null,null,null,null,null,null,null,null,null,null,null,null,null,null,null,null,null,null,null,null,null,null,null,null,null,null,null,null,null,null,null,null,null,null,null,null,null,null,null,null,null,null,null,null,null,null,null,null,null,null,null,null,null,null,null,null,null,null,null,null,null,null,null,null,null,null,null,null,null,null,null,null],[null,null,null,null,null,null,null,null,null,null,null,null,null,null,null,null,null,null,null,null,null,0.9626569036452548,null,null,null,null,null,null,null,null,null,null,null,null,null,null,null,null,null,null,null,null,null,null,null,null,null,null,null,null,null,null,null,null,null,null,null,null,null,null,null,null,null,null,null,null,null,null,null,null,null,null,null,null,null,null,null,null,null,null,null,null,null,null,null,null,null,null,null,null,null,null,null,null,null,null,null,null,null,null,null,null],[null,null,null,null,null,null,null,null,null,null,null,null,null,null,null,null,null,null,null,null,null,null,null,null,null,null,null,null,null,null,null,null,null,null,null,null,null,null,null,null,null,null,null,null,null,null,null,null,null,null,null,null,null,null,null,null,null,null,null,null,null,null,null,0.962810882646677,null,null,null,null,null,null,null,null,null,null,null,null,null,null,null,null,null,null,null,null,null,null,null,null,null,null,null,null,null,null,null,null,null,null,null,null,null,null],[null,null,null,null,null,null,null,null,null,null,null,null,null,null,null,null,null,null,null,null,null,null,null,null,null,null,null,null,null,null,null,null,null,null,null,null,null,null,null,null,null,null,null,null,null,null,null,null,null,null,null,null,null,null,null,null,null,null,null,null,null,null,null,null,null,null,null,null,null,null,null,null,null,null,null,null,null,null,null,null,null,null,null,null,null,null,null,null,null,null,null,null,null,null,null,0.9630307068213589,null,null,null,null,null,null],[null,null,null,null,null,null,null,null,null,null,null,null,null,null,null,null,null,null,null,null,null,null,null,null,null,null,null,null,null,null,null,null,null,null,null,null,null,null,null,null,null,null,null,null,null,null,null,null,null,0.9623315011692885,null,null,null,null,null,null,null,null,null,null,null,null,null,null,null,null,null,null,null,null,null,null,null,null,null,null,null,null,null,null,null,null,null,null,null,null,null,null,null,null,null,null,null,null,null,null,null,null,null,null,null,null],[null,null,null,null,null,null,null,null,null,null,null,null,null,null,null,null,null,null,null,null,null,null,null,null,null,null,null,null,null,null,null,null,null,null,null,null,null,null,null,null,null,null,null,null,null,null,null,null,null,null,null,null,null,null,null,null,null,null,null,null,null,null,null,null,null,null,null,null,null,null,null,null,null,null,null,null,null,null,null,null,null,null,0.9626075468684594,null,null,null,null,null,null,null,null,null,null,null,null,null,null,null,null,null,null,null],[null,null,null,null,null,null,null,null,null,null,null,null,null,null,null,null,null,null,null,null,null,null,null,null,null,null,null,null,null,null,null,null,null,null,null,null,null,null,null,null,null,null,null,null,null,null,null,null,null,null,null,null,null,null,null,null,null,null,null,null,null,null,null,null,null,null,null,null,null,null,null,null,null,null,null,null,null,null,null,null,0.9625097712771821,null,null,null,null,null,null,null,null,null,null,null,null,null,null,null,null,null,null,null,null,null],[null,null,null,null,null,null,null,null,null,null,null,null,null,null,null,null,null,null,null,null,null,null,null,null,null,null,null,null,null,null,null,null,null,null,null,null,null,null,null,null,null,null,null,null,null,null,null,null,null,null,null,null,null,null,null,null,null,null,null,null,null,null,null,null,null,null,null,null,null,null,null,null,null,null,null,null,null,null,null,null,null,null,null,null,null,null,null,null,null,null,null,null,0.9629279562763206,null,null,null,null,null,null,null,null,null],[null,null,null,null,null,null,null,null,null,null,null,null,null,null,null,null,null,null,null,null,null,null,null,null,null,null,null,null,0.9628077478854271,null,null,null,null,null,null,null,null,null,null,null,null,null,null,null,null,null,null,null,null,null,null,null,null,null,null,null,null,null,null,null,null,null,null,null,null,null,null,null,null,null,null,null,null,null,null,null,null,null,null,null,null,null,null,null,null,null,null,null,null,null,null,null,null,null,null,null,null,null,null,null,null,null],[null,null,null,null,null,null,null,null,null,null,null,null,null,null,null,null,null,null,null,null,null,null,null,null,null,null,null,null,null,null,null,null,null,null,null,null,null,null,null,null,null,null,null,null,null,null,null,null,null,null,null,null,null,null,null,null,null,null,null,null,null,null,null,null,null,null,null,null,null,null,null,null,null,null,null,null,null,null,null,null,null,null,null,null,null,null,null,null,null,null,null,null,null,null,null,null,null,null,null,0.9625800527562116,null,null],[null,null,null,null,null,null,null,null,null,null,null,null,null,null,null,null,null,null,null,null,null,null,null,null,null,null,null,null,null,null,0.9607607106577903,null,null,null,null,null,null,null,null,null,null,null,null,null,null,null,null,null,null,null,null,null,null,null,null,null,null,null,null,null,null,null,null,null,null,null,null,null,null,null,null,null,null,null,null,null,null,null,null,null,null,null,null,null,null,null,null,null,null,null,null,null,null,null,null,null,null,null,null,null,null,null],[null,null,null,null,null,null,null,null,null,null,null,null,null,null,null,null,null,null,null,null,null,null,null,null,null,null,null,null,null,null,null,null,null,null,null,null,null,null,null,null,null,null,null,null,null,null,null,null,null,null,null,null,null,null,null,null,null,null,null,null,null,null,null,null,null,null,null,0.9629572288612639,null,null,null,null,null,null,null,null,null,null,null,null,null,null,null,null,null,null,null,null,null,null,null,null,null,null,null,null,null,null,null,null,null,null],[null,null,null,null,null,null,null,null,null,null,null,null,null,null,null,null,null,null,null,null,null,null,null,null,null,null,null,null,null,null,null,null,null,null,null,null,null,null,null,null,null,null,null,null,null,null,null,null,null,null,null,null,null,null,null,null,null,null,null,null,null,null,null,null,null,null,null,null,null,null,null,null,null,null,null,null,null,null,null,null,null,null,null,null,null,null,null,null,null,null,null,null,null,null,null,null,null,null,0.962900103327988,null,null,null],[null,null,null,null,null,null,null,null,null,null,null,null,null,null,null,null,null,null,null,null,null,null,null,null,null,null,null,null,null,null,null,null,null,null,null,null,null,null,null,null,null,null,null,null,null,null,null,null,null,null,null,null,null,null,null,null,0.9626639425881546,null,null,null,null,null,null,null,null,null,null,null,null,null,null,null,null,null,null,null,null,null,null,null,null,null,null,null,null,null,null,null,null,null,null,null,null,null,null,null,null,null,null,null,null,null],[null,null,null,null,null,null,null,null,null,null,null,null,null,null,null,null,null,null,null,null,null,null,null,null,null,null,null,null,null,null,null,null,null,null,null,null,null,null,null,null,null,null,null,null,null,null,null,null,null,null,null,null,null,null,null,null,null,null,null,null,null,null,null,null,null,null,null,null,null,null,null,null,null,null,null,null,null,null,null,null,null,null,null,null,null,null,null,null,null,null,null,null,null,null,0.9624718796627947,null,null,null,null,null,null,null],[null,null,null,null,null,null,null,null,null,null,null,null,null,null,null,null,null,null,null,null,null,null,null,null,null,null,null,null,null,null,null,null,null,null,null,null,null,null,null,null,null,null,null,null,null,null,null,null,null,null,null,null,null,null,null,null,null,null,null,null,null,null,null,null,null,null,null,null,null,null,null,null,null,null,null,null,null,null,null,null,null,null,null,0.9626304212549763,null,null,null,null,null,null,null,null,null,null,null,null,null,null,null,null,null,null],[null,null,null,null,null,null,null,null,null,null,null,null,null,null,null,null,0.9625102642506281,null,null,null,null,null,null,null,null,null,null,null,null,null,null,null,null,null,null,null,null,null,null,null,null,null,null,null,null,null,null,null,null,null,null,null,null,null,null,null,null,null,null,null,null,null,null,null,null,null,null,null,null,null,null,null,null,null,null,null,null,null,null,null,null,null,null,null,null,null,null,null,null,null,null,null,null,null,null,null,null,null,null,null,null,null],[null,null,null,null,null,null,null,null,null,null,null,null,null,null,null,null,null,null,null,null,null,null,null,null,null,null,null,null,null,null,null,null,null,null,null,null,null,null,null,null,null,null,null,null,null,null,null,null,null,null,null,null,null,null,null,null,null,null,null,null,null,null,null,null,null,null,null,null,null,null,null,null,null,null,null,null,null,null,null,null,null,null,null,null,null,null,null,null,null,null,null,null,null,null,null,null,0.9626397347977494,null,null,null,null,null],[null,null,null,null,null,null,null,null,null,null,null,null,null,null,null,null,null,null,null,null,null,null,null,null,null,null,null,null,null,null,null,null,null,null,null,null,null,null,null,null,null,0.962134639764739,null,null,null,null,null,null,null,null,null,null,null,null,null,null,null,null,null,null,null,null,null,null,null,null,null,null,null,null,null,null,null,null,null,null,null,null,null,null,null,null,null,null,null,null,null,null,null,null,null,null,null,null,null,null,null,null,null,null,null,null],[null,null,null,null,null,null,null,null,null,null,null,null,null,null,null,null,null,null,null,null,null,null,null,null,null,null,null,null,null,null,null,null,null,null,null,null,null,null,null,null,null,null,null,null,null,null,null,null,null,null,null,null,null,null,null,null,null,null,null,null,null,null,null,null,null,null,null,null,null,null,null,null,null,null,null,null,null,null,null,null,null,null,null,null,null,null,null,null,null,null,null,0.9619356772588304,null,null,null,null,null,null,null,null,null,null],[null,null,null,null,null,null,null,null,null,null,null,null,null,null,null,null,null,null,null,null,null,null,null,null,null,null,null,null,null,null,null,null,null,null,null,null,null,null,null,null,null,null,null,null,null,null,0.9626468658924481,null,null,null,null,null,null,null,null,null,null,null,null,null,null,null,null,null,null,null,null,null,null,null,null,null,null,null,null,null,null,null,null,null,null,null,null,null,null,null,null,null,null,null,null,null,null,null,null,null,null,null,null,null,null,null],[null,null,null,null,null,null,null,null,null,null,null,null,null,null,null,null,null,0.9615477882045862,null,null,null,null,null,null,null,null,null,null,null,null,null,null,null,null,null,null,null,null,null,null,null,null,null,null,null,null,null,null,null,null,null,null,null,null,null,null,null,null,null,null,null,null,null,null,null,null,null,null,null,null,null,null,null,null,null,null,null,null,null,null,null,null,null,null,null,null,null,null,null,null,null,null,null,null,null,null,null,null,null,null,null,null],[null,null,null,null,null,null,null,null,null,null,null,null,null,null,null,null,null,null,null,null,null,null,null,null,null,null,null,null,null,null,null,null,null,null,null,null,null,null,null,null,null,null,null,null,null,null,null,null,null,null,null,null,null,null,null,null,null,null,null,null,null,null,null,null,null,null,null,null,null,null,null,null,0.9626044527948258,null,null,null,null,null,null,null,null,null,null,null,null,null,null,null,null,null,null,null,null,null,null,null,null,null,null,null,null,null],[null,null,null,null,null,null,null,null,null,null,null,null,null,null,null,null,null,null,null,null,null,null,null,null,null,null,null,null,null,null,null,null,null,null,null,null,null,null,null,null,null,null,null,null,null,null,null,null,null,null,null,null,null,null,null,null,null,0.9625532567440285,null,null,null,null,null,null,null,null,null,null,null,null,null,null,null,null,null,null,null,null,null,null,null,null,null,null,null,null,null,null,null,null,null,null,null,null,null,null,null,null,null,null,null,null],[null,null,null,null,null,null,null,null,null,null,null,null,null,null,null,null,null,null,null,null,null,null,null,null,null,null,null,null,null,null,null,null,null,null,null,null,null,null,null,null,null,null,null,null,null,null,null,null,null,null,null,null,null,null,null,null,null,null,null,null,null,null,null,null,null,null,null,null,null,null,null,null,null,null,null,null,null,null,null,null,null,null,null,null,null,null,null,null,0.9622858276030607,null,null,null,null,null,null,null,null,null,null,null,null,null],[null,null,null,null,null,null,null,null,null,null,null,null,null,null,null,null,null,null,null,null,null,null,null,null,null,null,null,null,null,null,null,null,null,null,null,null,null,null,null,null,null,null,null,null,null,null,null,null,null,null,null,null,null,null,null,null,null,null,null,null,null,null,null,null,null,null,null,null,null,null,null,null,null,null,null,null,null,null,null,null,null,null,null,null,null,null,null,null,null,0.9629758749346828,null,null,null,null,null,null,null,null,null,null,null,null],[null,null,null,null,null,null,null,null,null,null,null,null,null,null,null,null,null,null,null,null,null,null,null,null,null,null,null,null,null,null,null,null,null,null,null,null,null,null,null,null,null,null,null,null,null,null,null,null,null,null,null,null,null,null,null,null,null,null,null,null,null,null,null,null,null,null,null,null,null,null,null,null,null,null,null,null,null,null,null,0.9627457908243177,null,null,null,null,null,null,null,null,null,null,null,null,null,null,null,null,null,null,null,null,null,null],[null,null,null,0.9615038693824947,null,null,null,null,null,null,null,null,null,null,null,null,null,null,null,null,null,null,null,null,null,null,null,null,null,null,null,null,null,null,null,null,null,null,null,null,null,null,null,null,null,null,null,null,null,null,null,null,null,null,null,null,null,null,null,null,null,null,null,null,null,null,null,null,null,null,null,null,null,null,null,null,null,null,null,null,null,null,null,null,null,null,null,null,null,null,null,null,null,null,null,null,null,null,null,null,null,null],[null,null,null,null,null,null,null,null,null,null,null,null,null,null,null,null,null,null,null,null,null,null,null,null,null,null,null,null,null,null,null,0.9626940246674318,null,null,null,null,null,null,null,null,null,null,null,null,null,null,null,null,null,null,null,null,null,null,null,null,null,null,null,null,null,null,null,null,null,null,null,null,null,null,null,null,null,null,null,null,null,null,null,null,null,null,null,null,null,null,null,null,null,null,null,null,null,null,null,null,null,null,null,null,null,null],[null,null,null,null,null,null,null,null,null,null,null,null,null,null,null,null,null,null,null,null,null,null,null,null,null,null,null,null,null,null,null,null,null,null,null,null,null,null,null,null,null,null,null,null,null,null,null,null,null,null,null,null,null,null,null,null,null,null,null,null,null,null,null,null,null,null,null,null,null,0.9627292629778509,null,null,null,null,null,null,null,null,null,null,null,null,null,null,null,null,null,null,null,null,null,null,null,null,null,null,null,null,null,null,null,null],[null,null,null,null,null,null,null,null,null,null,null,null,0.9612653018976299,null,null,null,null,null,null,null,null,null,null,null,null,null,null,null,null,null,null,null,null,null,null,null,null,null,null,null,null,null,null,null,null,null,null,null,null,null,null,null,null,null,null,null,null,null,null,null,null,null,null,null,null,null,null,null,null,null,null,null,null,null,null,null,null,null,null,null,null,null,null,null,null,null,null,null,null,null,null,null,null,null,null,null,null,null,null,null,null,null],[null,null,null,null,null,null,null,null,null,null,null,null,null,null,null,null,null,null,null,null,null,null,null,null,null,null,null,null,null,null,null,null,null,null,null,null,null,null,null,null,null,null,null,null,null,null,null,null,null,null,null,null,null,null,null,null,null,null,null,null,null,null,null,null,null,null,null,null,null,null,null,null,null,null,null,null,null,null,null,null,null,null,null,null,0.9627999859235136,null,null,null,null,null,null,null,null,null,null,null,null,null,null,null,null,null],[null,null,null,null,null,null,null,null,null,null,null,null,null,null,null,null,null,null,null,null,null,null,null,0.962769323570917,null,null,null,null,null,null,null,null,null,null,null,null,null,null,null,null,null,null,null,null,null,null,null,null,null,null,null,null,null,null,null,null,null,null,null,null,null,null,null,null,null,null,null,null,null,null,null,null,null,null,null,null,null,null,null,null,null,null,null,null,null,null,null,null,null,null,null,null,null,null,null,null,null,null,null,null,null,null],[null,null,null,null,null,null,null,null,null,null,null,null,null,null,null,null,null,null,null,null,0.9626564160581988,null,null,null,null,null,null,null,null,null,null,null,null,null,null,null,null,null,null,null,null,null,null,null,null,null,null,null,null,null,null,null,null,null,null,null,null,null,null,null,null,null,null,null,null,null,null,null,null,null,null,null,null,null,null,null,null,null,null,null,null,null,null,null,null,null,null,null,null,null,null,null,null,null,null,null,null,null,null,null,null,null],[null,null,null,null,0.961867386412244,null,null,null,null,null,null,null,null,null,null,null,null,null,null,null,null,null,null,null,null,null,null,null,null,null,null,null,null,null,null,null,null,null,null,null,null,null,null,null,null,null,null,null,null,null,null,null,null,null,null,null,null,null,null,null,null,null,null,null,null,null,null,null,null,null,null,null,null,null,null,null,null,null,null,null,null,null,null,null,null,null,null,null,null,null,null,null,null,null,null,null,null,null,null,null,null,null],[null,null,0.9624301947143129,null,null,null,null,null,null,null,null,null,null,null,null,null,null,null,null,null,null,null,null,null,null,null,null,null,null,null,null,null,null,null,null,null,null,null,null,null,null,null,null,null,null,null,null,null,null,null,null,null,null,null,null,null,null,null,null,null,null,null,null,null,null,null,null,null,null,null,null,null,null,null,null,null,null,null,null,null,null,null,null,null,null,null,null,null,null,null,null,null,null,null,null,null,null,null,null,null,null,null],[null,null,null,null,null,null,null,null,null,null,null,null,null,null,null,null,null,null,null,null,null,null,null,null,null,null,null,null,null,null,null,null,null,null,null,null,null,null,null,null,null,null,null,null,null,null,null,null,null,null,null,null,null,null,null,null,null,null,null,null,null,null,null,null,null,null,null,null,null,null,null,null,null,null,null,null,null,null,null,null,null,null,null,null,null,null,null,null,null,null,null,null,null,null,null,null,null,null,null,null,null,null]],\"type\":\"contour\",\"xaxis\":\"x8\",\"yaxis\":\"y8\"},{\"marker\":{\"color\":\"black\",\"line\":{\"color\":\"Gray\",\"width\":2.0}},\"mode\":\"markers\",\"name\":\"Feasible Trial\",\"showlegend\":false,\"x\":[0.37261802964665525,0.4302103529954851,1.2403444499686993,0.2913161321956179,0.06335346991219014,0.8014981068390051,1.3037232119171354,0.6737814815357923,0.08061667196158001,0.19909087764458064,0.22860810364726095,0.39154904980004107,1.1607070324114797,0.21449852308698222,0.4611973589346946,0.07683281257299784,0.3342988172740612,0.07024978052731923,0.44067758715363037,0.11289961550192466,0.4454332587174054,0.170833719378713,0.8158469739665021,0.23833199848730477,0.5872205298145801,0.07462999684068243,0.14425866746053273,0.5024427608874781,0.2858858282316471,1.1061358297830441,0.0775715267835044,0.09206124739791155,0.791730225524486,0.12294594552258943,0.11453945538878198,0.22300400603846335,0.4690423881362291,0.5387811986415983,0.23139468096087693,0.49903767113685915,0.3586435694803785,0.08266412984232543,0.061890810258414995,0.3611403238640027,0.41821481158909674,0.05934372758102124,0.23933893594881248,0.28312534659167515,0.9604161694046423,1.2385034047049797,0.9617795531242967,0.1883269831616264,0.7236037473293148,0.18763723235897678,0.6737038228291367,0.6829105050078278,1.010782957820542,1.279423118344358,1.027343799285577,1.393688219299296,0.7833976985475681,0.745182214290828,0.964670015404193,0.6540545309653331,1.1953291517016462,1.3882214230513872,1.325337839400464,1.1914108739178135,1.2199069086903502,1.3892699781451654,1.3493314922882345,0.8697386381750832,0.7692317152504252,0.8403108445598261,0.5298991468872658,1.1669084173680544,0.9932396925917845,1.0335449434331951,0.7345832196506893,0.8040111672653617,0.5797979036184747,1.1652338565661338,1.3271097191798613,0.28137412387253274,1.1412756115401745,1.3369172222049917,0.8549632148697913,0.6901415507398432,1.3653862977006592,0.3419458699331405,0.4463107177909856,0.9242941176521275,1.3727974928404394,1.1117756828227603,1.2596546826370052,0.48077112760357127,0.6428183992367937,0.876690043856303,0.7374333851771311,1.0740708139452377],\"y\":[0.09902720698000689,0.07495065884252618,0.11722818259249132,0.10654051556344273,0.12107875320233528,0.050975336391352453,0.11481585342536937,0.0777090572655816,0.0921552693894246,0.08232337172361609,0.10477468179851718,0.050905800448511826,0.09015320494528678,0.07049465695008988,0.05296170646347989,0.06113264125987456,0.07077832499882215,0.1285638309175481,0.0583323073000736,0.07806862798643455,0.055561344466648385,0.06033182256372552,0.05486109173944057,0.12710851873825008,0.08911786523075182,0.06551298025916188,0.05600655288712946,0.053160554914312215,0.06443169699645514,0.08669068804175253,0.09460792648347063,0.06592738041412467,0.050969937387968726,0.09555332455569414,0.12538702733422158,0.12781298796233204,0.11342059010288874,0.11506998469034603,0.0966181879427425,0.0934501069161815,0.1236263388301731,0.09324985134841188,0.12977364282269246,0.0932411588284545,0.08187186451137436,0.0854575944175626,0.10352508481277979,0.09871140525066781,0.07392940298876588,0.07146576288920184,0.07158536591968369,0.1155586782567983,0.07268246334253498,0.11001938659356751,0.07102017819449391,0.0711828277867237,0.0781916875679353,0.09712938899900796,0.0886099986182871,0.08910329019323565,0.08605298236770582,0.09746361094595114,0.11671352755066873,0.08674244586118059,0.1034668692288277,0.10840740706356913,0.10652365422635028,0.1270727697087701,0.09887878080149139,0.10677325876804405,0.10589333021345024,0.10775739484293968,0.09748743352187071,0.08896116474440104,0.10309122924748707,0.10983793718178778,0.09419881014076208,0.1006926877268916,0.10879965959937889,0.10583387059374538,0.08132558677693003,0.10602026685756952,0.09365974991799551,0.07562955544673435,0.10629220090940215,0.10961335620742127,0.10208138990386721,0.09077521839470071,0.11101974802115665,0.10704852662722354,0.08945920210926947,0.12524004406479558,0.09716784888600193,0.11887711265993318,0.11752047079894938,0.07110206353225453,0.10590736237212967,0.08953412021177198,0.11679854470092635,0.1022828895356355],\"type\":\"scatter\",\"xaxis\":\"x8\",\"yaxis\":\"y8\"},{\"colorbar\":{\"title\":{\"text\":\"Objective Value\"}},\"colorscale\":[[0.0,\"rgb(247,251,255)\"],[0.125,\"rgb(222,235,247)\"],[0.25,\"rgb(198,219,239)\"],[0.375,\"rgb(158,202,225)\"],[0.5,\"rgb(107,174,214)\"],[0.625,\"rgb(66,146,198)\"],[0.75,\"rgb(33,113,181)\"],[0.875,\"rgb(8,81,156)\"],[1.0,\"rgb(8,48,107)\"]],\"connectgaps\":true,\"contours\":{\"coloring\":\"heatmap\"},\"hoverinfo\":\"none\",\"line\":{\"smoothing\":1.3},\"reversescale\":false,\"showscale\":false,\"x\":[0.048578747078395094,0.050905800448511826,0.050969937387968726,0.050975336391352453,0.05296170646347989,0.053160554914312215,0.05486109173944057,0.055561344466648385,0.05600655288712946,0.0583323073000736,0.06033182256372552,0.06113264125987456,0.06443169699645514,0.06551298025916188,0.06592738041412467,0.07049465695008988,0.07077832499882215,0.07102017819449391,0.07110206353225453,0.0711828277867237,0.07146576288920184,0.07158536591968369,0.07268246334253498,0.07392940298876588,0.07495065884252618,0.07562955544673435,0.0777090572655816,0.07806862798643455,0.0781916875679353,0.08132558677693003,0.08187186451137436,0.08232337172361609,0.0854575944175626,0.08605298236770582,0.08669068804175253,0.08674244586118059,0.0886099986182871,0.08896116474440104,0.08910329019323565,0.08911786523075182,0.08945920210926947,0.08953412021177198,0.09015320494528678,0.09077521839470071,0.0921552693894246,0.0932411588284545,0.09324985134841188,0.0934501069161815,0.09365974991799551,0.09419881014076208,0.09460792648347063,0.09555332455569414,0.0966181879427425,0.09712938899900796,0.09716784888600193,0.09746361094595114,0.09748743352187071,0.09871140525066781,0.09887878080149139,0.09902720698000689,0.1006926877268916,0.10208138990386721,0.1022828895356355,0.10309122924748707,0.1034668692288277,0.10352508481277979,0.10477468179851718,0.10583387059374538,0.10589333021345024,0.10590736237212967,0.10602026685756952,0.10629220090940215,0.10652365422635028,0.10654051556344273,0.10677325876804405,0.10704852662722354,0.10775739484293968,0.10840740706356913,0.10879965959937889,0.10961335620742127,0.10983793718178778,0.11001938659356751,0.11101974802115665,0.11342059010288874,0.11481585342536937,0.11506998469034603,0.1155586782567983,0.11671352755066873,0.11679854470092635,0.11722818259249132,0.11752047079894938,0.11887711265993318,0.12107875320233528,0.1236263388301731,0.12524004406479558,0.12538702733422158,0.1270727697087701,0.12710851873825008,0.12781298796233204,0.1285638309175481,0.12977364282269246,0.135990151296975],\"y\":[3.8,4,5,6,7,8,8.2],\"z\":[[null,null,null,null,null,null,null,null,null,null,null,null,null,null,null,null,null,null,null,null,null,null,null,null,null,null,null,null,null,null,null,null,null,null,null,null,null,null,null,null,null,null,null,null,null,null,null,null,null,null,null,null,null,null,null,null,null,null,null,null,null,null,null,null,null,null,null,null,null,null,null,null,null,null,null,null,null,null,null,null,null,null,null,null,null,null,null,null,null,null,null,null,null,null,null,null,null,null,null,null,null,null],[null,null,null,0.9606555957144005,null,null,null,0.9609287107190913,null,null,0.9612168556531854,null,null,0.9613821704761467,null,null,null,null,null,null,null,null,null,null,null,null,null,null,null,0.9619546626875429,null,null,null,null,0.96214149081791,null,null,null,null,null,null,null,null,null,0.9623908843766225,null,null,null,null,null,null,0.9623394701518059,null,null,null,null,null,null,null,null,null,0.9624786483783764,null,null,null,null,null,null,null,null,null,null,null,null,0.9625800527562116,null,null,null,null,null,null,0.9625102642506281,null,null,null,0.9626468658924481,null,null,null,null,null,null,null,null,0.9627292629778509,null,null,0.962769323570917,0.9626564160581988,null,0.9624301947143129,null],[null,null,null,null,null,null,null,null,0.9619599397686363,0.9620526692508211,null,null,null,null,null,null,0.9625054518319134,null,null,null,null,0.9623537543225964,null,null,null,null,null,0.9624080104413558,null,null,null,null,null,null,null,null,null,0.962893972296009,null,null,null,null,null,0.9628378873304204,null,null,0.9625949924601684,0.9626807163166813,0.9626932982690437,0.9625947725140719,0.9627124859030575,null,null,null,0.9628047920744219,null,0.9629800468609824,0.9627423485507023,0.9626070411585129,null,null,null,null,0.9624169615153054,0.9629449820939777,0.9627494252932693,0.9626569036452548,0.962810882646677,0.9630307068213589,null,0.9626075468684594,0.9625097712771821,0.9629279562763206,0.9628077478854271,null,null,0.9629572288612639,0.962900103327988,0.9626639425881546,null,null,null,0.9626397347977494,null,null,null,null,null,0.9625532567440285,null,0.9629758749346828,0.9627457908243177,null,0.9626940246674318,null,null,0.9627999859235136,null,null,null,null,null],[null,0.9623502303824265,0.9623637626220578,null,null,0.9623653524018592,null,null,null,null,null,null,0.9626490883305099,null,null,null,null,0.9627613247032819,0.9626214811073412,0.9626666032494187,0.9625549918213178,null,null,0.9629357943801992,0.962986655040611,0.9624241911336775,null,null,0.962833362639342,null,0.9625310159048288,null,0.9619580319516252,0.9629486080921084,null,0.9626135800199265,0.96288599611206,null,0.9627259638132427,null,null,0.9626337418925079,null,null,null,0.9623516965954544,null,null,null,null,null,null,0.9620485201030163,0.962939303698444,null,0.9620976703317481,null,null,null,0.9628134445060936,null,null,0.9623219874632589,null,null,null,null,null,null,0.9623315011692885,null,null,null,null,null,null,null,null,null,0.9624718796627947,0.9626304212549763,null,null,0.962134639764739,null,null,0.9615477882045862,0.9626044527948258,null,0.9622858276030607,null,null,0.9615038693824947,null,null,null,null,null,null,0.961867386412244,null,null],[null,null,null,null,0.9624375267419092,null,null,null,null,null,null,0.9615939638653248,null,null,0.9619617135685627,0.9617531655561535,null,null,null,null,null,null,0.9622393934996346,null,null,null,0.9624012493048962,null,null,null,null,null,null,null,null,null,null,null,null,null,0.9621413932385178,null,0.9624687051564809,null,null,null,null,null,null,null,null,null,null,null,null,null,null,null,null,null,0.9622567075405714,null,null,null,null,null,null,null,null,null,null,null,null,null,null,null,null,null,null,null,null,null,null,null,0.9619356772588304,null,null,null,null,null,null,null,null,null,null,0.9612653018976299,null,null,null,null,null,null],[null,null,null,null,null,null,0.9619071628960505,null,null,null,null,null,null,null,null,null,null,null,null,null,null,null,null,null,null,null,null,null,null,null,null,0.960860833635029,null,null,null,null,null,null,null,0.9613785883140606,null,null,null,null,null,null,null,null,null,null,null,null,null,null,null,null,null,null,null,null,null,null,null,null,null,null,null,null,null,null,null,null,null,null,null,0.9607607106577903,null,null,null,null,null,null,null,null,null,null,null,null,null,null,null,null,null,null,null,null,null,null,null,null,null,null],[null,null,null,null,null,null,null,null,null,null,null,null,null,null,null,null,null,null,null,null,null,null,null,null,null,null,null,null,null,null,null,null,null,null,null,null,null,null,null,null,null,null,null,null,null,null,null,null,null,null,null,null,null,null,null,null,null,null,null,null,null,null,null,null,null,null,null,null,null,null,null,null,null,null,null,null,null,null,null,null,null,null,null,null,null,null,null,null,null,null,null,null,null,null,null,null,null,null,null,null,null,null]],\"type\":\"contour\",\"xaxis\":\"x3\",\"yaxis\":\"y3\"},{\"marker\":{\"color\":\"black\",\"line\":{\"color\":\"Gray\",\"width\":2.0}},\"mode\":\"markers\",\"name\":\"Feasible Trial\",\"showlegend\":false,\"x\":[0.09902720698000689,0.07495065884252618,0.11722818259249132,0.10654051556344273,0.12107875320233528,0.050975336391352453,0.11481585342536937,0.0777090572655816,0.0921552693894246,0.08232337172361609,0.10477468179851718,0.050905800448511826,0.09015320494528678,0.07049465695008988,0.05296170646347989,0.06113264125987456,0.07077832499882215,0.1285638309175481,0.0583323073000736,0.07806862798643455,0.055561344466648385,0.06033182256372552,0.05486109173944057,0.12710851873825008,0.08911786523075182,0.06551298025916188,0.05600655288712946,0.053160554914312215,0.06443169699645514,0.08669068804175253,0.09460792648347063,0.06592738041412467,0.050969937387968726,0.09555332455569414,0.12538702733422158,0.12781298796233204,0.11342059010288874,0.11506998469034603,0.0966181879427425,0.0934501069161815,0.1236263388301731,0.09324985134841188,0.12977364282269246,0.0932411588284545,0.08187186451137436,0.0854575944175626,0.10352508481277979,0.09871140525066781,0.07392940298876588,0.07146576288920184,0.07158536591968369,0.1155586782567983,0.07268246334253498,0.11001938659356751,0.07102017819449391,0.0711828277867237,0.0781916875679353,0.09712938899900796,0.0886099986182871,0.08910329019323565,0.08605298236770582,0.09746361094595114,0.11671352755066873,0.08674244586118059,0.1034668692288277,0.10840740706356913,0.10652365422635028,0.1270727697087701,0.09887878080149139,0.10677325876804405,0.10589333021345024,0.10775739484293968,0.09748743352187071,0.08896116474440104,0.10309122924748707,0.10983793718178778,0.09419881014076208,0.1006926877268916,0.10879965959937889,0.10583387059374538,0.08132558677693003,0.10602026685756952,0.09365974991799551,0.07562955544673435,0.10629220090940215,0.10961335620742127,0.10208138990386721,0.09077521839470071,0.11101974802115665,0.10704852662722354,0.08945920210926947,0.12524004406479558,0.09716784888600193,0.11887711265993318,0.11752047079894938,0.07110206353225453,0.10590736237212967,0.08953412021177198,0.11679854470092635,0.1022828895356355],\"y\":[6,6,6,5,6,4,7,7,4,8,5,6,7,7,7,7,5,6,5,5,4,4,8,4,8,4,5,6,6,4,5,7,6,4,7,4,6,4,6,5,5,5,4,6,6,6,5,5,6,6,5,6,7,4,6,6,6,6,6,6,6,6,6,6,5,5,5,5,5,4,5,5,5,5,5,6,5,7,5,5,4,5,5,6,5,6,4,5,5,8,7,4,5,5,5,6,6,6,5,6],\"type\":\"scatter\",\"xaxis\":\"x3\",\"yaxis\":\"y3\"},{\"colorbar\":{\"title\":{\"text\":\"Objective Value\"}},\"colorscale\":[[0.0,\"rgb(247,251,255)\"],[0.125,\"rgb(222,235,247)\"],[0.25,\"rgb(198,219,239)\"],[0.375,\"rgb(158,202,225)\"],[0.5,\"rgb(107,174,214)\"],[0.625,\"rgb(66,146,198)\"],[0.75,\"rgb(33,113,181)\"],[0.875,\"rgb(8,81,156)\"],[1.0,\"rgb(8,48,107)\"]],\"connectgaps\":true,\"contours\":{\"coloring\":\"heatmap\"},\"hoverinfo\":\"none\",\"line\":{\"smoothing\":1.3},\"reversescale\":false,\"showscale\":false,\"x\":[0.048578747078395094,0.050905800448511826,0.050969937387968726,0.050975336391352453,0.05296170646347989,0.053160554914312215,0.05486109173944057,0.055561344466648385,0.05600655288712946,0.0583323073000736,0.06033182256372552,0.06113264125987456,0.06443169699645514,0.06551298025916188,0.06592738041412467,0.07049465695008988,0.07077832499882215,0.07102017819449391,0.07110206353225453,0.0711828277867237,0.07146576288920184,0.07158536591968369,0.07268246334253498,0.07392940298876588,0.07495065884252618,0.07562955544673435,0.0777090572655816,0.07806862798643455,0.0781916875679353,0.08132558677693003,0.08187186451137436,0.08232337172361609,0.0854575944175626,0.08605298236770582,0.08669068804175253,0.08674244586118059,0.0886099986182871,0.08896116474440104,0.08910329019323565,0.08911786523075182,0.08945920210926947,0.08953412021177198,0.09015320494528678,0.09077521839470071,0.0921552693894246,0.0932411588284545,0.09324985134841188,0.0934501069161815,0.09365974991799551,0.09419881014076208,0.09460792648347063,0.09555332455569414,0.0966181879427425,0.09712938899900796,0.09716784888600193,0.09746361094595114,0.09748743352187071,0.09871140525066781,0.09887878080149139,0.09902720698000689,0.1006926877268916,0.10208138990386721,0.1022828895356355,0.10309122924748707,0.1034668692288277,0.10352508481277979,0.10477468179851718,0.10583387059374538,0.10589333021345024,0.10590736237212967,0.10602026685756952,0.10629220090940215,0.10652365422635028,0.10654051556344273,0.10677325876804405,0.10704852662722354,0.10775739484293968,0.10840740706356913,0.10879965959937889,0.10961335620742127,0.10983793718178778,0.11001938659356751,0.11101974802115665,0.11342059010288874,0.11481585342536937,0.11506998469034603,0.1155586782567983,0.11671352755066873,0.11679854470092635,0.11722818259249132,0.11752047079894938,0.11887711265993318,0.12107875320233528,0.1236263388301731,0.12524004406479558,0.12538702733422158,0.1270727697087701,0.12710851873825008,0.12781298796233204,0.1285638309175481,0.12977364282269246,0.135990151296975],\"y\":[0.05067984547317382,0.05934372758102124,0.061890810258414995,0.06335346991219014,0.07024978052731923,0.07462999684068243,0.07683281257299784,0.0775715267835044,0.08061667196158001,0.08266412984232543,0.09206124739791155,0.11289961550192466,0.11453945538878198,0.12294594552258943,0.14425866746053273,0.170833719378713,0.18763723235897678,0.1883269831616264,0.19909087764458064,0.21449852308698222,0.22300400603846335,0.22860810364726095,0.23139468096087693,0.23833199848730477,0.23933893594881248,0.28137412387253274,0.28312534659167515,0.2858858282316471,0.2913161321956179,0.3342988172740612,0.3419458699331405,0.3586435694803785,0.3611403238640027,0.37261802964665525,0.39154904980004107,0.41821481158909674,0.4302103529954851,0.44067758715363037,0.4454332587174054,0.4463107177909856,0.4611973589346946,0.4690423881362291,0.48077112760357127,0.49903767113685915,0.5024427608874781,0.5298991468872658,0.5387811986415983,0.5797979036184747,0.5872205298145801,0.6428183992367937,0.6540545309653331,0.6737038228291367,0.6737814815357923,0.6829105050078278,0.6901415507398432,0.7236037473293148,0.7345832196506893,0.7374333851771311,0.745182214290828,0.7692317152504252,0.7833976985475681,0.791730225524486,0.8014981068390051,0.8040111672653617,0.8158469739665021,0.8403108445598261,0.8549632148697913,0.8697386381750832,0.876690043856303,0.9242941176521275,0.9604161694046423,0.9617795531242967,0.964670015404193,0.9932396925917845,1.010782957820542,1.027343799285577,1.0335449434331951,1.0740708139452377,1.1061358297830441,1.1117756828227603,1.1412756115401745,1.1607070324114797,1.1652338565661338,1.1669084173680544,1.1914108739178135,1.1953291517016462,1.2199069086903502,1.2385034047049797,1.2403444499686993,1.2596546826370052,1.279423118344358,1.3037232119171354,1.325337839400464,1.3271097191798613,1.3369172222049917,1.3493314922882345,1.3653862977006592,1.3727974928404394,1.3882214230513872,1.3892699781451654,1.393688219299296,1.6319436897800885],\"z\":[[null,null,null,null,null,null,null,null,null,null,null,null,null,null,null,null,null,null,null,null,null,null,null,null,null,null,null,null,null,null,null,null,null,null,null,null,null,null,null,null,null,null,null,null,null,null,null,null,null,null,null,null,null,null,null,null,null,null,null,null,null,null,null,null,null,null,null,null,null,null,null,null,null,null,null,null,null,null,null,null,null,null,null,null,null,null,null,null,null,null,null,null,null,null,null,null,null,null,null,null,null,null],[null,null,null,null,null,null,null,null,null,null,null,null,null,null,null,null,null,null,null,null,null,null,null,null,null,null,null,null,null,null,null,null,0.9619580319516252,null,null,null,null,null,null,null,null,null,null,null,null,null,null,null,null,null,null,null,null,null,null,null,null,null,null,null,null,null,null,null,null,null,null,null,null,null,null,null,null,null,null,null,null,null,null,null,null,null,null,null,null,null,null,null,null,null,null,null,null,null,null,null,null,null,null,null,null,null],[null,null,null,null,null,null,null,null,null,null,null,null,null,null,null,null,null,null,null,null,null,null,null,null,null,null,null,null,null,null,null,null,null,null,null,null,null,null,null,null,null,null,null,null,null,null,null,null,null,null,null,null,null,null,null,null,null,null,null,null,null,null,null,null,null,null,null,null,null,null,null,null,null,null,null,null,null,null,null,null,null,null,null,null,null,null,null,null,null,null,null,null,null,null,null,null,null,null,null,null,0.9624301947143129,null],[null,null,null,null,null,null,null,null,null,null,null,null,null,null,null,null,null,null,null,null,null,null,null,null,null,null,null,null,null,null,null,null,null,null,null,null,null,null,null,null,null,null,null,null,null,null,null,null,null,null,null,null,null,null,null,null,null,null,null,null,null,null,null,null,null,null,null,null,null,null,null,null,null,null,null,null,null,null,null,null,null,null,null,null,null,null,null,null,null,null,null,null,0.9615038693824947,null,null,null,null,null,null,null,null,null],[null,null,null,null,null,null,null,null,null,null,null,null,null,null,null,null,null,null,null,null,null,null,null,null,null,null,null,null,null,null,null,null,null,null,null,null,null,null,null,null,null,null,null,null,null,null,null,null,null,null,null,null,null,null,null,null,null,null,null,null,null,null,null,null,null,null,null,null,null,null,null,null,null,null,null,null,null,null,null,null,null,null,null,null,null,null,null,null,null,null,null,null,null,null,null,null,null,null,null,0.961867386412244,null,null],[null,null,null,null,null,null,null,null,null,null,null,null,null,0.9613821704761467,null,null,null,null,null,null,null,null,null,null,null,null,null,null,null,null,null,null,null,null,null,null,null,null,null,null,null,null,null,null,null,null,null,null,null,null,null,null,null,null,null,null,null,null,null,null,null,null,null,null,null,null,null,null,null,null,null,null,null,null,null,null,null,null,null,null,null,null,null,null,null,null,null,null,null,null,null,null,null,null,null,null,null,null,null,null,null,null],[null,null,null,null,null,null,null,null,null,null,null,0.9615939638653248,null,null,null,null,null,null,null,null,null,null,null,null,null,null,null,null,null,null,null,null,null,null,null,null,null,null,null,null,null,null,null,null,null,null,null,null,null,null,null,null,null,null,null,null,null,null,null,null,null,null,null,null,null,null,null,null,null,null,null,null,null,null,null,null,null,null,null,null,null,null,null,null,null,null,null,null,null,null,null,null,null,null,null,null,null,null,null,null,null,null],[null,null,null,null,null,null,null,null,null,null,null,null,null,null,null,null,null,null,null,null,null,null,null,null,null,null,null,null,null,null,null,null,null,null,null,null,null,null,null,null,null,null,null,null,null,null,null,null,null,null,0.9627124859030575,null,null,null,null,null,null,null,null,null,null,null,null,null,null,null,null,null,null,null,null,null,null,null,null,null,null,null,null,null,null,null,null,null,null,null,null,null,null,null,null,null,null,null,null,null,null,null,null,null,null,null],[null,null,null,null,null,null,null,null,null,null,null,null,null,null,null,null,null,null,null,null,null,null,null,null,null,null,null,null,null,null,null,null,null,null,null,null,null,null,null,null,null,null,null,null,0.9623908843766225,null,null,null,null,null,null,null,null,null,null,null,null,null,null,null,null,null,null,null,null,null,null,null,null,null,null,null,null,null,null,null,null,null,null,null,null,null,null,null,null,null,null,null,null,null,null,null,null,null,null,null,null,null,null,null,null,null],[null,null,null,null,null,null,null,null,null,null,null,null,null,null,null,null,null,null,null,null,null,null,null,null,null,null,null,null,null,null,null,null,null,null,null,null,null,null,null,null,null,null,null,null,null,null,0.9625949924601684,null,null,null,null,null,null,null,null,null,null,null,null,null,null,null,null,null,null,null,null,null,null,null,null,null,null,null,null,null,null,null,null,null,null,null,null,null,null,null,null,null,null,null,null,null,null,null,null,null,null,null,null,null,null,null],[null,null,null,null,null,null,null,null,null,null,null,null,null,null,0.9619617135685627,null,null,null,null,null,null,null,null,null,null,null,null,null,null,null,null,null,null,null,null,null,null,null,null,null,null,null,null,null,null,null,null,null,null,null,null,null,null,null,null,null,null,null,null,null,null,null,null,null,null,null,null,null,null,null,null,null,null,null,null,null,null,null,null,null,null,null,null,null,null,null,null,null,null,null,null,null,null,null,null,null,null,null,null,null,null,null],[null,null,null,null,null,null,null,null,null,null,null,null,null,null,null,null,null,null,null,null,null,null,null,null,null,null,null,0.9624080104413558,null,null,null,null,null,null,null,null,null,null,null,null,null,null,null,null,null,null,null,null,null,null,null,null,null,null,null,null,null,null,null,null,null,null,null,null,null,null,null,null,null,null,null,null,null,null,null,null,null,null,null,null,null,null,null,null,null,null,null,null,null,null,null,null,null,null,null,null,null,null,null,null,null,null],[null,null,null,null,null,null,null,null,null,null,null,null,null,null,null,null,null,null,null,null,null,null,null,null,null,null,null,null,null,null,null,null,null,null,null,null,null,null,null,null,null,null,null,null,null,null,null,null,null,null,null,null,null,null,null,null,null,null,null,null,null,null,null,null,null,null,null,null,null,null,null,null,null,null,null,null,null,null,null,null,null,null,null,null,null,null,null,null,null,null,null,null,null,null,null,0.9612653018976299,null,null,null,null,null,null],[null,null,null,null,null,null,null,null,null,null,null,null,null,null,null,null,null,null,null,null,null,null,null,null,null,null,null,null,null,null,null,null,null,null,null,null,null,null,null,null,null,null,null,null,null,null,null,null,null,null,null,0.9623394701518059,null,null,null,null,null,null,null,null,null,null,null,null,null,null,null,null,null,null,null,null,null,null,null,null,null,null,null,null,null,null,null,null,null,null,null,null,null,null,null,null,null,null,null,null,null,null,null,null,null,null],[null,null,null,null,null,null,null,null,0.9619599397686363,null,null,null,null,null,null,null,null,null,null,null,null,null,null,null,null,null,null,null,null,null,null,null,null,null,null,null,null,null,null,null,null,null,null,null,null,null,null,null,null,null,null,null,null,null,null,null,null,null,null,null,null,null,null,null,null,null,null,null,null,null,null,null,null,null,null,null,null,null,null,null,null,null,null,null,null,null,null,null,null,null,null,null,null,null,null,null,null,null,null,null,null,null],[null,null,null,null,null,null,null,null,null,null,0.9612168556531854,null,null,null,null,null,null,null,null,null,null,null,null,null,null,null,null,null,null,null,null,null,null,null,null,null,null,null,null,null,null,null,null,null,null,null,null,null,null,null,null,null,null,null,null,null,null,null,null,null,null,null,null,null,null,null,null,null,null,null,null,null,null,null,null,null,null,null,null,null,null,null,null,null,null,null,null,null,null,null,null,null,null,null,null,null,null,null,null,null,null,null],[null,null,null,null,null,null,null,null,null,null,null,null,null,null,null,null,null,null,null,null,null,null,null,null,null,null,null,null,null,null,null,null,null,null,null,null,null,null,null,null,null,null,null,null,null,null,null,null,null,null,null,null,null,null,null,null,null,null,null,null,null,null,null,null,null,null,null,null,null,null,null,null,null,null,null,null,null,null,null,null,null,0.9625102642506281,null,null,null,null,null,null,null,null,null,null,null,null,null,null,null,null,null,null,null,null],[null,null,null,null,null,null,null,null,null,null,null,null,null,null,null,null,null,null,null,null,null,null,null,null,null,null,null,null,null,null,null,null,null,null,null,null,null,null,null,null,null,null,null,null,null,null,null,null,null,null,null,null,null,null,null,null,null,null,null,null,null,null,null,null,null,null,null,null,null,null,null,null,null,null,null,null,null,null,null,null,null,null,null,null,null,null,0.9615477882045862,null,null,null,null,null,null,null,null,null,null,null,null,null,null,null],[null,null,null,null,null,null,null,null,null,null,null,null,null,null,null,null,null,null,null,null,null,null,null,null,null,null,null,null,null,null,null,0.960860833635029,null,null,null,null,null,null,null,null,null,null,null,null,null,null,null,null,null,null,null,null,null,null,null,null,null,null,null,null,null,null,null,null,null,null,null,null,null,null,null,null,null,null,null,null,null,null,null,null,null,null,null,null,null,null,null,null,null,null,null,null,null,null,null,null,null,null,null,null,null,null],[null,null,null,null,null,null,null,null,null,null,null,null,null,null,null,0.9617531655561535,null,null,null,null,null,null,null,null,null,null,null,null,null,null,null,null,null,null,null,null,null,null,null,null,null,null,null,null,null,null,null,null,null,null,null,null,null,null,null,null,null,null,null,null,null,null,null,null,null,null,null,null,null,null,null,null,null,null,null,null,null,null,null,null,null,null,null,null,null,null,null,null,null,null,null,null,null,null,null,null,null,null,null,null,null,null],[null,null,null,null,null,null,null,null,null,null,null,null,null,null,null,null,null,null,null,null,null,null,null,null,null,null,null,null,null,null,null,null,null,null,null,null,null,null,null,null,null,null,null,null,null,null,null,null,null,null,null,null,null,null,null,null,null,null,null,null,null,null,null,null,null,null,null,null,null,null,null,null,null,null,null,null,null,null,null,null,null,null,null,null,null,null,null,null,null,null,null,null,null,null,null,null,null,null,0.9626564160581988,null,null,null],[null,null,null,null,null,null,null,null,null,null,null,null,null,null,null,null,null,null,null,null,null,null,null,null,null,null,null,null,null,null,null,null,null,null,null,null,null,null,null,null,null,null,null,null,null,null,null,null,null,null,null,null,null,null,null,null,null,null,null,null,null,null,null,null,null,null,0.9626569036452548,null,null,null,null,null,null,null,null,null,null,null,null,null,null,null,null,null,null,null,null,null,null,null,null,null,null,null,null,null,null,null,null,null,null,null],[null,null,null,null,null,null,null,null,null,null,null,null,null,null,null,null,null,null,null,null,null,null,null,null,null,null,null,null,null,null,null,null,null,null,null,null,null,null,null,null,null,null,null,null,null,null,null,null,null,null,null,null,0.9620485201030163,null,null,null,null,null,null,null,null,null,null,null,null,null,null,null,null,null,null,null,null,null,null,null,null,null,null,null,null,null,null,null,null,null,null,null,null,null,null,null,null,null,null,null,null,null,null,null,null,null],[null,null,null,null,null,null,null,null,null,null,null,null,null,null,null,null,null,null,null,null,null,null,null,null,null,null,null,null,null,null,null,null,null,null,null,null,null,null,null,null,null,null,null,null,null,null,null,null,null,null,null,null,null,null,null,null,null,null,null,null,null,null,null,null,null,null,null,null,null,null,null,null,null,null,null,null,null,null,null,null,null,null,null,null,null,null,null,null,null,null,null,null,null,null,null,null,null,0.962769323570917,null,null,null,null],[null,null,null,null,null,null,null,null,null,null,null,null,null,null,null,null,null,null,null,null,null,null,null,null,null,null,null,null,null,null,null,null,null,null,null,null,null,null,null,null,null,null,null,null,null,null,null,null,null,null,null,null,null,null,null,null,null,null,null,null,null,null,null,null,null,0.9627494252932693,null,null,null,null,null,null,null,null,null,null,null,null,null,null,null,null,null,null,null,null,null,null,null,null,null,null,null,null,null,null,null,null,null,null,null,null],[null,null,null,null,null,null,null,null,null,null,null,null,null,null,null,null,null,null,null,null,null,null,null,null,null,0.9624241911336775,null,null,null,null,null,null,null,null,null,null,null,null,null,null,null,null,null,null,null,null,null,null,null,null,null,null,null,null,null,null,null,null,null,null,null,null,null,null,null,null,null,null,null,null,null,null,null,null,null,null,null,null,null,null,null,null,null,null,null,null,null,null,null,null,null,null,null,null,null,null,null,null,null,null,null,null],[null,null,null,null,null,null,null,null,null,null,null,null,null,null,null,null,null,null,null,null,null,null,null,null,null,null,null,null,null,null,null,null,null,null,null,null,null,null,null,null,null,null,null,null,null,null,null,null,null,null,null,null,null,null,null,null,null,0.9627423485507023,null,null,null,null,null,null,null,null,null,null,null,null,null,null,null,null,null,null,null,null,null,null,null,null,null,null,null,null,null,null,null,null,null,null,null,null,null,null,null,null,null,null,null,null],[null,null,null,null,null,null,null,null,null,null,null,null,0.9626490883305099,null,null,null,null,null,null,null,null,null,null,null,null,null,null,null,null,null,null,null,null,null,null,null,null,null,null,null,null,null,null,null,null,null,null,null,null,null,null,null,null,null,null,null,null,null,null,null,null,null,null,null,null,null,null,null,null,null,null,null,null,null,null,null,null,null,null,null,null,null,null,null,null,null,null,null,null,null,null,null,null,null,null,null,null,null,null,null,null,null],[null,null,null,null,null,null,null,null,null,null,null,null,null,null,null,null,null,null,null,null,null,null,null,null,null,null,null,null,null,null,null,null,null,null,null,null,null,null,null,null,null,null,null,null,null,null,null,null,null,null,null,null,null,null,null,null,null,null,null,null,null,null,null,null,null,null,null,null,null,null,null,null,null,0.9628077478854271,null,null,null,null,null,null,null,null,null,null,null,null,null,null,null,null,null,null,null,null,null,null,null,null,null,null,null,null],[null,null,null,null,null,null,null,null,null,null,null,null,null,null,null,null,0.9625054518319134,null,null,null,null,null,null,null,null,null,null,null,null,null,null,null,null,null,null,null,null,null,null,null,null,null,null,null,null,null,null,null,null,null,null,null,null,null,null,null,null,null,null,null,null,null,null,null,null,null,null,null,null,null,null,null,null,null,null,null,null,null,null,null,null,null,null,null,null,null,null,null,null,null,null,null,null,null,null,null,null,null,null,null,null,null],[null,null,null,null,null,null,null,null,null,null,null,null,null,null,null,null,null,null,null,null,null,null,null,null,null,null,null,null,null,null,null,null,null,null,null,null,null,null,null,null,null,null,null,null,null,null,null,null,null,null,null,null,null,null,null,null,null,null,null,null,null,null,null,null,null,null,null,null,null,null,null,null,null,null,null,0.9607607106577903,null,null,null,null,null,null,null,null,null,null,null,null,null,null,null,null,null,null,null,null,null,null,null,null,null,null],[null,null,null,null,null,null,null,null,null,null,null,null,null,null,null,null,null,null,null,null,null,null,null,null,null,null,null,null,null,null,null,null,null,null,null,null,null,null,null,null,null,null,null,null,null,null,null,null,null,null,null,null,null,null,null,null,null,null,null,null,null,null,null,null,null,null,null,null,null,null,null,null,null,null,null,null,null,null,null,null,null,null,null,null,null,null,null,null,null,null,null,null,null,0.9626940246674318,null,null,null,null,null,null,null,null],[null,null,null,null,null,null,null,null,null,null,null,null,null,null,null,null,null,null,null,null,null,null,null,null,null,null,null,null,null,null,null,null,null,null,null,null,null,null,null,null,null,null,null,null,null,0.9623516965954544,null,null,null,null,null,null,null,null,null,null,null,null,null,null,null,null,null,null,null,null,null,null,null,null,null,null,null,null,null,null,null,null,null,null,null,null,null,null,null,null,null,null,null,null,null,null,null,null,null,null,null,null,null,null,null,null],[null,null,null,null,null,null,null,null,null,null,null,null,null,null,null,null,null,null,null,null,null,null,null,null,null,null,null,null,null,null,null,null,null,null,null,null,null,null,null,null,null,null,null,null,null,null,null,null,null,null,null,null,null,null,null,null,null,null,null,0.9628134445060936,null,null,null,null,null,null,null,null,null,null,null,null,null,null,null,null,null,null,null,null,null,null,null,null,null,null,null,null,null,null,null,null,null,null,null,null,null,null,null,null,null,null],[null,0.9623502303824265,null,null,null,null,null,null,null,null,null,null,null,null,null,null,null,null,null,null,null,null,null,null,null,null,null,null,null,null,null,null,null,null,null,null,null,null,null,null,null,null,null,null,null,null,null,null,null,null,null,null,null,null,null,null,null,null,null,null,null,null,null,null,null,null,null,null,null,null,null,null,null,null,null,null,null,null,null,null,null,null,null,null,null,null,null,null,null,null,null,null,null,null,null,null,null,null,null,null,null,null],[null,null,null,null,null,null,null,null,null,null,null,null,null,null,null,null,null,null,null,null,null,null,null,null,null,null,null,null,null,null,0.9625310159048288,null,null,null,null,null,null,null,null,null,null,null,null,null,null,null,null,null,null,null,null,null,null,null,null,null,null,null,null,null,null,null,null,null,null,null,null,null,null,null,null,null,null,null,null,null,null,null,null,null,null,null,null,null,null,null,null,null,null,null,null,null,null,null,null,null,null,null,null,null,null,null],[null,null,null,null,null,null,null,null,null,null,null,null,null,null,null,null,null,null,null,null,null,null,null,null,0.962986655040611,null,null,null,null,null,null,null,null,null,null,null,null,null,null,null,null,null,null,null,null,null,null,null,null,null,null,null,null,null,null,null,null,null,null,null,null,null,null,null,null,null,null,null,null,null,null,null,null,null,null,null,null,null,null,null,null,null,null,null,null,null,null,null,null,null,null,null,null,null,null,null,null,null,null,null,null,null],[null,null,null,null,null,null,null,null,null,0.9620526692508211,null,null,null,null,null,null,null,null,null,null,null,null,null,null,null,null,null,null,null,null,null,null,null,null,null,null,null,null,null,null,null,null,null,null,null,null,null,null,null,null,null,null,null,null,null,null,null,null,null,null,null,null,null,null,null,null,null,null,null,null,null,null,null,null,null,null,null,null,null,null,null,null,null,null,null,null,null,null,null,null,null,null,null,null,null,null,null,null,null,null,null,null],[null,null,null,null,null,null,null,0.9609287107190913,null,null,null,null,null,null,null,null,null,null,null,null,null,null,null,null,null,null,null,null,null,null,null,null,null,null,null,null,null,null,null,null,null,null,null,null,null,null,null,null,null,null,null,null,null,null,null,null,null,null,null,null,null,null,null,null,null,null,null,null,null,null,null,null,null,null,null,null,null,null,null,null,null,null,null,null,null,null,null,null,null,null,null,null,null,null,null,null,null,null,null,null,null,null],[null,null,null,null,null,null,null,null,null,null,null,null,null,null,null,null,null,null,null,null,null,null,null,null,null,null,null,null,null,null,null,null,null,null,null,null,null,null,null,null,0.9621413932385178,null,null,null,null,null,null,null,null,null,null,null,null,null,null,null,null,null,null,null,null,null,null,null,null,null,null,null,null,null,null,null,null,null,null,null,null,null,null,null,null,null,null,null,null,null,null,null,null,null,null,null,null,null,null,null,null,null,null,null,null,null],[null,null,null,null,0.9624375267419092,null,null,null,null,null,null,null,null,null,null,null,null,null,null,null,null,null,null,null,null,null,null,null,null,null,null,null,null,null,null,null,null,null,null,null,null,null,null,null,null,null,null,null,null,null,null,null,null,null,null,null,null,null,null,null,null,null,null,null,null,null,null,null,null,null,null,null,null,null,null,null,null,null,null,null,null,null,null,null,null,null,null,null,null,null,null,null,null,null,null,null,null,null,null,null,null,null],[null,null,null,null,null,null,null,null,null,null,null,null,null,null,null,null,null,null,null,null,null,null,null,null,null,null,null,null,null,null,null,null,null,null,null,null,null,null,null,null,null,null,null,null,null,null,null,null,null,null,null,null,null,null,null,null,null,null,null,null,null,null,null,null,null,null,null,null,null,null,null,null,null,null,null,null,null,null,null,null,null,null,null,0.962134639764739,null,null,null,null,null,null,null,null,null,null,null,null,null,null,null,null,null,null],[null,null,null,null,null,null,null,null,null,null,null,null,null,null,null,null,null,null,0.9626214811073412,null,null,null,null,null,null,null,null,null,null,null,null,null,null,null,null,null,null,null,null,null,null,null,null,null,null,null,null,null,null,null,null,null,null,null,null,null,null,null,null,null,null,null,null,null,null,null,null,null,null,null,null,null,null,null,null,null,null,null,null,null,null,null,null,null,null,null,null,null,null,null,null,null,null,null,null,null,null,null,null,null,null,null],[null,null,null,null,null,null,null,null,null,null,null,null,null,null,null,null,null,null,null,null,null,null,null,null,null,null,null,null,null,null,null,null,null,null,null,null,null,null,null,null,null,null,null,null,null,null,null,0.9626807163166813,null,null,null,null,null,null,null,null,null,null,null,null,null,null,null,null,null,null,null,null,null,null,null,null,null,null,null,null,null,null,null,null,null,null,null,null,null,null,null,null,null,null,null,null,null,null,null,null,null,null,null,null,null,null],[null,null,null,null,null,0.9623653524018592,null,null,null,null,null,null,null,null,null,null,null,null,null,null,null,null,null,null,null,null,null,null,null,null,null,null,null,null,null,null,null,null,null,null,null,null,null,null,null,null,null,null,null,null,null,null,null,null,null,null,null,null,null,null,null,null,null,null,null,null,null,null,null,null,null,null,null,null,null,null,null,null,null,null,null,null,null,null,null,null,null,null,null,null,null,null,null,null,null,null,null,null,null,null,null,null],[null,null,null,null,null,null,null,null,null,null,null,null,null,null,null,null,null,null,null,null,null,null,null,null,null,null,null,null,null,null,null,null,null,null,null,null,null,null,null,null,null,null,null,null,null,null,null,null,null,null,null,null,null,null,null,null,null,null,null,null,null,null,null,0.9624169615153054,null,null,null,null,null,null,null,null,null,null,null,null,null,null,null,null,null,null,null,null,null,null,null,null,null,null,null,null,null,null,null,null,null,null,null,null,null,null],[null,null,null,null,null,null,null,null,null,null,null,null,null,null,null,null,null,null,null,null,null,null,null,null,null,null,null,null,null,null,null,null,null,null,null,null,null,null,null,null,null,null,null,null,null,null,null,null,null,null,null,null,null,null,null,null,null,null,null,null,null,null,null,null,null,null,null,null,null,null,null,null,null,null,null,null,null,null,null,null,null,null,null,null,null,0.9626468658924481,null,null,null,null,null,null,null,null,null,null,null,null,null,null,null,null],[null,null,null,null,null,null,null,null,null,null,null,null,null,null,null,null,null,null,null,null,null,null,null,null,null,null,null,null,null,0.9619546626875429,null,null,null,null,null,null,null,null,null,null,null,null,null,null,null,null,null,null,null,null,null,null,null,null,null,null,null,null,null,null,null,null,null,null,null,null,null,null,null,null,null,null,null,null,null,null,null,null,null,null,null,null,null,null,null,null,null,null,null,null,null,null,null,null,null,null,null,null,null,null,null,null],[null,null,null,null,null,null,null,null,null,null,null,null,null,null,null,null,null,null,null,null,null,null,null,null,null,null,null,null,null,null,null,null,null,null,null,null,null,null,null,0.9613785883140606,null,null,null,null,null,null,null,null,null,null,null,null,null,null,null,null,null,null,null,null,null,null,null,null,null,null,null,null,null,null,null,null,null,null,null,null,null,null,null,null,null,null,null,null,null,null,null,null,null,null,null,null,null,null,null,null,null,null,null,null,null,null],[null,null,null,null,null,null,null,null,null,null,null,null,null,null,null,null,null,null,null,null,null,null,null,null,null,null,null,null,null,null,null,null,null,null,null,null,null,null,null,null,null,null,null,null,null,null,null,null,null,null,null,null,null,null,null,null,null,null,null,null,null,null,null,null,null,null,null,null,null,0.9623315011692885,null,null,null,null,null,null,null,null,null,null,null,null,null,null,null,null,null,null,null,null,null,null,null,null,null,null,null,null,null,null,null,null],[null,null,null,null,null,null,null,null,null,null,null,null,null,null,null,null,null,null,null,null,null,null,null,null,null,null,null,null,null,null,null,null,null,null,null,0.9626135800199265,null,null,null,null,null,null,null,null,null,null,null,null,null,null,null,null,null,null,null,null,null,null,null,null,null,null,null,null,null,null,null,null,null,null,null,null,null,null,null,null,null,null,null,null,null,null,null,null,null,null,null,null,null,null,null,null,null,null,null,null,null,null,null,null,null,null],[null,null,null,null,null,null,null,null,null,null,null,null,null,null,null,null,null,0.9627613247032819,null,null,null,null,null,null,null,null,null,null,null,null,null,null,null,null,null,null,null,null,null,null,null,null,null,null,null,null,null,null,null,null,null,null,null,null,null,null,null,null,null,null,null,null,null,null,null,null,null,null,null,null,null,null,null,null,null,null,null,null,null,null,null,null,null,null,null,null,null,null,null,null,null,null,null,null,null,null,null,null,null,null,null,null],[null,null,null,null,null,null,null,null,null,null,null,null,null,null,null,null,null,null,null,null,null,null,null,null,null,null,0.9624012493048962,null,null,null,null,null,null,null,null,null,null,null,null,null,null,null,null,null,null,null,null,null,null,null,null,null,null,null,null,null,null,null,null,null,null,null,null,null,null,null,null,null,null,null,null,null,null,null,null,null,null,null,null,null,null,null,null,null,null,null,null,null,null,null,null,null,null,null,null,null,null,null,null,null,null,null],[null,null,null,null,null,null,null,null,null,null,null,null,null,null,null,null,null,null,null,0.9626666032494187,null,null,null,null,null,null,null,null,null,null,null,null,null,null,null,null,null,null,null,null,null,null,null,null,null,null,null,null,null,null,null,null,null,null,null,null,null,null,null,null,null,null,null,null,null,null,null,null,null,null,null,null,null,null,null,null,null,null,null,null,null,null,null,null,null,null,null,null,null,null,null,null,null,null,null,null,null,null,null,null,null,null],[null,null,null,null,null,null,null,null,null,null,null,null,null,null,null,null,null,null,null,null,null,null,null,null,null,null,null,null,null,null,null,null,null,null,null,null,null,null,null,null,null,null,null,0.9628378873304204,null,null,null,null,null,null,null,null,null,null,null,null,null,null,null,null,null,null,null,null,null,null,null,null,null,null,null,null,null,null,null,null,null,null,null,null,null,null,null,null,null,null,null,null,null,null,null,null,null,null,null,null,null,null,null,null,null,null],[null,null,null,null,null,null,null,null,null,null,null,null,null,null,null,null,null,null,null,null,null,null,0.9622393934996346,null,null,null,null,null,null,null,null,null,null,null,null,null,null,null,null,null,null,null,null,null,null,null,null,null,null,null,null,null,null,null,null,null,null,null,null,null,null,null,null,null,null,null,null,null,null,null,null,null,null,null,null,null,null,null,null,null,null,null,null,null,null,null,null,null,null,null,null,null,null,null,null,null,null,null,null,null,null,null],[null,null,null,null,null,null,null,null,null,null,null,null,null,null,null,null,null,null,null,null,null,null,null,null,null,null,null,null,null,null,null,null,null,null,null,null,null,null,null,null,null,null,null,null,null,null,null,null,null,null,null,null,null,null,null,null,null,null,null,null,null,null,null,null,null,null,null,null,null,null,null,null,null,null,null,null,null,null,0.9626639425881546,null,null,null,null,null,null,null,null,null,null,null,null,null,null,null,null,null,null,null,null,null,null,null],[null,null,null,null,null,null,null,null,null,null,null,null,null,null,null,null,null,null,null,null,null,null,null,null,null,null,null,null,null,null,null,null,null,null,null,null,null,null,null,null,null,null,null,null,null,null,null,null,null,null,null,null,null,null,null,null,null,null,null,null,null,null,null,null,null,null,null,null,null,null,null,null,null,null,null,null,null,null,null,null,null,null,null,null,null,null,null,null,0.9625532567440285,null,null,null,null,null,null,null,null,null,null,null,null,null],[null,null,null,null,null,null,null,null,null,null,null,null,null,null,null,null,null,null,null,null,null,null,null,null,null,null,null,null,null,null,null,null,null,null,null,null,null,null,null,null,null,null,null,null,null,null,null,null,null,null,null,null,null,null,null,0.9620976703317481,null,null,null,null,null,null,null,null,null,null,null,null,null,null,null,null,null,null,null,null,null,null,null,null,null,null,null,null,null,null,null,null,null,null,null,null,null,null,null,null,null,null,null,null,null,null],[null,null,null,null,null,null,null,null,null,null,null,null,null,null,null,null,null,null,null,null,null,null,null,null,null,null,null,null,null,null,null,null,null,null,null,null,null,null,null,null,null,null,null,null,null,null,null,null,null,null,null,null,null,null,null,null,0.9629800468609824,null,null,null,null,null,null,null,null,null,null,null,null,null,null,null,null,null,null,null,null,null,null,null,null,null,null,null,null,null,null,null,null,null,null,null,null,null,null,null,null,null,null,null,null,null],[null,null,null,null,null,null,null,null,null,null,null,null,null,null,null,null,null,null,null,null,null,null,null,null,null,null,null,null,null,null,null,null,null,0.9629486080921084,null,null,null,null,null,null,null,null,null,null,null,null,null,null,null,null,null,null,null,null,null,null,null,null,null,null,null,null,null,null,null,null,null,null,null,null,null,null,null,null,null,null,null,null,null,null,null,null,null,null,null,null,null,null,null,null,null,null,null,null,null,null,null,null,null,null,null,null],[null,null,0.9623637626220578,null,null,null,null,null,null,null,null,null,null,null,null,null,null,null,null,null,null,null,null,null,null,null,null,null,null,null,null,null,null,null,null,null,null,null,null,null,null,null,null,null,null,null,null,null,null,null,null,null,null,null,null,null,null,null,null,null,null,null,null,null,null,null,null,null,null,null,null,null,null,null,null,null,null,null,null,null,null,null,null,null,null,null,null,null,null,null,null,null,null,null,null,null,null,null,null,null,null,null],[null,null,null,0.9606555957144005,null,null,null,null,null,null,null,null,null,null,null,null,null,null,null,null,null,null,null,null,null,null,null,null,null,null,null,null,null,null,null,null,null,null,null,null,null,null,null,null,null,null,null,null,null,null,null,null,null,null,null,null,null,null,null,null,null,null,null,null,null,null,null,null,null,null,null,null,null,null,null,null,null,null,null,null,null,null,null,null,null,null,null,null,null,null,null,null,null,null,null,null,null,null,null,null,null,null],[null,null,null,null,null,null,null,null,null,null,null,null,null,null,null,null,null,null,null,null,null,null,null,null,null,null,null,null,null,null,null,null,null,null,null,null,null,null,null,null,null,null,null,null,null,null,null,null,null,null,null,null,null,null,null,null,null,null,null,null,null,null,null,null,null,null,null,0.962810882646677,null,null,null,null,null,null,null,null,null,null,null,null,null,null,null,null,null,null,null,null,null,null,null,null,null,null,null,null,null,null,null,null,null,null],[null,null,null,null,null,null,0.9619071628960505,null,null,null,null,null,null,null,null,null,null,null,null,null,null,null,null,null,null,null,null,null,null,null,null,null,null,null,null,null,null,null,null,null,null,null,null,null,null,null,null,null,null,null,null,null,null,null,null,null,null,null,null,null,null,null,null,null,null,null,null,null,null,null,null,null,null,null,null,null,null,null,null,null,null,null,null,null,null,null,null,null,null,null,null,null,null,null,null,null,null,null,null,null,null,null],[null,null,null,null,null,null,null,null,null,null,null,null,null,null,null,null,null,null,null,null,null,null,null,null,null,null,null,null,null,null,null,null,null,null,null,null,null,0.962893972296009,null,null,null,null,null,null,null,null,null,null,null,null,null,null,null,null,null,null,null,null,null,null,null,null,null,null,null,null,null,null,null,null,null,null,null,null,null,null,null,null,null,null,null,null,null,null,null,null,null,null,null,null,null,null,null,null,null,null,null,null,null,null,null,null],[null,null,null,null,null,null,null,null,null,null,null,null,null,null,null,null,null,null,null,null,null,null,null,null,null,null,null,null,null,null,null,null,null,null,null,null,null,null,null,null,null,null,null,null,null,null,null,null,null,null,null,null,null,null,null,null,null,null,null,null,null,0.9624786483783764,null,null,null,null,null,null,null,null,null,null,null,null,null,null,null,null,null,null,null,null,null,null,null,null,null,null,null,null,null,null,null,null,null,null,null,null,null,null,null,null],[null,null,null,null,null,null,null,null,null,null,null,null,null,null,null,null,null,null,null,null,null,null,null,null,null,null,null,null,null,null,null,null,null,null,null,null,null,null,null,null,null,null,null,null,null,null,null,null,null,null,null,null,null,null,null,null,null,null,null,null,null,null,null,null,null,null,null,null,null,null,null,null,null,null,null,null,0.9629572288612639,null,null,null,null,null,null,null,null,null,null,null,null,null,null,null,null,null,null,null,null,null,null,null,null,null],[null,null,null,null,null,null,null,null,null,null,null,null,null,null,null,null,null,null,null,null,null,null,null,null,null,null,null,null,null,null,null,null,null,null,null,null,null,null,null,null,null,0.9626337418925079,null,null,null,null,null,null,null,null,null,null,null,null,null,null,null,null,null,null,null,null,null,null,null,null,null,null,null,null,null,null,null,null,null,null,null,null,null,null,null,null,null,null,null,null,null,null,null,null,null,null,null,null,null,null,null,null,null,null,null,null],[null,null,null,null,null,null,null,null,null,null,null,null,null,null,null,null,null,null,null,null,null,null,null,null,null,null,null,null,null,null,null,null,null,null,null,null,null,null,null,null,null,null,null,null,null,null,null,null,null,null,null,null,null,null,null,null,null,null,null,null,null,null,null,null,null,null,null,null,null,null,null,null,null,null,null,null,null,null,null,null,null,null,null,null,null,null,null,null,null,null,null,null,null,null,0.9627292629778509,null,null,null,null,null,null,null],[null,null,null,null,null,null,null,null,null,null,null,null,null,null,null,null,null,null,null,null,null,null,null,0.9629357943801992,null,null,null,null,null,null,null,null,null,null,null,null,null,null,null,null,null,null,null,null,null,null,null,null,null,null,null,null,null,null,null,null,null,null,null,null,null,null,null,null,null,null,null,null,null,null,null,null,null,null,null,null,null,null,null,null,null,null,null,null,null,null,null,null,null,null,null,null,null,null,null,null,null,null,null,null,null,null],[null,null,null,null,null,null,null,null,null,null,null,null,null,null,null,null,null,null,null,null,null,0.9623537543225964,null,null,null,null,null,null,null,null,null,null,null,null,null,null,null,null,null,null,null,null,null,null,null,null,null,null,null,null,null,null,null,null,null,null,null,null,null,null,null,null,null,null,null,null,null,null,null,null,null,null,null,null,null,null,null,null,null,null,null,null,null,null,null,null,null,null,null,null,null,null,null,null,null,null,null,null,null,null,null,null],[null,null,null,null,null,null,null,null,null,null,null,null,null,null,null,null,null,null,null,null,null,null,null,null,null,null,null,null,null,null,null,null,null,null,null,null,null,null,null,null,null,null,null,null,null,null,null,null,null,null,null,null,null,null,null,null,null,null,null,null,null,null,null,null,null,null,null,null,null,null,null,null,null,null,null,null,null,null,null,null,null,null,null,null,null,null,null,0.9626044527948258,null,null,null,null,null,null,null,null,null,null,null,null,null,null],[null,null,null,null,null,null,null,null,null,null,null,null,null,null,null,null,null,null,null,null,null,null,null,null,null,null,null,null,null,null,null,null,null,null,null,null,null,null,null,null,null,null,null,null,null,null,null,null,null,0.9625947725140719,null,null,null,null,null,null,null,null,null,null,null,null,null,null,null,null,null,null,null,null,null,null,null,null,null,null,null,null,null,null,null,null,null,null,null,null,null,null,null,null,null,null,null,null,null,null,null,null,null,null,null,null],[null,null,null,null,null,null,null,null,null,null,null,null,null,null,null,null,null,null,null,null,null,null,null,null,null,null,null,null,0.962833362639342,null,null,null,null,null,null,null,null,null,null,null,null,null,null,null,null,null,null,null,null,null,null,null,null,null,null,null,null,null,null,null,null,null,null,null,null,null,null,null,null,null,null,null,null,null,null,null,null,null,null,null,null,null,null,null,null,null,null,null,null,null,null,null,null,null,null,null,null,null,null,null,null,null],[null,null,null,null,null,null,null,null,null,null,null,null,null,null,null,null,null,null,null,null,null,null,null,null,null,null,null,null,null,null,null,null,null,null,null,null,0.96288599611206,null,null,null,null,null,null,null,null,null,null,null,null,null,null,null,null,null,null,null,null,null,null,null,null,null,null,null,null,null,null,null,null,null,null,null,null,null,null,null,null,null,null,null,null,null,null,null,null,null,null,null,null,null,null,null,null,null,null,null,null,null,null,null,null,null],[null,null,null,null,null,null,null,null,null,null,null,null,null,null,null,null,null,null,null,null,null,null,null,null,null,null,null,null,null,null,null,null,null,null,null,null,null,null,null,null,null,null,null,null,null,null,null,null,null,null,null,null,null,null,null,null,null,null,null,null,0.9622567075405714,null,null,null,null,null,null,null,null,null,null,null,null,null,null,null,null,null,null,null,null,null,null,null,null,null,null,null,null,null,null,null,null,null,null,null,null,null,null,null,null,null],[null,null,null,null,null,null,null,null,null,null,null,null,null,null,null,null,null,null,null,null,null,null,null,null,null,null,null,null,null,null,null,null,null,null,null,null,null,null,null,null,null,null,null,null,null,null,null,null,null,null,null,null,null,null,null,null,null,null,null,null,null,null,0.9623219874632589,null,null,null,null,null,null,null,null,null,null,null,null,null,null,null,null,null,null,null,null,null,null,null,null,null,null,null,null,null,null,null,null,null,null,null,null,null,null,null],[null,null,null,null,null,null,null,null,null,null,null,null,null,null,null,null,null,null,null,null,null,null,null,null,null,null,null,null,null,null,null,null,null,null,0.96214149081791,null,null,null,null,null,null,null,null,null,null,null,null,null,null,null,null,null,null,null,null,null,null,null,null,null,null,null,null,null,null,null,null,null,null,null,null,null,null,null,null,null,null,null,null,null,null,null,null,null,null,null,null,null,null,null,null,null,null,null,null,null,null,null,null,null,null,null],[null,null,null,null,null,null,null,null,null,null,null,null,null,null,null,null,null,null,null,null,null,null,null,null,null,null,null,null,null,null,null,null,null,null,null,null,null,null,null,null,null,null,null,null,null,null,null,null,null,null,null,null,null,null,null,null,null,null,null,null,null,null,null,null,null,null,null,null,null,null,null,null,null,null,null,null,null,null,null,null,null,null,null,null,null,null,null,null,null,null,null,0.9627457908243177,null,null,null,null,null,null,null,null,null,null],[null,null,null,null,null,null,null,null,null,null,null,null,null,null,null,null,null,null,null,null,null,null,null,null,null,null,null,null,null,null,null,null,null,null,null,null,null,null,null,null,null,null,null,null,null,null,null,null,null,null,null,null,null,null,null,null,null,null,null,null,null,null,null,null,null,null,null,null,null,null,null,0.9625097712771821,null,null,null,null,null,null,null,null,null,null,null,null,null,null,null,null,null,null,null,null,null,null,null,null,null,null,null,null,null,null],[null,null,null,null,null,null,null,null,null,null,null,null,null,null,null,null,null,null,null,null,null,null,null,null,null,null,null,null,null,null,null,null,null,null,null,null,null,null,null,null,null,null,0.9624687051564809,null,null,null,null,null,null,null,null,null,null,null,null,null,null,null,null,null,null,null,null,null,null,null,null,null,null,null,null,null,null,null,null,null,null,null,null,null,null,null,null,null,null,null,null,null,null,null,null,null,null,null,null,null,null,null,null,null,null,null],[null,null,null,null,null,null,null,null,null,null,null,null,null,null,null,null,null,null,null,null,null,null,null,null,null,null,null,null,null,null,null,null,null,null,null,null,null,null,null,null,null,null,null,null,null,null,null,null,null,null,null,null,null,null,null,null,null,null,null,null,null,null,null,null,null,null,null,null,null,null,0.9626075468684594,null,null,null,null,null,null,null,null,null,null,null,null,null,null,null,null,null,null,null,null,null,null,null,null,null,null,null,null,null,null,null],[null,null,null,null,null,null,null,null,null,null,null,null,null,null,null,null,null,null,null,null,null,null,null,null,null,null,null,null,null,null,null,null,null,null,null,null,null,null,null,null,null,null,null,null,null,null,null,null,null,null,null,null,null,null,null,null,null,null,null,null,null,null,null,null,null,null,null,null,null,null,null,null,null,null,null,null,null,null,null,null,0.9626304212549763,null,null,null,null,null,null,null,null,null,null,null,null,null,null,null,null,null,null,null,null,null],[null,null,null,null,null,null,null,null,null,null,null,null,null,null,null,null,null,null,null,null,null,null,null,null,null,null,null,null,null,null,null,null,null,null,null,null,null,null,null,null,null,null,null,null,null,null,null,null,null,null,null,null,null,null,null,null,null,null,null,null,null,null,null,null,null,null,null,null,null,null,null,null,null,null,null,null,null,null,null,null,null,null,null,null,null,null,null,null,null,null,null,null,null,null,null,null,0.9627999859235136,null,null,null,null,null],[null,null,null,null,null,null,null,null,null,null,null,null,null,null,null,null,null,null,null,null,null,null,null,null,null,null,null,null,null,null,null,null,null,null,null,null,null,null,null,null,null,null,null,null,null,null,null,null,null,null,null,null,null,null,null,null,null,null,null,null,null,null,null,null,0.9629449820939777,null,null,null,null,null,null,null,null,null,null,null,null,null,null,null,null,null,null,null,null,null,null,null,null,null,null,null,null,null,null,null,null,null,null,null,null,null],[null,null,null,null,null,null,null,null,null,null,null,null,null,null,null,null,null,null,null,null,null,null,null,null,null,null,null,null,null,null,null,null,null,null,null,null,null,null,null,null,null,null,null,null,null,null,null,null,null,null,null,null,null,null,null,null,null,null,0.9626070411585129,null,null,null,null,null,null,null,null,null,null,null,null,null,null,null,null,null,null,null,null,null,null,null,null,null,null,null,null,null,null,null,null,null,null,null,null,null,null,null,null,null,null,null],[null,null,null,null,null,null,null,null,null,null,null,null,null,null,null,null,null,null,null,null,0.9625549918213178,null,null,null,null,null,null,null,null,null,null,null,null,null,null,null,null,null,null,null,null,null,null,null,null,null,null,null,null,null,null,null,null,null,null,null,null,null,null,null,null,null,null,null,null,null,null,null,null,null,null,null,null,null,null,null,null,null,null,null,null,null,null,null,null,null,null,null,null,null,null,null,null,null,null,null,null,null,null,null,null,null],[null,null,null,null,null,null,null,null,null,null,null,null,null,null,null,null,null,null,null,null,null,null,null,null,null,null,null,null,null,null,null,null,null,null,null,null,null,null,null,null,null,null,null,null,null,null,null,null,null,null,null,null,null,null,null,null,null,null,null,null,null,null,null,null,null,null,null,null,null,null,null,null,null,null,null,null,null,null,null,null,null,null,null,null,null,null,null,null,null,0.9622858276030607,null,null,null,null,null,null,null,null,null,null,null,null],[null,null,null,null,null,null,null,null,null,null,null,null,null,null,null,null,null,null,null,null,null,null,null,null,null,null,null,null,null,null,null,null,null,null,null,null,null,null,null,null,null,null,null,null,null,null,null,null,null,null,null,null,null,null,null,null,null,null,null,null,null,null,null,null,null,null,null,null,null,null,null,null,null,null,null,null,null,null,null,null,null,null,null,null,null,null,null,null,null,null,0.9629758749346828,null,null,null,null,null,null,null,null,null,null,null],[null,null,null,null,null,null,null,null,null,null,null,null,null,null,null,null,null,null,null,null,null,null,null,null,null,null,null,null,null,null,null,null,null,null,null,null,null,null,null,null,null,null,null,null,null,null,null,null,null,null,null,null,null,0.962939303698444,null,null,null,null,null,null,null,null,null,null,null,null,null,null,null,null,null,null,null,null,null,null,null,null,null,null,null,null,null,null,null,null,null,null,null,null,null,null,null,null,null,null,null,null,null,null,null,null],[null,null,null,null,null,null,null,null,null,null,null,null,null,null,null,null,null,null,null,null,null,null,null,null,null,null,null,null,null,null,null,null,null,null,null,null,null,null,null,null,null,null,null,null,null,null,null,null,null,null,null,null,null,null,null,null,null,null,null,null,null,null,null,null,null,null,null,null,null,null,null,null,null,null,null,null,null,null,null,null,null,null,null,null,0.9619356772588304,null,null,null,null,null,null,null,null,null,null,null,null,null,null,null,null,null],[null,null,null,null,null,null,null,null,null,null,null,null,null,null,null,null,null,null,null,null,null,null,null,null,null,null,null,null,null,null,null,null,null,null,null,null,null,null,null,null,null,null,null,null,null,null,null,null,null,null,null,null,null,null,null,null,null,null,null,null,null,null,null,null,null,null,null,null,null,null,null,null,0.9629279562763206,null,null,null,null,null,null,null,null,null,null,null,null,null,null,null,null,null,null,null,null,null,null,null,null,null,null,null,null,null],[null,null,null,null,null,null,null,null,null,null,null,null,null,null,null,null,null,null,null,null,null,null,null,null,null,null,null,null,null,null,null,null,null,null,null,null,null,null,null,null,null,null,null,null,null,null,null,null,0.9626932982690437,null,null,null,null,null,null,null,null,null,null,null,null,null,null,null,null,null,null,null,null,null,null,null,null,null,null,null,null,null,null,null,null,null,null,null,null,null,null,null,null,null,null,null,null,null,null,null,null,null,null,null,null,null],[null,null,null,null,null,null,null,null,null,null,null,null,null,null,null,null,null,null,null,null,null,null,null,null,null,null,null,null,null,null,null,null,null,null,null,null,null,null,null,null,null,null,null,null,null,null,null,null,null,null,null,null,null,null,null,null,null,null,null,null,null,null,null,null,null,null,null,null,null,null,null,null,null,null,null,null,null,null,null,0.9624718796627947,null,null,null,null,null,null,null,null,null,null,null,null,null,null,null,null,null,null,null,null,null,null],[null,null,null,null,null,null,null,null,null,null,null,null,null,null,null,null,null,null,null,null,null,null,null,null,null,null,null,null,null,null,null,null,null,null,null,null,null,null,null,null,null,null,null,null,null,null,null,null,null,null,null,null,null,null,null,null,null,null,null,null,null,null,null,null,null,null,null,null,0.9630307068213589,null,null,null,null,null,null,null,null,null,null,null,null,null,null,null,null,null,null,null,null,null,null,null,null,null,null,null,null,null,null,null,null,null],[null,null,null,null,null,null,null,null,null,null,null,null,null,null,null,null,null,null,null,null,null,null,null,null,null,null,null,null,null,null,null,null,null,null,null,null,null,null,null,null,null,null,null,null,null,null,null,null,null,null,null,null,null,null,null,null,null,null,null,null,null,null,null,null,null,null,null,null,null,null,null,null,null,null,null,null,null,null,null,null,null,null,0.9626397347977494,null,null,null,null,null,null,null,null,null,null,null,null,null,null,null,null,null,null,null],[null,null,null,null,null,null,null,null,null,null,null,null,null,null,null,null,null,null,null,null,null,null,null,null,null,null,null,null,null,null,null,null,null,null,null,null,null,null,null,null,null,null,null,null,null,null,null,null,null,null,null,null,null,null,0.9628047920744219,null,null,null,null,null,null,null,null,null,null,null,null,null,null,null,null,null,null,null,null,null,null,null,null,null,null,null,null,null,null,null,null,null,null,null,null,null,null,null,null,null,null,null,null,null,null,null],[null,null,null,null,null,null,null,null,null,null,null,null,null,null,null,null,null,null,null,null,null,null,null,null,null,null,null,null,null,null,null,null,null,null,null,null,null,null,null,null,null,null,null,null,null,null,null,null,null,null,null,null,null,null,null,null,null,null,null,null,null,null,null,null,null,null,null,null,null,null,null,null,null,null,null,null,null,0.962900103327988,null,null,null,null,null,null,null,null,null,null,null,null,null,null,null,null,null,null,null,null,null,null,null,null],[null,null,null,null,null,null,null,null,null,null,null,null,null,null,null,null,null,null,null,null,null,null,null,null,null,null,null,null,null,null,null,null,null,null,null,null,null,null,null,null,null,null,null,null,null,null,null,null,null,null,null,null,null,null,null,null,null,null,null,null,null,null,null,null,null,null,null,null,null,null,null,null,null,null,0.9625800527562116,null,null,null,null,null,null,null,null,null,null,null,null,null,null,null,null,null,null,null,null,null,null,null,null,null,null,null],[null,null,null,null,null,null,null,null,null,null,null,null,null,null,null,null,null,null,null,null,null,null,null,null,null,null,null,null,null,null,null,null,null,null,null,null,null,null,0.9627259638132427,null,null,null,null,null,null,null,null,null,null,null,null,null,null,null,null,null,null,null,null,null,null,null,null,null,null,null,null,null,null,null,null,null,null,null,null,null,null,null,null,null,null,null,null,null,null,null,null,null,null,null,null,null,null,null,null,null,null,null,null,null,null,null],[null,null,null,null,null,null,null,null,null,null,null,null,null,null,null,null,null,null,null,null,null,null,null,null,null,null,null,null,null,null,null,null,null,null,null,null,null,null,null,null,null,null,null,null,null,null,null,null,null,null,null,null,null,null,null,null,null,null,null,null,null,null,null,null,null,null,null,null,null,null,null,null,null,null,null,null,null,null,null,null,null,null,null,null,null,null,null,null,null,null,null,null,null,null,null,null,null,null,null,null,null,null]],\"type\":\"contour\",\"xaxis\":\"x6\",\"yaxis\":\"y6\"},{\"marker\":{\"color\":\"black\",\"line\":{\"color\":\"Gray\",\"width\":2.0}},\"mode\":\"markers\",\"name\":\"Feasible Trial\",\"showlegend\":false,\"x\":[0.09902720698000689,0.07495065884252618,0.11722818259249132,0.10654051556344273,0.12107875320233528,0.050975336391352453,0.11481585342536937,0.0777090572655816,0.0921552693894246,0.08232337172361609,0.10477468179851718,0.050905800448511826,0.09015320494528678,0.07049465695008988,0.05296170646347989,0.06113264125987456,0.07077832499882215,0.1285638309175481,0.0583323073000736,0.07806862798643455,0.055561344466648385,0.06033182256372552,0.05486109173944057,0.12710851873825008,0.08911786523075182,0.06551298025916188,0.05600655288712946,0.053160554914312215,0.06443169699645514,0.08669068804175253,0.09460792648347063,0.06592738041412467,0.050969937387968726,0.09555332455569414,0.12538702733422158,0.12781298796233204,0.11342059010288874,0.11506998469034603,0.0966181879427425,0.0934501069161815,0.1236263388301731,0.09324985134841188,0.12977364282269246,0.0932411588284545,0.08187186451137436,0.0854575944175626,0.10352508481277979,0.09871140525066781,0.07392940298876588,0.07146576288920184,0.07158536591968369,0.1155586782567983,0.07268246334253498,0.11001938659356751,0.07102017819449391,0.0711828277867237,0.0781916875679353,0.09712938899900796,0.0886099986182871,0.08910329019323565,0.08605298236770582,0.09746361094595114,0.11671352755066873,0.08674244586118059,0.1034668692288277,0.10840740706356913,0.10652365422635028,0.1270727697087701,0.09887878080149139,0.10677325876804405,0.10589333021345024,0.10775739484293968,0.09748743352187071,0.08896116474440104,0.10309122924748707,0.10983793718178778,0.09419881014076208,0.1006926877268916,0.10879965959937889,0.10583387059374538,0.08132558677693003,0.10602026685756952,0.09365974991799551,0.07562955544673435,0.10629220090940215,0.10961335620742127,0.10208138990386721,0.09077521839470071,0.11101974802115665,0.10704852662722354,0.08945920210926947,0.12524004406479558,0.09716784888600193,0.11887711265993318,0.11752047079894938,0.07110206353225453,0.10590736237212967,0.08953412021177198,0.11679854470092635,0.1022828895356355],\"y\":[0.37261802964665525,0.4302103529954851,1.2403444499686993,0.2913161321956179,0.06335346991219014,0.8014981068390051,1.3037232119171354,0.6737814815357923,0.08061667196158001,0.19909087764458064,0.22860810364726095,0.39154904980004107,1.1607070324114797,0.21449852308698222,0.4611973589346946,0.07683281257299784,0.3342988172740612,0.07024978052731923,0.44067758715363037,0.11289961550192466,0.4454332587174054,0.170833719378713,0.8158469739665021,0.23833199848730477,0.5872205298145801,0.07462999684068243,0.14425866746053273,0.5024427608874781,0.2858858282316471,1.1061358297830441,0.0775715267835044,0.09206124739791155,0.791730225524486,0.12294594552258943,0.11453945538878198,0.22300400603846335,0.4690423881362291,0.5387811986415983,0.23139468096087693,0.49903767113685915,0.3586435694803785,0.08266412984232543,0.061890810258414995,0.3611403238640027,0.41821481158909674,0.05934372758102124,0.23933893594881248,0.28312534659167515,0.9604161694046423,1.2385034047049797,0.9617795531242967,0.1883269831616264,0.7236037473293148,0.18763723235897678,0.6737038228291367,0.6829105050078278,1.010782957820542,1.279423118344358,1.027343799285577,1.393688219299296,0.7833976985475681,0.745182214290828,0.964670015404193,0.6540545309653331,1.1953291517016462,1.3882214230513872,1.325337839400464,1.1914108739178135,1.2199069086903502,1.3892699781451654,1.3493314922882345,0.8697386381750832,0.7692317152504252,0.8403108445598261,0.5298991468872658,1.1669084173680544,0.9932396925917845,1.0335449434331951,0.7345832196506893,0.8040111672653617,0.5797979036184747,1.1652338565661338,1.3271097191798613,0.28137412387253274,1.1412756115401745,1.3369172222049917,0.8549632148697913,0.6901415507398432,1.3653862977006592,0.3419458699331405,0.4463107177909856,0.9242941176521275,1.3727974928404394,1.1117756828227603,1.2596546826370052,0.48077112760357127,0.6428183992367937,0.876690043856303,0.7374333851771311,1.0740708139452377],\"type\":\"scatter\",\"xaxis\":\"x6\",\"yaxis\":\"y6\"},{\"type\":\"scatter\",\"xaxis\":\"x9\",\"yaxis\":\"y9\"}],                        {\"template\":{\"data\":{\"histogram2dcontour\":[{\"type\":\"histogram2dcontour\",\"colorbar\":{\"outlinewidth\":0,\"ticks\":\"\"},\"colorscale\":[[0.0,\"#0d0887\"],[0.1111111111111111,\"#46039f\"],[0.2222222222222222,\"#7201a8\"],[0.3333333333333333,\"#9c179e\"],[0.4444444444444444,\"#bd3786\"],[0.5555555555555556,\"#d8576b\"],[0.6666666666666666,\"#ed7953\"],[0.7777777777777778,\"#fb9f3a\"],[0.8888888888888888,\"#fdca26\"],[1.0,\"#f0f921\"]]}],\"choropleth\":[{\"type\":\"choropleth\",\"colorbar\":{\"outlinewidth\":0,\"ticks\":\"\"}}],\"histogram2d\":[{\"type\":\"histogram2d\",\"colorbar\":{\"outlinewidth\":0,\"ticks\":\"\"},\"colorscale\":[[0.0,\"#0d0887\"],[0.1111111111111111,\"#46039f\"],[0.2222222222222222,\"#7201a8\"],[0.3333333333333333,\"#9c179e\"],[0.4444444444444444,\"#bd3786\"],[0.5555555555555556,\"#d8576b\"],[0.6666666666666666,\"#ed7953\"],[0.7777777777777778,\"#fb9f3a\"],[0.8888888888888888,\"#fdca26\"],[1.0,\"#f0f921\"]]}],\"heatmap\":[{\"type\":\"heatmap\",\"colorbar\":{\"outlinewidth\":0,\"ticks\":\"\"},\"colorscale\":[[0.0,\"#0d0887\"],[0.1111111111111111,\"#46039f\"],[0.2222222222222222,\"#7201a8\"],[0.3333333333333333,\"#9c179e\"],[0.4444444444444444,\"#bd3786\"],[0.5555555555555556,\"#d8576b\"],[0.6666666666666666,\"#ed7953\"],[0.7777777777777778,\"#fb9f3a\"],[0.8888888888888888,\"#fdca26\"],[1.0,\"#f0f921\"]]}],\"heatmapgl\":[{\"type\":\"heatmapgl\",\"colorbar\":{\"outlinewidth\":0,\"ticks\":\"\"},\"colorscale\":[[0.0,\"#0d0887\"],[0.1111111111111111,\"#46039f\"],[0.2222222222222222,\"#7201a8\"],[0.3333333333333333,\"#9c179e\"],[0.4444444444444444,\"#bd3786\"],[0.5555555555555556,\"#d8576b\"],[0.6666666666666666,\"#ed7953\"],[0.7777777777777778,\"#fb9f3a\"],[0.8888888888888888,\"#fdca26\"],[1.0,\"#f0f921\"]]}],\"contourcarpet\":[{\"type\":\"contourcarpet\",\"colorbar\":{\"outlinewidth\":0,\"ticks\":\"\"}}],\"contour\":[{\"type\":\"contour\",\"colorbar\":{\"outlinewidth\":0,\"ticks\":\"\"},\"colorscale\":[[0.0,\"#0d0887\"],[0.1111111111111111,\"#46039f\"],[0.2222222222222222,\"#7201a8\"],[0.3333333333333333,\"#9c179e\"],[0.4444444444444444,\"#bd3786\"],[0.5555555555555556,\"#d8576b\"],[0.6666666666666666,\"#ed7953\"],[0.7777777777777778,\"#fb9f3a\"],[0.8888888888888888,\"#fdca26\"],[1.0,\"#f0f921\"]]}],\"surface\":[{\"type\":\"surface\",\"colorbar\":{\"outlinewidth\":0,\"ticks\":\"\"},\"colorscale\":[[0.0,\"#0d0887\"],[0.1111111111111111,\"#46039f\"],[0.2222222222222222,\"#7201a8\"],[0.3333333333333333,\"#9c179e\"],[0.4444444444444444,\"#bd3786\"],[0.5555555555555556,\"#d8576b\"],[0.6666666666666666,\"#ed7953\"],[0.7777777777777778,\"#fb9f3a\"],[0.8888888888888888,\"#fdca26\"],[1.0,\"#f0f921\"]]}],\"mesh3d\":[{\"type\":\"mesh3d\",\"colorbar\":{\"outlinewidth\":0,\"ticks\":\"\"}}],\"scatter\":[{\"fillpattern\":{\"fillmode\":\"overlay\",\"size\":10,\"solidity\":0.2},\"type\":\"scatter\"}],\"parcoords\":[{\"type\":\"parcoords\",\"line\":{\"colorbar\":{\"outlinewidth\":0,\"ticks\":\"\"}}}],\"scatterpolargl\":[{\"type\":\"scatterpolargl\",\"marker\":{\"colorbar\":{\"outlinewidth\":0,\"ticks\":\"\"}}}],\"bar\":[{\"error_x\":{\"color\":\"#2a3f5f\"},\"error_y\":{\"color\":\"#2a3f5f\"},\"marker\":{\"line\":{\"color\":\"#E5ECF6\",\"width\":0.5},\"pattern\":{\"fillmode\":\"overlay\",\"size\":10,\"solidity\":0.2}},\"type\":\"bar\"}],\"scattergeo\":[{\"type\":\"scattergeo\",\"marker\":{\"colorbar\":{\"outlinewidth\":0,\"ticks\":\"\"}}}],\"scatterpolar\":[{\"type\":\"scatterpolar\",\"marker\":{\"colorbar\":{\"outlinewidth\":0,\"ticks\":\"\"}}}],\"histogram\":[{\"marker\":{\"pattern\":{\"fillmode\":\"overlay\",\"size\":10,\"solidity\":0.2}},\"type\":\"histogram\"}],\"scattergl\":[{\"type\":\"scattergl\",\"marker\":{\"colorbar\":{\"outlinewidth\":0,\"ticks\":\"\"}}}],\"scatter3d\":[{\"type\":\"scatter3d\",\"line\":{\"colorbar\":{\"outlinewidth\":0,\"ticks\":\"\"}},\"marker\":{\"colorbar\":{\"outlinewidth\":0,\"ticks\":\"\"}}}],\"scattermapbox\":[{\"type\":\"scattermapbox\",\"marker\":{\"colorbar\":{\"outlinewidth\":0,\"ticks\":\"\"}}}],\"scatterternary\":[{\"type\":\"scatterternary\",\"marker\":{\"colorbar\":{\"outlinewidth\":0,\"ticks\":\"\"}}}],\"scattercarpet\":[{\"type\":\"scattercarpet\",\"marker\":{\"colorbar\":{\"outlinewidth\":0,\"ticks\":\"\"}}}],\"carpet\":[{\"aaxis\":{\"endlinecolor\":\"#2a3f5f\",\"gridcolor\":\"white\",\"linecolor\":\"white\",\"minorgridcolor\":\"white\",\"startlinecolor\":\"#2a3f5f\"},\"baxis\":{\"endlinecolor\":\"#2a3f5f\",\"gridcolor\":\"white\",\"linecolor\":\"white\",\"minorgridcolor\":\"white\",\"startlinecolor\":\"#2a3f5f\"},\"type\":\"carpet\"}],\"table\":[{\"cells\":{\"fill\":{\"color\":\"#EBF0F8\"},\"line\":{\"color\":\"white\"}},\"header\":{\"fill\":{\"color\":\"#C8D4E3\"},\"line\":{\"color\":\"white\"}},\"type\":\"table\"}],\"barpolar\":[{\"marker\":{\"line\":{\"color\":\"#E5ECF6\",\"width\":0.5},\"pattern\":{\"fillmode\":\"overlay\",\"size\":10,\"solidity\":0.2}},\"type\":\"barpolar\"}],\"pie\":[{\"automargin\":true,\"type\":\"pie\"}]},\"layout\":{\"autotypenumbers\":\"strict\",\"colorway\":[\"#636efa\",\"#EF553B\",\"#00cc96\",\"#ab63fa\",\"#FFA15A\",\"#19d3f3\",\"#FF6692\",\"#B6E880\",\"#FF97FF\",\"#FECB52\"],\"font\":{\"color\":\"#2a3f5f\"},\"hovermode\":\"closest\",\"hoverlabel\":{\"align\":\"left\"},\"paper_bgcolor\":\"white\",\"plot_bgcolor\":\"#E5ECF6\",\"polar\":{\"bgcolor\":\"#E5ECF6\",\"angularaxis\":{\"gridcolor\":\"white\",\"linecolor\":\"white\",\"ticks\":\"\"},\"radialaxis\":{\"gridcolor\":\"white\",\"linecolor\":\"white\",\"ticks\":\"\"}},\"ternary\":{\"bgcolor\":\"#E5ECF6\",\"aaxis\":{\"gridcolor\":\"white\",\"linecolor\":\"white\",\"ticks\":\"\"},\"baxis\":{\"gridcolor\":\"white\",\"linecolor\":\"white\",\"ticks\":\"\"},\"caxis\":{\"gridcolor\":\"white\",\"linecolor\":\"white\",\"ticks\":\"\"}},\"coloraxis\":{\"colorbar\":{\"outlinewidth\":0,\"ticks\":\"\"}},\"colorscale\":{\"sequential\":[[0.0,\"#0d0887\"],[0.1111111111111111,\"#46039f\"],[0.2222222222222222,\"#7201a8\"],[0.3333333333333333,\"#9c179e\"],[0.4444444444444444,\"#bd3786\"],[0.5555555555555556,\"#d8576b\"],[0.6666666666666666,\"#ed7953\"],[0.7777777777777778,\"#fb9f3a\"],[0.8888888888888888,\"#fdca26\"],[1.0,\"#f0f921\"]],\"sequentialminus\":[[0.0,\"#0d0887\"],[0.1111111111111111,\"#46039f\"],[0.2222222222222222,\"#7201a8\"],[0.3333333333333333,\"#9c179e\"],[0.4444444444444444,\"#bd3786\"],[0.5555555555555556,\"#d8576b\"],[0.6666666666666666,\"#ed7953\"],[0.7777777777777778,\"#fb9f3a\"],[0.8888888888888888,\"#fdca26\"],[1.0,\"#f0f921\"]],\"diverging\":[[0,\"#8e0152\"],[0.1,\"#c51b7d\"],[0.2,\"#de77ae\"],[0.3,\"#f1b6da\"],[0.4,\"#fde0ef\"],[0.5,\"#f7f7f7\"],[0.6,\"#e6f5d0\"],[0.7,\"#b8e186\"],[0.8,\"#7fbc41\"],[0.9,\"#4d9221\"],[1,\"#276419\"]]},\"xaxis\":{\"gridcolor\":\"white\",\"linecolor\":\"white\",\"ticks\":\"\",\"title\":{\"standoff\":15},\"zerolinecolor\":\"white\",\"automargin\":true,\"zerolinewidth\":2},\"yaxis\":{\"gridcolor\":\"white\",\"linecolor\":\"white\",\"ticks\":\"\",\"title\":{\"standoff\":15},\"zerolinecolor\":\"white\",\"automargin\":true,\"zerolinewidth\":2},\"scene\":{\"xaxis\":{\"backgroundcolor\":\"#E5ECF6\",\"gridcolor\":\"white\",\"linecolor\":\"white\",\"showbackground\":true,\"ticks\":\"\",\"zerolinecolor\":\"white\",\"gridwidth\":2},\"yaxis\":{\"backgroundcolor\":\"#E5ECF6\",\"gridcolor\":\"white\",\"linecolor\":\"white\",\"showbackground\":true,\"ticks\":\"\",\"zerolinecolor\":\"white\",\"gridwidth\":2},\"zaxis\":{\"backgroundcolor\":\"#E5ECF6\",\"gridcolor\":\"white\",\"linecolor\":\"white\",\"showbackground\":true,\"ticks\":\"\",\"zerolinecolor\":\"white\",\"gridwidth\":2}},\"shapedefaults\":{\"line\":{\"color\":\"#2a3f5f\"}},\"annotationdefaults\":{\"arrowcolor\":\"#2a3f5f\",\"arrowhead\":0,\"arrowwidth\":1},\"geo\":{\"bgcolor\":\"white\",\"landcolor\":\"#E5ECF6\",\"subunitcolor\":\"white\",\"showland\":true,\"showlakes\":true,\"lakecolor\":\"white\"},\"title\":{\"x\":0.05},\"mapbox\":{\"style\":\"light\"}}},\"xaxis\":{\"anchor\":\"y\",\"domain\":[0.0,0.2888888888888889],\"matches\":\"x7\",\"showticklabels\":false,\"range\":[3.8,8.2]},\"yaxis\":{\"anchor\":\"x\",\"domain\":[0.7333333333333333,1.0],\"range\":[3.8,8.2],\"title\":{\"text\":\"depth\"}},\"xaxis2\":{\"anchor\":\"y2\",\"domain\":[0.35555555555555557,0.6444444444444445],\"matches\":\"x8\",\"showticklabels\":false,\"range\":[-1.295164717984536,0.21270516934450218],\"type\":\"log\"},\"yaxis2\":{\"anchor\":\"x2\",\"domain\":[0.7333333333333333,1.0],\"matches\":\"y\",\"showticklabels\":false,\"range\":[3.8,8.2]},\"xaxis3\":{\"anchor\":\"y3\",\"domain\":[0.7111111111111111,1.0],\"matches\":\"x9\",\"showticklabels\":false,\"range\":[-1.3135536905180492,-0.8664925430434394],\"type\":\"log\"},\"yaxis3\":{\"anchor\":\"x3\",\"domain\":[0.7333333333333333,1.0],\"matches\":\"y\",\"showticklabels\":false,\"range\":[3.8,8.2]},\"xaxis4\":{\"anchor\":\"y4\",\"domain\":[0.0,0.2888888888888889],\"matches\":\"x7\",\"showticklabels\":false,\"range\":[3.8,8.2]},\"yaxis4\":{\"anchor\":\"x4\",\"domain\":[0.36666666666666664,0.6333333333333333],\"range\":[-1.295164717984536,0.21270516934450218],\"type\":\"log\",\"title\":{\"text\":\"l2_leaf_reg\"}},\"xaxis5\":{\"anchor\":\"y5\",\"domain\":[0.35555555555555557,0.6444444444444445],\"matches\":\"x8\",\"showticklabels\":false,\"range\":[-1.295164717984536,0.21270516934450218],\"type\":\"log\"},\"yaxis5\":{\"anchor\":\"x5\",\"domain\":[0.36666666666666664,0.6333333333333333],\"matches\":\"y4\",\"showticklabels\":false,\"range\":[-1.295164717984536,0.21270516934450218],\"type\":\"log\"},\"xaxis6\":{\"anchor\":\"y6\",\"domain\":[0.7111111111111111,1.0],\"matches\":\"x9\",\"showticklabels\":false,\"range\":[-1.3135536905180492,-0.8664925430434394],\"type\":\"log\"},\"yaxis6\":{\"anchor\":\"x6\",\"domain\":[0.36666666666666664,0.6333333333333333],\"matches\":\"y4\",\"showticklabels\":false,\"range\":[-1.295164717984536,0.21270516934450218],\"type\":\"log\"},\"xaxis7\":{\"anchor\":\"y7\",\"domain\":[0.0,0.2888888888888889],\"range\":[3.8,8.2],\"title\":{\"text\":\"depth\"}},\"yaxis7\":{\"anchor\":\"x7\",\"domain\":[0.0,0.26666666666666666],\"range\":[-1.3135536905180492,-0.8664925430434394],\"type\":\"log\",\"title\":{\"text\":\"learning_rate\"}},\"xaxis8\":{\"anchor\":\"y8\",\"domain\":[0.35555555555555557,0.6444444444444445],\"range\":[-1.295164717984536,0.21270516934450218],\"type\":\"log\",\"title\":{\"text\":\"l2_leaf_reg\"}},\"yaxis8\":{\"anchor\":\"x8\",\"domain\":[0.0,0.26666666666666666],\"matches\":\"y7\",\"showticklabels\":false,\"range\":[-1.3135536905180492,-0.8664925430434394],\"type\":\"log\"},\"xaxis9\":{\"anchor\":\"y9\",\"domain\":[0.7111111111111111,1.0],\"range\":[-1.3135536905180492,-0.8664925430434394],\"type\":\"log\",\"title\":{\"text\":\"learning_rate\"}},\"yaxis9\":{\"anchor\":\"x9\",\"domain\":[0.0,0.26666666666666666],\"matches\":\"y7\",\"showticklabels\":false,\"range\":[-1.3135536905180492,-0.8664925430434394],\"type\":\"log\"},\"title\":{\"text\":\"Contour Plot\"}},                        {\"responsive\": true}                    ).then(function(){\n",
       "                            \n",
       "var gd = document.getElementById('d94031db-7079-44aa-8014-ae279760cbf8');\n",
       "var x = new MutationObserver(function (mutations, observer) {{\n",
       "        var display = window.getComputedStyle(gd).display;\n",
       "        if (!display || display === 'none') {{\n",
       "            console.log([gd, 'removed!']);\n",
       "            Plotly.purge(gd);\n",
       "            observer.disconnect();\n",
       "        }}\n",
       "}});\n",
       "\n",
       "// Listen for the removal of the full notebook cells\n",
       "var notebookContainer = gd.closest('#notebook-container');\n",
       "if (notebookContainer) {{\n",
       "    x.observe(notebookContainer, {childList: true});\n",
       "}}\n",
       "\n",
       "// Listen for the clearing of the current output cell\n",
       "var outputEl = gd.closest('.output');\n",
       "if (outputEl) {{\n",
       "    x.observe(outputEl, {childList: true});\n",
       "}}\n",
       "\n",
       "                        })                };                });            </script>        </div>"
      ]
     },
     "metadata": {},
     "output_type": "display_data"
    },
    {
     "data": {
      "text/html": [
       "<div>                            <div id=\"d1810915-c49f-4738-8fd4-e4d7350da2a1\" class=\"plotly-graph-div\" style=\"height:525px; width:100%;\"></div>            <script type=\"text/javascript\">                require([\"plotly\"], function(Plotly) {                    window.PLOTLYENV=window.PLOTLYENV || {};                                    if (document.getElementById(\"d1810915-c49f-4738-8fd4-e4d7350da2a1\")) {                    Plotly.newPlot(                        \"d1810915-c49f-4738-8fd4-e4d7350da2a1\",                        [{\"marker\":{\"color\":[0,1,2,3,4,5,6,7,8,9,10,11,12,13,14,15,16,17,18,19,20,21,22,23,24,25,26,27,28,29,30,31,32,33,34,35,36,37,38,39,40,41,42,43,44,45,46,47,48,49,50,51,52,53,54,55,56,57,58,59,60,61,62,63,64,65,66,67,68,69,70,71,72,73,74,75,76,77,78,79,80,81,82,83,84,85,86,87,88,89,90,91,92,93,94,95,96,97,98,99],\"colorbar\":{\"title\":{\"text\":\"Trial\"},\"x\":1.0,\"xpad\":40},\"colorscale\":[[0.0,\"rgb(247,251,255)\"],[0.125,\"rgb(222,235,247)\"],[0.25,\"rgb(198,219,239)\"],[0.375,\"rgb(158,202,225)\"],[0.5,\"rgb(107,174,214)\"],[0.625,\"rgb(66,146,198)\"],[0.75,\"rgb(33,113,181)\"],[0.875,\"rgb(8,81,156)\"],[1.0,\"rgb(8,48,107)\"]],\"line\":{\"color\":\"Grey\",\"width\":0.5},\"showscale\":true},\"mode\":\"markers\",\"name\":\"Feasible Trial\",\"showlegend\":false,\"x\":[6,6,6,5,6,4,7,7,4,8,5,6,7,7,7,7,5,6,5,5,4,4,8,4,8,4,5,6,6,4,5,7,6,4,7,4,6,4,6,5,5,5,4,6,6,6,5,5,6,6,5,6,7,4,6,6,6,6,6,6,6,6,6,6,5,5,5,5,5,4,5,5,5,5,5,6,5,7,5,5,4,5,5,6,5,6,4,5,5,8,7,4,5,5,5,6,6,6,5,6],\"y\":[0.9628134445060936,0.962986655040611,0.9622858276030607,0.9628077478854271,0.9615038693824947,0.9606555957144005,0.9619356772588304,0.9624012493048962,0.9623908843766225,0.960860833635029,0.9626569036452548,0.9623502303824265,0.9624687051564809,0.9617531655561535,0.9624375267419092,0.9615939638653248,0.9625054518319134,0.961867386412244,0.9620526692508211,0.9624080104413558,0.9609287107190913,0.9612168556531854,0.9619071628960505,0.962769323570917,0.9613785883140606,0.9613821704761467,0.9619599397686363,0.9623653524018592,0.9626490883305099,0.96214149081791,0.9627124859030575,0.9619617135685627,0.9623637626220578,0.9623394701518059,0.9612653018976299,0.9626564160581988,0.962134639764739,0.9626468658924481,0.9620485201030163,0.9626807163166813,0.9626940246674318,0.9625949924601684,0.9624301947143129,0.9623516965954544,0.9625310159048288,0.9619580319516252,0.9627494252932693,0.9627423485507023,0.9629357943801992,0.9625549918213178,0.9623537543225964,0.9615477882045862,0.9622393934996346,0.9625102642506281,0.9627613247032819,0.9626666032494187,0.962833362639342,0.962939303698444,0.96288599611206,0.9627259638132427,0.9629486080921084,0.9620976703317481,0.9626044527948258,0.9626135800199265,0.9629449820939777,0.962900103327988,0.9629279562763206,0.9627999859235136,0.9626070411585129,0.9625800527562116,0.9630307068213589,0.9629572288612639,0.9629800468609824,0.962893972296009,0.9624169615153054,0.9626304212549763,0.9625947725140719,0.9622567075405714,0.9626639425881546,0.962810882646677,0.9619546626875429,0.9626075468684594,0.9626932982690437,0.9624241911336775,0.9625097712771821,0.9624718796627947,0.9624786483783764,0.9628378873304204,0.9626397347977494,0.9607607106577903,0.9621413932385178,0.9627292629778509,0.9628047920744219,0.9627457908243177,0.9629758749346828,0.9626214811073412,0.9623315011692885,0.9626337418925079,0.9625532567440285,0.9623219874632589],\"type\":\"scatter\",\"xaxis\":\"x\",\"yaxis\":\"y\"},{\"marker\":{\"color\":[0,1,2,3,4,5,6,7,8,9,10,11,12,13,14,15,16,17,18,19,20,21,22,23,24,25,26,27,28,29,30,31,32,33,34,35,36,37,38,39,40,41,42,43,44,45,46,47,48,49,50,51,52,53,54,55,56,57,58,59,60,61,62,63,64,65,66,67,68,69,70,71,72,73,74,75,76,77,78,79,80,81,82,83,84,85,86,87,88,89,90,91,92,93,94,95,96,97,98,99],\"colorbar\":{\"title\":{\"text\":\"Trial\"},\"x\":1.0,\"xpad\":40},\"colorscale\":[[0.0,\"rgb(247,251,255)\"],[0.125,\"rgb(222,235,247)\"],[0.25,\"rgb(198,219,239)\"],[0.375,\"rgb(158,202,225)\"],[0.5,\"rgb(107,174,214)\"],[0.625,\"rgb(66,146,198)\"],[0.75,\"rgb(33,113,181)\"],[0.875,\"rgb(8,81,156)\"],[1.0,\"rgb(8,48,107)\"]],\"line\":{\"color\":\"Grey\",\"width\":0.5},\"showscale\":false},\"mode\":\"markers\",\"name\":\"Feasible Trial\",\"showlegend\":false,\"x\":[0.37261802964665525,0.4302103529954851,1.2403444499686993,0.2913161321956179,0.06335346991219014,0.8014981068390051,1.3037232119171354,0.6737814815357923,0.08061667196158001,0.19909087764458064,0.22860810364726095,0.39154904980004107,1.1607070324114797,0.21449852308698222,0.4611973589346946,0.07683281257299784,0.3342988172740612,0.07024978052731923,0.44067758715363037,0.11289961550192466,0.4454332587174054,0.170833719378713,0.8158469739665021,0.23833199848730477,0.5872205298145801,0.07462999684068243,0.14425866746053273,0.5024427608874781,0.2858858282316471,1.1061358297830441,0.0775715267835044,0.09206124739791155,0.791730225524486,0.12294594552258943,0.11453945538878198,0.22300400603846335,0.4690423881362291,0.5387811986415983,0.23139468096087693,0.49903767113685915,0.3586435694803785,0.08266412984232543,0.061890810258414995,0.3611403238640027,0.41821481158909674,0.05934372758102124,0.23933893594881248,0.28312534659167515,0.9604161694046423,1.2385034047049797,0.9617795531242967,0.1883269831616264,0.7236037473293148,0.18763723235897678,0.6737038228291367,0.6829105050078278,1.010782957820542,1.279423118344358,1.027343799285577,1.393688219299296,0.7833976985475681,0.745182214290828,0.964670015404193,0.6540545309653331,1.1953291517016462,1.3882214230513872,1.325337839400464,1.1914108739178135,1.2199069086903502,1.3892699781451654,1.3493314922882345,0.8697386381750832,0.7692317152504252,0.8403108445598261,0.5298991468872658,1.1669084173680544,0.9932396925917845,1.0335449434331951,0.7345832196506893,0.8040111672653617,0.5797979036184747,1.1652338565661338,1.3271097191798613,0.28137412387253274,1.1412756115401745,1.3369172222049917,0.8549632148697913,0.6901415507398432,1.3653862977006592,0.3419458699331405,0.4463107177909856,0.9242941176521275,1.3727974928404394,1.1117756828227603,1.2596546826370052,0.48077112760357127,0.6428183992367937,0.876690043856303,0.7374333851771311,1.0740708139452377],\"y\":[0.9628134445060936,0.962986655040611,0.9622858276030607,0.9628077478854271,0.9615038693824947,0.9606555957144005,0.9619356772588304,0.9624012493048962,0.9623908843766225,0.960860833635029,0.9626569036452548,0.9623502303824265,0.9624687051564809,0.9617531655561535,0.9624375267419092,0.9615939638653248,0.9625054518319134,0.961867386412244,0.9620526692508211,0.9624080104413558,0.9609287107190913,0.9612168556531854,0.9619071628960505,0.962769323570917,0.9613785883140606,0.9613821704761467,0.9619599397686363,0.9623653524018592,0.9626490883305099,0.96214149081791,0.9627124859030575,0.9619617135685627,0.9623637626220578,0.9623394701518059,0.9612653018976299,0.9626564160581988,0.962134639764739,0.9626468658924481,0.9620485201030163,0.9626807163166813,0.9626940246674318,0.9625949924601684,0.9624301947143129,0.9623516965954544,0.9625310159048288,0.9619580319516252,0.9627494252932693,0.9627423485507023,0.9629357943801992,0.9625549918213178,0.9623537543225964,0.9615477882045862,0.9622393934996346,0.9625102642506281,0.9627613247032819,0.9626666032494187,0.962833362639342,0.962939303698444,0.96288599611206,0.9627259638132427,0.9629486080921084,0.9620976703317481,0.9626044527948258,0.9626135800199265,0.9629449820939777,0.962900103327988,0.9629279562763206,0.9627999859235136,0.9626070411585129,0.9625800527562116,0.9630307068213589,0.9629572288612639,0.9629800468609824,0.962893972296009,0.9624169615153054,0.9626304212549763,0.9625947725140719,0.9622567075405714,0.9626639425881546,0.962810882646677,0.9619546626875429,0.9626075468684594,0.9626932982690437,0.9624241911336775,0.9625097712771821,0.9624718796627947,0.9624786483783764,0.9628378873304204,0.9626397347977494,0.9607607106577903,0.9621413932385178,0.9627292629778509,0.9628047920744219,0.9627457908243177,0.9629758749346828,0.9626214811073412,0.9623315011692885,0.9626337418925079,0.9625532567440285,0.9623219874632589],\"type\":\"scatter\",\"xaxis\":\"x2\",\"yaxis\":\"y2\"},{\"marker\":{\"color\":[0,1,2,3,4,5,6,7,8,9,10,11,12,13,14,15,16,17,18,19,20,21,22,23,24,25,26,27,28,29,30,31,32,33,34,35,36,37,38,39,40,41,42,43,44,45,46,47,48,49,50,51,52,53,54,55,56,57,58,59,60,61,62,63,64,65,66,67,68,69,70,71,72,73,74,75,76,77,78,79,80,81,82,83,84,85,86,87,88,89,90,91,92,93,94,95,96,97,98,99],\"colorbar\":{\"title\":{\"text\":\"Trial\"},\"x\":1.0,\"xpad\":40},\"colorscale\":[[0.0,\"rgb(247,251,255)\"],[0.125,\"rgb(222,235,247)\"],[0.25,\"rgb(198,219,239)\"],[0.375,\"rgb(158,202,225)\"],[0.5,\"rgb(107,174,214)\"],[0.625,\"rgb(66,146,198)\"],[0.75,\"rgb(33,113,181)\"],[0.875,\"rgb(8,81,156)\"],[1.0,\"rgb(8,48,107)\"]],\"line\":{\"color\":\"Grey\",\"width\":0.5},\"showscale\":false},\"mode\":\"markers\",\"name\":\"Feasible Trial\",\"showlegend\":false,\"x\":[0.09902720698000689,0.07495065884252618,0.11722818259249132,0.10654051556344273,0.12107875320233528,0.050975336391352453,0.11481585342536937,0.0777090572655816,0.0921552693894246,0.08232337172361609,0.10477468179851718,0.050905800448511826,0.09015320494528678,0.07049465695008988,0.05296170646347989,0.06113264125987456,0.07077832499882215,0.1285638309175481,0.0583323073000736,0.07806862798643455,0.055561344466648385,0.06033182256372552,0.05486109173944057,0.12710851873825008,0.08911786523075182,0.06551298025916188,0.05600655288712946,0.053160554914312215,0.06443169699645514,0.08669068804175253,0.09460792648347063,0.06592738041412467,0.050969937387968726,0.09555332455569414,0.12538702733422158,0.12781298796233204,0.11342059010288874,0.11506998469034603,0.0966181879427425,0.0934501069161815,0.1236263388301731,0.09324985134841188,0.12977364282269246,0.0932411588284545,0.08187186451137436,0.0854575944175626,0.10352508481277979,0.09871140525066781,0.07392940298876588,0.07146576288920184,0.07158536591968369,0.1155586782567983,0.07268246334253498,0.11001938659356751,0.07102017819449391,0.0711828277867237,0.0781916875679353,0.09712938899900796,0.0886099986182871,0.08910329019323565,0.08605298236770582,0.09746361094595114,0.11671352755066873,0.08674244586118059,0.1034668692288277,0.10840740706356913,0.10652365422635028,0.1270727697087701,0.09887878080149139,0.10677325876804405,0.10589333021345024,0.10775739484293968,0.09748743352187071,0.08896116474440104,0.10309122924748707,0.10983793718178778,0.09419881014076208,0.1006926877268916,0.10879965959937889,0.10583387059374538,0.08132558677693003,0.10602026685756952,0.09365974991799551,0.07562955544673435,0.10629220090940215,0.10961335620742127,0.10208138990386721,0.09077521839470071,0.11101974802115665,0.10704852662722354,0.08945920210926947,0.12524004406479558,0.09716784888600193,0.11887711265993318,0.11752047079894938,0.07110206353225453,0.10590736237212967,0.08953412021177198,0.11679854470092635,0.1022828895356355],\"y\":[0.9628134445060936,0.962986655040611,0.9622858276030607,0.9628077478854271,0.9615038693824947,0.9606555957144005,0.9619356772588304,0.9624012493048962,0.9623908843766225,0.960860833635029,0.9626569036452548,0.9623502303824265,0.9624687051564809,0.9617531655561535,0.9624375267419092,0.9615939638653248,0.9625054518319134,0.961867386412244,0.9620526692508211,0.9624080104413558,0.9609287107190913,0.9612168556531854,0.9619071628960505,0.962769323570917,0.9613785883140606,0.9613821704761467,0.9619599397686363,0.9623653524018592,0.9626490883305099,0.96214149081791,0.9627124859030575,0.9619617135685627,0.9623637626220578,0.9623394701518059,0.9612653018976299,0.9626564160581988,0.962134639764739,0.9626468658924481,0.9620485201030163,0.9626807163166813,0.9626940246674318,0.9625949924601684,0.9624301947143129,0.9623516965954544,0.9625310159048288,0.9619580319516252,0.9627494252932693,0.9627423485507023,0.9629357943801992,0.9625549918213178,0.9623537543225964,0.9615477882045862,0.9622393934996346,0.9625102642506281,0.9627613247032819,0.9626666032494187,0.962833362639342,0.962939303698444,0.96288599611206,0.9627259638132427,0.9629486080921084,0.9620976703317481,0.9626044527948258,0.9626135800199265,0.9629449820939777,0.962900103327988,0.9629279562763206,0.9627999859235136,0.9626070411585129,0.9625800527562116,0.9630307068213589,0.9629572288612639,0.9629800468609824,0.962893972296009,0.9624169615153054,0.9626304212549763,0.9625947725140719,0.9622567075405714,0.9626639425881546,0.962810882646677,0.9619546626875429,0.9626075468684594,0.9626932982690437,0.9624241911336775,0.9625097712771821,0.9624718796627947,0.9624786483783764,0.9628378873304204,0.9626397347977494,0.9607607106577903,0.9621413932385178,0.9627292629778509,0.9628047920744219,0.9627457908243177,0.9629758749346828,0.9626214811073412,0.9623315011692885,0.9626337418925079,0.9625532567440285,0.9623219874632589],\"type\":\"scatter\",\"xaxis\":\"x3\",\"yaxis\":\"y3\"}],                        {\"template\":{\"data\":{\"histogram2dcontour\":[{\"type\":\"histogram2dcontour\",\"colorbar\":{\"outlinewidth\":0,\"ticks\":\"\"},\"colorscale\":[[0.0,\"#0d0887\"],[0.1111111111111111,\"#46039f\"],[0.2222222222222222,\"#7201a8\"],[0.3333333333333333,\"#9c179e\"],[0.4444444444444444,\"#bd3786\"],[0.5555555555555556,\"#d8576b\"],[0.6666666666666666,\"#ed7953\"],[0.7777777777777778,\"#fb9f3a\"],[0.8888888888888888,\"#fdca26\"],[1.0,\"#f0f921\"]]}],\"choropleth\":[{\"type\":\"choropleth\",\"colorbar\":{\"outlinewidth\":0,\"ticks\":\"\"}}],\"histogram2d\":[{\"type\":\"histogram2d\",\"colorbar\":{\"outlinewidth\":0,\"ticks\":\"\"},\"colorscale\":[[0.0,\"#0d0887\"],[0.1111111111111111,\"#46039f\"],[0.2222222222222222,\"#7201a8\"],[0.3333333333333333,\"#9c179e\"],[0.4444444444444444,\"#bd3786\"],[0.5555555555555556,\"#d8576b\"],[0.6666666666666666,\"#ed7953\"],[0.7777777777777778,\"#fb9f3a\"],[0.8888888888888888,\"#fdca26\"],[1.0,\"#f0f921\"]]}],\"heatmap\":[{\"type\":\"heatmap\",\"colorbar\":{\"outlinewidth\":0,\"ticks\":\"\"},\"colorscale\":[[0.0,\"#0d0887\"],[0.1111111111111111,\"#46039f\"],[0.2222222222222222,\"#7201a8\"],[0.3333333333333333,\"#9c179e\"],[0.4444444444444444,\"#bd3786\"],[0.5555555555555556,\"#d8576b\"],[0.6666666666666666,\"#ed7953\"],[0.7777777777777778,\"#fb9f3a\"],[0.8888888888888888,\"#fdca26\"],[1.0,\"#f0f921\"]]}],\"heatmapgl\":[{\"type\":\"heatmapgl\",\"colorbar\":{\"outlinewidth\":0,\"ticks\":\"\"},\"colorscale\":[[0.0,\"#0d0887\"],[0.1111111111111111,\"#46039f\"],[0.2222222222222222,\"#7201a8\"],[0.3333333333333333,\"#9c179e\"],[0.4444444444444444,\"#bd3786\"],[0.5555555555555556,\"#d8576b\"],[0.6666666666666666,\"#ed7953\"],[0.7777777777777778,\"#fb9f3a\"],[0.8888888888888888,\"#fdca26\"],[1.0,\"#f0f921\"]]}],\"contourcarpet\":[{\"type\":\"contourcarpet\",\"colorbar\":{\"outlinewidth\":0,\"ticks\":\"\"}}],\"contour\":[{\"type\":\"contour\",\"colorbar\":{\"outlinewidth\":0,\"ticks\":\"\"},\"colorscale\":[[0.0,\"#0d0887\"],[0.1111111111111111,\"#46039f\"],[0.2222222222222222,\"#7201a8\"],[0.3333333333333333,\"#9c179e\"],[0.4444444444444444,\"#bd3786\"],[0.5555555555555556,\"#d8576b\"],[0.6666666666666666,\"#ed7953\"],[0.7777777777777778,\"#fb9f3a\"],[0.8888888888888888,\"#fdca26\"],[1.0,\"#f0f921\"]]}],\"surface\":[{\"type\":\"surface\",\"colorbar\":{\"outlinewidth\":0,\"ticks\":\"\"},\"colorscale\":[[0.0,\"#0d0887\"],[0.1111111111111111,\"#46039f\"],[0.2222222222222222,\"#7201a8\"],[0.3333333333333333,\"#9c179e\"],[0.4444444444444444,\"#bd3786\"],[0.5555555555555556,\"#d8576b\"],[0.6666666666666666,\"#ed7953\"],[0.7777777777777778,\"#fb9f3a\"],[0.8888888888888888,\"#fdca26\"],[1.0,\"#f0f921\"]]}],\"mesh3d\":[{\"type\":\"mesh3d\",\"colorbar\":{\"outlinewidth\":0,\"ticks\":\"\"}}],\"scatter\":[{\"fillpattern\":{\"fillmode\":\"overlay\",\"size\":10,\"solidity\":0.2},\"type\":\"scatter\"}],\"parcoords\":[{\"type\":\"parcoords\",\"line\":{\"colorbar\":{\"outlinewidth\":0,\"ticks\":\"\"}}}],\"scatterpolargl\":[{\"type\":\"scatterpolargl\",\"marker\":{\"colorbar\":{\"outlinewidth\":0,\"ticks\":\"\"}}}],\"bar\":[{\"error_x\":{\"color\":\"#2a3f5f\"},\"error_y\":{\"color\":\"#2a3f5f\"},\"marker\":{\"line\":{\"color\":\"#E5ECF6\",\"width\":0.5},\"pattern\":{\"fillmode\":\"overlay\",\"size\":10,\"solidity\":0.2}},\"type\":\"bar\"}],\"scattergeo\":[{\"type\":\"scattergeo\",\"marker\":{\"colorbar\":{\"outlinewidth\":0,\"ticks\":\"\"}}}],\"scatterpolar\":[{\"type\":\"scatterpolar\",\"marker\":{\"colorbar\":{\"outlinewidth\":0,\"ticks\":\"\"}}}],\"histogram\":[{\"marker\":{\"pattern\":{\"fillmode\":\"overlay\",\"size\":10,\"solidity\":0.2}},\"type\":\"histogram\"}],\"scattergl\":[{\"type\":\"scattergl\",\"marker\":{\"colorbar\":{\"outlinewidth\":0,\"ticks\":\"\"}}}],\"scatter3d\":[{\"type\":\"scatter3d\",\"line\":{\"colorbar\":{\"outlinewidth\":0,\"ticks\":\"\"}},\"marker\":{\"colorbar\":{\"outlinewidth\":0,\"ticks\":\"\"}}}],\"scattermapbox\":[{\"type\":\"scattermapbox\",\"marker\":{\"colorbar\":{\"outlinewidth\":0,\"ticks\":\"\"}}}],\"scatterternary\":[{\"type\":\"scatterternary\",\"marker\":{\"colorbar\":{\"outlinewidth\":0,\"ticks\":\"\"}}}],\"scattercarpet\":[{\"type\":\"scattercarpet\",\"marker\":{\"colorbar\":{\"outlinewidth\":0,\"ticks\":\"\"}}}],\"carpet\":[{\"aaxis\":{\"endlinecolor\":\"#2a3f5f\",\"gridcolor\":\"white\",\"linecolor\":\"white\",\"minorgridcolor\":\"white\",\"startlinecolor\":\"#2a3f5f\"},\"baxis\":{\"endlinecolor\":\"#2a3f5f\",\"gridcolor\":\"white\",\"linecolor\":\"white\",\"minorgridcolor\":\"white\",\"startlinecolor\":\"#2a3f5f\"},\"type\":\"carpet\"}],\"table\":[{\"cells\":{\"fill\":{\"color\":\"#EBF0F8\"},\"line\":{\"color\":\"white\"}},\"header\":{\"fill\":{\"color\":\"#C8D4E3\"},\"line\":{\"color\":\"white\"}},\"type\":\"table\"}],\"barpolar\":[{\"marker\":{\"line\":{\"color\":\"#E5ECF6\",\"width\":0.5},\"pattern\":{\"fillmode\":\"overlay\",\"size\":10,\"solidity\":0.2}},\"type\":\"barpolar\"}],\"pie\":[{\"automargin\":true,\"type\":\"pie\"}]},\"layout\":{\"autotypenumbers\":\"strict\",\"colorway\":[\"#636efa\",\"#EF553B\",\"#00cc96\",\"#ab63fa\",\"#FFA15A\",\"#19d3f3\",\"#FF6692\",\"#B6E880\",\"#FF97FF\",\"#FECB52\"],\"font\":{\"color\":\"#2a3f5f\"},\"hovermode\":\"closest\",\"hoverlabel\":{\"align\":\"left\"},\"paper_bgcolor\":\"white\",\"plot_bgcolor\":\"#E5ECF6\",\"polar\":{\"bgcolor\":\"#E5ECF6\",\"angularaxis\":{\"gridcolor\":\"white\",\"linecolor\":\"white\",\"ticks\":\"\"},\"radialaxis\":{\"gridcolor\":\"white\",\"linecolor\":\"white\",\"ticks\":\"\"}},\"ternary\":{\"bgcolor\":\"#E5ECF6\",\"aaxis\":{\"gridcolor\":\"white\",\"linecolor\":\"white\",\"ticks\":\"\"},\"baxis\":{\"gridcolor\":\"white\",\"linecolor\":\"white\",\"ticks\":\"\"},\"caxis\":{\"gridcolor\":\"white\",\"linecolor\":\"white\",\"ticks\":\"\"}},\"coloraxis\":{\"colorbar\":{\"outlinewidth\":0,\"ticks\":\"\"}},\"colorscale\":{\"sequential\":[[0.0,\"#0d0887\"],[0.1111111111111111,\"#46039f\"],[0.2222222222222222,\"#7201a8\"],[0.3333333333333333,\"#9c179e\"],[0.4444444444444444,\"#bd3786\"],[0.5555555555555556,\"#d8576b\"],[0.6666666666666666,\"#ed7953\"],[0.7777777777777778,\"#fb9f3a\"],[0.8888888888888888,\"#fdca26\"],[1.0,\"#f0f921\"]],\"sequentialminus\":[[0.0,\"#0d0887\"],[0.1111111111111111,\"#46039f\"],[0.2222222222222222,\"#7201a8\"],[0.3333333333333333,\"#9c179e\"],[0.4444444444444444,\"#bd3786\"],[0.5555555555555556,\"#d8576b\"],[0.6666666666666666,\"#ed7953\"],[0.7777777777777778,\"#fb9f3a\"],[0.8888888888888888,\"#fdca26\"],[1.0,\"#f0f921\"]],\"diverging\":[[0,\"#8e0152\"],[0.1,\"#c51b7d\"],[0.2,\"#de77ae\"],[0.3,\"#f1b6da\"],[0.4,\"#fde0ef\"],[0.5,\"#f7f7f7\"],[0.6,\"#e6f5d0\"],[0.7,\"#b8e186\"],[0.8,\"#7fbc41\"],[0.9,\"#4d9221\"],[1,\"#276419\"]]},\"xaxis\":{\"gridcolor\":\"white\",\"linecolor\":\"white\",\"ticks\":\"\",\"title\":{\"standoff\":15},\"zerolinecolor\":\"white\",\"automargin\":true,\"zerolinewidth\":2},\"yaxis\":{\"gridcolor\":\"white\",\"linecolor\":\"white\",\"ticks\":\"\",\"title\":{\"standoff\":15},\"zerolinecolor\":\"white\",\"automargin\":true,\"zerolinewidth\":2},\"scene\":{\"xaxis\":{\"backgroundcolor\":\"#E5ECF6\",\"gridcolor\":\"white\",\"linecolor\":\"white\",\"showbackground\":true,\"ticks\":\"\",\"zerolinecolor\":\"white\",\"gridwidth\":2},\"yaxis\":{\"backgroundcolor\":\"#E5ECF6\",\"gridcolor\":\"white\",\"linecolor\":\"white\",\"showbackground\":true,\"ticks\":\"\",\"zerolinecolor\":\"white\",\"gridwidth\":2},\"zaxis\":{\"backgroundcolor\":\"#E5ECF6\",\"gridcolor\":\"white\",\"linecolor\":\"white\",\"showbackground\":true,\"ticks\":\"\",\"zerolinecolor\":\"white\",\"gridwidth\":2}},\"shapedefaults\":{\"line\":{\"color\":\"#2a3f5f\"}},\"annotationdefaults\":{\"arrowcolor\":\"#2a3f5f\",\"arrowhead\":0,\"arrowwidth\":1},\"geo\":{\"bgcolor\":\"white\",\"landcolor\":\"#E5ECF6\",\"subunitcolor\":\"white\",\"showland\":true,\"showlakes\":true,\"lakecolor\":\"white\"},\"title\":{\"x\":0.05},\"mapbox\":{\"style\":\"light\"}}},\"xaxis\":{\"anchor\":\"y\",\"domain\":[0.0,0.2888888888888889],\"title\":{\"text\":\"depth\"}},\"yaxis\":{\"anchor\":\"x\",\"domain\":[0.0,1.0],\"title\":{\"text\":\"Objective Value\"}},\"xaxis2\":{\"anchor\":\"y2\",\"domain\":[0.35555555555555557,0.6444444444444445],\"title\":{\"text\":\"l2_leaf_reg\"},\"type\":\"log\"},\"yaxis2\":{\"anchor\":\"x2\",\"domain\":[0.0,1.0],\"matches\":\"y\",\"showticklabels\":false},\"xaxis3\":{\"anchor\":\"y3\",\"domain\":[0.7111111111111111,1.0],\"title\":{\"text\":\"learning_rate\"},\"type\":\"log\"},\"yaxis3\":{\"anchor\":\"x3\",\"domain\":[0.0,1.0],\"matches\":\"y\",\"showticklabels\":false},\"title\":{\"text\":\"Slice Plot\"}},                        {\"responsive\": true}                    ).then(function(){\n",
       "                            \n",
       "var gd = document.getElementById('d1810915-c49f-4738-8fd4-e4d7350da2a1');\n",
       "var x = new MutationObserver(function (mutations, observer) {{\n",
       "        var display = window.getComputedStyle(gd).display;\n",
       "        if (!display || display === 'none') {{\n",
       "            console.log([gd, 'removed!']);\n",
       "            Plotly.purge(gd);\n",
       "            observer.disconnect();\n",
       "        }}\n",
       "}});\n",
       "\n",
       "// Listen for the removal of the full notebook cells\n",
       "var notebookContainer = gd.closest('#notebook-container');\n",
       "if (notebookContainer) {{\n",
       "    x.observe(notebookContainer, {childList: true});\n",
       "}}\n",
       "\n",
       "// Listen for the clearing of the current output cell\n",
       "var outputEl = gd.closest('.output');\n",
       "if (outputEl) {{\n",
       "    x.observe(outputEl, {childList: true});\n",
       "}}\n",
       "\n",
       "                        })                };                });            </script>        </div>"
      ]
     },
     "metadata": {},
     "output_type": "display_data"
    }
   ],
   "source": [
    "from optuna.samplers import TPESampler\n",
    "# Create a study object and specify the optimization direction (maximize ROC AUC)\n",
    "study = optuna.create_study(sampler=TPESampler(n_startup_trials=35, multivariate=True, seed=0),direction='maximize')\n",
    "\n",
    "# Run the optimization for a specified number of trials\n",
    "study.optimize(objective, n_trials=100)\n",
    "\n",
    "# Print the best hyperparameters and the best score\n",
    "print(f\"Best hyperparameters: {study.best_params}\")\n",
    "print(f\"Best AUC score: {study.best_value}\")\n",
    "\n",
    "# Visualize results\n",
    "plot_optimization_history(study).show()\n",
    "plot_param_importances(study).show()\n",
    "plot_parallel_coordinate(study).show()\n",
    "plot_contour(study).show()\n",
    "plot_slice(study).show()\n"
   ]
  },
  {
   "cell_type": "code",
   "execution_count": 24,
   "id": "e339465a",
   "metadata": {
    "execution": {
     "iopub.execute_input": "2024-10-17T14:50:23.184124Z",
     "iopub.status.busy": "2024-10-17T14:50:23.183796Z",
     "iopub.status.idle": "2024-10-17T14:50:23.188712Z",
     "shell.execute_reply": "2024-10-17T14:50:23.187847Z"
    },
    "papermill": {
     "duration": 0.067576,
     "end_time": "2024-10-17T14:50:23.190688",
     "exception": false,
     "start_time": "2024-10-17T14:50:23.123112",
     "status": "completed"
    },
    "tags": []
   },
   "outputs": [
    {
     "name": "stdout",
     "output_type": "stream",
     "text": [
      "Best Hyperparameters: {'depth': 5, 'learning_rate': 0.10589333021345024, 'l2_leaf_reg': 1.3493314922882345}\n"
     ]
    }
   ],
   "source": [
    "# Get the best hyperparameters found by Optuna\n",
    "best_params = study.best_params\n",
    "print(\"Best Hyperparameters:\", best_params)\n",
    "\n"
   ]
  },
  {
   "cell_type": "code",
   "execution_count": 25,
   "id": "ac83b240",
   "metadata": {
    "execution": {
     "iopub.execute_input": "2024-10-17T14:50:23.311907Z",
     "iopub.status.busy": "2024-10-17T14:50:23.311268Z",
     "iopub.status.idle": "2024-10-17T14:52:29.033931Z",
     "shell.execute_reply": "2024-10-17T14:52:29.032891Z"
    },
    "papermill": {
     "duration": 125.844517,
     "end_time": "2024-10-17T14:52:29.095062",
     "exception": false,
     "start_time": "2024-10-17T14:50:23.250545",
     "status": "completed"
    },
    "tags": []
   },
   "outputs": [
    {
     "data": {
      "text/plain": [
       "<catboost.core.CatBoostClassifier at 0x79f426c568f0>"
      ]
     },
     "execution_count": 25,
     "metadata": {},
     "output_type": "execute_result"
    }
   ],
   "source": [
    "# Create the final model using the best hyperparameters\n",
    "best_model = CatBoostClassifier(\n",
    "    depth=best_params['depth'],\n",
    "    learning_rate=best_params['learning_rate'],\n",
    "    l2_leaf_reg=best_params['l2_leaf_reg'],\n",
    "    cat_features=categorical_cols,\n",
    "    verbose=False  # Suppress training output\n",
    ")\n",
    "\n",
    "# Train the model on the entire dataset\n",
    "best_model.fit(X, y)\n"
   ]
  },
  {
   "cell_type": "code",
   "execution_count": 26,
   "id": "4f30c48e",
   "metadata": {
    "execution": {
     "iopub.execute_input": "2024-10-17T14:52:29.216034Z",
     "iopub.status.busy": "2024-10-17T14:52:29.215377Z",
     "iopub.status.idle": "2024-10-17T14:52:30.014839Z",
     "shell.execute_reply": "2024-10-17T14:52:30.013762Z"
    },
    "papermill": {
     "duration": 0.862265,
     "end_time": "2024-10-17T14:52:30.017015",
     "exception": false,
     "start_time": "2024-10-17T14:52:29.154750",
     "status": "completed"
    },
    "tags": []
   },
   "outputs": [
    {
     "name": "stdout",
     "output_type": "stream",
     "text": [
      "Test ROC AUC Score: 0.9989398633807862\n"
     ]
    }
   ],
   "source": [
    "# Evaluate the model on a test set (if available)\n",
    "y_test_pred_proba = best_model.predict_proba(X_test)[:, 1]\n",
    "roc_auc = roc_auc_score(y_test, y_test_pred_proba)\n",
    "print(\"Test ROC AUC Score:\", roc_auc)\n",
    "\n",
    "# Save the model for future use\n",
    "best_model.save_model(\"best_catboost_model.cbm\")\n",
    "\n"
   ]
  },
  {
   "cell_type": "markdown",
   "id": "d7cf04ff",
   "metadata": {
    "papermill": {
     "duration": 0.059669,
     "end_time": "2024-10-17T14:52:30.137119",
     "exception": false,
     "start_time": "2024-10-17T14:52:30.077450",
     "status": "completed"
    },
    "tags": []
   },
   "source": [
    "# Prediction"
   ]
  },
  {
   "cell_type": "code",
   "execution_count": 27,
   "id": "248ceee9",
   "metadata": {
    "execution": {
     "iopub.execute_input": "2024-10-17T14:52:30.259713Z",
     "iopub.status.busy": "2024-10-17T14:52:30.259256Z",
     "iopub.status.idle": "2024-10-17T14:52:30.264552Z",
     "shell.execute_reply": "2024-10-17T14:52:30.263541Z"
    },
    "papermill": {
     "duration": 0.069476,
     "end_time": "2024-10-17T14:52:30.266581",
     "exception": false,
     "start_time": "2024-10-17T14:52:30.197105",
     "status": "completed"
    },
    "tags": []
   },
   "outputs": [],
   "source": [
    "id_column = test['id'].values"
   ]
  },
  {
   "cell_type": "code",
   "execution_count": 28,
   "id": "820b81b0",
   "metadata": {
    "execution": {
     "iopub.execute_input": "2024-10-17T14:52:30.398365Z",
     "iopub.status.busy": "2024-10-17T14:52:30.397821Z",
     "iopub.status.idle": "2024-10-17T14:52:30.405482Z",
     "shell.execute_reply": "2024-10-17T14:52:30.404480Z"
    },
    "papermill": {
     "duration": 0.081218,
     "end_time": "2024-10-17T14:52:30.408220",
     "exception": false,
     "start_time": "2024-10-17T14:52:30.327002",
     "status": "completed"
    },
    "tags": []
   },
   "outputs": [],
   "source": [
    "X = test.drop(['id'], axis = 1)"
   ]
  },
  {
   "cell_type": "code",
   "execution_count": 29,
   "id": "deb413b2",
   "metadata": {
    "execution": {
     "iopub.execute_input": "2024-10-17T14:52:30.536058Z",
     "iopub.status.busy": "2024-10-17T14:52:30.535728Z",
     "iopub.status.idle": "2024-10-17T14:52:30.595464Z",
     "shell.execute_reply": "2024-10-17T14:52:30.594722Z"
    },
    "papermill": {
     "duration": 0.123305,
     "end_time": "2024-10-17T14:52:30.597549",
     "exception": false,
     "start_time": "2024-10-17T14:52:30.474244",
     "status": "completed"
    },
    "tags": []
   },
   "outputs": [],
   "source": [
    "X_train_transformed=preprocessor.transform(X)"
   ]
  },
  {
   "cell_type": "code",
   "execution_count": 30,
   "id": "f71ce5a4",
   "metadata": {
    "execution": {
     "iopub.execute_input": "2024-10-17T14:52:30.719809Z",
     "iopub.status.busy": "2024-10-17T14:52:30.719483Z",
     "iopub.status.idle": "2024-10-17T14:52:30.723970Z",
     "shell.execute_reply": "2024-10-17T14:52:30.723111Z"
    },
    "papermill": {
     "duration": 0.067371,
     "end_time": "2024-10-17T14:52:30.725771",
     "exception": false,
     "start_time": "2024-10-17T14:52:30.658400",
     "status": "completed"
    },
    "tags": []
   },
   "outputs": [],
   "source": [
    "# Extract column names\n",
    "# Get numerical column names\n",
    "num_feature_names = numerical_cols\n",
    "\n",
    "# Get categorical column names after one-hot encoding\n",
    "cat_feature_names = categorical_cols\n",
    "\n",
    "# Combine both sets of feature names\n",
    "all_feature_names = list(num_feature_names) + list(cat_feature_names)"
   ]
  },
  {
   "cell_type": "code",
   "execution_count": 31,
   "id": "f6eef8a3",
   "metadata": {
    "execution": {
     "iopub.execute_input": "2024-10-17T14:52:30.846495Z",
     "iopub.status.busy": "2024-10-17T14:52:30.846178Z",
     "iopub.status.idle": "2024-10-17T14:52:30.851121Z",
     "shell.execute_reply": "2024-10-17T14:52:30.850386Z"
    },
    "papermill": {
     "duration": 0.067379,
     "end_time": "2024-10-17T14:52:30.852985",
     "exception": false,
     "start_time": "2024-10-17T14:52:30.785606",
     "status": "completed"
    },
    "tags": []
   },
   "outputs": [],
   "source": [
    "X = pd.DataFrame(X_train_transformed, columns=all_feature_names, index=X.index)"
   ]
  },
  {
   "cell_type": "code",
   "execution_count": 32,
   "id": "e13cca91",
   "metadata": {
    "execution": {
     "iopub.execute_input": "2024-10-17T14:52:30.974447Z",
     "iopub.status.busy": "2024-10-17T14:52:30.974129Z",
     "iopub.status.idle": "2024-10-17T14:52:30.979660Z",
     "shell.execute_reply": "2024-10-17T14:52:30.978781Z"
    },
    "papermill": {
     "duration": 0.069217,
     "end_time": "2024-10-17T14:52:30.981531",
     "exception": false,
     "start_time": "2024-10-17T14:52:30.912314",
     "status": "completed"
    },
    "tags": []
   },
   "outputs": [
    {
     "data": {
      "text/plain": [
       "(39098,)"
      ]
     },
     "execution_count": 32,
     "metadata": {},
     "output_type": "execute_result"
    }
   ],
   "source": [
    "id_column.shape"
   ]
  },
  {
   "cell_type": "code",
   "execution_count": 33,
   "id": "d4386bcf",
   "metadata": {
    "execution": {
     "iopub.execute_input": "2024-10-17T14:52:31.103413Z",
     "iopub.status.busy": "2024-10-17T14:52:31.102893Z",
     "iopub.status.idle": "2024-10-17T14:52:31.401454Z",
     "shell.execute_reply": "2024-10-17T14:52:31.400613Z"
    },
    "papermill": {
     "duration": 0.361632,
     "end_time": "2024-10-17T14:52:31.403708",
     "exception": false,
     "start_time": "2024-10-17T14:52:31.042076",
     "status": "completed"
    },
    "tags": []
   },
   "outputs": [],
   "source": [
    "\n",
    "y_pred_submission = y_pred_submission = best_model.predict_proba(X)[:, 1]\n",
    "\n"
   ]
  },
  {
   "cell_type": "code",
   "execution_count": 34,
   "id": "baac5388",
   "metadata": {
    "execution": {
     "iopub.execute_input": "2024-10-17T14:52:31.526315Z",
     "iopub.status.busy": "2024-10-17T14:52:31.525987Z",
     "iopub.status.idle": "2024-10-17T14:52:31.530923Z",
     "shell.execute_reply": "2024-10-17T14:52:31.530093Z"
    },
    "papermill": {
     "duration": 0.068088,
     "end_time": "2024-10-17T14:52:31.532890",
     "exception": false,
     "start_time": "2024-10-17T14:52:31.464802",
     "status": "completed"
    },
    "tags": []
   },
   "outputs": [],
   "source": [
    "# Create a new DataFrame with ID and Predictions\n",
    "predictions_df = pd.DataFrame({'id': id_column, 'loan_status': y_pred_submission})"
   ]
  },
  {
   "cell_type": "code",
   "execution_count": 35,
   "id": "0b490df2",
   "metadata": {
    "execution": {
     "iopub.execute_input": "2024-10-17T14:52:31.655325Z",
     "iopub.status.busy": "2024-10-17T14:52:31.655024Z",
     "iopub.status.idle": "2024-10-17T14:52:31.665903Z",
     "shell.execute_reply": "2024-10-17T14:52:31.665034Z"
    },
    "papermill": {
     "duration": 0.074726,
     "end_time": "2024-10-17T14:52:31.667890",
     "exception": false,
     "start_time": "2024-10-17T14:52:31.593164",
     "status": "completed"
    },
    "tags": []
   },
   "outputs": [
    {
     "data": {
      "text/html": [
       "<div>\n",
       "<style scoped>\n",
       "    .dataframe tbody tr th:only-of-type {\n",
       "        vertical-align: middle;\n",
       "    }\n",
       "\n",
       "    .dataframe tbody tr th {\n",
       "        vertical-align: top;\n",
       "    }\n",
       "\n",
       "    .dataframe thead th {\n",
       "        text-align: right;\n",
       "    }\n",
       "</style>\n",
       "<table border=\"1\" class=\"dataframe\">\n",
       "  <thead>\n",
       "    <tr style=\"text-align: right;\">\n",
       "      <th></th>\n",
       "      <th>id</th>\n",
       "      <th>loan_status</th>\n",
       "    </tr>\n",
       "  </thead>\n",
       "  <tbody>\n",
       "    <tr>\n",
       "      <th>0</th>\n",
       "      <td>58645</td>\n",
       "      <td>0.999837</td>\n",
       "    </tr>\n",
       "    <tr>\n",
       "      <th>1</th>\n",
       "      <td>58646</td>\n",
       "      <td>0.017433</td>\n",
       "    </tr>\n",
       "    <tr>\n",
       "      <th>2</th>\n",
       "      <td>58647</td>\n",
       "      <td>0.807216</td>\n",
       "    </tr>\n",
       "    <tr>\n",
       "      <th>3</th>\n",
       "      <td>58648</td>\n",
       "      <td>0.010907</td>\n",
       "    </tr>\n",
       "    <tr>\n",
       "      <th>4</th>\n",
       "      <td>58649</td>\n",
       "      <td>0.103507</td>\n",
       "    </tr>\n",
       "    <tr>\n",
       "      <th>...</th>\n",
       "      <td>...</td>\n",
       "      <td>...</td>\n",
       "    </tr>\n",
       "    <tr>\n",
       "      <th>39093</th>\n",
       "      <td>97738</td>\n",
       "      <td>0.101231</td>\n",
       "    </tr>\n",
       "    <tr>\n",
       "      <th>39094</th>\n",
       "      <td>97739</td>\n",
       "      <td>0.007528</td>\n",
       "    </tr>\n",
       "    <tr>\n",
       "      <th>39095</th>\n",
       "      <td>97740</td>\n",
       "      <td>0.004900</td>\n",
       "    </tr>\n",
       "    <tr>\n",
       "      <th>39096</th>\n",
       "      <td>97741</td>\n",
       "      <td>0.277982</td>\n",
       "    </tr>\n",
       "    <tr>\n",
       "      <th>39097</th>\n",
       "      <td>97742</td>\n",
       "      <td>0.986100</td>\n",
       "    </tr>\n",
       "  </tbody>\n",
       "</table>\n",
       "<p>39098 rows × 2 columns</p>\n",
       "</div>"
      ],
      "text/plain": [
       "          id  loan_status\n",
       "0      58645     0.999837\n",
       "1      58646     0.017433\n",
       "2      58647     0.807216\n",
       "3      58648     0.010907\n",
       "4      58649     0.103507\n",
       "...      ...          ...\n",
       "39093  97738     0.101231\n",
       "39094  97739     0.007528\n",
       "39095  97740     0.004900\n",
       "39096  97741     0.277982\n",
       "39097  97742     0.986100\n",
       "\n",
       "[39098 rows x 2 columns]"
      ]
     },
     "execution_count": 35,
     "metadata": {},
     "output_type": "execute_result"
    }
   ],
   "source": [
    "predictions_df"
   ]
  },
  {
   "cell_type": "code",
   "execution_count": 36,
   "id": "8425d0c1",
   "metadata": {
    "execution": {
     "iopub.execute_input": "2024-10-17T14:52:31.829797Z",
     "iopub.status.busy": "2024-10-17T14:52:31.829413Z",
     "iopub.status.idle": "2024-10-17T14:52:31.950101Z",
     "shell.execute_reply": "2024-10-17T14:52:31.949137Z"
    },
    "papermill": {
     "duration": 0.184269,
     "end_time": "2024-10-17T14:52:31.952366",
     "exception": false,
     "start_time": "2024-10-17T14:52:31.768097",
     "status": "completed"
    },
    "tags": []
   },
   "outputs": [],
   "source": [
    "predictions_df.to_csv('submission.csv', index=False)\n"
   ]
  },
  {
   "cell_type": "code",
   "execution_count": null,
   "id": "5cd1d580",
   "metadata": {
    "papermill": {
     "duration": 0.061316,
     "end_time": "2024-10-17T14:52:32.076747",
     "exception": false,
     "start_time": "2024-10-17T14:52:32.015431",
     "status": "completed"
    },
    "tags": []
   },
   "outputs": [],
   "source": []
  }
 ],
 "metadata": {
  "kaggle": {
   "accelerator": "gpu",
   "dataSources": [
    {
     "databundleVersionId": 9709193,
     "sourceId": 84894,
     "sourceType": "competition"
    },
    {
     "datasetId": 5846229,
     "sourceId": 9586495,
     "sourceType": "datasetVersion"
    }
   ],
   "dockerImageVersionId": 30786,
   "isGpuEnabled": true,
   "isInternetEnabled": true,
   "language": "python",
   "sourceType": "notebook"
  },
  "kernelspec": {
   "display_name": "Python 3",
   "language": "python",
   "name": "python3"
  },
  "language_info": {
   "codemirror_mode": {
    "name": "ipython",
    "version": 3
   },
   "file_extension": ".py",
   "mimetype": "text/x-python",
   "name": "python",
   "nbconvert_exporter": "python",
   "pygments_lexer": "ipython3",
   "version": "3.10.14"
  },
  "papermill": {
   "default_parameters": {},
   "duration": 11800.69836,
   "end_time": "2024-10-17T14:52:32.856937",
   "environment_variables": {},
   "exception": null,
   "input_path": "__notebook__.ipynb",
   "output_path": "__notebook__.ipynb",
   "parameters": {},
   "start_time": "2024-10-17T11:35:52.158577",
   "version": "2.6.0"
  }
 },
 "nbformat": 4,
 "nbformat_minor": 5
}
