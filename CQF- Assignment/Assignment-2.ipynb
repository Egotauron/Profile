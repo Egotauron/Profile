{
 "cells": [
  {
   "cell_type": "code",
   "execution_count": 1,
   "id": "1de7afab",
   "metadata": {
    "_cell_guid": "b1076dfc-b9ad-4769-8c92-a6c4dae69d19",
    "_uuid": "8f2839f25d086af736a60e9eeb907d3b93b6e0e5",
    "execution": {
     "iopub.execute_input": "2024-10-15T16:01:55.364778Z",
     "iopub.status.busy": "2024-10-15T16:01:55.364285Z",
     "iopub.status.idle": "2024-10-15T16:01:56.267450Z",
     "shell.execute_reply": "2024-10-15T16:01:56.266304Z"
    },
    "papermill": {
     "duration": 0.916264,
     "end_time": "2024-10-15T16:01:56.270498",
     "exception": false,
     "start_time": "2024-10-15T16:01:55.354234",
     "status": "completed"
    },
    "tags": []
   },
   "outputs": [
    {
     "name": "stdout",
     "output_type": "stream",
     "text": [
      "/kaggle/input/btc-usd-hft/bin.btc.usd_2024-09-17.parquet\n"
     ]
    }
   ],
   "source": [
    "# This Python 3 environment comes with many helpful analytics libraries installed\n",
    "# It is defined by the kaggle/python Docker image: https://github.com/kaggle/docker-python\n",
    "# For example, here's several helpful packages to load\n",
    "\n",
    "import numpy as np # linear algebra\n",
    "import pandas as pd # data processing, CSV file I/O (e.g. pd.read_csv)\n",
    "\n",
    "# Input data files are available in the read-only \"../input/\" directory\n",
    "# For example, running this (by clicking run or pressing Shift+Enter) will list all files under the input directory\n",
    "\n",
    "import os\n",
    "for dirname, _, filenames in os.walk('/kaggle/input'):\n",
    "    for filename in filenames:\n",
    "        print(os.path.join(dirname, filename))\n",
    "\n",
    "# You can write up to 20GB to the current directory (/kaggle/working/) that gets preserved as output when you create a version using \"Save & Run All\" \n",
    "# You can also write temporary files to /kaggle/temp/, but they won't be saved outside of the current session"
   ]
  },
  {
   "cell_type": "markdown",
   "id": "86aa8e65",
   "metadata": {
    "execution": {
     "iopub.execute_input": "2024-10-06T10:48:00.879850Z",
     "iopub.status.busy": "2024-10-06T10:48:00.879398Z",
     "iopub.status.idle": "2024-10-06T10:48:00.895924Z",
     "shell.execute_reply": "2024-10-06T10:48:00.894589Z",
     "shell.execute_reply.started": "2024-10-06T10:48:00.879806Z"
    },
    "papermill": {
     "duration": 0.007015,
     "end_time": "2024-10-15T16:01:56.285379",
     "exception": false,
     "start_time": "2024-10-15T16:01:56.278364",
     "status": "completed"
    },
    "tags": []
   },
   "source": [
    "# Question 1: What is the cost function of Logistic Regression? Explain in Detail.\n",
    "\n",
    "Logistic regression is used for binary classification problems. The model predicts the probability of the target variable belonging to one of the two classes. The logistic function, also known as the sigmoid function, is used to map the predicted values into a range between 0 and 1. The function is defined as:\n",
    "$$\n",
    "h_\\theta(x) = \\frac{1}{1 + e^{-\\theta^T x}}\n",
    "$$\n",
    "Where theta epresents the model parameters, and x represents the input features.\n",
    "\n",
    "The cost function for logistic regression measures the error between the predicted probability and the actual class label. For binary classification, the cost function used is the log-likelihood or log-loss function:\n",
    "$$\n",
    "J(\\theta) = - \\frac{1}{m} \\sum_{i=1}^{m} \\left[ y^{(i)} \\log(h_\\theta(x^{i)})) + (1 - y^{(i)}) \\log(1 - h_\\theta(x^{i)})) \\right]\n",
    "$$\n",
    "Where:\n",
    "-  m  is the number of training examples,\n",
    "- y^i is the true class label for the  i-th example,\n",
    "- theta(x^i) is the predicted probability for the i-th example.\n",
    "\n",
    "The first term in the cost function is applied when the actual label is 1, and the second term is applied when the actual label is 0. The cost function is minimized during training to improve the model's predictions.\n",
    "\n",
    "Gradient descent is typically used to minimize the cost function, where the model parameters theta are updated iteratively based on the gradients of the cost function:\n",
    "$$\n",
    "\\theta := \\theta - \\alpha \\frac{\\partial}{\\partial \\theta} J(\\theta)\n",
    "$$\n",
    "Where alpha is the learning rate. Minimizing this cost function leads to the best-fitting logistic regression model.\n",
    "\n",
    "---\n",
    "\n",
    "# Question 2: What are voting classifiers in ensemble learning?\n",
    "\n",
    "Voting classifiers are a type of ensemble learning method where multiple models (classifiers) are combined to improve overall prediction performance. In a voting classifier, predictions from different models are aggregated to make a final prediction.\n",
    "\n",
    "There are two main types of voting classifiers:\n",
    "\n",
    "1. **Hard Voting**: In hard voting, each classifier makes a class prediction, and the final prediction is made based on the majority vote. The class that receives the most votes from the individual classifiers is selected as the final prediction.\n",
    "   $$\n",
    "   \\text{Prediction} = \\arg \\max_y \\sum_i 1(y = \\hat{y}_i)\n",
    "   $$\n",
    "   Where y_i-hat is the prediction of the i-th classifier.\n",
    "\n",
    "2. **Soft Voting**: In soft voting, each classifier outputs the probability estimates for each class, and the final prediction is made by averaging these probabilities. The class with the highest average probability is chosen as the final prediction.\n",
    "   $$\n",
    "   \\text{Prediction} = \\arg \\max_y \\sum_i p(y = \\hat{y}_i)\n",
    "   $$\n",
    "\n",
    "In soft voting, the contribution of each classifier is weighted by the probability it assigns to each class, while in hard voting, only the final class label is considered. Voting classifiers can be applied to combine models like decision trees, support vector machines, and logistic regression to make a more robust classifier. I have used ensemble models, usually in hard voting classifier to cover model weaknesses by combining tree models with neural nets in order to capture non linear relationships witout overfitting."
   ]
  },
  {
   "cell_type": "markdown",
   "id": "d91f8027",
   "metadata": {
    "papermill": {
     "duration": 0.006971,
     "end_time": "2024-10-15T16:01:56.314151",
     "exception": false,
     "start_time": "2024-10-15T16:01:56.307180",
     "status": "completed"
    },
    "tags": []
   },
   "source": [
    "# Question 3: Follow the 7-steps to model building for your selected ticker"
   ]
  },
  {
   "cell_type": "markdown",
   "id": "1e38dde6",
   "metadata": {
    "papermill": {
     "duration": 0.007048,
     "end_time": "2024-10-15T16:01:56.329482",
     "exception": false,
     "start_time": "2024-10-15T16:01:56.322434",
     "status": "completed"
    },
    "tags": []
   },
   "source": [
    "## a) Produce a model to predict positive moves (up trend) using Support Vector Machine (SVM) model"
   ]
  },
  {
   "cell_type": "markdown",
   "id": "83dca66c",
   "metadata": {
    "papermill": {
     "duration": 0.006875,
     "end_time": "2024-10-15T16:01:56.343625",
     "exception": false,
     "start_time": "2024-10-15T16:01:56.336750",
     "status": "completed"
    },
    "tags": []
   },
   "source": [
    "### Importing data\n",
    "\n",
    "For this Exercise we are importing 24h of high frequency orderbook (20 levels) data (sub 1 millisecond) on BTC-USDT ticker in Binance - given the high frequency of the data I want to investigate if SVM are sophisticated enough to decode potential signals that more complex neural nets have been to decode from order books."
   ]
  },
  {
   "cell_type": "code",
   "execution_count": 2,
   "id": "2fba7747",
   "metadata": {
    "execution": {
     "iopub.execute_input": "2024-10-15T16:01:56.359986Z",
     "iopub.status.busy": "2024-10-15T16:01:56.359438Z",
     "iopub.status.idle": "2024-10-15T16:01:57.983934Z",
     "shell.execute_reply": "2024-10-15T16:01:57.982750Z"
    },
    "papermill": {
     "duration": 1.635662,
     "end_time": "2024-10-15T16:01:57.986527",
     "exception": false,
     "start_time": "2024-10-15T16:01:56.350865",
     "status": "completed"
    },
    "tags": []
   },
   "outputs": [],
   "source": [
    "import pandas as pd\n",
    "import numpy as np\n",
    "from sklearn.model_selection import KFold\n",
    "from sklearn.pipeline import Pipeline\n",
    "from sklearn.preprocessing import StandardScaler\n",
    "from sklearn.svm import SVC\n",
    "from sklearn.metrics import accuracy_score\n",
    "from sklearn.model_selection import GridSearchCV\n",
    "from sklearn.model_selection import train_test_split\n",
    "import gc\n",
    "import os"
   ]
  },
  {
   "cell_type": "code",
   "execution_count": 3,
   "id": "163dcebb",
   "metadata": {
    "execution": {
     "iopub.execute_input": "2024-10-15T16:01:58.003553Z",
     "iopub.status.busy": "2024-10-15T16:01:58.002950Z",
     "iopub.status.idle": "2024-10-15T16:02:11.720402Z",
     "shell.execute_reply": "2024-10-15T16:02:11.719259Z"
    },
    "papermill": {
     "duration": 13.728582,
     "end_time": "2024-10-15T16:02:11.722769",
     "exception": false,
     "start_time": "2024-10-15T16:01:57.994187",
     "status": "completed"
    },
    "tags": []
   },
   "outputs": [
    {
     "data": {
      "text/plain": [
       "0"
      ]
     },
     "execution_count": 3,
     "metadata": {},
     "output_type": "execute_result"
    }
   ],
   "source": [
    "df= pd.read_parquet('/kaggle/input/btc-usd-hft')\n",
    "df = df.head(int(len(df) * 1))\n",
    "gc.collect()"
   ]
  },
  {
   "cell_type": "markdown",
   "id": "7d16303c",
   "metadata": {
    "papermill": {
     "duration": 0.007327,
     "end_time": "2024-10-15T16:02:11.737921",
     "exception": false,
     "start_time": "2024-10-15T16:02:11.730594",
     "status": "completed"
    },
    "tags": []
   },
   "source": [
    "## Data exploration and cleaning"
   ]
  },
  {
   "cell_type": "code",
   "execution_count": 4,
   "id": "ef6806ce",
   "metadata": {
    "execution": {
     "iopub.execute_input": "2024-10-15T16:02:11.754898Z",
     "iopub.status.busy": "2024-10-15T16:02:11.754356Z",
     "iopub.status.idle": "2024-10-15T16:02:11.791354Z",
     "shell.execute_reply": "2024-10-15T16:02:11.790244Z"
    },
    "papermill": {
     "duration": 0.048494,
     "end_time": "2024-10-15T16:02:11.793995",
     "exception": false,
     "start_time": "2024-10-15T16:02:11.745501",
     "status": "completed"
    },
    "tags": []
   },
   "outputs": [
    {
     "data": {
      "text/html": [
       "<div>\n",
       "<style scoped>\n",
       "    .dataframe tbody tr th:only-of-type {\n",
       "        vertical-align: middle;\n",
       "    }\n",
       "\n",
       "    .dataframe tbody tr th {\n",
       "        vertical-align: top;\n",
       "    }\n",
       "\n",
       "    .dataframe thead th {\n",
       "        text-align: right;\n",
       "    }\n",
       "</style>\n",
       "<table border=\"1\" class=\"dataframe\">\n",
       "  <thead>\n",
       "    <tr style=\"text-align: right;\">\n",
       "      <th></th>\n",
       "      <th>timestamp</th>\n",
       "      <th>exchange_time</th>\n",
       "      <th>feed_time</th>\n",
       "      <th>eventId_source</th>\n",
       "      <th>eventId_session_number</th>\n",
       "      <th>eventId_sequence</th>\n",
       "      <th>bid_level_count</th>\n",
       "      <th>ask_price_0</th>\n",
       "      <th>ask_size_0</th>\n",
       "      <th>ask_price_1</th>\n",
       "      <th>...</th>\n",
       "      <th>trades_sell_liquidation_count</th>\n",
       "      <th>trades_sell_block_count</th>\n",
       "      <th>funding_rate</th>\n",
       "      <th>open_interest</th>\n",
       "      <th>settlement_price</th>\n",
       "      <th>delivery_price</th>\n",
       "      <th>underlying_price</th>\n",
       "      <th>interest_rate</th>\n",
       "      <th>is_reliable</th>\n",
       "      <th>is_heartbeat</th>\n",
       "    </tr>\n",
       "  </thead>\n",
       "  <tbody>\n",
       "    <tr>\n",
       "      <th>0</th>\n",
       "      <td>1726531200003102498</td>\n",
       "      <td>0</td>\n",
       "      <td>1726531200003072741</td>\n",
       "      <td>1045134377</td>\n",
       "      <td>1724889600</td>\n",
       "      <td>213613961</td>\n",
       "      <td>20</td>\n",
       "      <td>58214.0</td>\n",
       "      <td>4.79395</td>\n",
       "      <td>0.0</td>\n",
       "      <td>...</td>\n",
       "      <td>0</td>\n",
       "      <td>0</td>\n",
       "      <td>0.0</td>\n",
       "      <td>0.0</td>\n",
       "      <td>0.0</td>\n",
       "      <td>0.0</td>\n",
       "      <td>0.0</td>\n",
       "      <td>0.0</td>\n",
       "      <td>False</td>\n",
       "      <td>False</td>\n",
       "    </tr>\n",
       "  </tbody>\n",
       "</table>\n",
       "<p>1 rows × 109 columns</p>\n",
       "</div>"
      ],
      "text/plain": [
       "             timestamp  exchange_time            feed_time  eventId_source  \\\n",
       "0  1726531200003102498              0  1726531200003072741      1045134377   \n",
       "\n",
       "   eventId_session_number  eventId_sequence  bid_level_count  ask_price_0  \\\n",
       "0              1724889600         213613961               20      58214.0   \n",
       "\n",
       "   ask_size_0  ask_price_1  ...  trades_sell_liquidation_count  \\\n",
       "0     4.79395          0.0  ...                              0   \n",
       "\n",
       "   trades_sell_block_count  funding_rate  open_interest  settlement_price  \\\n",
       "0                        0           0.0            0.0               0.0   \n",
       "\n",
       "   delivery_price  underlying_price  interest_rate  is_reliable  is_heartbeat  \n",
       "0             0.0               0.0            0.0        False         False  \n",
       "\n",
       "[1 rows x 109 columns]"
      ]
     },
     "execution_count": 4,
     "metadata": {},
     "output_type": "execute_result"
    }
   ],
   "source": [
    "df.head(1)"
   ]
  },
  {
   "cell_type": "code",
   "execution_count": 5,
   "id": "f39c66b4",
   "metadata": {
    "execution": {
     "iopub.execute_input": "2024-10-15T16:02:11.811651Z",
     "iopub.status.busy": "2024-10-15T16:02:11.811246Z",
     "iopub.status.idle": "2024-10-15T16:02:11.817094Z",
     "shell.execute_reply": "2024-10-15T16:02:11.815896Z"
    },
    "papermill": {
     "duration": 0.017749,
     "end_time": "2024-10-15T16:02:11.819874",
     "exception": false,
     "start_time": "2024-10-15T16:02:11.802125",
     "status": "completed"
    },
    "tags": []
   },
   "outputs": [
    {
     "name": "stdout",
     "output_type": "stream",
     "text": [
      "['timestamp', 'exchange_time', 'feed_time', 'eventId_source', 'eventId_session_number', 'eventId_sequence', 'bid_level_count', 'ask_price_0', 'ask_size_0', 'ask_price_1', 'ask_size_1', 'ask_price_2', 'ask_size_2', 'ask_price_3', 'ask_size_3', 'ask_price_4', 'ask_size_4', 'ask_price_5', 'ask_size_5', 'ask_price_6', 'ask_size_6', 'ask_price_7', 'ask_size_7', 'ask_price_8', 'ask_size_8', 'ask_price_9', 'ask_size_9', 'ask_price_10', 'ask_size_10', 'ask_price_11', 'ask_size_11', 'ask_price_12', 'ask_size_12', 'ask_price_13', 'ask_size_13', 'ask_price_14', 'ask_size_14', 'ask_price_15', 'ask_size_15', 'ask_price_16', 'ask_size_16', 'ask_price_17', 'ask_size_17', 'ask_price_18', 'ask_size_18', 'ask_price_19', 'ask_size_19', 'ask_level_count', 'bid_price_0', 'bid_size_0', 'bid_price_1', 'bid_size_1', 'bid_price_2', 'bid_size_2', 'bid_price_3', 'bid_size_3', 'bid_price_4', 'bid_size_4', 'bid_price_5', 'bid_size_5', 'bid_price_6', 'bid_size_6', 'bid_price_7', 'bid_size_7', 'bid_price_8', 'bid_size_8', 'bid_price_9', 'bid_size_9', 'bid_price_10', 'bid_size_10', 'bid_price_11', 'bid_size_11', 'bid_price_12', 'bid_size_12', 'bid_price_13', 'bid_size_13', 'bid_price_14', 'bid_size_14', 'bid_price_15', 'bid_size_15', 'bid_price_16', 'bid_size_16', 'bid_price_17', 'bid_size_17', 'bid_price_18', 'bid_size_18', 'bid_price_19', 'bid_size_19', 'mid', 'trades_buy_count', 'trades_buy_avg_price', 'trades_buy_volume', 'trades_buy_vwap', 'trades_buy_liquidation_count', 'trades_buy_block_count', 'trades_sell_count', 'trades_sell_avg_price', 'trades_sell_volume', 'trades_sell_vwap', 'trades_sell_liquidation_count', 'trades_sell_block_count', 'funding_rate', 'open_interest', 'settlement_price', 'delivery_price', 'underlying_price', 'interest_rate', 'is_reliable', 'is_heartbeat']\n"
     ]
    }
   ],
   "source": [
    "print(list(df.columns))"
   ]
  },
  {
   "cell_type": "markdown",
   "id": "408fb8a6",
   "metadata": {
    "papermill": {
     "duration": 0.007753,
     "end_time": "2024-10-15T16:02:11.835652",
     "exception": false,
     "start_time": "2024-10-15T16:02:11.827899",
     "status": "completed"
    },
    "tags": []
   },
   "source": [
    "## Dropping columns that are uinlikely to carry information"
   ]
  },
  {
   "cell_type": "code",
   "execution_count": 6,
   "id": "f5e26906",
   "metadata": {
    "execution": {
     "iopub.execute_input": "2024-10-15T16:02:11.854083Z",
     "iopub.status.busy": "2024-10-15T16:02:11.852966Z",
     "iopub.status.idle": "2024-10-15T16:02:16.630204Z",
     "shell.execute_reply": "2024-10-15T16:02:16.628954Z"
    },
    "papermill": {
     "duration": 4.789341,
     "end_time": "2024-10-15T16:02:16.632863",
     "exception": false,
     "start_time": "2024-10-15T16:02:11.843522",
     "status": "completed"
    },
    "tags": []
   },
   "outputs": [],
   "source": [
    "df.drop(['exchange_time', 'feed_time', 'eventId_source', 'eventId_session_number', 'eventId_sequence','is_reliable', 'is_heartbeat' ], axis = 1, inplace = True)"
   ]
  },
  {
   "cell_type": "code",
   "execution_count": 7,
   "id": "faec39e6",
   "metadata": {
    "execution": {
     "iopub.execute_input": "2024-10-15T16:02:16.650581Z",
     "iopub.status.busy": "2024-10-15T16:02:16.650178Z",
     "iopub.status.idle": "2024-10-15T16:02:16.661301Z",
     "shell.execute_reply": "2024-10-15T16:02:16.660228Z"
    },
    "papermill": {
     "duration": 0.022819,
     "end_time": "2024-10-15T16:02:16.663578",
     "exception": false,
     "start_time": "2024-10-15T16:02:16.640759",
     "status": "completed"
    },
    "tags": []
   },
   "outputs": [],
   "source": [
    "aggregation_rules = {\n",
    "    'mid': 'last',  \n",
    "    'bid_level_count': 'first', \n",
    "    'ask_level_count': 'first',\n",
    "    'ask_price_0': 'last', 'ask_size_0': 'sum', \n",
    "    'ask_price_1': 'last', 'ask_size_1': 'sum',\n",
    "    'ask_price_2': 'last', 'ask_size_2': 'sum',\n",
    "    'ask_price_3': 'last', 'ask_size_3': 'sum',\n",
    "    'ask_price_4': 'last', 'ask_size_4': 'sum',\n",
    "    'ask_price_5': 'last', 'ask_size_5': 'sum',\n",
    "    'ask_price_6': 'last', 'ask_size_6': 'sum',\n",
    "    'ask_price_7': 'last', 'ask_size_7': 'sum',\n",
    "    'ask_price_8': 'last', 'ask_size_8': 'sum',\n",
    "    'ask_price_9': 'last', 'ask_size_9': 'sum',\n",
    "    'ask_price_10': 'last', 'ask_size_10': 'sum',\n",
    "    'ask_price_11': 'last', 'ask_size_11': 'sum',\n",
    "    'ask_price_12': 'last', 'ask_size_12': 'sum',\n",
    "    'ask_price_13': 'last', 'ask_size_13': 'sum',\n",
    "    'ask_price_14': 'last', 'ask_size_14': 'sum',\n",
    "    'ask_price_15': 'last', 'ask_size_15': 'sum',\n",
    "    'ask_price_16': 'last', 'ask_size_16': 'sum',\n",
    "    'ask_price_17': 'last', 'ask_size_17': 'sum',\n",
    "    'ask_price_18': 'last', 'ask_size_18': 'sum',\n",
    "    'ask_price_19': 'last', 'ask_size_19': 'sum',\n",
    "    'bid_price_0': 'last', 'bid_size_0': 'sum',\n",
    "    'bid_price_1': 'last', 'bid_size_1': 'sum',\n",
    "    'bid_price_2': 'last', 'bid_size_2': 'sum',\n",
    "    'bid_price_3': 'last', 'bid_size_3': 'sum',\n",
    "    'bid_price_4': 'last', 'bid_size_4': 'sum',\n",
    "    'bid_price_5': 'last', 'bid_size_5': 'sum',\n",
    "    'bid_price_6': 'last', 'bid_size_6': 'sum',\n",
    "    'bid_price_7': 'last', 'bid_size_7': 'sum',\n",
    "    'bid_price_8': 'last', 'bid_size_8': 'sum',\n",
    "    'bid_price_9': 'last', 'bid_size_9': 'sum',\n",
    "    'bid_price_10': 'last', 'bid_size_10': 'sum',\n",
    "    'bid_price_11': 'last', 'bid_size_11': 'sum',\n",
    "    'bid_price_12': 'last', 'bid_size_12': 'sum',\n",
    "    'bid_price_13': 'last', 'bid_size_13': 'sum',\n",
    "    'bid_price_14': 'last', 'bid_size_14': 'sum',\n",
    "    'bid_price_15': 'last', 'bid_size_15': 'sum',\n",
    "    'bid_price_16': 'last', 'bid_size_16': 'sum',\n",
    "    'bid_price_17': 'last', 'bid_size_17': 'sum',\n",
    "    'bid_price_18': 'last', 'bid_size_18': 'sum',\n",
    "    'bid_price_19': 'last', 'bid_size_19': 'sum',\n",
    "    'trades_buy_count': 'sum',  # Sum trade counts over the period\n",
    "    'trades_buy_avg_price': 'last',  # Use the last trade price to reflect end-of-period value\n",
    "    'trades_buy_volume': 'sum',\n",
    "    'trades_buy_vwap': 'last',  # Use the last VWAP to reflect end-of-period value\n",
    "    'trades_buy_liquidation_count': 'sum',\n",
    "    'trades_buy_block_count': 'sum',\n",
    "    'trades_sell_count': 'sum',\n",
    "    'trades_sell_avg_price': 'last',\n",
    "    'trades_sell_volume': 'sum',\n",
    "    'trades_sell_vwap': 'last',\n",
    "    'trades_sell_liquidation_count': 'sum',\n",
    "    'trades_sell_block_count': 'sum',\n",
    "    'funding_rate': 'last',\n",
    "    'open_interest': 'last',\n",
    "    'settlement_price': 'last',\n",
    "    'delivery_price': 'last',\n",
    "    'underlying_price': 'last',\n",
    "    'interest_rate': 'last',\n",
    "}\n"
   ]
  },
  {
   "cell_type": "code",
   "execution_count": 8,
   "id": "41dd3647",
   "metadata": {
    "execution": {
     "iopub.execute_input": "2024-10-15T16:02:16.681478Z",
     "iopub.status.busy": "2024-10-15T16:02:16.681011Z",
     "iopub.status.idle": "2024-10-15T16:02:37.179867Z",
     "shell.execute_reply": "2024-10-15T16:02:37.178446Z"
    },
    "papermill": {
     "duration": 20.510663,
     "end_time": "2024-10-15T16:02:37.182423",
     "exception": false,
     "start_time": "2024-10-15T16:02:16.671760",
     "status": "completed"
    },
    "tags": []
   },
   "outputs": [
    {
     "data": {
      "text/plain": [
       "(8634, 102)"
      ]
     },
     "execution_count": 8,
     "metadata": {},
     "output_type": "execute_result"
    }
   ],
   "source": [
    "# Create date_time value from timestamp and aggregate\n",
    "df['timestamp'] = pd.to_datetime(df['timestamp'], unit='ns')\n",
    "df= df.resample('10s', on='timestamp').agg(aggregation_rules)\n",
    "df=df.reset_index()\n",
    "df.shape #sanity check for shape "
   ]
  },
  {
   "cell_type": "markdown",
   "id": "8f600e91",
   "metadata": {
    "papermill": {
     "duration": 0.007763,
     "end_time": "2024-10-15T16:02:37.198269",
     "exception": false,
     "start_time": "2024-10-15T16:02:37.190506",
     "status": "completed"
    },
    "tags": []
   },
   "source": [
    "## Creating preprocessing and feature engineering pipeline and creating target variable"
   ]
  },
  {
   "cell_type": "code",
   "execution_count": 9,
   "id": "67bc10fb",
   "metadata": {
    "execution": {
     "iopub.execute_input": "2024-10-15T16:02:37.216463Z",
     "iopub.status.busy": "2024-10-15T16:02:37.215547Z",
     "iopub.status.idle": "2024-10-15T16:02:37.223816Z",
     "shell.execute_reply": "2024-10-15T16:02:37.222721Z"
    },
    "papermill": {
     "duration": 0.020199,
     "end_time": "2024-10-15T16:02:37.226499",
     "exception": false,
     "start_time": "2024-10-15T16:02:37.206300",
     "status": "completed"
    },
    "tags": []
   },
   "outputs": [],
   "source": [
    "# Label log returns\n",
    "def calculate_target(X):\n",
    "    X['log_return'] = np.log(X['mid']).diff()\n",
    "    X.dropna(inplace=True)\n",
    "    X['log_return_ahead'] = X['log_return'].shift(-1)\n",
    "    X.dropna(inplace=True)\n",
    "    # Create lagged returns for 10 periods\n",
    "    for lag in range(1, 11):\n",
    "        X[f'lagged__log_return_{lag}'] = X['log_return'].shift(lag)\n",
    "\n",
    "    # Calculate the moving average of the returns over a window of your choice (e.g., 5 periods)\n",
    "    moving_average_window = 5  # Adjust the window size as needed\n",
    "    X['moving_average'] = X['log_return'].rolling(window=moving_average_window).mean()\n",
    "    \n",
    "    # Drop any rows with NaN values that may result from shifting or rolling operations\n",
    "    X = X.dropna().reset_index(drop=True)\n",
    "    \n",
    "    y = pd.DataFrame({\n",
    "        'timestamp': X['timestamp'],  # Keep the timestamp for alignment\n",
    "        'label': (X['log_return_ahead'] > 0).astype(int)  # Binary target\n",
    "    })\n",
    "    return X.drop(columns=['log_return', 'log_return_ahead','timestamp']), y"
   ]
  },
  {
   "cell_type": "markdown",
   "id": "ce89b4e6",
   "metadata": {
    "papermill": {
     "duration": 0.007617,
     "end_time": "2024-10-15T16:02:37.242945",
     "exception": false,
     "start_time": "2024-10-15T16:02:37.235328",
     "status": "completed"
    },
    "tags": []
   },
   "source": [
    "## Cross Validation function"
   ]
  },
  {
   "cell_type": "code",
   "execution_count": 10,
   "id": "e37b7218",
   "metadata": {
    "execution": {
     "iopub.execute_input": "2024-10-15T16:02:37.260614Z",
     "iopub.status.busy": "2024-10-15T16:02:37.260143Z",
     "iopub.status.idle": "2024-10-15T16:02:37.268676Z",
     "shell.execute_reply": "2024-10-15T16:02:37.267405Z"
    },
    "papermill": {
     "duration": 0.020472,
     "end_time": "2024-10-15T16:02:37.271258",
     "exception": false,
     "start_time": "2024-10-15T16:02:37.250786",
     "status": "completed"
    },
    "tags": []
   },
   "outputs": [],
   "source": [
    "# For cross validation we will used purged cross validation as it performs just as well or better than rolling or expanding windows for time series\n",
    "\n",
    "class PurgedKFold:\n",
    "    def __init__(self, n_splits=5, purge_window=10, embargo_pct=0.01):\n",
    "        self.n_splits = n_splits\n",
    "        self.purge_window = purge_window\n",
    "        self.embargo_pct = embargo_pct\n",
    "        \n",
    "    # Add the required get_n_splits method\n",
    "    def get_n_splits(self, X, y=None, groups=None):\n",
    "        return self.n_splits\n",
    "    \n",
    "    def split(self, X, y=None, groups=None):\n",
    "        n_samples = len(X)\n",
    "        kf = KFold(n_splits=self.n_splits)\n",
    "        embargo_size = int(self.embargo_pct * n_samples)\n",
    "\n",
    "        for train_idx, test_idx in kf.split(X):\n",
    "            # Define the purge window range\n",
    "            start_purge = max(0, test_idx[0] - self.purge_window)\n",
    "            end_purge = min(n_samples, test_idx[-1] + self.purge_window + embargo_size)\n",
    "            \n",
    "            # Remove overlapping training indices\n",
    "            train_idx = train_idx[(train_idx < start_purge) | (train_idx >= end_purge)]\n",
    "            \n",
    "            yield train_idx, test_idx\n",
    "\n"
   ]
  },
  {
   "cell_type": "code",
   "execution_count": 11,
   "id": "42fef7df",
   "metadata": {
    "execution": {
     "iopub.execute_input": "2024-10-15T16:02:37.293619Z",
     "iopub.status.busy": "2024-10-15T16:02:37.293197Z",
     "iopub.status.idle": "2024-10-15T16:02:37.338204Z",
     "shell.execute_reply": "2024-10-15T16:02:37.336893Z"
    },
    "papermill": {
     "duration": 0.057052,
     "end_time": "2024-10-15T16:02:37.340741",
     "exception": false,
     "start_time": "2024-10-15T16:02:37.283689",
     "status": "completed"
    },
    "tags": []
   },
   "outputs": [],
   "source": [
    "# Define the full pipeline, we assign names to the pipeline so we can then use them to reference specific parameters in the grid search\n",
    "pipeline = Pipeline([\n",
    "    ('scaler', StandardScaler()),  # Scales the features\n",
    "    ('svc', SVC(kernel='rbf', C=1.0, gamma='scale' , probability = True))  # Support Vector Classifier\n",
    "])\n",
    "\n",
    "# Compute the features and target\n",
    "X, y = calculate_target(df)\n",
    "\n",
    "X_train, X_test, y_train, y_test = train_test_split(X, y, test_size=0.3, random_state=42)"
   ]
  },
  {
   "cell_type": "markdown",
   "id": "b620a2df",
   "metadata": {
    "papermill": {
     "duration": 0.007543,
     "end_time": "2024-10-15T16:02:37.356430",
     "exception": false,
     "start_time": "2024-10-15T16:02:37.348887",
     "status": "completed"
    },
    "tags": []
   },
   "source": [
    "## b) Tune hyperparameters for the estimator and present the best model"
   ]
  },
  {
   "cell_type": "code",
   "execution_count": 12,
   "id": "e6cc6a43",
   "metadata": {
    "execution": {
     "iopub.execute_input": "2024-10-15T16:02:37.374146Z",
     "iopub.status.busy": "2024-10-15T16:02:37.373340Z",
     "iopub.status.idle": "2024-10-15T16:02:37.379979Z",
     "shell.execute_reply": "2024-10-15T16:02:37.378867Z"
    },
    "papermill": {
     "duration": 0.018052,
     "end_time": "2024-10-15T16:02:37.382217",
     "exception": false,
     "start_time": "2024-10-15T16:02:37.364165",
     "status": "completed"
    },
    "tags": []
   },
   "outputs": [],
   "source": [
    "param_grid = {\n",
    "    'svc__C': [ 0.5, 1],  # regularization parameter\n",
    "    'svc__gamma': ['scale', 'auto', 0.001],  #kernel coefficient values\n",
    "    'svc__kernel': ['linear', 'rbf'],  # Additional kernel types\n",
    "    'svc__degree': [2, 3],   # for the poly kernel\n",
    "    'svc__coef0': [0.0, 0.5],  # # fpr poly and sigmoid kernels\n",
    "    'svc__shrinking': [True],  # shrinking heuristic\n",
    "    'svc__class_weight': ['balanced', None]  # For handling imbalanced data / we have a slight imbalance so I want to se eif we can do something about it\n",
    "}\n",
    "\n",
    "\n",
    "\n",
    "purged_cv = PurgedKFold(n_splits=5, purge_window=15, embargo_pct=0.01)"
   ]
  },
  {
   "cell_type": "markdown",
   "id": "9656a3d7",
   "metadata": {
    "papermill": {
     "duration": 0.007592,
     "end_time": "2024-10-15T16:02:37.397750",
     "exception": false,
     "start_time": "2024-10-15T16:02:37.390158",
     "status": "completed"
    },
    "tags": []
   },
   "source": [
    "There are several hyperparameters that SVM/C can take - I will be looking at a subsection of them over the most common values to increase the performance of the SVC without overfitting it to to the data presented"
   ]
  },
  {
   "cell_type": "markdown",
   "id": "c084154a",
   "metadata": {
    "papermill": {
     "duration": 0.00763,
     "end_time": "2024-10-15T16:02:37.413368",
     "exception": false,
     "start_time": "2024-10-15T16:02:37.405738",
     "status": "completed"
    },
    "tags": []
   },
   "source": [
    "## Create a K-Fold Purged cross validation function - this is suitable for time eries as long as the embargo is large enough"
   ]
  },
  {
   "cell_type": "code",
   "execution_count": 13,
   "id": "872e8cac",
   "metadata": {
    "execution": {
     "iopub.execute_input": "2024-10-15T16:02:37.431579Z",
     "iopub.status.busy": "2024-10-15T16:02:37.430525Z",
     "iopub.status.idle": "2024-10-15T16:02:37.440954Z",
     "shell.execute_reply": "2024-10-15T16:02:37.439689Z"
    },
    "papermill": {
     "duration": 0.022214,
     "end_time": "2024-10-15T16:02:37.443458",
     "exception": false,
     "start_time": "2024-10-15T16:02:37.421244",
     "status": "completed"
    },
    "tags": []
   },
   "outputs": [
    {
     "name": "stdout",
     "output_type": "stream",
     "text": [
      "Fold 0\n",
      "Length of Train indices: 4754\n",
      "Length of Test indices: 1207\n",
      "Train start: 8588, Train end: 7270\n",
      "Test start: 2542, Test end: 7308\n",
      "---\n",
      "Fold 1\n",
      "Length of Train indices: 4739\n",
      "Length of Test indices: 1207\n",
      "Train start: 2542, Train end: 7270\n",
      "Test start: 8539, Test end: 6474\n",
      "---\n",
      "Fold 2\n",
      "Length of Train indices: 4739\n",
      "Length of Test indices: 1207\n",
      "Train start: 2542, Train end: 7270\n",
      "Test start: 7845, Test end: 6939\n",
      "---\n",
      "Fold 3\n",
      "Length of Train indices: 4739\n",
      "Length of Test indices: 1207\n",
      "Train start: 2542, Train end: 7270\n",
      "Test start: 6012, Test end: 6024\n",
      "---\n",
      "Fold 4\n",
      "Length of Train indices: 4813\n",
      "Length of Test indices: 1207\n",
      "Train start: 2542, Train end: 1645\n",
      "Test start: 3449, Test end: 7270\n",
      "---\n"
     ]
    }
   ],
   "source": [
    "for fold, (train_idx, test_idx) in enumerate(purged_cv.split(X_train, y_train)):\n",
    "    print(f\"Fold {fold}\")\n",
    "    print(f\"Length of Train indices: {len(train_idx)}\")\n",
    "    print(f\"Length of Test indices: {len(test_idx)}\")\n",
    "    if len(train_idx) > 0 and len(test_idx) > 0:\n",
    "        print(f\"Train start: {X_train.index[train_idx[0]]}, Train end: {X_train.index[train_idx[-1]]}\")\n",
    "        print(f\"Test start: {X_train.index[test_idx[0]]}, Test end: {X_train.index[test_idx[-1]]}\")\n",
    "    else:\n",
    "        print(\"Empty train or test set!\")\n",
    "    print(f\"---\")\n",
    "\n",
    "#Printing out the folds allows me to check if there is anything wrong with the splitting of the data especially when increasing the purging and embargo windows ( there often is :(( )"
   ]
  },
  {
   "cell_type": "markdown",
   "id": "01033936",
   "metadata": {
    "papermill": {
     "duration": 0.007695,
     "end_time": "2024-10-15T16:02:37.459232",
     "exception": false,
     "start_time": "2024-10-15T16:02:37.451537",
     "status": "completed"
    },
    "tags": []
   },
   "source": [
    "## Tuning the model and reporting the best parameters"
   ]
  },
  {
   "cell_type": "code",
   "execution_count": 14,
   "id": "1b554e04",
   "metadata": {
    "execution": {
     "iopub.execute_input": "2024-10-15T16:02:37.477080Z",
     "iopub.status.busy": "2024-10-15T16:02:37.476642Z",
     "iopub.status.idle": "2024-10-15T17:14:16.169776Z",
     "shell.execute_reply": "2024-10-15T17:14:16.167857Z"
    },
    "papermill": {
     "duration": 4298.714408,
     "end_time": "2024-10-15T17:14:16.181690",
     "exception": false,
     "start_time": "2024-10-15T16:02:37.467282",
     "status": "completed"
    },
    "tags": []
   },
   "outputs": [
    {
     "name": "stdout",
     "output_type": "stream",
     "text": [
      "Starting CV\n",
      "Fitting 5 folds for each of 96 candidates, totalling 480 fits\n",
      "[CV] END svc__C=0.5, svc__class_weight=balanced, svc__coef0=0.0, svc__degree=2, svc__gamma=scale, svc__kernel=linear, svc__shrinking=True; total time=  26.4s\n",
      "[CV] END svc__C=0.5, svc__class_weight=balanced, svc__coef0=0.0, svc__degree=2, svc__gamma=scale, svc__kernel=linear, svc__shrinking=True; total time=  26.9s\n",
      "[CV] END svc__C=0.5, svc__class_weight=balanced, svc__coef0=0.0, svc__degree=2, svc__gamma=auto, svc__kernel=linear, svc__shrinking=True; total time=  28.4s\n",
      "[CV] END svc__C=0.5, svc__class_weight=balanced, svc__coef0=0.0, svc__degree=2, svc__gamma=auto, svc__kernel=rbf, svc__shrinking=True; total time=  20.1s\n",
      "[CV] END svc__C=0.5, svc__class_weight=balanced, svc__coef0=0.0, svc__degree=2, svc__gamma=auto, svc__kernel=rbf, svc__shrinking=True; total time=  20.8s\n",
      "[CV] END svc__C=0.5, svc__class_weight=balanced, svc__coef0=0.0, svc__degree=2, svc__gamma=0.001, svc__kernel=linear, svc__shrinking=True; total time=  27.6s\n",
      "[CV] END svc__C=0.5, svc__class_weight=balanced, svc__coef0=0.0, svc__degree=2, svc__gamma=0.001, svc__kernel=rbf, svc__shrinking=True; total time=  19.9s\n",
      "[CV] END svc__C=0.5, svc__class_weight=balanced, svc__coef0=0.0, svc__degree=2, svc__gamma=0.001, svc__kernel=rbf, svc__shrinking=True; total time=  19.9s\n",
      "[CV] END svc__C=0.5, svc__class_weight=balanced, svc__coef0=0.0, svc__degree=3, svc__gamma=scale, svc__kernel=linear, svc__shrinking=True; total time=  27.9s\n",
      "[CV] END svc__C=0.5, svc__class_weight=balanced, svc__coef0=0.0, svc__degree=3, svc__gamma=scale, svc__kernel=rbf, svc__shrinking=True; total time=  22.4s\n",
      "[CV] END svc__C=0.5, svc__class_weight=balanced, svc__coef0=0.0, svc__degree=3, svc__gamma=auto, svc__kernel=linear, svc__shrinking=True; total time=  31.5s\n",
      "[CV] END svc__C=0.5, svc__class_weight=balanced, svc__coef0=0.0, svc__degree=3, svc__gamma=auto, svc__kernel=rbf, svc__shrinking=True; total time=  18.6s\n",
      "[CV] END svc__C=0.5, svc__class_weight=balanced, svc__coef0=0.0, svc__degree=3, svc__gamma=auto, svc__kernel=rbf, svc__shrinking=True; total time=  19.2s\n",
      "[CV] END svc__C=0.5, svc__class_weight=balanced, svc__coef0=0.0, svc__degree=3, svc__gamma=0.001, svc__kernel=linear, svc__shrinking=True; total time=  28.2s\n",
      "[CV] END svc__C=0.5, svc__class_weight=balanced, svc__coef0=0.0, svc__degree=3, svc__gamma=0.001, svc__kernel=rbf, svc__shrinking=True; total time=  18.0s\n",
      "[CV] END svc__C=0.5, svc__class_weight=balanced, svc__coef0=0.5, svc__degree=2, svc__gamma=scale, svc__kernel=linear, svc__shrinking=True; total time=  27.2s\n",
      "[CV] END svc__C=0.5, svc__class_weight=balanced, svc__coef0=0.5, svc__degree=2, svc__gamma=scale, svc__kernel=linear, svc__shrinking=True; total time=  28.1s\n",
      "[CV] END svc__C=0.5, svc__class_weight=balanced, svc__coef0=0.5, svc__degree=2, svc__gamma=scale, svc__kernel=rbf, svc__shrinking=True; total time=  21.9s\n",
      "[CV] END svc__C=0.5, svc__class_weight=balanced, svc__coef0=0.5, svc__degree=2, svc__gamma=auto, svc__kernel=linear, svc__shrinking=True; total time=  32.1s\n",
      "[CV] END svc__C=0.5, svc__class_weight=balanced, svc__coef0=0.5, svc__degree=2, svc__gamma=auto, svc__kernel=rbf, svc__shrinking=True; total time=  20.3s\n",
      "[CV] END svc__C=0.5, svc__class_weight=balanced, svc__coef0=0.5, svc__degree=2, svc__gamma=0.001, svc__kernel=linear, svc__shrinking=True; total time=  28.7s\n",
      "[CV] END svc__C=0.5, svc__class_weight=balanced, svc__coef0=0.5, svc__degree=2, svc__gamma=0.001, svc__kernel=rbf, svc__shrinking=True; total time=  19.4s\n",
      "[CV] END svc__C=0.5, svc__class_weight=balanced, svc__coef0=0.5, svc__degree=2, svc__gamma=0.001, svc__kernel=rbf, svc__shrinking=True; total time=  18.7s\n",
      "[CV] END svc__C=0.5, svc__class_weight=balanced, svc__coef0=0.5, svc__degree=3, svc__gamma=scale, svc__kernel=linear, svc__shrinking=True; total time=  28.6s\n",
      "[CV] END svc__C=0.5, svc__class_weight=balanced, svc__coef0=0.5, svc__degree=3, svc__gamma=scale, svc__kernel=rbf, svc__shrinking=True; total time=  19.5s\n",
      "[CV] END svc__C=0.5, svc__class_weight=balanced, svc__coef0=0.5, svc__degree=3, svc__gamma=auto, svc__kernel=linear, svc__shrinking=True; total time=  26.6s\n",
      "[CV] END svc__C=0.5, svc__class_weight=balanced, svc__coef0=0.5, svc__degree=3, svc__gamma=auto, svc__kernel=linear, svc__shrinking=True; total time=  28.5s\n",
      "[CV] END svc__C=0.5, svc__class_weight=balanced, svc__coef0=0.5, svc__degree=3, svc__gamma=auto, svc__kernel=rbf, svc__shrinking=True; total time=  19.0s\n",
      "[CV] END svc__C=0.5, svc__class_weight=balanced, svc__coef0=0.5, svc__degree=3, svc__gamma=0.001, svc__kernel=linear, svc__shrinking=True; total time=  27.4s\n",
      "[CV] END svc__C=0.5, svc__class_weight=balanced, svc__coef0=0.5, svc__degree=3, svc__gamma=0.001, svc__kernel=rbf, svc__shrinking=True; total time=  18.4s\n",
      "[CV] END svc__C=0.5, svc__class_weight=None, svc__coef0=0.0, svc__degree=2, svc__gamma=scale, svc__kernel=linear, svc__shrinking=True; total time= 1.1min\n",
      "[CV] END svc__C=0.5, svc__class_weight=None, svc__coef0=0.0, svc__degree=2, svc__gamma=scale, svc__kernel=rbf, svc__shrinking=True; total time=  15.9s\n",
      "[CV] END svc__C=0.5, svc__class_weight=None, svc__coef0=0.0, svc__degree=2, svc__gamma=scale, svc__kernel=rbf, svc__shrinking=True; total time=  16.0s\n",
      "[CV] END svc__C=0.5, svc__class_weight=None, svc__coef0=0.0, svc__degree=2, svc__gamma=auto, svc__kernel=linear, svc__shrinking=True; total time=  44.9s\n",
      "[CV] END svc__C=0.5, svc__class_weight=None, svc__coef0=0.0, svc__degree=2, svc__gamma=auto, svc__kernel=linear, svc__shrinking=True; total time=  34.9s\n",
      "[CV] END svc__C=0.5, svc__class_weight=None, svc__coef0=0.0, svc__degree=2, svc__gamma=0.001, svc__kernel=linear, svc__shrinking=True; total time= 1.0min\n",
      "[CV] END svc__C=0.5, svc__class_weight=None, svc__coef0=0.0, svc__degree=2, svc__gamma=0.001, svc__kernel=rbf, svc__shrinking=True; total time=  16.3s\n",
      "[CV] END svc__C=0.5, svc__class_weight=None, svc__coef0=0.0, svc__degree=2, svc__gamma=0.001, svc__kernel=rbf, svc__shrinking=True; total time=  17.1s\n",
      "[CV] END svc__C=0.5, svc__class_weight=None, svc__coef0=0.0, svc__degree=3, svc__gamma=scale, svc__kernel=linear, svc__shrinking=True; total time=  51.7s\n",
      "[CV] END svc__C=0.5, svc__class_weight=None, svc__coef0=0.0, svc__degree=3, svc__gamma=scale, svc__kernel=linear, svc__shrinking=True; total time=  35.9s\n",
      "[CV] END svc__C=0.5, svc__class_weight=None, svc__coef0=0.0, svc__degree=3, svc__gamma=auto, svc__kernel=linear, svc__shrinking=True; total time=  51.5s\n",
      "[CV] END svc__C=0.5, svc__class_weight=None, svc__coef0=0.0, svc__degree=3, svc__gamma=auto, svc__kernel=rbf, svc__shrinking=True; total time=  15.5s\n",
      "[CV] END svc__C=0.5, svc__class_weight=None, svc__coef0=0.0, svc__degree=3, svc__gamma=auto, svc__kernel=rbf, svc__shrinking=True; total time=  16.4s\n",
      "[CV] END svc__C=0.5, svc__class_weight=None, svc__coef0=0.0, svc__degree=3, svc__gamma=0.001, svc__kernel=linear, svc__shrinking=True; total time= 1.0min\n",
      "[CV] END svc__C=0.5, svc__class_weight=None, svc__coef0=0.0, svc__degree=3, svc__gamma=0.001, svc__kernel=rbf, svc__shrinking=True; total time=  15.0s\n",
      "[CV] END svc__C=0.5, svc__class_weight=None, svc__coef0=0.0, svc__degree=3, svc__gamma=0.001, svc__kernel=rbf, svc__shrinking=True; total time=  17.9s\n",
      "[CV] END svc__C=0.5, svc__class_weight=None, svc__coef0=0.5, svc__degree=2, svc__gamma=scale, svc__kernel=linear, svc__shrinking=True; total time= 1.1min\n",
      "[CV] END svc__C=0.5, svc__class_weight=None, svc__coef0=0.5, svc__degree=2, svc__gamma=scale, svc__kernel=rbf, svc__shrinking=True; total time=  16.0s\n",
      "[CV] END svc__C=0.5, svc__class_weight=None, svc__coef0=0.5, svc__degree=2, svc__gamma=auto, svc__kernel=linear, svc__shrinking=True; total time=  48.8s\n",
      "[CV] END svc__C=0.5, svc__class_weight=None, svc__coef0=0.5, svc__degree=2, svc__gamma=auto, svc__kernel=rbf, svc__shrinking=True; total time=  14.7s\n",
      "[CV] END svc__C=0.5, svc__class_weight=None, svc__coef0=0.5, svc__degree=2, svc__gamma=auto, svc__kernel=rbf, svc__shrinking=True; total time=  15.4s\n",
      "[CV] END svc__C=0.5, svc__class_weight=None, svc__coef0=0.5, svc__degree=2, svc__gamma=0.001, svc__kernel=linear, svc__shrinking=True; total time=  42.8s\n",
      "[CV] END svc__C=0.5, svc__class_weight=None, svc__coef0=0.5, svc__degree=2, svc__gamma=0.001, svc__kernel=linear, svc__shrinking=True; total time=  34.9s\n",
      "[CV] END svc__C=0.5, svc__class_weight=balanced, svc__coef0=0.0, svc__degree=2, svc__gamma=scale, svc__kernel=linear, svc__shrinking=True; total time=  27.4s\n",
      "[CV] END svc__C=0.5, svc__class_weight=balanced, svc__coef0=0.0, svc__degree=2, svc__gamma=scale, svc__kernel=rbf, svc__shrinking=True; total time=  21.8s\n",
      "[CV] END svc__C=0.5, svc__class_weight=balanced, svc__coef0=0.0, svc__degree=2, svc__gamma=scale, svc__kernel=rbf, svc__shrinking=True; total time=  20.4s\n",
      "[CV] END svc__C=0.5, svc__class_weight=balanced, svc__coef0=0.0, svc__degree=2, svc__gamma=auto, svc__kernel=linear, svc__shrinking=True; total time=  28.1s\n",
      "[CV] END svc__C=0.5, svc__class_weight=balanced, svc__coef0=0.0, svc__degree=2, svc__gamma=auto, svc__kernel=rbf, svc__shrinking=True; total time=  21.0s\n",
      "[CV] END svc__C=0.5, svc__class_weight=balanced, svc__coef0=0.0, svc__degree=2, svc__gamma=0.001, svc__kernel=linear, svc__shrinking=True; total time=  28.1s\n",
      "[CV] END svc__C=0.5, svc__class_weight=balanced, svc__coef0=0.0, svc__degree=2, svc__gamma=0.001, svc__kernel=rbf, svc__shrinking=True; total time=  18.1s\n",
      "[CV] END svc__C=0.5, svc__class_weight=balanced, svc__coef0=0.0, svc__degree=2, svc__gamma=0.001, svc__kernel=rbf, svc__shrinking=True; total time=  19.3s\n",
      "[CV] END svc__C=0.5, svc__class_weight=balanced, svc__coef0=0.0, svc__degree=3, svc__gamma=scale, svc__kernel=linear, svc__shrinking=True; total time=  27.2s\n",
      "[CV] END svc__C=0.5, svc__class_weight=balanced, svc__coef0=0.0, svc__degree=3, svc__gamma=scale, svc__kernel=rbf, svc__shrinking=True; total time=  20.3s\n",
      "[CV] END svc__C=0.5, svc__class_weight=balanced, svc__coef0=0.0, svc__degree=3, svc__gamma=auto, svc__kernel=linear, svc__shrinking=True; total time=  30.8s\n",
      "[CV] END svc__C=0.5, svc__class_weight=balanced, svc__coef0=0.0, svc__degree=3, svc__gamma=auto, svc__kernel=linear, svc__shrinking=True; total time=  29.1s\n",
      "[CV] END svc__C=0.5, svc__class_weight=balanced, svc__coef0=0.0, svc__degree=3, svc__gamma=auto, svc__kernel=rbf, svc__shrinking=True; total time=  19.8s\n",
      "[CV] END svc__C=0.5, svc__class_weight=balanced, svc__coef0=0.0, svc__degree=3, svc__gamma=0.001, svc__kernel=linear, svc__shrinking=True; total time=  27.3s\n",
      "[CV] END svc__C=0.5, svc__class_weight=balanced, svc__coef0=0.0, svc__degree=3, svc__gamma=0.001, svc__kernel=rbf, svc__shrinking=True; total time=  19.8s\n",
      "[CV] END svc__C=0.5, svc__class_weight=balanced, svc__coef0=0.5, svc__degree=2, svc__gamma=scale, svc__kernel=linear, svc__shrinking=True; total time=  29.2s\n",
      "[CV] END svc__C=0.5, svc__class_weight=balanced, svc__coef0=0.5, svc__degree=2, svc__gamma=scale, svc__kernel=rbf, svc__shrinking=True; total time=  19.7s\n",
      "[CV] END svc__C=0.5, svc__class_weight=balanced, svc__coef0=0.5, svc__degree=2, svc__gamma=scale, svc__kernel=rbf, svc__shrinking=True; total time=  20.1s\n",
      "[CV] END svc__C=0.5, svc__class_weight=balanced, svc__coef0=0.5, svc__degree=2, svc__gamma=auto, svc__kernel=linear, svc__shrinking=True; total time=  31.8s\n",
      "[CV] END svc__C=0.5, svc__class_weight=balanced, svc__coef0=0.5, svc__degree=2, svc__gamma=auto, svc__kernel=rbf, svc__shrinking=True; total time=  22.0s\n",
      "[CV] END svc__C=0.5, svc__class_weight=balanced, svc__coef0=0.5, svc__degree=2, svc__gamma=0.001, svc__kernel=linear, svc__shrinking=True; total time=  29.6s\n",
      "[CV] END svc__C=0.5, svc__class_weight=balanced, svc__coef0=0.5, svc__degree=2, svc__gamma=0.001, svc__kernel=linear, svc__shrinking=True; total time=  29.0s\n",
      "[CV] END svc__C=0.5, svc__class_weight=balanced, svc__coef0=0.5, svc__degree=3, svc__gamma=scale, svc__kernel=linear, svc__shrinking=True; total time=  28.5s\n",
      "[CV] END svc__C=0.5, svc__class_weight=balanced, svc__coef0=0.5, svc__degree=3, svc__gamma=scale, svc__kernel=linear, svc__shrinking=True; total time=  28.3s\n",
      "[CV] END svc__C=0.5, svc__class_weight=balanced, svc__coef0=0.5, svc__degree=3, svc__gamma=scale, svc__kernel=rbf, svc__shrinking=True; total time=  19.6s\n",
      "[CV] END svc__C=0.5, svc__class_weight=balanced, svc__coef0=0.5, svc__degree=3, svc__gamma=auto, svc__kernel=linear, svc__shrinking=True; total time=  26.4s\n",
      "[CV] END svc__C=0.5, svc__class_weight=balanced, svc__coef0=0.5, svc__degree=3, svc__gamma=auto, svc__kernel=rbf, svc__shrinking=True; total time=  20.5s\n",
      "[CV] END svc__C=0.5, svc__class_weight=balanced, svc__coef0=0.5, svc__degree=3, svc__gamma=0.001, svc__kernel=linear, svc__shrinking=True; total time=  27.1s\n",
      "[CV] END svc__C=0.5, svc__class_weight=balanced, svc__coef0=0.5, svc__degree=3, svc__gamma=0.001, svc__kernel=rbf, svc__shrinking=True; total time=  19.8s\n",
      "[CV] END svc__C=0.5, svc__class_weight=balanced, svc__coef0=0.5, svc__degree=3, svc__gamma=0.001, svc__kernel=rbf, svc__shrinking=True; total time=  21.0s\n",
      "[CV] END svc__C=0.5, svc__class_weight=None, svc__coef0=0.0, svc__degree=2, svc__gamma=scale, svc__kernel=linear, svc__shrinking=True; total time= 1.0min\n",
      "[CV] END svc__C=0.5, svc__class_weight=None, svc__coef0=0.0, svc__degree=2, svc__gamma=scale, svc__kernel=rbf, svc__shrinking=True; total time=  16.0s\n",
      "[CV] END svc__C=0.5, svc__class_weight=None, svc__coef0=0.0, svc__degree=2, svc__gamma=auto, svc__kernel=linear, svc__shrinking=True; total time= 1.0min\n",
      "[CV] END svc__C=0.5, svc__class_weight=None, svc__coef0=0.0, svc__degree=2, svc__gamma=auto, svc__kernel=rbf, svc__shrinking=True; total time=  16.1s\n",
      "[CV] END svc__C=0.5, svc__class_weight=None, svc__coef0=0.0, svc__degree=2, svc__gamma=auto, svc__kernel=rbf, svc__shrinking=True; total time=  16.7s\n",
      "[CV] END svc__C=0.5, svc__class_weight=None, svc__coef0=0.0, svc__degree=2, svc__gamma=0.001, svc__kernel=linear, svc__shrinking=True; total time=  43.2s\n",
      "[CV] END svc__C=0.5, svc__class_weight=None, svc__coef0=0.0, svc__degree=2, svc__gamma=0.001, svc__kernel=linear, svc__shrinking=True; total time=  34.0s\n",
      "[CV] END svc__C=0.5, svc__class_weight=None, svc__coef0=0.0, svc__degree=3, svc__gamma=scale, svc__kernel=linear, svc__shrinking=True; total time= 1.1min\n",
      "[CV] END svc__C=0.5, svc__class_weight=None, svc__coef0=0.0, svc__degree=3, svc__gamma=scale, svc__kernel=rbf, svc__shrinking=True; total time=  17.5s\n",
      "[CV] END svc__C=0.5, svc__class_weight=None, svc__coef0=0.0, svc__degree=3, svc__gamma=scale, svc__kernel=rbf, svc__shrinking=True; total time=  18.0s\n",
      "[CV] END svc__C=0.5, svc__class_weight=None, svc__coef0=0.0, svc__degree=3, svc__gamma=auto, svc__kernel=linear, svc__shrinking=True; total time= 1.1min\n",
      "[CV] END svc__C=0.5, svc__class_weight=None, svc__coef0=0.0, svc__degree=3, svc__gamma=auto, svc__kernel=rbf, svc__shrinking=True; total time=  16.7s\n",
      "[CV] END svc__C=0.5, svc__class_weight=None, svc__coef0=0.0, svc__degree=3, svc__gamma=0.001, svc__kernel=linear, svc__shrinking=True; total time=  51.3s\n",
      "[CV] END svc__C=0.5, svc__class_weight=None, svc__coef0=0.0, svc__degree=3, svc__gamma=0.001, svc__kernel=rbf, svc__shrinking=True; total time=  16.2s\n",
      "[CV] END svc__C=0.5, svc__class_weight=None, svc__coef0=0.0, svc__degree=3, svc__gamma=0.001, svc__kernel=rbf, svc__shrinking=True; total time=  17.0s\n",
      "[CV] END svc__C=0.5, svc__class_weight=None, svc__coef0=0.5, svc__degree=2, svc__gamma=scale, svc__kernel=linear, svc__shrinking=True; total time=  42.8s\n",
      "[CV] END svc__C=0.5, svc__class_weight=None, svc__coef0=0.5, svc__degree=2, svc__gamma=scale, svc__kernel=linear, svc__shrinking=True; total time=  33.9s\n",
      "[CV] END svc__C=0.5, svc__class_weight=None, svc__coef0=0.5, svc__degree=2, svc__gamma=auto, svc__kernel=linear, svc__shrinking=True; total time=  57.6s\n",
      "[CV] END svc__C=0.5, svc__class_weight=None, svc__coef0=0.5, svc__degree=2, svc__gamma=auto, svc__kernel=rbf, svc__shrinking=True; total time=  15.9s\n",
      "[CV] END svc__C=0.5, svc__class_weight=None, svc__coef0=0.5, svc__degree=2, svc__gamma=auto, svc__kernel=rbf, svc__shrinking=True; total time=  16.1s\n",
      "[CV] END svc__C=0.5, svc__class_weight=None, svc__coef0=0.5, svc__degree=2, svc__gamma=0.001, svc__kernel=linear, svc__shrinking=True; total time=  49.6s\n",
      "[CV] END svc__C=0.5, svc__class_weight=None, svc__coef0=0.5, svc__degree=2, svc__gamma=0.001, svc__kernel=rbf, svc__shrinking=True; total time=  16.0s\n",
      "[CV] END svc__C=0.5, svc__class_weight=None, svc__coef0=0.5, svc__degree=2, svc__gamma=0.001, svc__kernel=rbf, svc__shrinking=True; total time=  15.6s\n",
      "[CV] END svc__C=0.5, svc__class_weight=balanced, svc__coef0=0.0, svc__degree=2, svc__gamma=scale, svc__kernel=linear, svc__shrinking=True; total time=  28.5s\n",
      "[CV] END svc__C=0.5, svc__class_weight=balanced, svc__coef0=0.0, svc__degree=2, svc__gamma=scale, svc__kernel=rbf, svc__shrinking=True; total time=  21.0s\n",
      "[CV] END svc__C=0.5, svc__class_weight=balanced, svc__coef0=0.0, svc__degree=2, svc__gamma=auto, svc__kernel=linear, svc__shrinking=True; total time=  27.3s\n",
      "[CV] END svc__C=0.5, svc__class_weight=balanced, svc__coef0=0.0, svc__degree=2, svc__gamma=auto, svc__kernel=linear, svc__shrinking=True; total time=  28.0s\n",
      "[CV] END svc__C=0.5, svc__class_weight=balanced, svc__coef0=0.0, svc__degree=2, svc__gamma=auto, svc__kernel=rbf, svc__shrinking=True; total time=  21.5s\n",
      "[CV] END svc__C=0.5, svc__class_weight=balanced, svc__coef0=0.0, svc__degree=2, svc__gamma=0.001, svc__kernel=linear, svc__shrinking=True; total time=  27.8s\n",
      "[CV] END svc__C=0.5, svc__class_weight=balanced, svc__coef0=0.0, svc__degree=2, svc__gamma=0.001, svc__kernel=rbf, svc__shrinking=True; total time=  20.2s\n",
      "[CV] END svc__C=0.5, svc__class_weight=balanced, svc__coef0=0.0, svc__degree=3, svc__gamma=scale, svc__kernel=linear, svc__shrinking=True; total time=  27.6s\n",
      "[CV] END svc__C=0.5, svc__class_weight=balanced, svc__coef0=0.0, svc__degree=3, svc__gamma=scale, svc__kernel=rbf, svc__shrinking=True; total time=  20.5s\n",
      "[CV] END svc__C=0.5, svc__class_weight=balanced, svc__coef0=0.0, svc__degree=3, svc__gamma=scale, svc__kernel=rbf, svc__shrinking=True; total time=  23.0s\n",
      "[CV] END svc__C=0.5, svc__class_weight=balanced, svc__coef0=0.0, svc__degree=3, svc__gamma=auto, svc__kernel=linear, svc__shrinking=True; total time=  28.5s\n",
      "[CV] END svc__C=0.5, svc__class_weight=balanced, svc__coef0=0.0, svc__degree=3, svc__gamma=auto, svc__kernel=rbf, svc__shrinking=True; total time=  19.6s\n",
      "[CV] END svc__C=0.5, svc__class_weight=balanced, svc__coef0=0.0, svc__degree=3, svc__gamma=0.001, svc__kernel=linear, svc__shrinking=True; total time=  27.3s\n",
      "[CV] END svc__C=0.5, svc__class_weight=balanced, svc__coef0=0.0, svc__degree=3, svc__gamma=0.001, svc__kernel=linear, svc__shrinking=True; total time=  27.6s\n",
      "[CV] END svc__C=0.5, svc__class_weight=balanced, svc__coef0=0.0, svc__degree=3, svc__gamma=0.001, svc__kernel=rbf, svc__shrinking=True; total time=  21.3s\n",
      "[CV] END svc__C=0.5, svc__class_weight=balanced, svc__coef0=0.5, svc__degree=2, svc__gamma=scale, svc__kernel=linear, svc__shrinking=True; total time=  28.3s\n",
      "[CV] END svc__C=0.5, svc__class_weight=balanced, svc__coef0=0.5, svc__degree=2, svc__gamma=scale, svc__kernel=rbf, svc__shrinking=True; total time=  19.6s\n",
      "[CV] END svc__C=0.5, svc__class_weight=balanced, svc__coef0=0.5, svc__degree=2, svc__gamma=auto, svc__kernel=linear, svc__shrinking=True; total time=  30.0s\n",
      "[CV] END svc__C=0.5, svc__class_weight=balanced, svc__coef0=0.5, svc__degree=2, svc__gamma=auto, svc__kernel=rbf, svc__shrinking=True; total time=  21.4s\n",
      "[CV] END svc__C=0.5, svc__class_weight=balanced, svc__coef0=0.5, svc__degree=2, svc__gamma=auto, svc__kernel=rbf, svc__shrinking=True; total time=  21.6s\n",
      "[CV] END svc__C=0.5, svc__class_weight=balanced, svc__coef0=0.5, svc__degree=2, svc__gamma=0.001, svc__kernel=linear, svc__shrinking=True; total time=  29.4s\n",
      "[CV] END svc__C=0.5, svc__class_weight=balanced, svc__coef0=0.5, svc__degree=2, svc__gamma=0.001, svc__kernel=rbf, svc__shrinking=True; total time=  20.0s\n",
      "[CV] END svc__C=0.5, svc__class_weight=balanced, svc__coef0=0.5, svc__degree=2, svc__gamma=0.001, svc__kernel=rbf, svc__shrinking=True; total time=  20.7s\n",
      "[CV] END svc__C=0.5, svc__class_weight=balanced, svc__coef0=0.5, svc__degree=3, svc__gamma=scale, svc__kernel=linear, svc__shrinking=True; total time=  28.5s\n",
      "[CV] END svc__C=0.5, svc__class_weight=balanced, svc__coef0=0.5, svc__degree=3, svc__gamma=scale, svc__kernel=rbf, svc__shrinking=True; total time=  20.1s\n",
      "[CV] END svc__C=0.5, svc__class_weight=balanced, svc__coef0=0.5, svc__degree=3, svc__gamma=auto, svc__kernel=linear, svc__shrinking=True; total time=  28.2s\n",
      "[CV] END svc__C=0.5, svc__class_weight=balanced, svc__coef0=0.5, svc__degree=3, svc__gamma=auto, svc__kernel=rbf, svc__shrinking=True; total time=  19.2s\n",
      "[CV] END svc__C=0.5, svc__class_weight=balanced, svc__coef0=0.5, svc__degree=3, svc__gamma=auto, svc__kernel=rbf, svc__shrinking=True; total time=  20.7s\n",
      "[CV] END svc__C=0.5, svc__class_weight=balanced, svc__coef0=0.5, svc__degree=3, svc__gamma=0.001, svc__kernel=linear, svc__shrinking=True; total time=  28.5s\n",
      "[CV] END svc__C=0.5, svc__class_weight=balanced, svc__coef0=0.5, svc__degree=3, svc__gamma=0.001, svc__kernel=rbf, svc__shrinking=True; total time=  19.9s\n",
      "[CV] END svc__C=0.5, svc__class_weight=None, svc__coef0=0.0, svc__degree=2, svc__gamma=scale, svc__kernel=linear, svc__shrinking=True; total time=  44.0s\n",
      "[CV] END svc__C=0.5, svc__class_weight=None, svc__coef0=0.0, svc__degree=2, svc__gamma=scale, svc__kernel=linear, svc__shrinking=True; total time=  35.0s\n",
      "[CV] END svc__C=0.5, svc__class_weight=None, svc__coef0=0.0, svc__degree=2, svc__gamma=scale, svc__kernel=rbf, svc__shrinking=True; total time=  16.3s\n",
      "[CV] END svc__C=0.5, svc__class_weight=None, svc__coef0=0.0, svc__degree=2, svc__gamma=auto, svc__kernel=linear, svc__shrinking=True; total time=  52.2s\n",
      "[CV] END svc__C=0.5, svc__class_weight=None, svc__coef0=0.0, svc__degree=2, svc__gamma=auto, svc__kernel=rbf, svc__shrinking=True; total time=  15.7s\n",
      "[CV] END svc__C=0.5, svc__class_weight=None, svc__coef0=0.0, svc__degree=2, svc__gamma=auto, svc__kernel=rbf, svc__shrinking=True; total time=  16.1s\n",
      "[CV] END svc__C=0.5, svc__class_weight=None, svc__coef0=0.0, svc__degree=2, svc__gamma=0.001, svc__kernel=linear, svc__shrinking=True; total time=  54.7s\n",
      "[CV] END svc__C=0.5, svc__class_weight=None, svc__coef0=0.0, svc__degree=2, svc__gamma=0.001, svc__kernel=rbf, svc__shrinking=True; total time=  15.0s\n",
      "[CV] END svc__C=0.5, svc__class_weight=None, svc__coef0=0.0, svc__degree=2, svc__gamma=0.001, svc__kernel=rbf, svc__shrinking=True; total time=  16.9s\n",
      "[CV] END svc__C=0.5, svc__class_weight=None, svc__coef0=0.0, svc__degree=3, svc__gamma=scale, svc__kernel=linear, svc__shrinking=True; total time= 1.1min\n",
      "[CV] END svc__C=0.5, svc__class_weight=None, svc__coef0=0.0, svc__degree=3, svc__gamma=scale, svc__kernel=rbf, svc__shrinking=True; total time=  16.9s\n",
      "[CV] END svc__C=0.5, svc__class_weight=None, svc__coef0=0.0, svc__degree=3, svc__gamma=auto, svc__kernel=linear, svc__shrinking=True; total time= 1.2min\n",
      "[CV] END svc__C=0.5, svc__class_weight=None, svc__coef0=0.0, svc__degree=3, svc__gamma=auto, svc__kernel=rbf, svc__shrinking=True; total time=  16.5s\n",
      "[CV] END svc__C=0.5, svc__class_weight=None, svc__coef0=0.0, svc__degree=3, svc__gamma=0.001, svc__kernel=linear, svc__shrinking=True; total time=  43.2s\n",
      "[CV] END svc__C=0.5, svc__class_weight=None, svc__coef0=0.0, svc__degree=3, svc__gamma=0.001, svc__kernel=linear, svc__shrinking=True; total time=  35.7s\n",
      "[CV] END svc__C=0.5, svc__class_weight=None, svc__coef0=0.5, svc__degree=2, svc__gamma=scale, svc__kernel=linear, svc__shrinking=True; total time= 1.0min\n",
      "[CV] END svc__C=0.5, svc__class_weight=None, svc__coef0=0.5, svc__degree=2, svc__gamma=scale, svc__kernel=rbf, svc__shrinking=True; total time=  15.4s\n",
      "[CV] END svc__C=0.5, svc__class_weight=None, svc__coef0=0.5, svc__degree=2, svc__gamma=scale, svc__kernel=rbf, svc__shrinking=True; total time=  15.7s\n",
      "[CV] END svc__C=0.5, svc__class_weight=None, svc__coef0=0.5, svc__degree=2, svc__gamma=auto, svc__kernel=linear, svc__shrinking=True; total time=  43.9s\n",
      "[CV] END svc__C=0.5, svc__class_weight=None, svc__coef0=0.5, svc__degree=2, svc__gamma=auto, svc__kernel=linear, svc__shrinking=True; total time=  33.9s\n",
      "[CV] END svc__C=0.5, svc__class_weight=None, svc__coef0=0.5, svc__degree=2, svc__gamma=0.001, svc__kernel=linear, svc__shrinking=True; total time= 1.1min\n",
      "[CV] END svc__C=0.5, svc__class_weight=None, svc__coef0=0.5, svc__degree=2, svc__gamma=0.001, svc__kernel=rbf, svc__shrinking=True; total time=  14.9s\n",
      "[CV] END svc__C=0.5, svc__class_weight=None, svc__coef0=0.5, svc__degree=2, svc__gamma=0.001, svc__kernel=rbf, svc__shrinking=True; total time=  15.3s\n",
      "[CV] END svc__C=0.5, svc__class_weight=balanced, svc__coef0=0.0, svc__degree=2, svc__gamma=scale, svc__kernel=linear, svc__shrinking=True; total time=  28.2s\n",
      "[CV] END svc__C=0.5, svc__class_weight=balanced, svc__coef0=0.0, svc__degree=2, svc__gamma=scale, svc__kernel=rbf, svc__shrinking=True; total time=  20.6s\n",
      "[CV] END svc__C=0.5, svc__class_weight=balanced, svc__coef0=0.0, svc__degree=2, svc__gamma=scale, svc__kernel=rbf, svc__shrinking=True; total time=  20.1s\n",
      "[CV] END svc__C=0.5, svc__class_weight=balanced, svc__coef0=0.0, svc__degree=2, svc__gamma=auto, svc__kernel=linear, svc__shrinking=True; total time=  28.0s\n",
      "[CV] END svc__C=0.5, svc__class_weight=balanced, svc__coef0=0.0, svc__degree=2, svc__gamma=auto, svc__kernel=rbf, svc__shrinking=True; total time=  20.9s\n",
      "[CV] END svc__C=0.5, svc__class_weight=balanced, svc__coef0=0.0, svc__degree=2, svc__gamma=0.001, svc__kernel=linear, svc__shrinking=True; total time=  27.9s\n",
      "[CV] END svc__C=0.5, svc__class_weight=balanced, svc__coef0=0.0, svc__degree=2, svc__gamma=0.001, svc__kernel=linear, svc__shrinking=True; total time=  27.7s\n",
      "[CV] END svc__C=0.5, svc__class_weight=balanced, svc__coef0=0.0, svc__degree=3, svc__gamma=scale, svc__kernel=linear, svc__shrinking=True; total time=  27.5s\n",
      "[CV] END svc__C=0.5, svc__class_weight=balanced, svc__coef0=0.0, svc__degree=3, svc__gamma=scale, svc__kernel=linear, svc__shrinking=True; total time=  27.6s\n",
      "[CV] END svc__C=0.5, svc__class_weight=balanced, svc__coef0=0.0, svc__degree=3, svc__gamma=scale, svc__kernel=rbf, svc__shrinking=True; total time=  22.9s\n",
      "[CV] END svc__C=0.5, svc__class_weight=balanced, svc__coef0=0.0, svc__degree=3, svc__gamma=auto, svc__kernel=linear, svc__shrinking=True; total time=  28.2s\n",
      "[CV] END svc__C=0.5, svc__class_weight=balanced, svc__coef0=0.0, svc__degree=3, svc__gamma=auto, svc__kernel=rbf, svc__shrinking=True; total time=  18.8s\n",
      "[CV] END svc__C=0.5, svc__class_weight=balanced, svc__coef0=0.0, svc__degree=3, svc__gamma=0.001, svc__kernel=linear, svc__shrinking=True; total time=  27.5s\n",
      "[CV] END svc__C=0.5, svc__class_weight=balanced, svc__coef0=0.0, svc__degree=3, svc__gamma=0.001, svc__kernel=rbf, svc__shrinking=True; total time=  19.6s\n",
      "[CV] END svc__C=0.5, svc__class_weight=balanced, svc__coef0=0.0, svc__degree=3, svc__gamma=0.001, svc__kernel=rbf, svc__shrinking=True; total time=  21.4s\n",
      "[CV] END svc__C=0.5, svc__class_weight=balanced, svc__coef0=0.5, svc__degree=2, svc__gamma=scale, svc__kernel=linear, svc__shrinking=True; total time=  27.6s\n",
      "[CV] END svc__C=0.5, svc__class_weight=balanced, svc__coef0=0.5, svc__degree=2, svc__gamma=scale, svc__kernel=rbf, svc__shrinking=True; total time=  20.8s\n",
      "[CV] END svc__C=0.5, svc__class_weight=balanced, svc__coef0=0.5, svc__degree=2, svc__gamma=auto, svc__kernel=linear, svc__shrinking=True; total time=  31.5s\n",
      "[CV] END svc__C=0.5, svc__class_weight=balanced, svc__coef0=0.5, svc__degree=2, svc__gamma=auto, svc__kernel=linear, svc__shrinking=True; total time=  31.7s\n",
      "[CV] END svc__C=0.5, svc__class_weight=balanced, svc__coef0=0.5, svc__degree=2, svc__gamma=auto, svc__kernel=rbf, svc__shrinking=True; total time=  21.6s\n",
      "[CV] END svc__C=0.5, svc__class_weight=balanced, svc__coef0=0.5, svc__degree=2, svc__gamma=0.001, svc__kernel=linear, svc__shrinking=True; total time=  28.6s\n",
      "[CV] END svc__C=0.5, svc__class_weight=balanced, svc__coef0=0.5, svc__degree=2, svc__gamma=0.001, svc__kernel=rbf, svc__shrinking=True; total time=  19.1s\n",
      "[CV] END svc__C=0.5, svc__class_weight=balanced, svc__coef0=0.5, svc__degree=3, svc__gamma=scale, svc__kernel=linear, svc__shrinking=True; total time=  27.5s\n",
      "[CV] END svc__C=0.5, svc__class_weight=balanced, svc__coef0=0.5, svc__degree=3, svc__gamma=scale, svc__kernel=rbf, svc__shrinking=True; total time=  20.0s\n",
      "[CV] END svc__C=0.5, svc__class_weight=balanced, svc__coef0=0.5, svc__degree=3, svc__gamma=scale, svc__kernel=rbf, svc__shrinking=True; total time=  18.7s\n",
      "[CV] END svc__C=0.5, svc__class_weight=balanced, svc__coef0=0.5, svc__degree=3, svc__gamma=auto, svc__kernel=linear, svc__shrinking=True; total time=  27.7s\n",
      "[CV] END svc__C=0.5, svc__class_weight=balanced, svc__coef0=0.5, svc__degree=3, svc__gamma=auto, svc__kernel=rbf, svc__shrinking=True; total time=  20.2s\n",
      "[CV] END svc__C=0.5, svc__class_weight=balanced, svc__coef0=0.5, svc__degree=3, svc__gamma=0.001, svc__kernel=linear, svc__shrinking=True; total time=  27.2s\n",
      "[CV] END svc__C=0.5, svc__class_weight=balanced, svc__coef0=0.5, svc__degree=3, svc__gamma=0.001, svc__kernel=linear, svc__shrinking=True; total time=  28.6s\n",
      "[CV] END svc__C=0.5, svc__class_weight=balanced, svc__coef0=0.5, svc__degree=3, svc__gamma=0.001, svc__kernel=rbf, svc__shrinking=True; total time=  20.6s\n",
      "[CV] END svc__C=0.5, svc__class_weight=None, svc__coef0=0.0, svc__degree=2, svc__gamma=scale, svc__kernel=linear, svc__shrinking=True; total time= 1.1min\n",
      "[CV] END svc__C=0.5, svc__class_weight=None, svc__coef0=0.0, svc__degree=2, svc__gamma=scale, svc__kernel=rbf, svc__shrinking=True; total time=  18.4s\n",
      "[CV] END svc__C=0.5, svc__class_weight=None, svc__coef0=0.0, svc__degree=2, svc__gamma=auto, svc__kernel=linear, svc__shrinking=True; total time= 1.1min\n",
      "[CV] END svc__C=0.5, svc__class_weight=None, svc__coef0=0.0, svc__degree=2, svc__gamma=auto, svc__kernel=rbf, svc__shrinking=True; total time=  17.2s\n",
      "[CV] END svc__C=0.5, svc__class_weight=None, svc__coef0=0.0, svc__degree=2, svc__gamma=0.001, svc__kernel=linear, svc__shrinking=True; total time= 1.1min\n",
      "[CV] END svc__C=0.5, svc__class_weight=None, svc__coef0=0.0, svc__degree=2, svc__gamma=0.001, svc__kernel=rbf, svc__shrinking=True; total time=  17.7s\n",
      "[CV] END svc__C=0.5, svc__class_weight=None, svc__coef0=0.0, svc__degree=3, svc__gamma=scale, svc__kernel=linear, svc__shrinking=True; total time=  51.6s\n",
      "[CV] END svc__C=0.5, svc__class_weight=None, svc__coef0=0.0, svc__degree=3, svc__gamma=scale, svc__kernel=rbf, svc__shrinking=True; total time=  16.4s\n",
      "[CV] END svc__C=0.5, svc__class_weight=None, svc__coef0=0.0, svc__degree=3, svc__gamma=scale, svc__kernel=rbf, svc__shrinking=True; total time=  16.7s\n",
      "[CV] END svc__C=0.5, svc__class_weight=None, svc__coef0=0.0, svc__degree=3, svc__gamma=auto, svc__kernel=linear, svc__shrinking=True; total time=  44.6s\n",
      "[CV] END svc__C=0.5, svc__class_weight=None, svc__coef0=0.0, svc__degree=3, svc__gamma=auto, svc__kernel=linear, svc__shrinking=True; total time=  34.7s\n",
      "[CV] END svc__C=0.5, svc__class_weight=None, svc__coef0=0.0, svc__degree=3, svc__gamma=auto, svc__kernel=rbf, svc__shrinking=True; total time=  17.4s\n",
      "[CV] END svc__C=0.5, svc__class_weight=None, svc__coef0=0.0, svc__degree=3, svc__gamma=0.001, svc__kernel=linear, svc__shrinking=True; total time= 1.0min\n",
      "[CV] END svc__C=0.5, svc__class_weight=None, svc__coef0=0.0, svc__degree=3, svc__gamma=0.001, svc__kernel=rbf, svc__shrinking=True; total time=  18.4s\n",
      "[CV] END svc__C=0.5, svc__class_weight=None, svc__coef0=0.5, svc__degree=2, svc__gamma=scale, svc__kernel=linear, svc__shrinking=True; total time=  57.4s\n",
      "[CV] END svc__C=0.5, svc__class_weight=None, svc__coef0=0.5, svc__degree=2, svc__gamma=scale, svc__kernel=rbf, svc__shrinking=True; total time=  16.5s\n",
      "[CV] END svc__C=0.5, svc__class_weight=None, svc__coef0=0.5, svc__degree=2, svc__gamma=scale, svc__kernel=rbf, svc__shrinking=True; total time=  17.8s\n",
      "[CV] END svc__C=0.5, svc__class_weight=None, svc__coef0=0.5, svc__degree=2, svc__gamma=auto, svc__kernel=linear, svc__shrinking=True; total time= 1.0min\n",
      "[CV] END svc__C=0.5, svc__class_weight=None, svc__coef0=0.5, svc__degree=2, svc__gamma=auto, svc__kernel=rbf, svc__shrinking=True; total time=  17.3s\n",
      "[CV] END svc__C=0.5, svc__class_weight=None, svc__coef0=0.5, svc__degree=2, svc__gamma=0.001, svc__kernel=linear, svc__shrinking=True; total time= 1.2min\n",
      "[CV] END svc__C=0.5, svc__class_weight=None, svc__coef0=0.5, svc__degree=3, svc__gamma=scale, svc__kernel=linear, svc__shrinking=True; total time= 1.1min\n",
      "[CV] END svc__C=0.5, svc__class_weight=None, svc__coef0=0.5, svc__degree=3, svc__gamma=scale, svc__kernel=rbf, svc__shrinking=True; total time=  17.1s\n",
      "[CV] END svc__C=0.5, svc__class_weight=None, svc__coef0=0.5, svc__degree=3, svc__gamma=auto, svc__kernel=linear, svc__shrinking=True; total time= 1.1min\n",
      "[CV] END svc__C=0.5, svc__class_weight=None, svc__coef0=0.5, svc__degree=2, svc__gamma=0.001, svc__kernel=rbf, svc__shrinking=True; total time=  16.3s\n",
      "[CV] END svc__C=0.5, svc__class_weight=None, svc__coef0=0.5, svc__degree=3, svc__gamma=scale, svc__kernel=linear, svc__shrinking=True; total time= 1.0min\n",
      "[CV] END svc__C=0.5, svc__class_weight=None, svc__coef0=0.5, svc__degree=3, svc__gamma=scale, svc__kernel=rbf, svc__shrinking=True; total time=  16.5s\n",
      "[CV] END svc__C=0.5, svc__class_weight=None, svc__coef0=0.5, svc__degree=3, svc__gamma=auto, svc__kernel=linear, svc__shrinking=True; total time=  43.7s\n",
      "[CV] END svc__C=0.5, svc__class_weight=None, svc__coef0=0.5, svc__degree=3, svc__gamma=auto, svc__kernel=linear, svc__shrinking=True; total time=  34.9s\n",
      "[CV] END svc__C=0.5, svc__class_weight=None, svc__coef0=0.5, svc__degree=3, svc__gamma=0.001, svc__kernel=linear, svc__shrinking=True; total time=  57.4s\n",
      "[CV] END svc__C=0.5, svc__class_weight=None, svc__coef0=0.5, svc__degree=3, svc__gamma=0.001, svc__kernel=rbf, svc__shrinking=True; total time=  16.5s\n",
      "[CV] END svc__C=0.5, svc__class_weight=None, svc__coef0=0.5, svc__degree=3, svc__gamma=0.001, svc__kernel=rbf, svc__shrinking=True; total time=  18.1s\n",
      "[CV] END svc__C=1, svc__class_weight=balanced, svc__coef0=0.0, svc__degree=2, svc__gamma=scale, svc__kernel=linear, svc__shrinking=True; total time=  38.4s\n",
      "[CV] END svc__C=1, svc__class_weight=balanced, svc__coef0=0.0, svc__degree=2, svc__gamma=scale, svc__kernel=rbf, svc__shrinking=True; total time=  19.2s\n",
      "[CV] END svc__C=1, svc__class_weight=balanced, svc__coef0=0.0, svc__degree=2, svc__gamma=scale, svc__kernel=rbf, svc__shrinking=True; total time=  18.3s\n",
      "[CV] END svc__C=1, svc__class_weight=balanced, svc__coef0=0.0, svc__degree=2, svc__gamma=auto, svc__kernel=linear, svc__shrinking=True; total time=  38.2s\n",
      "[CV] END svc__C=1, svc__class_weight=balanced, svc__coef0=0.0, svc__degree=2, svc__gamma=auto, svc__kernel=rbf, svc__shrinking=True; total time=  19.0s\n",
      "[CV] END svc__C=1, svc__class_weight=balanced, svc__coef0=0.0, svc__degree=2, svc__gamma=auto, svc__kernel=rbf, svc__shrinking=True; total time=  18.6s\n",
      "[CV] END svc__C=1, svc__class_weight=balanced, svc__coef0=0.0, svc__degree=2, svc__gamma=0.001, svc__kernel=linear, svc__shrinking=True; total time=  35.9s\n",
      "[CV] END svc__C=1, svc__class_weight=balanced, svc__coef0=0.0, svc__degree=2, svc__gamma=0.001, svc__kernel=rbf, svc__shrinking=True; total time=  18.5s\n",
      "[CV] END svc__C=1, svc__class_weight=balanced, svc__coef0=0.0, svc__degree=3, svc__gamma=scale, svc__kernel=linear, svc__shrinking=True; total time=  37.5s\n",
      "[CV] END svc__C=1, svc__class_weight=balanced, svc__coef0=0.0, svc__degree=3, svc__gamma=scale, svc__kernel=linear, svc__shrinking=True; total time=  38.2s\n",
      "[CV] END svc__C=1, svc__class_weight=balanced, svc__coef0=0.0, svc__degree=3, svc__gamma=auto, svc__kernel=linear, svc__shrinking=True; total time=  38.4s\n",
      "[CV] END svc__C=1, svc__class_weight=balanced, svc__coef0=0.0, svc__degree=3, svc__gamma=auto, svc__kernel=rbf, svc__shrinking=True; total time=  18.2s\n",
      "[CV] END svc__C=1, svc__class_weight=balanced, svc__coef0=0.0, svc__degree=3, svc__gamma=auto, svc__kernel=rbf, svc__shrinking=True; total time=  19.5s\n",
      "[CV] END svc__C=1, svc__class_weight=balanced, svc__coef0=0.0, svc__degree=3, svc__gamma=0.001, svc__kernel=linear, svc__shrinking=True; total time=  37.4s\n",
      "[CV] END svc__C=1, svc__class_weight=balanced, svc__coef0=0.0, svc__degree=3, svc__gamma=0.001, svc__kernel=rbf, svc__shrinking=True; total time=  18.7s\n",
      "[CV] END svc__C=1, svc__class_weight=balanced, svc__coef0=0.0, svc__degree=3, svc__gamma=0.001, svc__kernel=rbf, svc__shrinking=True; total time=  18.6s\n",
      "[CV] END svc__C=1, svc__class_weight=balanced, svc__coef0=0.5, svc__degree=2, svc__gamma=scale, svc__kernel=linear, svc__shrinking=True; total time=  37.1s\n",
      "[CV] END svc__C=1, svc__class_weight=balanced, svc__coef0=0.5, svc__degree=2, svc__gamma=scale, svc__kernel=rbf, svc__shrinking=True; total time=  20.4s\n",
      "[CV] END svc__C=1, svc__class_weight=balanced, svc__coef0=0.5, svc__degree=2, svc__gamma=scale, svc__kernel=rbf, svc__shrinking=True; total time=  18.3s\n",
      "[CV] END svc__C=1, svc__class_weight=balanced, svc__coef0=0.5, svc__degree=2, svc__gamma=auto, svc__kernel=linear, svc__shrinking=True; total time=  36.3s\n",
      "[CV] END svc__C=1, svc__class_weight=balanced, svc__coef0=0.5, svc__degree=2, svc__gamma=auto, svc__kernel=rbf, svc__shrinking=True; total time=  18.3s\n",
      "[CV] END svc__C=1, svc__class_weight=balanced, svc__coef0=0.5, svc__degree=2, svc__gamma=0.001, svc__kernel=linear, svc__shrinking=True; total time=  37.6s\n",
      "[CV] END svc__C=1, svc__class_weight=balanced, svc__coef0=0.5, svc__degree=2, svc__gamma=0.001, svc__kernel=linear, svc__shrinking=True; total time=  36.3s\n",
      "[CV] END svc__C=1, svc__class_weight=balanced, svc__coef0=0.5, svc__degree=3, svc__gamma=scale, svc__kernel=linear, svc__shrinking=True; total time=  36.8s\n",
      "[CV] END svc__C=1, svc__class_weight=balanced, svc__coef0=0.5, svc__degree=3, svc__gamma=scale, svc__kernel=linear, svc__shrinking=True; total time=  39.7s\n",
      "[CV] END svc__C=1, svc__class_weight=balanced, svc__coef0=0.5, svc__degree=3, svc__gamma=auto, svc__kernel=linear, svc__shrinking=True; total time=  38.3s\n",
      "[CV] END svc__C=1, svc__class_weight=balanced, svc__coef0=0.5, svc__degree=3, svc__gamma=auto, svc__kernel=rbf, svc__shrinking=True; total time=  19.5s\n",
      "[CV] END svc__C=1, svc__class_weight=balanced, svc__coef0=0.5, svc__degree=3, svc__gamma=auto, svc__kernel=rbf, svc__shrinking=True; total time=  20.4s\n",
      "[CV] END svc__C=1, svc__class_weight=balanced, svc__coef0=0.5, svc__degree=3, svc__gamma=0.001, svc__kernel=linear, svc__shrinking=True; total time=  38.6s\n",
      "[CV] END svc__C=1, svc__class_weight=balanced, svc__coef0=0.5, svc__degree=3, svc__gamma=0.001, svc__kernel=rbf, svc__shrinking=True; total time=  18.9s\n",
      "[CV] END svc__C=1, svc__class_weight=balanced, svc__coef0=0.5, svc__degree=3, svc__gamma=0.001, svc__kernel=rbf, svc__shrinking=True; total time=  18.0s\n",
      "[CV] END svc__C=1, svc__class_weight=None, svc__coef0=0.0, svc__degree=2, svc__gamma=scale, svc__kernel=linear, svc__shrinking=True; total time= 1.8min\n",
      "[CV] END svc__C=1, svc__class_weight=None, svc__coef0=0.0, svc__degree=2, svc__gamma=scale, svc__kernel=rbf, svc__shrinking=True; total time=  15.9s\n",
      "[CV] END svc__C=1, svc__class_weight=None, svc__coef0=0.0, svc__degree=2, svc__gamma=auto, svc__kernel=linear, svc__shrinking=True; total time= 1.8min\n",
      "[CV] END svc__C=1, svc__class_weight=None, svc__coef0=0.0, svc__degree=2, svc__gamma=auto, svc__kernel=rbf, svc__shrinking=True; total time=  15.0s\n",
      "[CV] END svc__C=1, svc__class_weight=None, svc__coef0=0.0, svc__degree=2, svc__gamma=auto, svc__kernel=rbf, svc__shrinking=True; total time=  15.1s\n",
      "[CV] END svc__C=1, svc__class_weight=None, svc__coef0=0.0, svc__degree=2, svc__gamma=0.001, svc__kernel=linear, svc__shrinking=True; total time= 1.6min\n",
      "[CV] END svc__C=1, svc__class_weight=None, svc__coef0=0.0, svc__degree=2, svc__gamma=0.001, svc__kernel=rbf, svc__shrinking=True; total time=  15.5s\n",
      "[CV] END svc__C=1, svc__class_weight=None, svc__coef0=0.0, svc__degree=2, svc__gamma=0.001, svc__kernel=rbf, svc__shrinking=True; total time=  14.4s\n",
      "[CV] END svc__C=1, svc__class_weight=None, svc__coef0=0.0, svc__degree=2, svc__gamma=0.001, svc__kernel=rbf, svc__shrinking=True; total time=  16.1s\n",
      "[CV] END svc__C=1, svc__class_weight=None, svc__coef0=0.0, svc__degree=3, svc__gamma=scale, svc__kernel=linear, svc__shrinking=True; total time= 1.2min\n",
      "[CV] END svc__C=1, svc__class_weight=None, svc__coef0=0.0, svc__degree=3, svc__gamma=scale, svc__kernel=linear, svc__shrinking=True; total time= 1.0min\n",
      "[CV] END svc__C=1, svc__class_weight=None, svc__coef0=0.0, svc__degree=3, svc__gamma=auto, svc__kernel=linear, svc__shrinking=True; total time= 1.2min\n",
      "[CV] END svc__C=1, svc__class_weight=None, svc__coef0=0.0, svc__degree=3, svc__gamma=auto, svc__kernel=linear, svc__shrinking=True; total time= 1.0min\n",
      "[CV] END svc__C=1, svc__class_weight=None, svc__coef0=0.0, svc__degree=3, svc__gamma=0.001, svc__kernel=linear, svc__shrinking=True; total time= 1.7min\n",
      "[CV] END svc__C=0.5, svc__class_weight=None, svc__coef0=0.5, svc__degree=3, svc__gamma=scale, svc__kernel=linear, svc__shrinking=True; total time=  43.4s\n",
      "[CV] END svc__C=0.5, svc__class_weight=None, svc__coef0=0.5, svc__degree=3, svc__gamma=scale, svc__kernel=linear, svc__shrinking=True; total time=  34.1s\n",
      "[CV] END svc__C=0.5, svc__class_weight=None, svc__coef0=0.5, svc__degree=3, svc__gamma=scale, svc__kernel=rbf, svc__shrinking=True; total time=  16.8s\n",
      "[CV] END svc__C=0.5, svc__class_weight=None, svc__coef0=0.5, svc__degree=3, svc__gamma=auto, svc__kernel=linear, svc__shrinking=True; total time= 1.1min\n",
      "[CV] END svc__C=0.5, svc__class_weight=None, svc__coef0=0.5, svc__degree=3, svc__gamma=auto, svc__kernel=rbf, svc__shrinking=True; total time=  15.5s\n",
      "[CV] END svc__C=0.5, svc__class_weight=None, svc__coef0=0.5, svc__degree=3, svc__gamma=0.001, svc__kernel=linear, svc__shrinking=True; total time=  57.8s\n",
      "[CV] END svc__C=0.5, svc__class_weight=None, svc__coef0=0.5, svc__degree=3, svc__gamma=0.001, svc__kernel=rbf, svc__shrinking=True; total time=  15.3s\n",
      "[CV] END svc__C=0.5, svc__class_weight=None, svc__coef0=0.5, svc__degree=3, svc__gamma=0.001, svc__kernel=rbf, svc__shrinking=True; total time=  16.5s\n",
      "[CV] END svc__C=1, svc__class_weight=balanced, svc__coef0=0.0, svc__degree=2, svc__gamma=scale, svc__kernel=linear, svc__shrinking=True; total time=  38.0s\n",
      "[CV] END svc__C=1, svc__class_weight=balanced, svc__coef0=0.0, svc__degree=2, svc__gamma=scale, svc__kernel=rbf, svc__shrinking=True; total time=  19.5s\n",
      "[CV] END svc__C=1, svc__class_weight=balanced, svc__coef0=0.0, svc__degree=2, svc__gamma=scale, svc__kernel=rbf, svc__shrinking=True; total time=  19.8s\n",
      "[CV] END svc__C=1, svc__class_weight=balanced, svc__coef0=0.0, svc__degree=2, svc__gamma=auto, svc__kernel=linear, svc__shrinking=True; total time=  36.5s\n",
      "[CV] END svc__C=1, svc__class_weight=balanced, svc__coef0=0.0, svc__degree=2, svc__gamma=auto, svc__kernel=rbf, svc__shrinking=True; total time=  19.6s\n",
      "[CV] END svc__C=1, svc__class_weight=balanced, svc__coef0=0.0, svc__degree=2, svc__gamma=0.001, svc__kernel=linear, svc__shrinking=True; total time=  37.4s\n",
      "[CV] END svc__C=1, svc__class_weight=balanced, svc__coef0=0.0, svc__degree=2, svc__gamma=0.001, svc__kernel=linear, svc__shrinking=True; total time=  40.1s\n",
      "[CV] END svc__C=1, svc__class_weight=balanced, svc__coef0=0.0, svc__degree=3, svc__gamma=scale, svc__kernel=linear, svc__shrinking=True; total time=  37.4s\n",
      "[CV] END svc__C=1, svc__class_weight=balanced, svc__coef0=0.0, svc__degree=3, svc__gamma=scale, svc__kernel=rbf, svc__shrinking=True; total time=  19.2s\n",
      "[CV] END svc__C=1, svc__class_weight=balanced, svc__coef0=0.0, svc__degree=3, svc__gamma=scale, svc__kernel=rbf, svc__shrinking=True; total time=  19.1s\n",
      "[CV] END svc__C=1, svc__class_weight=balanced, svc__coef0=0.0, svc__degree=3, svc__gamma=auto, svc__kernel=linear, svc__shrinking=True; total time=  37.5s\n",
      "[CV] END svc__C=1, svc__class_weight=balanced, svc__coef0=0.0, svc__degree=3, svc__gamma=auto, svc__kernel=rbf, svc__shrinking=True; total time=  19.7s\n",
      "[CV] END svc__C=1, svc__class_weight=balanced, svc__coef0=0.0, svc__degree=3, svc__gamma=auto, svc__kernel=rbf, svc__shrinking=True; total time=  19.4s\n",
      "[CV] END svc__C=1, svc__class_weight=balanced, svc__coef0=0.0, svc__degree=3, svc__gamma=0.001, svc__kernel=linear, svc__shrinking=True; total time=  37.5s\n",
      "[CV] END svc__C=1, svc__class_weight=balanced, svc__coef0=0.0, svc__degree=3, svc__gamma=0.001, svc__kernel=rbf, svc__shrinking=True; total time=  19.9s\n",
      "[CV] END svc__C=1, svc__class_weight=balanced, svc__coef0=0.5, svc__degree=2, svc__gamma=scale, svc__kernel=linear, svc__shrinking=True; total time=  37.9s\n",
      "[CV] END svc__C=1, svc__class_weight=balanced, svc__coef0=0.5, svc__degree=2, svc__gamma=scale, svc__kernel=linear, svc__shrinking=True; total time=  38.0s\n",
      "[CV] END svc__C=1, svc__class_weight=balanced, svc__coef0=0.5, svc__degree=2, svc__gamma=auto, svc__kernel=linear, svc__shrinking=True; total time=  37.7s\n",
      "[CV] END svc__C=1, svc__class_weight=balanced, svc__coef0=0.5, svc__degree=2, svc__gamma=auto, svc__kernel=rbf, svc__shrinking=True; total time=  20.3s\n",
      "[CV] END svc__C=1, svc__class_weight=balanced, svc__coef0=0.5, svc__degree=2, svc__gamma=auto, svc__kernel=rbf, svc__shrinking=True; total time=  19.7s\n",
      "[CV] END svc__C=1, svc__class_weight=balanced, svc__coef0=0.5, svc__degree=2, svc__gamma=0.001, svc__kernel=linear, svc__shrinking=True; total time=  37.2s\n",
      "[CV] END svc__C=1, svc__class_weight=balanced, svc__coef0=0.5, svc__degree=2, svc__gamma=0.001, svc__kernel=rbf, svc__shrinking=True; total time=  18.5s\n",
      "[CV] END svc__C=1, svc__class_weight=balanced, svc__coef0=0.5, svc__degree=3, svc__gamma=scale, svc__kernel=linear, svc__shrinking=True; total time=  37.7s\n",
      "[CV] END svc__C=1, svc__class_weight=balanced, svc__coef0=0.5, svc__degree=3, svc__gamma=scale, svc__kernel=rbf, svc__shrinking=True; total time=  19.7s\n",
      "[CV] END svc__C=1, svc__class_weight=balanced, svc__coef0=0.5, svc__degree=3, svc__gamma=scale, svc__kernel=rbf, svc__shrinking=True; total time=  20.5s\n",
      "[CV] END svc__C=1, svc__class_weight=balanced, svc__coef0=0.5, svc__degree=3, svc__gamma=auto, svc__kernel=linear, svc__shrinking=True; total time=  39.0s\n",
      "[CV] END svc__C=1, svc__class_weight=balanced, svc__coef0=0.5, svc__degree=3, svc__gamma=auto, svc__kernel=rbf, svc__shrinking=True; total time=  19.2s\n",
      "[CV] END svc__C=1, svc__class_weight=balanced, svc__coef0=0.5, svc__degree=3, svc__gamma=auto, svc__kernel=rbf, svc__shrinking=True; total time=  19.6s\n",
      "[CV] END svc__C=1, svc__class_weight=balanced, svc__coef0=0.5, svc__degree=3, svc__gamma=0.001, svc__kernel=linear, svc__shrinking=True; total time=  37.5s\n",
      "[CV] END svc__C=1, svc__class_weight=balanced, svc__coef0=0.5, svc__degree=3, svc__gamma=0.001, svc__kernel=rbf, svc__shrinking=True; total time=  18.6s\n",
      "[CV] END svc__C=1, svc__class_weight=None, svc__coef0=0.0, svc__degree=2, svc__gamma=scale, svc__kernel=linear, svc__shrinking=True; total time= 1.9min\n",
      "[CV] END svc__C=1, svc__class_weight=None, svc__coef0=0.0, svc__degree=2, svc__gamma=scale, svc__kernel=rbf, svc__shrinking=True; total time=  16.3s\n",
      "[CV] END svc__C=1, svc__class_weight=None, svc__coef0=0.0, svc__degree=2, svc__gamma=scale, svc__kernel=rbf, svc__shrinking=True; total time=  16.1s\n",
      "[CV] END svc__C=1, svc__class_weight=None, svc__coef0=0.0, svc__degree=2, svc__gamma=auto, svc__kernel=linear, svc__shrinking=True; total time= 1.3min\n",
      "[CV] END svc__C=1, svc__class_weight=None, svc__coef0=0.0, svc__degree=2, svc__gamma=auto, svc__kernel=linear, svc__shrinking=True; total time=  59.1s\n",
      "[CV] END svc__C=1, svc__class_weight=None, svc__coef0=0.0, svc__degree=2, svc__gamma=0.001, svc__kernel=linear, svc__shrinking=True; total time= 1.1min\n",
      "[CV] END svc__C=1, svc__class_weight=None, svc__coef0=0.0, svc__degree=2, svc__gamma=0.001, svc__kernel=linear, svc__shrinking=True; total time= 1.0min\n",
      "[CV] END svc__C=1, svc__class_weight=None, svc__coef0=0.0, svc__degree=2, svc__gamma=0.001, svc__kernel=rbf, svc__shrinking=True; total time=  15.8s\n",
      "[CV] END svc__C=1, svc__class_weight=None, svc__coef0=0.0, svc__degree=3, svc__gamma=scale, svc__kernel=linear, svc__shrinking=True; total time= 1.6min\n",
      "[CV] END svc__C=1, svc__class_weight=None, svc__coef0=0.0, svc__degree=3, svc__gamma=scale, svc__kernel=rbf, svc__shrinking=True; total time=  15.3s\n",
      "[CV] END svc__C=1, svc__class_weight=None, svc__coef0=0.0, svc__degree=3, svc__gamma=scale, svc__kernel=rbf, svc__shrinking=True; total time=  15.9s\n",
      "[CV] END svc__C=1, svc__class_weight=None, svc__coef0=0.0, svc__degree=3, svc__gamma=auto, svc__kernel=linear, svc__shrinking=True; total time= 2.0min\n",
      "[CV] END svc__C=1, svc__class_weight=None, svc__coef0=0.0, svc__degree=3, svc__gamma=auto, svc__kernel=rbf, svc__shrinking=True; total time=  17.2s\n",
      "[CV] END svc__C=1, svc__class_weight=None, svc__coef0=0.0, svc__degree=3, svc__gamma=0.001, svc__kernel=linear, svc__shrinking=True; total time= 1.9min\n",
      "[CV] END svc__C=1, svc__class_weight=None, svc__coef0=0.0, svc__degree=3, svc__gamma=0.001, svc__kernel=rbf, svc__shrinking=True; total time=  16.7s\n",
      "[CV] END svc__C=0.5, svc__class_weight=None, svc__coef0=0.5, svc__degree=3, svc__gamma=auto, svc__kernel=rbf, svc__shrinking=True; total time=  15.7s\n",
      "[CV] END svc__C=0.5, svc__class_weight=None, svc__coef0=0.5, svc__degree=3, svc__gamma=auto, svc__kernel=rbf, svc__shrinking=True; total time=  16.1s\n",
      "[CV] END svc__C=0.5, svc__class_weight=None, svc__coef0=0.5, svc__degree=3, svc__gamma=0.001, svc__kernel=linear, svc__shrinking=True; total time= 1.1min\n",
      "[CV] END svc__C=0.5, svc__class_weight=None, svc__coef0=0.5, svc__degree=3, svc__gamma=0.001, svc__kernel=rbf, svc__shrinking=True; total time=  17.3s\n",
      "[CV] END svc__C=1, svc__class_weight=balanced, svc__coef0=0.0, svc__degree=2, svc__gamma=scale, svc__kernel=linear, svc__shrinking=True; total time=  39.0s\n",
      "[CV] END svc__C=1, svc__class_weight=balanced, svc__coef0=0.0, svc__degree=2, svc__gamma=scale, svc__kernel=rbf, svc__shrinking=True; total time=  21.1s\n",
      "[CV] END svc__C=1, svc__class_weight=balanced, svc__coef0=0.0, svc__degree=2, svc__gamma=auto, svc__kernel=linear, svc__shrinking=True; total time=  40.1s\n",
      "[CV] END svc__C=1, svc__class_weight=balanced, svc__coef0=0.0, svc__degree=2, svc__gamma=auto, svc__kernel=linear, svc__shrinking=True; total time=  38.4s\n",
      "[CV] END svc__C=1, svc__class_weight=balanced, svc__coef0=0.0, svc__degree=2, svc__gamma=0.001, svc__kernel=linear, svc__shrinking=True; total time=  38.2s\n",
      "[CV] END svc__C=1, svc__class_weight=balanced, svc__coef0=0.0, svc__degree=2, svc__gamma=0.001, svc__kernel=rbf, svc__shrinking=True; total time=  19.0s\n",
      "[CV] END svc__C=1, svc__class_weight=balanced, svc__coef0=0.0, svc__degree=2, svc__gamma=0.001, svc__kernel=rbf, svc__shrinking=True; total time=  19.1s\n",
      "[CV] END svc__C=1, svc__class_weight=balanced, svc__coef0=0.0, svc__degree=3, svc__gamma=scale, svc__kernel=linear, svc__shrinking=True; total time=  38.1s\n",
      "[CV] END svc__C=1, svc__class_weight=balanced, svc__coef0=0.0, svc__degree=3, svc__gamma=scale, svc__kernel=rbf, svc__shrinking=True; total time=  19.7s\n",
      "[CV] END svc__C=1, svc__class_weight=balanced, svc__coef0=0.0, svc__degree=3, svc__gamma=scale, svc__kernel=rbf, svc__shrinking=True; total time=  18.8s\n",
      "[CV] END svc__C=1, svc__class_weight=balanced, svc__coef0=0.0, svc__degree=3, svc__gamma=auto, svc__kernel=linear, svc__shrinking=True; total time=  38.3s\n",
      "[CV] END svc__C=1, svc__class_weight=balanced, svc__coef0=0.0, svc__degree=3, svc__gamma=auto, svc__kernel=rbf, svc__shrinking=True; total time=  21.3s\n",
      "[CV] END svc__C=1, svc__class_weight=balanced, svc__coef0=0.0, svc__degree=3, svc__gamma=0.001, svc__kernel=linear, svc__shrinking=True; total time=  38.2s\n",
      "[CV] END svc__C=1, svc__class_weight=balanced, svc__coef0=0.0, svc__degree=3, svc__gamma=0.001, svc__kernel=rbf, svc__shrinking=True; total time=  19.0s\n",
      "[CV] END svc__C=1, svc__class_weight=balanced, svc__coef0=0.0, svc__degree=3, svc__gamma=0.001, svc__kernel=rbf, svc__shrinking=True; total time=  19.8s\n",
      "[CV] END svc__C=1, svc__class_weight=balanced, svc__coef0=0.5, svc__degree=2, svc__gamma=scale, svc__kernel=linear, svc__shrinking=True; total time=  36.8s\n",
      "[CV] END svc__C=1, svc__class_weight=balanced, svc__coef0=0.5, svc__degree=2, svc__gamma=scale, svc__kernel=rbf, svc__shrinking=True; total time=  21.0s\n",
      "[CV] END svc__C=1, svc__class_weight=balanced, svc__coef0=0.5, svc__degree=2, svc__gamma=auto, svc__kernel=linear, svc__shrinking=True; total time=  39.4s\n",
      "[CV] END svc__C=1, svc__class_weight=balanced, svc__coef0=0.5, svc__degree=2, svc__gamma=auto, svc__kernel=linear, svc__shrinking=True; total time=  37.6s\n",
      "[CV] END svc__C=1, svc__class_weight=balanced, svc__coef0=0.5, svc__degree=2, svc__gamma=0.001, svc__kernel=linear, svc__shrinking=True; total time=  37.9s\n",
      "[CV] END svc__C=1, svc__class_weight=balanced, svc__coef0=0.5, svc__degree=2, svc__gamma=0.001, svc__kernel=rbf, svc__shrinking=True; total time=  18.6s\n",
      "[CV] END svc__C=1, svc__class_weight=balanced, svc__coef0=0.5, svc__degree=2, svc__gamma=0.001, svc__kernel=rbf, svc__shrinking=True; total time=  19.1s\n",
      "[CV] END svc__C=1, svc__class_weight=balanced, svc__coef0=0.5, svc__degree=3, svc__gamma=scale, svc__kernel=linear, svc__shrinking=True; total time=  35.7s\n",
      "[CV] END svc__C=1, svc__class_weight=balanced, svc__coef0=0.5, svc__degree=3, svc__gamma=scale, svc__kernel=rbf, svc__shrinking=True; total time=  19.2s\n",
      "[CV] END svc__C=1, svc__class_weight=balanced, svc__coef0=0.5, svc__degree=3, svc__gamma=scale, svc__kernel=rbf, svc__shrinking=True; total time=  20.7s\n",
      "[CV] END svc__C=1, svc__class_weight=balanced, svc__coef0=0.5, svc__degree=3, svc__gamma=auto, svc__kernel=linear, svc__shrinking=True; total time=  37.9s\n",
      "[CV] END svc__C=1, svc__class_weight=balanced, svc__coef0=0.5, svc__degree=3, svc__gamma=auto, svc__kernel=rbf, svc__shrinking=True; total time=  18.8s\n",
      "[CV] END svc__C=1, svc__class_weight=balanced, svc__coef0=0.5, svc__degree=3, svc__gamma=0.001, svc__kernel=linear, svc__shrinking=True; total time=  36.8s\n",
      "[CV] END svc__C=1, svc__class_weight=balanced, svc__coef0=0.5, svc__degree=3, svc__gamma=0.001, svc__kernel=linear, svc__shrinking=True; total time=  37.4s\n",
      "[CV] END svc__C=1, svc__class_weight=None, svc__coef0=0.0, svc__degree=2, svc__gamma=scale, svc__kernel=linear, svc__shrinking=True; total time= 1.3min\n",
      "[CV] END svc__C=1, svc__class_weight=None, svc__coef0=0.0, svc__degree=2, svc__gamma=scale, svc__kernel=linear, svc__shrinking=True; total time=  58.5s\n",
      "[CV] END svc__C=1, svc__class_weight=None, svc__coef0=0.0, svc__degree=2, svc__gamma=scale, svc__kernel=rbf, svc__shrinking=True; total time=  17.1s\n",
      "[CV] END svc__C=1, svc__class_weight=None, svc__coef0=0.0, svc__degree=2, svc__gamma=auto, svc__kernel=linear, svc__shrinking=True; total time= 1.7min\n",
      "[CV] END svc__C=1, svc__class_weight=None, svc__coef0=0.0, svc__degree=2, svc__gamma=auto, svc__kernel=rbf, svc__shrinking=True; total time=  15.8s\n",
      "[CV] END svc__C=1, svc__class_weight=None, svc__coef0=0.0, svc__degree=2, svc__gamma=auto, svc__kernel=rbf, svc__shrinking=True; total time=  17.1s\n",
      "[CV] END svc__C=1, svc__class_weight=None, svc__coef0=0.0, svc__degree=2, svc__gamma=0.001, svc__kernel=linear, svc__shrinking=True; total time= 2.1min\n",
      "[CV] END svc__C=1, svc__class_weight=None, svc__coef0=0.0, svc__degree=3, svc__gamma=scale, svc__kernel=linear, svc__shrinking=True; total time= 1.6min\n",
      "[CV] END svc__C=1, svc__class_weight=None, svc__coef0=0.0, svc__degree=3, svc__gamma=scale, svc__kernel=rbf, svc__shrinking=True; total time=  15.9s\n",
      "[CV] END svc__C=1, svc__class_weight=None, svc__coef0=0.0, svc__degree=3, svc__gamma=scale, svc__kernel=rbf, svc__shrinking=True; total time=  15.5s\n",
      "[CV] END svc__C=1, svc__class_weight=None, svc__coef0=0.0, svc__degree=3, svc__gamma=scale, svc__kernel=rbf, svc__shrinking=True; total time=  16.6s\n",
      "[CV] END svc__C=1, svc__class_weight=None, svc__coef0=0.0, svc__degree=3, svc__gamma=auto, svc__kernel=linear, svc__shrinking=True; total time= 1.9min\n",
      "[CV] END svc__C=1, svc__class_weight=None, svc__coef0=0.0, svc__degree=3, svc__gamma=auto, svc__kernel=rbf, svc__shrinking=True; total time=  17.1s\n",
      "[CV] END svc__C=1, svc__class_weight=None, svc__coef0=0.0, svc__degree=3, svc__gamma=0.001, svc__kernel=linear, svc__shrinking=True; total time= 1.1min\n",
      "[CV] END svc__C=1, svc__class_weight=None, svc__coef0=0.0, svc__degree=3, svc__gamma=0.001, svc__kernel=linear, svc__shrinking=True; total time= 1.0min\n",
      "[CV] END svc__C=1, svc__class_weight=None, svc__coef0=0.5, svc__degree=2, svc__gamma=scale, svc__kernel=linear, svc__shrinking=True; total time= 1.5min\n",
      "[CV] END svc__C=1, svc__class_weight=None, svc__coef0=0.5, svc__degree=2, svc__gamma=scale, svc__kernel=rbf, svc__shrinking=True; total time=  16.1s\n",
      "[CV] END svc__C=1, svc__class_weight=None, svc__coef0=0.5, svc__degree=2, svc__gamma=scale, svc__kernel=rbf, svc__shrinking=True; total time=  15.1s\n",
      "[CV] END svc__C=1, svc__class_weight=None, svc__coef0=0.5, svc__degree=2, svc__gamma=scale, svc__kernel=rbf, svc__shrinking=True; total time=  15.4s\n",
      "[CV] END svc__C=1, svc__class_weight=None, svc__coef0=0.5, svc__degree=2, svc__gamma=scale, svc__kernel=rbf, svc__shrinking=True; total time=  15.8s\n",
      "[CV] END svc__C=0.5, svc__class_weight=None, svc__coef0=0.5, svc__degree=3, svc__gamma=scale, svc__kernel=linear, svc__shrinking=True; total time=  50.0s\n",
      "[CV] END svc__C=0.5, svc__class_weight=None, svc__coef0=0.5, svc__degree=3, svc__gamma=scale, svc__kernel=rbf, svc__shrinking=True; total time=  15.2s\n",
      "[CV] END svc__C=0.5, svc__class_weight=None, svc__coef0=0.5, svc__degree=3, svc__gamma=scale, svc__kernel=rbf, svc__shrinking=True; total time=  17.0s\n",
      "[CV] END svc__C=0.5, svc__class_weight=None, svc__coef0=0.5, svc__degree=3, svc__gamma=auto, svc__kernel=linear, svc__shrinking=True; total time=  50.9s\n",
      "[CV] END svc__C=0.5, svc__class_weight=None, svc__coef0=0.5, svc__degree=3, svc__gamma=auto, svc__kernel=rbf, svc__shrinking=True; total time=  16.3s\n",
      "[CV] END svc__C=0.5, svc__class_weight=None, svc__coef0=0.5, svc__degree=3, svc__gamma=auto, svc__kernel=rbf, svc__shrinking=True; total time=  16.2s\n",
      "[CV] END svc__C=0.5, svc__class_weight=None, svc__coef0=0.5, svc__degree=3, svc__gamma=0.001, svc__kernel=linear, svc__shrinking=True; total time=  48.4s\n",
      "[CV] END svc__C=0.5, svc__class_weight=None, svc__coef0=0.5, svc__degree=3, svc__gamma=0.001, svc__kernel=linear, svc__shrinking=True; total time=  35.9s\n",
      "[CV] END svc__C=1, svc__class_weight=balanced, svc__coef0=0.0, svc__degree=2, svc__gamma=scale, svc__kernel=linear, svc__shrinking=True; total time=  36.5s\n",
      "[CV] END svc__C=1, svc__class_weight=balanced, svc__coef0=0.0, svc__degree=2, svc__gamma=scale, svc__kernel=linear, svc__shrinking=True; total time=  37.6s\n",
      "[CV] END svc__C=1, svc__class_weight=balanced, svc__coef0=0.0, svc__degree=2, svc__gamma=auto, svc__kernel=linear, svc__shrinking=True; total time=  39.2s\n",
      "[CV] END svc__C=1, svc__class_weight=balanced, svc__coef0=0.0, svc__degree=2, svc__gamma=auto, svc__kernel=rbf, svc__shrinking=True; total time=  19.1s\n",
      "[CV] END svc__C=1, svc__class_weight=balanced, svc__coef0=0.0, svc__degree=2, svc__gamma=auto, svc__kernel=rbf, svc__shrinking=True; total time=  18.3s\n",
      "[CV] END svc__C=1, svc__class_weight=balanced, svc__coef0=0.0, svc__degree=2, svc__gamma=0.001, svc__kernel=linear, svc__shrinking=True; total time=  37.3s\n",
      "[CV] END svc__C=1, svc__class_weight=balanced, svc__coef0=0.0, svc__degree=2, svc__gamma=0.001, svc__kernel=rbf, svc__shrinking=True; total time=  18.7s\n",
      "[CV] END svc__C=1, svc__class_weight=balanced, svc__coef0=0.0, svc__degree=2, svc__gamma=0.001, svc__kernel=rbf, svc__shrinking=True; total time=  19.0s\n",
      "[CV] END svc__C=1, svc__class_weight=balanced, svc__coef0=0.0, svc__degree=3, svc__gamma=scale, svc__kernel=linear, svc__shrinking=True; total time=  36.9s\n",
      "[CV] END svc__C=1, svc__class_weight=balanced, svc__coef0=0.0, svc__degree=3, svc__gamma=scale, svc__kernel=rbf, svc__shrinking=True; total time=  19.2s\n",
      "[CV] END svc__C=1, svc__class_weight=balanced, svc__coef0=0.0, svc__degree=3, svc__gamma=auto, svc__kernel=linear, svc__shrinking=True; total time=  38.0s\n",
      "[CV] END svc__C=1, svc__class_weight=balanced, svc__coef0=0.0, svc__degree=3, svc__gamma=auto, svc__kernel=linear, svc__shrinking=True; total time=  37.5s\n",
      "[CV] END svc__C=1, svc__class_weight=balanced, svc__coef0=0.0, svc__degree=3, svc__gamma=0.001, svc__kernel=linear, svc__shrinking=True; total time=  37.5s\n",
      "[CV] END svc__C=1, svc__class_weight=balanced, svc__coef0=0.0, svc__degree=3, svc__gamma=0.001, svc__kernel=linear, svc__shrinking=True; total time=  37.6s\n",
      "[CV] END svc__C=1, svc__class_weight=balanced, svc__coef0=0.5, svc__degree=2, svc__gamma=scale, svc__kernel=linear, svc__shrinking=True; total time=  36.6s\n",
      "[CV] END svc__C=1, svc__class_weight=balanced, svc__coef0=0.5, svc__degree=2, svc__gamma=scale, svc__kernel=rbf, svc__shrinking=True; total time=  18.9s\n",
      "[CV] END svc__C=1, svc__class_weight=balanced, svc__coef0=0.5, svc__degree=2, svc__gamma=scale, svc__kernel=rbf, svc__shrinking=True; total time=  17.4s\n",
      "[CV] END svc__C=1, svc__class_weight=balanced, svc__coef0=0.5, svc__degree=2, svc__gamma=auto, svc__kernel=linear, svc__shrinking=True; total time=  37.2s\n",
      "[CV] END svc__C=1, svc__class_weight=balanced, svc__coef0=0.5, svc__degree=2, svc__gamma=auto, svc__kernel=rbf, svc__shrinking=True; total time=  19.5s\n",
      "[CV] END svc__C=1, svc__class_weight=balanced, svc__coef0=0.5, svc__degree=2, svc__gamma=auto, svc__kernel=rbf, svc__shrinking=True; total time=  18.9s\n",
      "[CV] END svc__C=1, svc__class_weight=balanced, svc__coef0=0.5, svc__degree=2, svc__gamma=0.001, svc__kernel=linear, svc__shrinking=True; total time=  37.6s\n",
      "[CV] END svc__C=1, svc__class_weight=balanced, svc__coef0=0.5, svc__degree=2, svc__gamma=0.001, svc__kernel=rbf, svc__shrinking=True; total time=  18.4s\n",
      "[CV] END svc__C=1, svc__class_weight=balanced, svc__coef0=0.5, svc__degree=2, svc__gamma=0.001, svc__kernel=rbf, svc__shrinking=True; total time=  19.2s\n",
      "[CV] END svc__C=1, svc__class_weight=balanced, svc__coef0=0.5, svc__degree=3, svc__gamma=scale, svc__kernel=linear, svc__shrinking=True; total time=  35.9s\n",
      "[CV] END svc__C=1, svc__class_weight=balanced, svc__coef0=0.5, svc__degree=3, svc__gamma=scale, svc__kernel=rbf, svc__shrinking=True; total time=  18.7s\n",
      "[CV] END svc__C=1, svc__class_weight=balanced, svc__coef0=0.5, svc__degree=3, svc__gamma=auto, svc__kernel=linear, svc__shrinking=True; total time=  38.0s\n",
      "[CV] END svc__C=1, svc__class_weight=balanced, svc__coef0=0.5, svc__degree=3, svc__gamma=auto, svc__kernel=linear, svc__shrinking=True; total time=  38.0s\n",
      "[CV] END svc__C=1, svc__class_weight=balanced, svc__coef0=0.5, svc__degree=3, svc__gamma=0.001, svc__kernel=linear, svc__shrinking=True; total time=  35.9s\n",
      "[CV] END svc__C=1, svc__class_weight=balanced, svc__coef0=0.5, svc__degree=3, svc__gamma=0.001, svc__kernel=rbf, svc__shrinking=True; total time=  18.6s\n",
      "[CV] END svc__C=1, svc__class_weight=balanced, svc__coef0=0.5, svc__degree=3, svc__gamma=0.001, svc__kernel=rbf, svc__shrinking=True; total time=  18.3s\n",
      "[CV] END svc__C=1, svc__class_weight=None, svc__coef0=0.0, svc__degree=2, svc__gamma=scale, svc__kernel=linear, svc__shrinking=True; total time= 2.1min\n",
      "[CV] END svc__C=1, svc__class_weight=None, svc__coef0=0.0, svc__degree=2, svc__gamma=scale, svc__kernel=rbf, svc__shrinking=True; total time=  16.0s\n",
      "[CV] END svc__C=1, svc__class_weight=None, svc__coef0=0.0, svc__degree=2, svc__gamma=auto, svc__kernel=linear, svc__shrinking=True; total time= 2.0min\n",
      "[CV] END svc__C=1, svc__class_weight=None, svc__coef0=0.0, svc__degree=2, svc__gamma=auto, svc__kernel=rbf, svc__shrinking=True; total time=  16.6s\n",
      "[CV] END svc__C=1, svc__class_weight=None, svc__coef0=0.0, svc__degree=2, svc__gamma=0.001, svc__kernel=linear, svc__shrinking=True; total time= 2.0min\n",
      "[CV] END svc__C=1, svc__class_weight=None, svc__coef0=0.0, svc__degree=2, svc__gamma=0.001, svc__kernel=rbf, svc__shrinking=True; total time=  16.7s\n",
      "[CV] END svc__C=1, svc__class_weight=None, svc__coef0=0.0, svc__degree=3, svc__gamma=scale, svc__kernel=linear, svc__shrinking=True; total time= 2.0min\n",
      "[CV] END svc__C=1, svc__class_weight=None, svc__coef0=0.0, svc__degree=3, svc__gamma=auto, svc__kernel=linear, svc__shrinking=True; total time= 1.7min\n",
      "[CV] END svc__C=1, svc__class_weight=None, svc__coef0=0.0, svc__degree=3, svc__gamma=auto, svc__kernel=rbf, svc__shrinking=True; total time=  16.6s\n",
      "[CV] END svc__C=1, svc__class_weight=None, svc__coef0=0.0, svc__degree=3, svc__gamma=auto, svc__kernel=rbf, svc__shrinking=True; total time=  15.4s\n",
      "[CV] END svc__C=1, svc__class_weight=None, svc__coef0=0.0, svc__degree=3, svc__gamma=auto, svc__kernel=rbf, svc__shrinking=True; total time=  17.1s\n",
      "[CV] END svc__C=1, svc__class_weight=None, svc__coef0=0.0, svc__degree=3, svc__gamma=0.001, svc__kernel=linear, svc__shrinking=True; total time= 1.9min\n",
      "[CV] END svc__C=1, svc__class_weight=None, svc__coef0=0.0, svc__degree=3, svc__gamma=0.001, svc__kernel=rbf, svc__shrinking=True; total time=  16.9s\n",
      "[CV] END svc__C=1, svc__class_weight=None, svc__coef0=0.5, svc__degree=2, svc__gamma=scale, svc__kernel=linear, svc__shrinking=True; total time= 2.6min\n",
      "[CV] END svc__C=1, svc__class_weight=None, svc__coef0=0.5, svc__degree=2, svc__gamma=auto, svc__kernel=linear, svc__shrinking=True; total time= 2.2min\n",
      "Best parameters found:  {'svc__C': 0.5, 'svc__class_weight': None, 'svc__coef0': 0.0, 'svc__degree': 2, 'svc__gamma': 'auto', 'svc__kernel': 'rbf', 'svc__shrinking': True}\n",
      "Best score:  0.616238608119304\n"
     ]
    }
   ],
   "source": [
    "print(\"Starting CV\")\n",
    "grid_search = GridSearchCV(pipeline, param_grid, cv=purged_cv, scoring='accuracy', verbose=2, n_jobs=-1)\n",
    "y_train = y_train['label']\n",
    "grid_search.fit(X_train, y_train)\n",
    "\n",
    "\n",
    "print(\"Best parameters found: \", grid_search.best_params_)\n",
    "\n",
    "\n",
    "print(\"Best score: \", grid_search.best_score_)"
   ]
  },
  {
   "cell_type": "markdown",
   "id": "ba221b34",
   "metadata": {
    "papermill": {
     "duration": 0.010074,
     "end_time": "2024-10-15T17:14:16.201448",
     "exception": false,
     "start_time": "2024-10-15T17:14:16.191374",
     "status": "completed"
    },
    "tags": []
   },
   "source": [
    "## c) Investigate the prediction quality using area under ROC curve, confusion matrix and classification report."
   ]
  },
  {
   "cell_type": "markdown",
   "id": "2d7e0489",
   "metadata": {
    "papermill": {
     "duration": 0.009266,
     "end_time": "2024-10-15T17:14:16.220470",
     "exception": false,
     "start_time": "2024-10-15T17:14:16.211204",
     "status": "completed"
    },
    "tags": []
   },
   "source": [
    "### Benchmarks"
   ]
  },
  {
   "cell_type": "code",
   "execution_count": 15,
   "id": "cc8c121e",
   "metadata": {
    "execution": {
     "iopub.execute_input": "2024-10-15T17:14:16.242532Z",
     "iopub.status.busy": "2024-10-15T17:14:16.242001Z",
     "iopub.status.idle": "2024-10-15T17:14:16.423830Z",
     "shell.execute_reply": "2024-10-15T17:14:16.422394Z"
    },
    "papermill": {
     "duration": 0.197168,
     "end_time": "2024-10-15T17:14:16.427451",
     "exception": false,
     "start_time": "2024-10-15T17:14:16.230283",
     "status": "completed"
    },
    "tags": []
   },
   "outputs": [
    {
     "name": "stderr",
     "output_type": "stream",
     "text": [
      "/opt/conda/lib/python3.10/site-packages/sklearn/linear_model/_logistic.py:458: ConvergenceWarning: lbfgs failed to converge (status=1):\n",
      "STOP: TOTAL NO. of ITERATIONS REACHED LIMIT.\n",
      "\n",
      "Increase the number of iterations (max_iter) or scale the data as shown in:\n",
      "    https://scikit-learn.org/stable/modules/preprocessing.html\n",
      "Please also refer to the documentation for alternative solver options:\n",
      "    https://scikit-learn.org/stable/modules/linear_model.html#logistic-regression\n",
      "  n_iter_i = _check_optimize_result(\n"
     ]
    }
   ],
   "source": [
    "# Logistic regression\n",
    "from sklearn.linear_model import LogisticRegression\n",
    "\n",
    "logistic_model = LogisticRegression()\n",
    "logistic_model.fit(X_train, y_train)\n",
    "\n",
    "logistic_probs = logistic_model.predict_proba(X_test)[:, 1] \n",
    "\n",
    "\n",
    "\n",
    "# Random Prediction\n",
    "from sklearn.metrics import classification_report\n",
    "\n",
    "# Step 1: Calculate the class distribution in the training data\n",
    "class_0_prob = y_train.value_counts(normalize=True)[0]  # Probability of class 0\n",
    "class_1_prob = y_train.value_counts(normalize=True)[1]  # Probability of class 1\n",
    "\n",
    "# Generate random predictions for the test set based on the class probabilities\n",
    "np.random.seed(42)  # For reproducibility\n",
    "y_test['random_guessing'] = np.random.choice([0, 1], size=len(y_test), p=[class_0_prob, class_1_prob])\n",
    "\n",
    "\n",
    "\n",
    "\n",
    "# Naive Benchmark\n",
    "# Create the naive benchmark predictions by shifting the target column\n",
    "y_test['naive_prediction'] = y_test['label'].shift(1)\n",
    "\n",
    "#Fill the first row of the naive prediction with a neutral value\n",
    "y_test['naive_prediction']=y_test['naive_prediction'].fillna(1)"
   ]
  },
  {
   "cell_type": "markdown",
   "id": "bf5496c3",
   "metadata": {
    "papermill": {
     "duration": 0.016889,
     "end_time": "2024-10-15T17:14:16.461340",
     "exception": false,
     "start_time": "2024-10-15T17:14:16.444451",
     "status": "completed"
    },
    "tags": []
   },
   "source": [
    "I added a selection of random and linear benchmark to contextualize the performance of the model\n",
    "\n",
    "* **Logistic Regression** = This will provide context versus simpler linear models\n",
    "* **Random prediciotn** = This is the lowest hurdle to clear and a level 0 for the model, if we fail to beat this convincingly it is a clear sign something is wrong\n",
    "* **Naive model** = This model takes the reurn as of the previous period as the prediciotn fot eh return of the next - also a small hurdle to clear but a bit higher than random guessing"
   ]
  },
  {
   "cell_type": "code",
   "execution_count": 16,
   "id": "b8ddacb3",
   "metadata": {
    "execution": {
     "iopub.execute_input": "2024-10-15T17:14:16.501796Z",
     "iopub.status.busy": "2024-10-15T17:14:16.501206Z",
     "iopub.status.idle": "2024-10-15T17:14:17.839281Z",
     "shell.execute_reply": "2024-10-15T17:14:17.838132Z"
    },
    "papermill": {
     "duration": 1.363464,
     "end_time": "2024-10-15T17:14:17.841711",
     "exception": false,
     "start_time": "2024-10-15T17:14:16.478247",
     "status": "completed"
    },
    "tags": []
   },
   "outputs": [
    {
     "name": "stdout",
     "output_type": "stream",
     "text": [
      "Random Guessing Benchmark Classification Report:\n",
      "              precision    recall  f1-score   support\n",
      "\n",
      "           0       0.63      0.61      0.62      1648\n",
      "           1       0.36      0.38      0.37       939\n",
      "\n",
      "    accuracy                           0.53      2587\n",
      "   macro avg       0.49      0.49      0.49      2587\n",
      "weighted avg       0.53      0.53      0.53      2587\n",
      "\n",
      "Naive Benchmark Classification Report:\n",
      "              precision    recall  f1-score   support\n",
      "\n",
      "           0       0.64      0.63      0.63      1648\n",
      "           1       0.36      0.36      0.36       939\n",
      "\n",
      "    accuracy                           0.53      2587\n",
      "   macro avg       0.50      0.50      0.50      2587\n",
      "weighted avg       0.54      0.53      0.54      2587\n",
      "\n",
      "Logistic Classification Report:\n",
      "              precision    recall  f1-score   support\n",
      "\n",
      "           0       0.65      0.93      0.76      1648\n",
      "           1       0.48      0.12      0.19       939\n",
      "\n",
      "    accuracy                           0.63      2587\n",
      "   macro avg       0.56      0.52      0.48      2587\n",
      "weighted avg       0.59      0.63      0.56      2587\n",
      "\n",
      "SVM Model Classification Report::\n",
      "              precision    recall  f1-score   support\n",
      "\n",
      "           0       0.64      0.99      0.78      1648\n",
      "           1       0.60      0.03      0.05       939\n",
      "\n",
      "    accuracy                           0.64      2587\n",
      "   macro avg       0.62      0.51      0.41      2587\n",
      "weighted avg       0.63      0.64      0.51      2587\n",
      "\n",
      "Random Guessing Model Accuracy: 0.5257054503285659\n",
      "Naive Model Accuracy: 0.5349826053343641\n",
      "Logistic Model Accuracy: 0.6331658291457286\n",
      "SVMModel Accuracy: 0.6401236954000773\n"
     ]
    }
   ],
   "source": [
    "# Logistic Prediction\n",
    "y_pred_logistic = logistic_model.predict(X_test)\n",
    "\n",
    "# SVM Prediction\n",
    "# Use the best estimator to predict on the test set\n",
    "y_pred = grid_search.best_estimator_.predict(X_test)\n",
    "\n",
    "# Evaluate the naive benchmark and the SVM model predictions using classification metrics\n",
    "from sklearn.metrics import classification_report, accuracy_score\n",
    "\n",
    "\n",
    "\n",
    "# Display Performance\n",
    "\n",
    "print(\"Random Guessing Benchmark Classification Report:\")\n",
    "print(classification_report(y_test['label'], y_test['random_guessing']))\n",
    "\n",
    "print(\"Naive Benchmark Classification Report:\")\n",
    "print(classification_report(y_test['label'], y_test['naive_prediction']))\n",
    "\n",
    "print(\"Logistic Classification Report:\")\n",
    "print(classification_report(y_test['label'], y_pred_logistic))\n",
    "\n",
    "print(\"SVM Model Classification Report::\")\n",
    "print(classification_report(y_test['label'], y_pred))\n",
    "\n",
    "\n",
    "\n",
    "\n",
    "# Additionally, compare the accuracy scores\n",
    "random_accuracy = accuracy_score(y_test['label'], y_test['random_guessing'])\n",
    "naive_accuracy = accuracy_score(y_test['label'], y_test['naive_prediction'])\n",
    "logistic_accuracy = accuracy_score(y_test['label'], y_pred_logistic)\n",
    "svm_accuracy = accuracy_score(y_test['label'], y_pred)\n",
    "\n",
    "print(f\"Random Guessing Model Accuracy: {random_accuracy}\")\n",
    "print(f\"Naive Model Accuracy: {naive_accuracy}\")\n",
    "print(f\"Logistic Model Accuracy: {logistic_accuracy}\")\n",
    "print(f\"SVMModel Accuracy: {svm_accuracy}\")"
   ]
  },
  {
   "cell_type": "code",
   "execution_count": 17,
   "id": "5cf99793",
   "metadata": {
    "execution": {
     "iopub.execute_input": "2024-10-15T17:14:17.864429Z",
     "iopub.status.busy": "2024-10-15T17:14:17.863403Z",
     "iopub.status.idle": "2024-10-15T17:14:19.555850Z",
     "shell.execute_reply": "2024-10-15T17:14:19.554642Z"
    },
    "papermill": {
     "duration": 1.707042,
     "end_time": "2024-10-15T17:14:19.558930",
     "exception": false,
     "start_time": "2024-10-15T17:14:17.851888",
     "status": "completed"
    },
    "tags": []
   },
   "outputs": [
    {
     "data": {
      "image/png": "[encoded data removed]",
      "text/plain": [
       "<Figure size 1000x600 with 1 Axes>"
      ]
     },
     "metadata": {},
     "output_type": "display_data"
    }
   ],
   "source": [
    "import matplotlib.pyplot as plt\n",
    "from sklearn.metrics import roc_curve, auc\n",
    "\n",
    "#Get the predicted probabilities for the SVM model and Logistic Model\n",
    "logistic_probs = logistic_model.predict_proba(X_test)[:, 1]  \n",
    "svm_probs = grid_search.best_estimator_.predict_proba(X_test)[:, 1]  \n",
    "\n",
    "# Generate random guessing probabilities based on the class distribution in the training data\n",
    "random_probs = np.random.choice([0, 1], size=len(y_test), p=[class_0_prob, class_1_prob])\n",
    "\n",
    "# Get the probabilities for the naive benchmark predictions\n",
    "y_test['naive_prediction'] = y_test['label'].shift(1).fillna(1)  # Shift labels to create naive predictions\n",
    "naive_probs = y_test['naive_prediction']\n",
    "\n",
    "# Calculate the ROC curve \n",
    "fpr_svm, tpr_svm, _ = roc_curve(y_test['label'], svm_probs)\n",
    "fpr_logistic, tpr_logistic, _ = roc_curve(y_test['label'], logistic_probs)\n",
    "fpr_naive, tpr_naive, _ = roc_curve(y_test['label'], naive_probs)\n",
    "fpr_random, tpr_random, _ = roc_curve(y_test['label'], random_probs)\n",
    "\n",
    "#AUC scores\n",
    "auc_svm = auc(fpr_svm, tpr_svm)\n",
    "auc_logistic = auc(fpr_logistic, tpr_logistic)\n",
    "auc_naive = auc(fpr_naive, tpr_naive)\n",
    "auc_random = auc(fpr_random, tpr_random)\n",
    "\n",
    "#Plot the ROC curve for all models\n",
    "plt.figure(figsize=(10, 6))\n",
    "plt.plot(fpr_svm, tpr_svm, color='blue', label=f'SVM (AUC = {auc_svm:.2f})')\n",
    "plt.plot(fpr_logistic, tpr_logistic, color='purple', label=f'Logistic Regression (AUC = {auc_logistic:.2f})')\n",
    "plt.plot(fpr_naive, tpr_naive, color='red', linestyle='--', label=f'Naive Benchmark (AUC = {auc_naive:.2f})')\n",
    "plt.plot(fpr_random, tpr_random, color='green', linestyle='--', label=f'Random Guessing (AUC = {auc_random:.2f})')\n",
    "\n",
    "# Plot the diagonal line representing the baseline for random guessing\n",
    "plt.plot([0, 1], [0, 1], color='gray', linestyle='--', label='Random Baseline (AUC = 0.50)')\n",
    "\n",
    "# Labels and title for the plot\n",
    "plt.xlabel('False Positive Rate (FPR)')\n",
    "plt.ylabel('True Positive Rate (TPR)')\n",
    "plt.title('ROC Curve Comparison of SVM, Logistic Regression, Naive Benchmark, and Random Guessing')\n",
    "plt.legend(loc='lower right')\n",
    "plt.grid(True)\n",
    "plt.show()\n",
    "\n"
   ]
  },
  {
   "cell_type": "markdown",
   "id": "d8d11d0f",
   "metadata": {
    "papermill": {
     "duration": 0.011138,
     "end_time": "2024-10-15T17:14:19.582201",
     "exception": false,
     "start_time": "2024-10-15T17:14:19.571063",
     "status": "completed"
    },
    "tags": []
   },
   "source": [
    "## Conclusion"
   ]
  },
  {
   "cell_type": "markdown",
   "id": "ce2753e6",
   "metadata": {
    "papermill": {
     "duration": 0.011233,
     "end_time": "2024-10-15T17:14:19.604976",
     "exception": false,
     "start_time": "2024-10-15T17:14:19.593743",
     "status": "completed"
    },
    "tags": []
   },
   "source": [
    "Based on the classification reports and accuracy scores, the Support Vector Machine (SVM) model stands out as the best-performing option in this analysis. While all models show some level of accuracy, the SVM model achieves the highest accuracy at 64.01%, outperforming both the logistic regression model (63.32%) and the benchmarks (52.57% and 53.49%).\n",
    "\n",
    "In terms of precision, recall, and f1-scores, the SVM shows strong performance in identifying the majority class (0), with a recall of 99% and a balanced f1-score of 0.78, indicating its ability to capture the majority of the positive cases while maintaining reasonable precision. Though the recall for the minority class (1) is low at 3%, the model's overall performance remains superior when the objective is to maximize accuracy and performance for the majority class, as SVM excels in these areas with complex datasets.\n",
    "\n",
    "Furthermore, SVM’s ability to handle high-dimensional spaces and separate classes with an optimal margin, as well as its ability to use non-linear kernels, makes it highly flexible for challenging classification problems, providing an advantage over simpler models like logistic regression and naive benchmarks.\n",
    "\n"
   ]
  }
 ],
 "metadata": {
  "kaggle": {
   "accelerator": "none",
   "dataSources": [
    {
     "datasetId": 5792141,
     "sourceId": 9514632,
     "sourceType": "datasetVersion"
    }
   ],
   "dockerImageVersionId": 30786,
   "isGpuEnabled": false,
   "isInternetEnabled": true,
   "language": "python",
   "sourceType": "notebook"
  },
  "kernelspec": {
   "display_name": "Python 3",
   "language": "python",
   "name": "python3"
  },
  "language_info": {
   "codemirror_mode": {
    "name": "ipython",
    "version": 3
   },
   "file_extension": ".py",
   "mimetype": "text/x-python",
   "name": "python",
   "nbconvert_exporter": "python",
   "pygments_lexer": "ipython3",
   "version": "3.10.14"
  },
  "papermill": {
   "default_parameters": {},
   "duration": 4350.183608,
   "end_time": "2024-10-15T17:14:22.741004",
   "environment_variables": {},
   "exception": null,
   "input_path": "__notebook__.ipynb",
   "output_path": "__notebook__.ipynb",
   "parameters": {},
   "start_time": "2024-10-15T16:01:52.557396",
   "version": "2.6.0"
  }
 },
 "nbformat": 4,
 "nbformat_minor": 5
}
