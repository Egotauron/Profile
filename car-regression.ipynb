{
 "cells": [
  {
   "cell_type": "code",
   "execution_count": 1,
   "id": "fb56ec2a",
   "metadata": {
    "_cell_guid": "b1076dfc-b9ad-4769-8c92-a6c4dae69d19",
    "_uuid": "8f2839f25d086af736a60e9eeb907d3b93b6e0e5",
    "execution": {
     "iopub.execute_input": "2024-09-28T17:18:56.871389Z",
     "iopub.status.busy": "2024-09-28T17:18:56.871020Z",
     "iopub.status.idle": "2024-09-28T17:19:10.142229Z",
     "shell.execute_reply": "2024-09-28T17:19:10.141300Z"
    },
    "papermill": {
     "duration": 13.283831,
     "end_time": "2024-09-28T17:19:10.144369",
     "exception": false,
     "start_time": "2024-09-28T17:18:56.860538",
     "status": "completed"
    },
    "tags": []
   },
   "outputs": [
    {
     "name": "stdout",
     "output_type": "stream",
     "text": [
      "/kaggle/input/playground-series-s4e9/sample_submission.csv\n",
      "/kaggle/input/playground-series-s4e9/train.csv\n",
      "/kaggle/input/playground-series-s4e9/test.csv\n",
      "Num GPUs Available:  1\n"
     ]
    }
   ],
   "source": [
    "# This Python 3 environment comes with many helpful analytics libraries installed\n",
    "# It is defined by the kaggle/python Docker image: https://github.com/kaggle/docker-python\n",
    "# For example, here's several helpful packages to load\n",
    "\n",
    "import numpy as np # linear algebra\n",
    "import pandas as pd # data processing, CSV file I/O (e.g. pd.read_csv)\n",
    "\n",
    "# Input data files are available in the read-only \"../input/\" directory\n",
    "# For example, running this (by clicking run or pressing Shift+Enter) will list all files under the input directory\n",
    "\n",
    "import os\n",
    "for dirname, _, filenames in os.walk('/kaggle/input'):\n",
    "    for filename in filenames:\n",
    "        print(os.path.join(dirname, filename))\n",
    "\n",
    "# You can write up to 20GB to the current directory (/kaggle/working/) that gets preserved as output when you create a version using \"Save & Run All\" \n",
    "# You can also write temporary files to /kaggle/temp/, but they won't be saved outside of the current session\n",
    "\n",
    "import tensorflow as tf\n",
    "\n",
    "# Check if GPU is available\n",
    "print(\"Num GPUs Available: \", len(tf.config.list_physical_devices('GPU')))"
   ]
  },
  {
   "cell_type": "markdown",
   "id": "37573394",
   "metadata": {
    "papermill": {
     "duration": 0.008185,
     "end_time": "2024-09-28T17:19:10.161386",
     "exception": false,
     "start_time": "2024-09-28T17:19:10.153201",
     "status": "completed"
    },
    "tags": []
   },
   "source": [
    "# Data Manipulation"
   ]
  },
  {
   "cell_type": "code",
   "execution_count": 2,
   "id": "794cd3b7",
   "metadata": {
    "execution": {
     "iopub.execute_input": "2024-09-28T17:19:10.180153Z",
     "iopub.status.busy": "2024-09-28T17:19:10.179250Z",
     "iopub.status.idle": "2024-09-28T17:19:10.995614Z",
     "shell.execute_reply": "2024-09-28T17:19:10.994810Z"
    },
    "papermill": {
     "duration": 0.828305,
     "end_time": "2024-09-28T17:19:10.997999",
     "exception": false,
     "start_time": "2024-09-28T17:19:10.169694",
     "status": "completed"
    },
    "tags": []
   },
   "outputs": [],
   "source": [
    "df = pd.read_csv('/kaggle/input/playground-series-s4e9/train.csv')\n"
   ]
  },
  {
   "cell_type": "markdown",
   "id": "900eb6a6",
   "metadata": {
    "papermill": {
     "duration": 0.008796,
     "end_time": "2024-09-28T17:19:11.022625",
     "exception": false,
     "start_time": "2024-09-28T17:19:11.013829",
     "status": "completed"
    },
    "tags": []
   },
   "source": [
    "## Cleaning Data"
   ]
  },
  {
   "cell_type": "code",
   "execution_count": 3,
   "id": "a9e76dea",
   "metadata": {
    "execution": {
     "iopub.execute_input": "2024-09-28T17:19:11.041014Z",
     "iopub.status.busy": "2024-09-28T17:19:11.040679Z",
     "iopub.status.idle": "2024-09-28T17:19:13.483202Z",
     "shell.execute_reply": "2024-09-28T17:19:13.482390Z"
    },
    "papermill": {
     "duration": 2.454188,
     "end_time": "2024-09-28T17:19:13.485589",
     "exception": false,
     "start_time": "2024-09-28T17:19:11.031401",
     "status": "completed"
    },
    "tags": []
   },
   "outputs": [],
   "source": [
    "# Extract Horsepower (HP)\n",
    "df['HP'] = df['engine'].str.extract(r'(\\d+\\.?\\d*)HP', expand=False)\n",
    "df['HP'] = pd.to_numeric(df['HP'], errors='coerce')\n",
    "\n",
    "# Extract Engine Size in Liters (L)\n",
    "df['EngineSize_L'] = df['engine'].str.extract(r'(\\d+\\.?\\d*)L', expand=False)\n",
    "df['EngineSize_L'] = pd.to_numeric(df['EngineSize_L'], errors='coerce')\n",
    "\n",
    "# Extract Cylinder Number\n",
    "df['CylinderNumber'] = df['engine'].str.extract(r'(\\d+)\\s*Cylinder', expand=False)\n",
    "df['CylinderNumber'] = pd.to_numeric(df['CylinderNumber'], errors='coerce').astype('str')\n",
    "\n",
    "# Extract Fuel Type\n",
    "df['FuelType'] = df['engine'].str.extract(r'Engine\\s+(.+?)\\s+Fuel', expand=False)\n",
    "\n",
    "df['EngineSize_L'] = df['EngineSize_L'].replace(np.nan, 0)\n",
    "df.drop(['engine','FuelType'], axis = 1, inplace=True)\n",
    "\n",
    "df['CylinderNumber']=df['CylinderNumber'].replace('nan',\"Not Reported\")\n",
    "\n",
    "df['accident']=df['accident'].replace('nan', 'yes')\n",
    "df['accident']=df['accident'].replace('None reported', 'no')\n",
    "df['accident']=df['accident'].replace('At least 1 accident or damage reported', 'yes')\n",
    "\n",
    "df['clean_title']=df['clean_title'].replace('nan', 'no')\n",
    "\n",
    "df['fuel_type']=df['fuel_type'].replace(np.nan,'–')\n",
    "df['fuel_type']=df['fuel_type'].replace('not supported','–')\n",
    "df['fuel_type']=df['fuel_type'].replace('E85 Flex Fuel','Gasoline')\n",
    "df['fuel_type']=df['fuel_type'].replace('Plug-In Hybrid','Hybrid')\n",
    "df['clean_title']=df['clean_title'].replace(np.nan, 'no')\n",
    "df['accident']=df['accident'].replace(np.nan, 'no')\n",
    "df['HP']=df['HP'].replace(np.nan, 0)\n",
    "\n",
    "# Function to classify as 'Manual' or 'Automatic'\n",
    "def classify_transmission(trans):\n",
    "    trans_lower = trans.lower()\n",
    "    \n",
    "    if 'manual' in trans_lower or 'mt' in trans_lower or 'm/t' in trans_lower:\n",
    "        return 'Manual'\n",
    "    else:\n",
    "        return 'Automatic'\n",
    "\n",
    "# Apply classification function\n",
    "df['transmission_type'] = df['transmission'].apply(classify_transmission)\n",
    "\n",
    "df.drop('transmission', axis=1 ,inplace = True)"
   ]
  },
  {
   "cell_type": "markdown",
   "id": "514ca501",
   "metadata": {
    "papermill": {
     "duration": 0.008152,
     "end_time": "2024-09-28T17:19:13.502537",
     "exception": false,
     "start_time": "2024-09-28T17:19:13.494385",
     "status": "completed"
    },
    "tags": []
   },
   "source": [
    "## Encoding Data"
   ]
  },
  {
   "cell_type": "code",
   "execution_count": 4,
   "id": "4e558c00",
   "metadata": {
    "execution": {
     "iopub.execute_input": "2024-09-28T17:19:13.520269Z",
     "iopub.status.busy": "2024-09-28T17:19:13.519941Z",
     "iopub.status.idle": "2024-09-28T17:19:19.601337Z",
     "shell.execute_reply": "2024-09-28T17:19:19.600316Z"
    },
    "papermill": {
     "duration": 6.093085,
     "end_time": "2024-09-28T17:19:19.603826",
     "exception": false,
     "start_time": "2024-09-28T17:19:13.510741",
     "status": "completed"
    },
    "tags": []
   },
   "outputs": [
    {
     "name": "stderr",
     "output_type": "stream",
     "text": [
      "/opt/conda/lib/python3.10/site-packages/sklearn/preprocessing/_encoders.py:868: FutureWarning: `sparse` was renamed to `sparse_output` in version 1.2 and will be removed in 1.4. `sparse_output` is ignored unless you leave `sparse` to its default value.\n",
      "  warnings.warn(\n"
     ]
    }
   ],
   "source": [
    "from sklearn.compose import ColumnTransformer\n",
    "from sklearn.preprocessing import OneHotEncoder, StandardScaler\n",
    "\n",
    "\n",
    "# Select features and target variable\n",
    "X = df.drop(['price', 'id'], axis=1)\n",
    "y = df['price']\n",
    "\n",
    "# List of categorical columns that need one-hot encoding\n",
    "categorical_cols = ['brand', 'model', 'fuel_type', 'ext_col', 'int_col', \n",
    "                    'accident', 'clean_title', 'CylinderNumber', 'transmission_type']\n",
    "\n",
    "# List of numerical columns that need scaling\n",
    "numerical_cols = ['model_year', 'milage', 'HP', 'EngineSize_L']\n",
    "\n",
    "# Define the column transformer\n",
    "preprocessor = ColumnTransformer(\n",
    "    transformers=[\n",
    "        ('num', StandardScaler(), numerical_cols),  # Standardize numerical features\n",
    "        ('cat', OneHotEncoder(handle_unknown='ignore', sparse=False), categorical_cols)  # One-hot encode categorical features\n",
    "    ]\n",
    ")\n",
    "\n",
    "# Fit the preprocessor on the training data\n",
    "X_train_transformed = preprocessor.fit_transform(X)\n",
    "\n",
    "# Extract column names\n",
    "# Get numerical column names\n",
    "num_feature_names = numerical_cols\n",
    "\n",
    "# Get categorical column names after one-hot encoding\n",
    "cat_feature_names = preprocessor.named_transformers_['cat'].get_feature_names_out(categorical_cols)\n",
    "\n",
    "# Combine both sets of feature names\n",
    "all_feature_names = list(num_feature_names) + list(cat_feature_names)\n",
    "\n",
    "# Convert the transformed array back to a DataFrame with the correct column names\n",
    "X = pd.DataFrame(X_train_transformed, columns=all_feature_names, index=X.index)"
   ]
  },
  {
   "cell_type": "markdown",
   "id": "78b9df24",
   "metadata": {
    "papermill": {
     "duration": 0.008439,
     "end_time": "2024-09-28T17:19:19.621221",
     "exception": false,
     "start_time": "2024-09-28T17:19:19.612782",
     "status": "completed"
    },
    "tags": []
   },
   "source": [
    "# Neural Net"
   ]
  },
  {
   "cell_type": "code",
   "execution_count": 5,
   "id": "bcb00399",
   "metadata": {
    "execution": {
     "iopub.execute_input": "2024-09-28T17:19:19.640586Z",
     "iopub.status.busy": "2024-09-28T17:19:19.639474Z",
     "iopub.status.idle": "2024-09-28T17:22:02.505172Z",
     "shell.execute_reply": "2024-09-28T17:22:02.504136Z"
    },
    "papermill": {
     "duration": 162.877615,
     "end_time": "2024-09-28T17:22:02.507352",
     "exception": false,
     "start_time": "2024-09-28T17:19:19.629737",
     "status": "completed"
    },
    "tags": []
   },
   "outputs": [
    {
     "name": "stderr",
     "output_type": "stream",
     "text": [
      "/opt/conda/lib/python3.10/site-packages/keras/src/layers/core/dense.py:87: UserWarning: Do not pass an `input_shape`/`input_dim` argument to a layer. When using Sequential models, prefer using an `Input(shape)` object as the first layer in the model instead.\n",
      "  super().__init__(activity_regularizer=activity_regularizer, **kwargs)\n"
     ]
    },
    {
     "name": "stdout",
     "output_type": "stream",
     "text": [
      "Epoch 1/100\n"
     ]
    },
    {
     "name": "stderr",
     "output_type": "stream",
     "text": [
      "WARNING: All log messages before absl::InitializeLog() is called are written to STDERR\n",
      "I0000 00:00:1727543966.133512      68 service.cc:145] XLA service 0x795aa800cea0 initialized for platform CUDA (this does not guarantee that XLA will be used). Devices:\n",
      "I0000 00:00:1727543966.133609      68 service.cc:153]   StreamExecutor device (0): Tesla P100-PCIE-16GB, Compute Capability 6.0\n"
     ]
    },
    {
     "name": "stdout",
     "output_type": "stream",
     "text": [
      "\u001b[1m  86/3771\u001b[0m \u001b[37m━━━━━━━━━━━━━━━━━━━━\u001b[0m \u001b[1m6s\u001b[0m 2ms/step - loss: 11119830016.0000 - rmse: 73857.0000"
     ]
    },
    {
     "name": "stderr",
     "output_type": "stream",
     "text": [
      "I0000 00:00:1727543971.056949      68 device_compiler.h:188] Compiled cluster using XLA!  This line is logged at most once for the lifetime of the process.\n"
     ]
    },
    {
     "name": "stdout",
     "output_type": "stream",
     "text": [
      "\u001b[1m3771/3771\u001b[0m \u001b[32m━━━━━━━━━━━━━━━━━━━━\u001b[0m\u001b[37m\u001b[0m \u001b[1m20s\u001b[0m 4ms/step - loss: 6177734656.0000 - rmse: 47355.0781 - val_loss: 6371491840.0000 - val_rmse: 44352.5586\n",
      "Epoch 2/100\n",
      "\u001b[1m3771/3771\u001b[0m \u001b[32m━━━━━━━━━━━━━━━━━━━━\u001b[0m\u001b[37m\u001b[0m \u001b[1m8s\u001b[0m 2ms/step - loss: 4448916992.0000 - rmse: 40367.0352 - val_loss: 6336737792.0000 - val_rmse: 44635.0000\n",
      "Epoch 3/100\n",
      "\u001b[1m3771/3771\u001b[0m \u001b[32m━━━━━━━━━━━━━━━━━━━━\u001b[0m\u001b[37m\u001b[0m \u001b[1m8s\u001b[0m 2ms/step - loss: 5207675904.0000 - rmse: 42538.1562 - val_loss: 6323976704.0000 - val_rmse: 44826.9414\n",
      "Epoch 4/100\n",
      "\u001b[1m3771/3771\u001b[0m \u001b[32m━━━━━━━━━━━━━━━━━━━━\u001b[0m\u001b[37m\u001b[0m \u001b[1m8s\u001b[0m 2ms/step - loss: 4702616576.0000 - rmse: 41102.5820 - val_loss: 6332716544.0000 - val_rmse: 44776.9062\n",
      "Epoch 5/100\n",
      "\u001b[1m3771/3771\u001b[0m \u001b[32m━━━━━━━━━━━━━━━━━━━━\u001b[0m\u001b[37m\u001b[0m \u001b[1m8s\u001b[0m 2ms/step - loss: 4947664896.0000 - rmse: 40996.3438 - val_loss: 6349118464.0000 - val_rmse: 45652.0000\n",
      "Epoch 6/100\n",
      "\u001b[1m3771/3771\u001b[0m \u001b[32m━━━━━━━━━━━━━━━━━━━━\u001b[0m\u001b[37m\u001b[0m \u001b[1m8s\u001b[0m 2ms/step - loss: 5142635520.0000 - rmse: 42511.1250 - val_loss: 6353217024.0000 - val_rmse: 45182.1172\n",
      "Epoch 7/100\n",
      "\u001b[1m3771/3771\u001b[0m \u001b[32m━━━━━━━━━━━━━━━━━━━━\u001b[0m\u001b[37m\u001b[0m \u001b[1m8s\u001b[0m 2ms/step - loss: 5121313280.0000 - rmse: 42603.3945 - val_loss: 6374173696.0000 - val_rmse: 44474.7852\n",
      "Epoch 8/100\n",
      "\u001b[1m3771/3771\u001b[0m \u001b[32m━━━━━━━━━━━━━━━━━━━━\u001b[0m\u001b[37m\u001b[0m \u001b[1m8s\u001b[0m 2ms/step - loss: 5119981056.0000 - rmse: 42401.2578 - val_loss: 6399777792.0000 - val_rmse: 44621.6680\n",
      "Epoch 9/100\n",
      "\u001b[1m3771/3771\u001b[0m \u001b[32m━━━━━━━━━━━━━━━━━━━━\u001b[0m\u001b[37m\u001b[0m \u001b[1m8s\u001b[0m 2ms/step - loss: 5667979264.0000 - rmse: 42886.7617 - val_loss: 6421652992.0000 - val_rmse: 45306.2500\n",
      "Epoch 10/100\n",
      "\u001b[1m3771/3771\u001b[0m \u001b[32m━━━━━━━━━━━━━━━━━━━━\u001b[0m\u001b[37m\u001b[0m \u001b[1m8s\u001b[0m 2ms/step - loss: 4580694528.0000 - rmse: 40972.5547 - val_loss: 6479635968.0000 - val_rmse: 46663.1992\n",
      "Epoch 11/100\n",
      "\u001b[1m3771/3771\u001b[0m \u001b[32m━━━━━━━━━━━━━━━━━━━━\u001b[0m\u001b[37m\u001b[0m \u001b[1m8s\u001b[0m 2ms/step - loss: 4756535296.0000 - rmse: 41399.3359 - val_loss: 6587344896.0000 - val_rmse: 47916.5000\n",
      "Epoch 12/100\n",
      "\u001b[1m3771/3771\u001b[0m \u001b[32m━━━━━━━━━━━━━━━━━━━━\u001b[0m\u001b[37m\u001b[0m \u001b[1m8s\u001b[0m 2ms/step - loss: 4242463488.0000 - rmse: 39780.3594 - val_loss: 6537419776.0000 - val_rmse: 46824.1562\n",
      "Epoch 13/100\n",
      "\u001b[1m3771/3771\u001b[0m \u001b[32m━━━━━━━━━━━━━━━━━━━━\u001b[0m\u001b[37m\u001b[0m \u001b[1m8s\u001b[0m 2ms/step - loss: 4397913088.0000 - rmse: 40331.0469 - val_loss: 6696929280.0000 - val_rmse: 48085.2656\n",
      "Epoch 14/100\n",
      "\u001b[1m3771/3771\u001b[0m \u001b[32m━━━━━━━━━━━━━━━━━━━━\u001b[0m\u001b[37m\u001b[0m \u001b[1m8s\u001b[0m 2ms/step - loss: 4996313088.0000 - rmse: 42184.7812 - val_loss: 6787756544.0000 - val_rmse: 49195.3203\n",
      "Epoch 15/100\n",
      "\u001b[1m3771/3771\u001b[0m \u001b[32m━━━━━━━━━━━━━━━━━━━━\u001b[0m\u001b[37m\u001b[0m \u001b[1m8s\u001b[0m 2ms/step - loss: 4275863040.0000 - rmse: 40419.0703 - val_loss: 6920135680.0000 - val_rmse: 50071.0117\n",
      "Epoch 16/100\n",
      "\u001b[1m3771/3771\u001b[0m \u001b[32m━━━━━━━━━━━━━━━━━━━━\u001b[0m\u001b[37m\u001b[0m \u001b[1m8s\u001b[0m 2ms/step - loss: 3982016512.0000 - rmse: 38610.2969 - val_loss: 6893937664.0000 - val_rmse: 49206.0469\n",
      "Epoch 17/100\n",
      "\u001b[1m3771/3771\u001b[0m \u001b[32m━━━━━━━━━━━━━━━━━━━━\u001b[0m\u001b[37m\u001b[0m \u001b[1m8s\u001b[0m 2ms/step - loss: 4044045824.0000 - rmse: 39325.7305 - val_loss: 6923460096.0000 - val_rmse: 49086.0234\n",
      "Epoch 18/100\n",
      "\u001b[1m3771/3771\u001b[0m \u001b[32m━━━━━━━━━━━━━━━━━━━━\u001b[0m\u001b[37m\u001b[0m \u001b[1m8s\u001b[0m 2ms/step - loss: 3613748480.0000 - rmse: 38410.6914 - val_loss: 7453604864.0000 - val_rmse: 52907.2500\n",
      "\u001b[1m1179/1179\u001b[0m \u001b[32m━━━━━━━━━━━━━━━━━━━━\u001b[0m\u001b[37m\u001b[0m \u001b[1m2s\u001b[0m 1ms/step - loss: 4420971520.0000 - rmse: 41325.0000\n",
      "\u001b[1m1179/1179\u001b[0m \u001b[32m━━━━━━━━━━━━━━━━━━━━\u001b[0m\u001b[37m\u001b[0m \u001b[1m2s\u001b[0m 1ms/step\n",
      "Test RMSE: 41629.08984375\n"
     ]
    }
   ],
   "source": [
    "import tensorflow as tf\n",
    "from tensorflow.keras.models import Sequential\n",
    "from tensorflow.keras.layers import Dense, Dropout\n",
    "from tensorflow.keras.callbacks import EarlyStopping\n",
    "import tensorflow.keras.backend as K\n",
    "\n",
    "# Define early stopping\n",
    "early_stopping = EarlyStopping(monitor='val_loss', patience=15, restore_best_weights=True)\n",
    "\n",
    "# Custom RMSE metric\n",
    "def rmse(y_true, y_pred):\n",
    "    y_true = K.cast(y_true, dtype='float32')\n",
    "    return K.sqrt(K.mean(K.square(y_pred - y_true)))\n",
    "\n",
    "# Define the neural network architecture\n",
    "\n",
    "model = Sequential()\n",
    "model.add(Dense(256, input_dim=X.shape[1], activation='relu'))  \n",
    "model.add(Dropout(0.3)) \n",
    "model.add(Dense(128, activation='relu'))                              \n",
    "model.add(Dropout(0.3)) \n",
    "model.add(Dense(64, activation='relu'))\n",
    "model.add(Dropout(0.2)) \n",
    "model.add(Dense(32, activation='relu'))                               \n",
    "model.add(Dense(1))                                                   # Output layer for regression (no activation function)\n",
    "\n",
    "\n",
    "# Compile the model\n",
    "model.compile(optimizer='adam', loss='mean_squared_error', metrics=[rmse])\n",
    "\n",
    "\n",
    "# Train the model with early stopping\n",
    "from sklearn.model_selection import train_test_split\n",
    "\n",
    "X_train, X_test, y_train, y_test = train_test_split(X, y, test_size=0.2, random_state=42)\n",
    "\n",
    "history = model.fit(X_train, y_train, \n",
    "                    epochs=100, \n",
    "                    batch_size=32, \n",
    "                    validation_split=0.2, \n",
    "                    verbose=1, \n",
    "                    callbacks=[early_stopping])\n",
    "# Evaluate the model on the test data\n",
    "test_loss, test_rmse = model.evaluate(X_test, y_test)\n",
    "y_pred_nn = model.predict(X_test)\n",
    "\n",
    "print(f\"Test RMSE: {test_rmse}\")"
   ]
  },
  {
   "cell_type": "markdown",
   "id": "5dad8395",
   "metadata": {
    "papermill": {
     "duration": 0.239189,
     "end_time": "2024-09-28T17:22:02.949348",
     "exception": false,
     "start_time": "2024-09-28T17:22:02.710159",
     "status": "completed"
    },
    "tags": []
   },
   "source": [
    "1179/1179 ━━━━━━━━━━━━━━━━━━━━ 2s 2ms/step - loss: 4432596480.0000 - rmse: 41750.2148 Test RMSE: 42117.45703125 - 72395.08036 King\n",
    "\n",
    "2ms/step - loss: 4445777920.0000 - rmse: 40666.0234 Test RMSE: 40972.703125 with extra 16 neuron layer .2 dropuout in. last layer  - best score 72494.71653 \n",
    "\n",
    "1179/1179 ━━━━━━━━━━━━━━━━━━━━ 2s 2ms/step - loss: 4412199936.0000 - rmse: 41141.9102\n",
    "Test RMSE: 41484.37109375 - best score 72480.06759\n",
    "\n",
    "1179/1179 ━━━━━━━━━━━━━━━━━━━━ 2s 2ms/step - loss: 4421828096.0000 - rmse: 41316.0977\n",
    "Test RMSE: 41651.546875 - Best 72434.98778\n",
    "\n",
    "\n"
   ]
  },
  {
   "cell_type": "markdown",
   "id": "35b8f327",
   "metadata": {
    "papermill": {
     "duration": 0.200776,
     "end_time": "2024-09-28T17:22:03.348659",
     "exception": false,
     "start_time": "2024-09-28T17:22:03.147883",
     "status": "completed"
    },
    "tags": []
   },
   "source": [
    "# Gradient Boosting"
   ]
  },
  {
   "cell_type": "code",
   "execution_count": 6,
   "id": "10950951",
   "metadata": {
    "execution": {
     "iopub.execute_input": "2024-09-28T17:22:03.750024Z",
     "iopub.status.busy": "2024-09-28T17:22:03.749616Z",
     "iopub.status.idle": "2024-09-28T17:22:07.144703Z",
     "shell.execute_reply": "2024-09-28T17:22:07.143896Z"
    },
    "papermill": {
     "duration": 3.599066,
     "end_time": "2024-09-28T17:22:07.147052",
     "exception": false,
     "start_time": "2024-09-28T17:22:03.547986",
     "status": "completed"
    },
    "tags": []
   },
   "outputs": [],
   "source": [
    "import lightgbm as lgb\n",
    "from sklearn.metrics import mean_squared_error\n",
    "from sklearn.model_selection import GridSearchCV"
   ]
  },
  {
   "cell_type": "code",
   "execution_count": 7,
   "id": "d3c816c3",
   "metadata": {
    "execution": {
     "iopub.execute_input": "2024-09-28T17:22:07.558588Z",
     "iopub.status.busy": "2024-09-28T17:22:07.557251Z",
     "iopub.status.idle": "2024-09-28T17:22:07.565786Z",
     "shell.execute_reply": "2024-09-28T17:22:07.564923Z"
    },
    "papermill": {
     "duration": 0.220116,
     "end_time": "2024-09-28T17:22:07.567903",
     "exception": false,
     "start_time": "2024-09-28T17:22:07.347787",
     "status": "completed"
    },
    "tags": []
   },
   "outputs": [
    {
     "data": {
      "text/plain": [
       "\"# Create a LightGBM dataset\\ntrain_data = lgb.Dataset(X_train, label=y_train)\\ntest_data = lgb.Dataset(X_test, label=y_test, reference=train_data)\\n\\n# Define the fixed parameters\\nfixed_params = {\\n    'objective': 'regression',\\n    'metric': 'rmse',\\n    'boosting_type': 'gbdt',\\n    'force_row_wise': True\\n}\\n\\n# Initialize the model with fixed parameters\\nlgb_model = lgb.LGBMRegressor(**fixed_params)\\n\\n# Define the parameter grid for hyperparameter tuning\\nparam_grid = {\\n    'num_leaves': [31, 50, 70],\\n    'learning_rate': [0.01, 0.05, 0.1],\\n    'n_estimators': [50, 100, 200],\\n    'feature_fraction': [0.8, 0.9, 1.0]\\n}\\n\\n# Initialize GridSearchCV\\ngrid_search = GridSearchCV(estimator=lgb_model, param_grid=param_grid,\\n                           cv=5, scoring='neg_mean_squared_error', \\n                           n_jobs=-1, verbose=1)\""
      ]
     },
     "execution_count": 7,
     "metadata": {},
     "output_type": "execute_result"
    }
   ],
   "source": [
    "\n",
    "'''# Create a LightGBM dataset\n",
    "train_data = lgb.Dataset(X_train, label=y_train)\n",
    "test_data = lgb.Dataset(X_test, label=y_test, reference=train_data)\n",
    "\n",
    "# Define the fixed parameters\n",
    "fixed_params = {\n",
    "    'objective': 'regression',\n",
    "    'metric': 'rmse',\n",
    "    'boosting_type': 'gbdt',\n",
    "    'force_row_wise': True\n",
    "}\n",
    "\n",
    "# Initialize the model with fixed parameters\n",
    "lgb_model = lgb.LGBMRegressor(**fixed_params)\n",
    "\n",
    "# Define the parameter grid for hyperparameter tuning\n",
    "param_grid = {\n",
    "    'num_leaves': [31, 50, 70],\n",
    "    'learning_rate': [0.01, 0.05, 0.1],\n",
    "    'n_estimators': [50, 100, 200],\n",
    "    'feature_fraction': [0.8, 0.9, 1.0]\n",
    "}\n",
    "\n",
    "# Initialize GridSearchCV\n",
    "grid_search = GridSearchCV(estimator=lgb_model, param_grid=param_grid,\n",
    "                           cv=5, scoring='neg_mean_squared_error', \n",
    "                           n_jobs=-1, verbose=1)'''"
   ]
  },
  {
   "cell_type": "code",
   "execution_count": 8,
   "id": "50b5943e",
   "metadata": {
    "execution": {
     "iopub.execute_input": "2024-09-28T17:22:07.973711Z",
     "iopub.status.busy": "2024-09-28T17:22:07.972881Z",
     "iopub.status.idle": "2024-09-28T17:22:07.979322Z",
     "shell.execute_reply": "2024-09-28T17:22:07.978433Z"
    },
    "papermill": {
     "duration": 0.21317,
     "end_time": "2024-09-28T17:22:07.981266",
     "exception": false,
     "start_time": "2024-09-28T17:22:07.768096",
     "status": "completed"
    },
    "tags": []
   },
   "outputs": [
    {
     "data": {
      "text/plain": [
       "'\\nfit_params = {\\n    \\'eval_set\\': [(X_test, y_test)],\\n    \\'eval_metric\\': \\'rmse\\',\\n    \\'callbacks\\': [lgb.early_stopping(stopping_rounds=10)]}\\n\\n# Fit the grid search with the fit parameters\\ngrid_search.fit(X_train, y_train, **fit_params)\\n\\n# Get the best model\\nbest_model = grid_search.best_estimator_\\n\\n# Access best_iteration_\\nbest_iteration = best_model.best_iteration_\\nprint(f\"Best iteration: {best_iteration}\")\\n\\n# Predictions using the best iteration\\ny_pred = best_model.predict(X_test, num_iteration=best_iteration)\\n'"
      ]
     },
     "execution_count": 8,
     "metadata": {},
     "output_type": "execute_result"
    }
   ],
   "source": [
    "'''\n",
    "fit_params = {\n",
    "    'eval_set': [(X_test, y_test)],\n",
    "    'eval_metric': 'rmse',\n",
    "    'callbacks': [lgb.early_stopping(stopping_rounds=10)]}\n",
    "\n",
    "# Fit the grid search with the fit parameters\n",
    "grid_search.fit(X_train, y_train, **fit_params)\n",
    "\n",
    "# Get the best model\n",
    "best_model = grid_search.best_estimator_\n",
    "\n",
    "# Access best_iteration_\n",
    "best_iteration = best_model.best_iteration_\n",
    "print(f\"Best iteration: {best_iteration}\")\n",
    "\n",
    "# Predictions using the best iteration\n",
    "y_pred = best_model.predict(X_test, num_iteration=best_iteration)\n",
    "'''"
   ]
  },
  {
   "cell_type": "code",
   "execution_count": 9,
   "id": "e43b83f6",
   "metadata": {
    "execution": {
     "iopub.execute_input": "2024-09-28T17:22:08.383520Z",
     "iopub.status.busy": "2024-09-28T17:22:08.383154Z",
     "iopub.status.idle": "2024-09-28T17:22:08.389076Z",
     "shell.execute_reply": "2024-09-28T17:22:08.388179Z"
    },
    "papermill": {
     "duration": 0.210638,
     "end_time": "2024-09-28T17:22:08.391214",
     "exception": false,
     "start_time": "2024-09-28T17:22:08.180576",
     "status": "completed"
    },
    "tags": []
   },
   "outputs": [
    {
     "data": {
      "text/plain": [
       "'best_model'"
      ]
     },
     "execution_count": 9,
     "metadata": {},
     "output_type": "execute_result"
    }
   ],
   "source": [
    "'''best_model'''"
   ]
  },
  {
   "cell_type": "code",
   "execution_count": 10,
   "id": "75a2945a",
   "metadata": {
    "execution": {
     "iopub.execute_input": "2024-09-28T17:22:08.789450Z",
     "iopub.status.busy": "2024-09-28T17:22:08.789062Z",
     "iopub.status.idle": "2024-09-28T17:22:08.794997Z",
     "shell.execute_reply": "2024-09-28T17:22:08.794106Z"
    },
    "papermill": {
     "duration": 0.208851,
     "end_time": "2024-09-28T17:22:08.797509",
     "exception": false,
     "start_time": "2024-09-28T17:22:08.588658",
     "status": "completed"
    },
    "tags": []
   },
   "outputs": [
    {
     "data": {
      "text/plain": [
       "'#### Make predictions with LightGBM\\ny_pred_lgb = best_model.predict(X_test, num_iteration=best_iteration)\\n\\n# Evaluate the model\\nrmse_lgb = mean_squared_error(y_test, y_pred_lgb, squared=False)\\nrmse_nn = mean_squared_error(y_test, y_pred_nn, squared=False)\\nprint(f\"LightGBM RMSE: {rmse_lgb}\")\\nprint(f\"LightGBM NN: {rmse_nn}\")'"
      ]
     },
     "execution_count": 10,
     "metadata": {},
     "output_type": "execute_result"
    }
   ],
   "source": [
    "'''#### Make predictions with LightGBM\n",
    "y_pred_lgb = best_model.predict(X_test, num_iteration=best_iteration)\n",
    "\n",
    "# Evaluate the model\n",
    "rmse_lgb = mean_squared_error(y_test, y_pred_lgb, squared=False)\n",
    "rmse_nn = mean_squared_error(y_test, y_pred_nn, squared=False)\n",
    "print(f\"LightGBM RMSE: {rmse_lgb}\")\n",
    "print(f\"LightGBM NN: {rmse_nn}\")'''"
   ]
  },
  {
   "cell_type": "markdown",
   "id": "1357c091",
   "metadata": {
    "papermill": {
     "duration": 0.200316,
     "end_time": "2024-09-28T17:22:09.199746",
     "exception": false,
     "start_time": "2024-09-28T17:22:08.999430",
     "status": "completed"
    },
    "tags": []
   },
   "source": [
    "## Ensemble"
   ]
  },
  {
   "cell_type": "code",
   "execution_count": 11,
   "id": "0b224386",
   "metadata": {
    "execution": {
     "iopub.execute_input": "2024-09-28T17:22:09.647062Z",
     "iopub.status.busy": "2024-09-28T17:22:09.646403Z",
     "iopub.status.idle": "2024-09-28T17:22:09.653051Z",
     "shell.execute_reply": "2024-09-28T17:22:09.652167Z"
    },
    "papermill": {
     "duration": 0.207933,
     "end_time": "2024-09-28T17:22:09.654921",
     "exception": false,
     "start_time": "2024-09-28T17:22:09.446988",
     "status": "completed"
    },
    "tags": []
   },
   "outputs": [
    {
     "data": {
      "text/plain": [
       "'# Ensemble by averaging predictions\\ny_pred_ensemble = (y_pred_nn.flatten() + y_pred_lgb.flatten()) / 2\\n\\n# Evaluate the ensemble\\nrmse_ensemble = mean_squared_error(y_test, y_pred_ensemble, squared=False)\\nprint(f\"Ensemble RMSE: {rmse_ensemble}\")\\n\\nprint(f\"LightGBM RMSE: {rmse_lgb}\")\\nprint(f\"LightGBM NN: {rmse_nn}\")'"
      ]
     },
     "execution_count": 11,
     "metadata": {},
     "output_type": "execute_result"
    }
   ],
   "source": [
    "'''# Ensemble by averaging predictions\n",
    "y_pred_ensemble = (y_pred_nn.flatten() + y_pred_lgb.flatten()) / 2\n",
    "\n",
    "# Evaluate the ensemble\n",
    "rmse_ensemble = mean_squared_error(y_test, y_pred_ensemble, squared=False)\n",
    "print(f\"Ensemble RMSE: {rmse_ensemble}\")\n",
    "\n",
    "print(f\"LightGBM RMSE: {rmse_lgb}\")\n",
    "print(f\"LightGBM NN: {rmse_nn}\")'''\n"
   ]
  },
  {
   "cell_type": "markdown",
   "id": "6545c06d",
   "metadata": {
    "papermill": {
     "duration": 0.200312,
     "end_time": "2024-09-28T17:22:10.056503",
     "exception": false,
     "start_time": "2024-09-28T17:22:09.856191",
     "status": "completed"
    },
    "tags": []
   },
   "source": [
    "# Model Training"
   ]
  },
  {
   "cell_type": "markdown",
   "id": "f2c8b2d0",
   "metadata": {
    "papermill": {
     "duration": 0.200961,
     "end_time": "2024-09-28T17:22:10.459705",
     "exception": false,
     "start_time": "2024-09-28T17:22:10.258744",
     "status": "completed"
    },
    "tags": []
   },
   "source": [
    "## Neural Network"
   ]
  },
  {
   "cell_type": "code",
   "execution_count": 12,
   "id": "2501ba95",
   "metadata": {
    "execution": {
     "iopub.execute_input": "2024-09-28T17:22:10.868634Z",
     "iopub.status.busy": "2024-09-28T17:22:10.867947Z",
     "iopub.status.idle": "2024-09-28T17:25:10.160334Z",
     "shell.execute_reply": "2024-09-28T17:25:10.159451Z"
    },
    "papermill": {
     "duration": 179.502753,
     "end_time": "2024-09-28T17:25:10.162702",
     "exception": false,
     "start_time": "2024-09-28T17:22:10.659949",
     "status": "completed"
    },
    "tags": []
   },
   "outputs": [
    {
     "name": "stdout",
     "output_type": "stream",
     "text": [
      "Epoch 1/100\n",
      "\u001b[1m4714/4714\u001b[0m \u001b[32m━━━━━━━━━━━━━━━━━━━━\u001b[0m\u001b[37m\u001b[0m \u001b[1m15s\u001b[0m 3ms/step - loss: 5108706816.0000 - rmse: 41812.9805 - val_loss: 5473142784.0000 - val_rmse: 42566.4922\n",
      "Epoch 2/100\n",
      "\u001b[1m4714/4714\u001b[0m \u001b[32m━━━━━━━━━━━━━━━━━━━━\u001b[0m\u001b[37m\u001b[0m \u001b[1m10s\u001b[0m 2ms/step - loss: 4993657856.0000 - rmse: 42025.0078 - val_loss: 5472196096.0000 - val_rmse: 42840.1680\n",
      "Epoch 3/100\n",
      "\u001b[1m4714/4714\u001b[0m \u001b[32m━━━━━━━━━━━━━━━━━━━━\u001b[0m\u001b[37m\u001b[0m \u001b[1m10s\u001b[0m 2ms/step - loss: 5258655744.0000 - rmse: 42319.1719 - val_loss: 5492331008.0000 - val_rmse: 43119.5781\n",
      "Epoch 4/100\n",
      "\u001b[1m4714/4714\u001b[0m \u001b[32m━━━━━━━━━━━━━━━━━━━━\u001b[0m\u001b[37m\u001b[0m \u001b[1m10s\u001b[0m 2ms/step - loss: 5021905408.0000 - rmse: 42324.3672 - val_loss: 5483990528.0000 - val_rmse: 43211.2852\n",
      "Epoch 5/100\n",
      "\u001b[1m4714/4714\u001b[0m \u001b[32m━━━━━━━━━━━━━━━━━━━━\u001b[0m\u001b[37m\u001b[0m \u001b[1m10s\u001b[0m 2ms/step - loss: 4557867520.0000 - rmse: 41067.5977 - val_loss: 5510266880.0000 - val_rmse: 44273.7070\n",
      "Epoch 6/100\n",
      "\u001b[1m4714/4714\u001b[0m \u001b[32m━━━━━━━━━━━━━━━━━━━━\u001b[0m\u001b[37m\u001b[0m \u001b[1m10s\u001b[0m 2ms/step - loss: 4798104064.0000 - rmse: 41424.1445 - val_loss: 5523532288.0000 - val_rmse: 43551.8320\n",
      "Epoch 7/100\n",
      "\u001b[1m4714/4714\u001b[0m \u001b[32m━━━━━━━━━━━━━━━━━━━━\u001b[0m\u001b[37m\u001b[0m \u001b[1m9s\u001b[0m 2ms/step - loss: 5727046144.0000 - rmse: 43323.8750 - val_loss: 5563770880.0000 - val_rmse: 43620.8711\n",
      "Epoch 8/100\n",
      "\u001b[1m4714/4714\u001b[0m \u001b[32m━━━━━━━━━━━━━━━━━━━━\u001b[0m\u001b[37m\u001b[0m \u001b[1m10s\u001b[0m 2ms/step - loss: 4486631424.0000 - rmse: 40669.8789 - val_loss: 5556941824.0000 - val_rmse: 44488.2734\n",
      "Epoch 9/100\n",
      "\u001b[1m4714/4714\u001b[0m \u001b[32m━━━━━━━━━━━━━━━━━━━━\u001b[0m\u001b[37m\u001b[0m \u001b[1m10s\u001b[0m 2ms/step - loss: 4795357696.0000 - rmse: 41604.5742 - val_loss: 5611397632.0000 - val_rmse: 45329.6133\n",
      "Epoch 10/100\n",
      "\u001b[1m4714/4714\u001b[0m \u001b[32m━━━━━━━━━━━━━━━━━━━━\u001b[0m\u001b[37m\u001b[0m \u001b[1m10s\u001b[0m 2ms/step - loss: 5437536256.0000 - rmse: 43163.9062 - val_loss: 5614820864.0000 - val_rmse: 44262.3203\n",
      "Epoch 11/100\n",
      "\u001b[1m4714/4714\u001b[0m \u001b[32m━━━━━━━━━━━━━━━━━━━━\u001b[0m\u001b[37m\u001b[0m \u001b[1m10s\u001b[0m 2ms/step - loss: 4990703104.0000 - rmse: 41402.7734 - val_loss: 5651338752.0000 - val_rmse: 44665.4648\n",
      "Epoch 12/100\n",
      "\u001b[1m4714/4714\u001b[0m \u001b[32m━━━━━━━━━━━━━━━━━━━━\u001b[0m\u001b[37m\u001b[0m \u001b[1m10s\u001b[0m 2ms/step - loss: 4247531008.0000 - rmse: 39699.8828 - val_loss: 5807224832.0000 - val_rmse: 46682.8711\n",
      "Epoch 13/100\n",
      "\u001b[1m4714/4714\u001b[0m \u001b[32m━━━━━━━━━━━━━━━━━━━━\u001b[0m\u001b[37m\u001b[0m \u001b[1m10s\u001b[0m 2ms/step - loss: 4471025664.0000 - rmse: 40337.5820 - val_loss: 5878331904.0000 - val_rmse: 47499.5156\n",
      "Epoch 14/100\n",
      "\u001b[1m4714/4714\u001b[0m \u001b[32m━━━━━━━━━━━━━━━━━━━━\u001b[0m\u001b[37m\u001b[0m \u001b[1m10s\u001b[0m 2ms/step - loss: 5246578688.0000 - rmse: 41802.2930 - val_loss: 5766996992.0000 - val_rmse: 46222.4023\n",
      "Epoch 15/100\n",
      "\u001b[1m4714/4714\u001b[0m \u001b[32m━━━━━━━━━━━━━━━━━━━━\u001b[0m\u001b[37m\u001b[0m \u001b[1m10s\u001b[0m 2ms/step - loss: 4046569216.0000 - rmse: 39362.8789 - val_loss: 5829267968.0000 - val_rmse: 46158.7539\n",
      "Epoch 16/100\n",
      "\u001b[1m4714/4714\u001b[0m \u001b[32m━━━━━━━━━━━━━━━━━━━━\u001b[0m\u001b[37m\u001b[0m \u001b[1m10s\u001b[0m 2ms/step - loss: 4083130880.0000 - rmse: 39552.8945 - val_loss: 6049458688.0000 - val_rmse: 47759.6367\n",
      "Epoch 17/100\n",
      "\u001b[1m4714/4714\u001b[0m \u001b[32m━━━━━━━━━━━━━━━━━━━━\u001b[0m\u001b[37m\u001b[0m \u001b[1m10s\u001b[0m 2ms/step - loss: 5085634048.0000 - rmse: 41792.5859 - val_loss: 6045720576.0000 - val_rmse: 48006.8555\n"
     ]
    }
   ],
   "source": [
    "# Train the model with early stopping\n",
    "history = model.fit(X, y, \n",
    "                    epochs=100, \n",
    "                    batch_size=32, \n",
    "                    validation_split=0.2, \n",
    "                    verbose=1, \n",
    "                    callbacks=[early_stopping])"
   ]
  },
  {
   "cell_type": "markdown",
   "id": "e052b1d1",
   "metadata": {
    "papermill": {
     "duration": 0.429417,
     "end_time": "2024-09-28T17:25:11.022394",
     "exception": false,
     "start_time": "2024-09-28T17:25:10.592977",
     "status": "completed"
    },
    "tags": []
   },
   "source": [
    "## GBM"
   ]
  },
  {
   "cell_type": "code",
   "execution_count": 13,
   "id": "e33efebe",
   "metadata": {
    "execution": {
     "iopub.execute_input": "2024-09-28T17:25:11.917531Z",
     "iopub.status.busy": "2024-09-28T17:25:11.917142Z",
     "iopub.status.idle": "2024-09-28T17:25:18.217012Z",
     "shell.execute_reply": "2024-09-28T17:25:18.216070Z"
    },
    "papermill": {
     "duration": 6.771614,
     "end_time": "2024-09-28T17:25:18.219739",
     "exception": false,
     "start_time": "2024-09-28T17:25:11.448125",
     "status": "completed"
    },
    "tags": []
   },
   "outputs": [
    {
     "name": "stdout",
     "output_type": "stream",
     "text": [
      "[LightGBM] [Warning] Found whitespace in feature_names, replace with underlines\n",
      "[LightGBM] [Info] Total Bins 4404\n",
      "[LightGBM] [Info] Number of data points in the train set: 188533, number of used features: 1916\n",
      "[LightGBM] [Info] Start training from score 43878.016178\n"
     ]
    }
   ],
   "source": [
    "# Combine X_train and X_test, y_train and y_test\n",
    "X_full = pd.concat([X_train, X_test], axis=0)\n",
    "y_full = pd.concat([y_train, y_test], axis=0)\n",
    "\n",
    "# Create a LightGBM dataset with all data\n",
    "full_data = lgb.Dataset(X_full, label=y_full)\n",
    "\n",
    "# Set parameters for the model (tune based on your data)\n",
    "params = {\n",
    "    'objective': 'regression',\n",
    "    'metric': 'rmse',\n",
    "    'boosting_type': 'gbdt',\n",
    "    'force_row_wise': True,\n",
    "    'num_leaves': 31,\n",
    "    'learning_rate': 0.05,\n",
    "    'feature_fraction': 0.9\n",
    "}\n",
    "\n",
    "# Train the model on the entire dataset\n",
    "lgb_model_full = lgb.train(params, full_data, num_boost_round=100)"
   ]
  },
  {
   "cell_type": "markdown",
   "id": "bc702dff",
   "metadata": {
    "papermill": {
     "duration": 0.42891,
     "end_time": "2024-09-28T17:25:19.113874",
     "exception": false,
     "start_time": "2024-09-28T17:25:18.684964",
     "status": "completed"
    },
    "tags": []
   },
   "source": [
    "# Test Data"
   ]
  },
  {
   "cell_type": "code",
   "execution_count": 14,
   "id": "553745ef",
   "metadata": {
    "execution": {
     "iopub.execute_input": "2024-09-28T17:25:20.015008Z",
     "iopub.status.busy": "2024-09-28T17:25:20.014235Z",
     "iopub.status.idle": "2024-09-28T17:25:20.516523Z",
     "shell.execute_reply": "2024-09-28T17:25:20.515711Z"
    },
    "papermill": {
     "duration": 0.977216,
     "end_time": "2024-09-28T17:25:20.518920",
     "exception": false,
     "start_time": "2024-09-28T17:25:19.541704",
     "status": "completed"
    },
    "tags": []
   },
   "outputs": [],
   "source": [
    "df = pd.read_csv('/kaggle/input/playground-series-s4e9/test.csv')"
   ]
  },
  {
   "cell_type": "code",
   "execution_count": 15,
   "id": "92f6cd91",
   "metadata": {
    "execution": {
     "iopub.execute_input": "2024-09-28T17:25:21.373454Z",
     "iopub.status.busy": "2024-09-28T17:25:21.372566Z",
     "iopub.status.idle": "2024-09-28T17:25:21.392949Z",
     "shell.execute_reply": "2024-09-28T17:25:21.391995Z"
    },
    "papermill": {
     "duration": 0.449306,
     "end_time": "2024-09-28T17:25:21.395014",
     "exception": false,
     "start_time": "2024-09-28T17:25:20.945708",
     "status": "completed"
    },
    "tags": []
   },
   "outputs": [
    {
     "data": {
      "text/html": [
       "<div>\n",
       "<style scoped>\n",
       "    .dataframe tbody tr th:only-of-type {\n",
       "        vertical-align: middle;\n",
       "    }\n",
       "\n",
       "    .dataframe tbody tr th {\n",
       "        vertical-align: top;\n",
       "    }\n",
       "\n",
       "    .dataframe thead th {\n",
       "        text-align: right;\n",
       "    }\n",
       "</style>\n",
       "<table border=\"1\" class=\"dataframe\">\n",
       "  <thead>\n",
       "    <tr style=\"text-align: right;\">\n",
       "      <th></th>\n",
       "      <th>id</th>\n",
       "      <th>brand</th>\n",
       "      <th>model</th>\n",
       "      <th>model_year</th>\n",
       "      <th>milage</th>\n",
       "      <th>fuel_type</th>\n",
       "      <th>engine</th>\n",
       "      <th>transmission</th>\n",
       "      <th>ext_col</th>\n",
       "      <th>int_col</th>\n",
       "      <th>accident</th>\n",
       "      <th>clean_title</th>\n",
       "    </tr>\n",
       "  </thead>\n",
       "  <tbody>\n",
       "    <tr>\n",
       "      <th>0</th>\n",
       "      <td>188533</td>\n",
       "      <td>Land</td>\n",
       "      <td>Rover LR2 Base</td>\n",
       "      <td>2015</td>\n",
       "      <td>98000</td>\n",
       "      <td>Gasoline</td>\n",
       "      <td>240.0HP 2.0L 4 Cylinder Engine Gasoline Fuel</td>\n",
       "      <td>6-Speed A/T</td>\n",
       "      <td>White</td>\n",
       "      <td>Beige</td>\n",
       "      <td>None reported</td>\n",
       "      <td>Yes</td>\n",
       "    </tr>\n",
       "    <tr>\n",
       "      <th>1</th>\n",
       "      <td>188534</td>\n",
       "      <td>Land</td>\n",
       "      <td>Rover Defender SE</td>\n",
       "      <td>2020</td>\n",
       "      <td>9142</td>\n",
       "      <td>Hybrid</td>\n",
       "      <td>395.0HP 3.0L Straight 6 Cylinder Engine Gasoli...</td>\n",
       "      <td>8-Speed A/T</td>\n",
       "      <td>Silver</td>\n",
       "      <td>Black</td>\n",
       "      <td>None reported</td>\n",
       "      <td>Yes</td>\n",
       "    </tr>\n",
       "    <tr>\n",
       "      <th>2</th>\n",
       "      <td>188535</td>\n",
       "      <td>Ford</td>\n",
       "      <td>Expedition Limited</td>\n",
       "      <td>2022</td>\n",
       "      <td>28121</td>\n",
       "      <td>Gasoline</td>\n",
       "      <td>3.5L V6 24V PDI DOHC Twin Turbo</td>\n",
       "      <td>10-Speed Automatic</td>\n",
       "      <td>White</td>\n",
       "      <td>Ebony</td>\n",
       "      <td>None reported</td>\n",
       "      <td>NaN</td>\n",
       "    </tr>\n",
       "    <tr>\n",
       "      <th>3</th>\n",
       "      <td>188536</td>\n",
       "      <td>Audi</td>\n",
       "      <td>A6 2.0T Sport</td>\n",
       "      <td>2016</td>\n",
       "      <td>61258</td>\n",
       "      <td>Gasoline</td>\n",
       "      <td>2.0 Liter TFSI</td>\n",
       "      <td>Automatic</td>\n",
       "      <td>Silician Yellow</td>\n",
       "      <td>Black</td>\n",
       "      <td>None reported</td>\n",
       "      <td>NaN</td>\n",
       "    </tr>\n",
       "    <tr>\n",
       "      <th>4</th>\n",
       "      <td>188537</td>\n",
       "      <td>Audi</td>\n",
       "      <td>A6 2.0T Premium Plus</td>\n",
       "      <td>2018</td>\n",
       "      <td>59000</td>\n",
       "      <td>Gasoline</td>\n",
       "      <td>252.0HP 2.0L 4 Cylinder Engine Gasoline Fuel</td>\n",
       "      <td>A/T</td>\n",
       "      <td>Gray</td>\n",
       "      <td>Black</td>\n",
       "      <td>None reported</td>\n",
       "      <td>Yes</td>\n",
       "    </tr>\n",
       "    <tr>\n",
       "      <th>...</th>\n",
       "      <td>...</td>\n",
       "      <td>...</td>\n",
       "      <td>...</td>\n",
       "      <td>...</td>\n",
       "      <td>...</td>\n",
       "      <td>...</td>\n",
       "      <td>...</td>\n",
       "      <td>...</td>\n",
       "      <td>...</td>\n",
       "      <td>...</td>\n",
       "      <td>...</td>\n",
       "      <td>...</td>\n",
       "    </tr>\n",
       "    <tr>\n",
       "      <th>125685</th>\n",
       "      <td>314218</td>\n",
       "      <td>Mercedes-Benz</td>\n",
       "      <td>GL-Class GL 450 4MATIC</td>\n",
       "      <td>2014</td>\n",
       "      <td>83315</td>\n",
       "      <td>Gasoline</td>\n",
       "      <td>362.0HP 3.0L V6 Cylinder Engine Gasoline Fuel</td>\n",
       "      <td>7-Speed A/T</td>\n",
       "      <td>Black</td>\n",
       "      <td>Black</td>\n",
       "      <td>None reported</td>\n",
       "      <td>Yes</td>\n",
       "    </tr>\n",
       "    <tr>\n",
       "      <th>125686</th>\n",
       "      <td>314219</td>\n",
       "      <td>Audi</td>\n",
       "      <td>Q7 55 Prestige</td>\n",
       "      <td>2019</td>\n",
       "      <td>29336</td>\n",
       "      <td>Gasoline</td>\n",
       "      <td>3.0 Liter Turbo</td>\n",
       "      <td>Automatic</td>\n",
       "      <td>White</td>\n",
       "      <td>Black</td>\n",
       "      <td>None reported</td>\n",
       "      <td>NaN</td>\n",
       "    </tr>\n",
       "    <tr>\n",
       "      <th>125687</th>\n",
       "      <td>314220</td>\n",
       "      <td>Audi</td>\n",
       "      <td>A6 3.0T Premium Plus</td>\n",
       "      <td>2012</td>\n",
       "      <td>77634</td>\n",
       "      <td>Gasoline</td>\n",
       "      <td>333.0HP 3.0L V6 Cylinder Engine Gasoline Fuel</td>\n",
       "      <td>A/T</td>\n",
       "      <td>Black</td>\n",
       "      <td>Black</td>\n",
       "      <td>None reported</td>\n",
       "      <td>Yes</td>\n",
       "    </tr>\n",
       "    <tr>\n",
       "      <th>125688</th>\n",
       "      <td>314221</td>\n",
       "      <td>Audi</td>\n",
       "      <td>Q7 3.0T Premium</td>\n",
       "      <td>2012</td>\n",
       "      <td>112000</td>\n",
       "      <td>Gasoline</td>\n",
       "      <td>333.0HP 3.0L V6 Cylinder Engine Gasoline Fuel</td>\n",
       "      <td>A/T</td>\n",
       "      <td>Black</td>\n",
       "      <td>Black</td>\n",
       "      <td>None reported</td>\n",
       "      <td>Yes</td>\n",
       "    </tr>\n",
       "    <tr>\n",
       "      <th>125689</th>\n",
       "      <td>314222</td>\n",
       "      <td>Chevrolet</td>\n",
       "      <td>Tahoe LT</td>\n",
       "      <td>2018</td>\n",
       "      <td>66840</td>\n",
       "      <td>Gasoline</td>\n",
       "      <td>355.0HP 5.3L 8 Cylinder Engine Gasoline Fuel</td>\n",
       "      <td>A/T</td>\n",
       "      <td>Silver</td>\n",
       "      <td>Black</td>\n",
       "      <td>None reported</td>\n",
       "      <td>Yes</td>\n",
       "    </tr>\n",
       "  </tbody>\n",
       "</table>\n",
       "<p>125690 rows × 12 columns</p>\n",
       "</div>"
      ],
      "text/plain": [
       "            id          brand                   model  model_year  milage  \\\n",
       "0       188533           Land          Rover LR2 Base        2015   98000   \n",
       "1       188534           Land       Rover Defender SE        2020    9142   \n",
       "2       188535           Ford      Expedition Limited        2022   28121   \n",
       "3       188536           Audi           A6 2.0T Sport        2016   61258   \n",
       "4       188537           Audi    A6 2.0T Premium Plus        2018   59000   \n",
       "...        ...            ...                     ...         ...     ...   \n",
       "125685  314218  Mercedes-Benz  GL-Class GL 450 4MATIC        2014   83315   \n",
       "125686  314219           Audi          Q7 55 Prestige        2019   29336   \n",
       "125687  314220           Audi    A6 3.0T Premium Plus        2012   77634   \n",
       "125688  314221           Audi         Q7 3.0T Premium        2012  112000   \n",
       "125689  314222      Chevrolet                Tahoe LT        2018   66840   \n",
       "\n",
       "       fuel_type                                             engine  \\\n",
       "0       Gasoline       240.0HP 2.0L 4 Cylinder Engine Gasoline Fuel   \n",
       "1         Hybrid  395.0HP 3.0L Straight 6 Cylinder Engine Gasoli...   \n",
       "2       Gasoline                    3.5L V6 24V PDI DOHC Twin Turbo   \n",
       "3       Gasoline                                     2.0 Liter TFSI   \n",
       "4       Gasoline       252.0HP 2.0L 4 Cylinder Engine Gasoline Fuel   \n",
       "...          ...                                                ...   \n",
       "125685  Gasoline      362.0HP 3.0L V6 Cylinder Engine Gasoline Fuel   \n",
       "125686  Gasoline                                    3.0 Liter Turbo   \n",
       "125687  Gasoline      333.0HP 3.0L V6 Cylinder Engine Gasoline Fuel   \n",
       "125688  Gasoline      333.0HP 3.0L V6 Cylinder Engine Gasoline Fuel   \n",
       "125689  Gasoline       355.0HP 5.3L 8 Cylinder Engine Gasoline Fuel   \n",
       "\n",
       "              transmission          ext_col int_col       accident clean_title  \n",
       "0              6-Speed A/T            White   Beige  None reported         Yes  \n",
       "1              8-Speed A/T           Silver   Black  None reported         Yes  \n",
       "2       10-Speed Automatic            White   Ebony  None reported         NaN  \n",
       "3                Automatic  Silician Yellow   Black  None reported         NaN  \n",
       "4                      A/T             Gray   Black  None reported         Yes  \n",
       "...                    ...              ...     ...            ...         ...  \n",
       "125685         7-Speed A/T            Black   Black  None reported         Yes  \n",
       "125686           Automatic            White   Black  None reported         NaN  \n",
       "125687                 A/T            Black   Black  None reported         Yes  \n",
       "125688                 A/T            Black   Black  None reported         Yes  \n",
       "125689                 A/T           Silver   Black  None reported         Yes  \n",
       "\n",
       "[125690 rows x 12 columns]"
      ]
     },
     "execution_count": 15,
     "metadata": {},
     "output_type": "execute_result"
    }
   ],
   "source": [
    "df"
   ]
  },
  {
   "cell_type": "code",
   "execution_count": 16,
   "id": "6c7ba15a",
   "metadata": {
    "execution": {
     "iopub.execute_input": "2024-09-28T17:25:22.283943Z",
     "iopub.status.busy": "2024-09-28T17:25:22.283571Z",
     "iopub.status.idle": "2024-09-28T17:25:27.240459Z",
     "shell.execute_reply": "2024-09-28T17:25:27.239605Z"
    },
    "papermill": {
     "duration": 5.414563,
     "end_time": "2024-09-28T17:25:27.242811",
     "exception": false,
     "start_time": "2024-09-28T17:25:21.828248",
     "status": "completed"
    },
    "tags": []
   },
   "outputs": [],
   "source": [
    "# Extract Horsepower (HP)\n",
    "df['HP'] = df['engine'].str.extract(r'(\\d+\\.?\\d*)HP', expand=False)\n",
    "df['HP'] = pd.to_numeric(df['HP'], errors='coerce')\n",
    "\n",
    "# Extract Engine Size in Liters (L)\n",
    "df['EngineSize_L'] = df['engine'].str.extract(r'(\\d+\\.?\\d*)L', expand=False)\n",
    "df['EngineSize_L'] = pd.to_numeric(df['EngineSize_L'], errors='coerce')\n",
    "\n",
    "# Extract Cylinder Number\n",
    "df['CylinderNumber'] = df['engine'].str.extract(r'(\\d+)\\s*Cylinder', expand=False)\n",
    "df['CylinderNumber'] = pd.to_numeric(df['CylinderNumber'], errors='coerce').astype('str')\n",
    "\n",
    "# Extract Fuel Type\n",
    "df['FuelType'] = df['engine'].str.extract(r'Engine\\s+(.+?)\\s+Fuel', expand=False)\n",
    "\n",
    "df['EngineSize_L'] = df['EngineSize_L'].replace(np.nan, 0)\n",
    "df.drop(['engine','FuelType'], axis = 1, inplace=True)\n",
    "\n",
    "df['CylinderNumber']=df['CylinderNumber'].replace('nan',\"Not Reported\")\n",
    "\n",
    "df['accident']=df['accident'].replace('nan', 'yes')\n",
    "df['accident']=df['accident'].replace('None reported', 'no')\n",
    "df['accident']=df['accident'].replace('At least 1 accident or damage reported', 'yes')\n",
    "\n",
    "df['clean_title']=df['clean_title'].replace('nan', 'no')\n",
    "\n",
    "df['fuel_type']=df['fuel_type'].replace(np.nan,'–')\n",
    "df['fuel_type']=df['fuel_type'].replace('not supported','–')\n",
    "df['fuel_type']=df['fuel_type'].replace('E85 Flex Fuel','Gasoline')\n",
    "df['fuel_type']=df['fuel_type'].replace('Plug-In Hybrid','Hybrid')\n",
    "df['clean_title']=df['clean_title'].replace(np.nan, 'no')\n",
    "df['accident']=df['accident'].replace(np.nan, 'no')\n",
    "df['HP']=df['HP'].replace(np.nan, 0)\n",
    "\n",
    "# Function to classify as 'Manual' or 'Automatic'\n",
    "def classify_transmission(trans):\n",
    "    trans_lower = trans.lower()\n",
    "    \n",
    "    if 'manual' in trans_lower or 'mt' in trans_lower or 'm/t' in trans_lower:\n",
    "        return 'Manual'\n",
    "    else:\n",
    "        return 'Automatic'\n",
    "\n",
    "# Apply classification function\n",
    "df['transmission_type'] = df['transmission'].apply(classify_transmission)\n",
    "\n",
    "df.drop('transmission', axis=1 ,inplace = True)\n",
    "\n",
    "# Select features and target variable\n",
    "X = df.drop(['id'], axis=1)\n",
    "\n",
    "\n",
    "# Extract column names\n",
    "# Get numerical column names\n",
    "num_feature_names = numerical_cols\n",
    "\n",
    "# Get categorical column names after one-hot encoding\n",
    "cat_feature_names = preprocessor.named_transformers_['cat'].get_feature_names_out(categorical_cols)\n",
    "\n",
    "# Combine both sets of feature names\n",
    "all_feature_names = list(num_feature_names) + list(cat_feature_names)\n",
    "\n",
    "# Fit the preprocessor on the training data\n",
    "X_test_transformed = preprocessor.transform(X)\n",
    "\n",
    "# Convert the transformed array back to a DataFrame with the correct column names\n",
    "X = pd.DataFrame(X_test_transformed, columns=all_feature_names, index=X.index)"
   ]
  },
  {
   "cell_type": "code",
   "execution_count": 17,
   "id": "9cbdebfa",
   "metadata": {
    "execution": {
     "iopub.execute_input": "2024-09-28T17:25:28.151076Z",
     "iopub.status.busy": "2024-09-28T17:25:28.150674Z",
     "iopub.status.idle": "2024-09-28T17:25:39.080264Z",
     "shell.execute_reply": "2024-09-28T17:25:39.079278Z"
    },
    "papermill": {
     "duration": 11.363737,
     "end_time": "2024-09-28T17:25:39.082874",
     "exception": false,
     "start_time": "2024-09-28T17:25:27.719137",
     "status": "completed"
    },
    "tags": []
   },
   "outputs": [
    {
     "name": "stdout",
     "output_type": "stream",
     "text": [
      "\u001b[1m3928/3928\u001b[0m \u001b[32m━━━━━━━━━━━━━━━━━━━━\u001b[0m\u001b[37m\u001b[0m \u001b[1m5s\u001b[0m 1ms/step\n"
     ]
    }
   ],
   "source": [
    "# Make predictions on the test data\n",
    "y_pred_nn = model.predict(X)\n",
    "y_pred_lgb = lgb_model_full.predict(X)"
   ]
  },
  {
   "cell_type": "code",
   "execution_count": 18,
   "id": "22fd57ce",
   "metadata": {
    "execution": {
     "iopub.execute_input": "2024-09-28T17:25:40.022676Z",
     "iopub.status.busy": "2024-09-28T17:25:40.021722Z",
     "iopub.status.idle": "2024-09-28T17:25:40.028721Z",
     "shell.execute_reply": "2024-09-28T17:25:40.027892Z"
    },
    "papermill": {
     "duration": 0.479374,
     "end_time": "2024-09-28T17:25:40.030720",
     "exception": false,
     "start_time": "2024-09-28T17:25:39.551346",
     "status": "completed"
    },
    "tags": []
   },
   "outputs": [],
   "source": [
    "# Ensemble by averaging predictions\n",
    "y_pred_ensemble = (0.7*y_pred_nn.flatten() + 0.3*y_pred_lgb.flatten())\n"
   ]
  },
  {
   "cell_type": "code",
   "execution_count": 19,
   "id": "aeabbb94",
   "metadata": {
    "execution": {
     "iopub.execute_input": "2024-09-28T17:25:40.950216Z",
     "iopub.status.busy": "2024-09-28T17:25:40.949342Z",
     "iopub.status.idle": "2024-09-28T17:25:40.959029Z",
     "shell.execute_reply": "2024-09-28T17:25:40.958185Z"
    },
    "papermill": {
     "duration": 0.491021,
     "end_time": "2024-09-28T17:25:40.961167",
     "exception": false,
     "start_time": "2024-09-28T17:25:40.470146",
     "status": "completed"
    },
    "tags": []
   },
   "outputs": [],
   "source": [
    "# Assuming 'id' column was preserved from the original DataFrame's test split\n",
    "test_results = pd.DataFrame({'id': df.loc[df.index, 'id'], 'predicted_price': y_pred_ensemble.flatten()})\n",
    "\n"
   ]
  },
  {
   "cell_type": "code",
   "execution_count": 20,
   "id": "df403cdb",
   "metadata": {
    "execution": {
     "iopub.execute_input": "2024-09-28T17:25:41.836820Z",
     "iopub.status.busy": "2024-09-28T17:25:41.836433Z",
     "iopub.status.idle": "2024-09-28T17:25:41.848184Z",
     "shell.execute_reply": "2024-09-28T17:25:41.847259Z"
    },
    "papermill": {
     "duration": 0.451867,
     "end_time": "2024-09-28T17:25:41.850180",
     "exception": false,
     "start_time": "2024-09-28T17:25:41.398313",
     "status": "completed"
    },
    "tags": []
   },
   "outputs": [
    {
     "data": {
      "text/html": [
       "<div>\n",
       "<style scoped>\n",
       "    .dataframe tbody tr th:only-of-type {\n",
       "        vertical-align: middle;\n",
       "    }\n",
       "\n",
       "    .dataframe tbody tr th {\n",
       "        vertical-align: top;\n",
       "    }\n",
       "\n",
       "    .dataframe thead th {\n",
       "        text-align: right;\n",
       "    }\n",
       "</style>\n",
       "<table border=\"1\" class=\"dataframe\">\n",
       "  <thead>\n",
       "    <tr style=\"text-align: right;\">\n",
       "      <th></th>\n",
       "      <th>id</th>\n",
       "      <th>predicted_price</th>\n",
       "    </tr>\n",
       "  </thead>\n",
       "  <tbody>\n",
       "    <tr>\n",
       "      <th>0</th>\n",
       "      <td>188533</td>\n",
       "      <td>19002.200667</td>\n",
       "    </tr>\n",
       "    <tr>\n",
       "      <th>1</th>\n",
       "      <td>188534</td>\n",
       "      <td>68787.864958</td>\n",
       "    </tr>\n",
       "    <tr>\n",
       "      <th>2</th>\n",
       "      <td>188535</td>\n",
       "      <td>54758.207685</td>\n",
       "    </tr>\n",
       "    <tr>\n",
       "      <th>3</th>\n",
       "      <td>188536</td>\n",
       "      <td>23771.907100</td>\n",
       "    </tr>\n",
       "    <tr>\n",
       "      <th>4</th>\n",
       "      <td>188537</td>\n",
       "      <td>29207.575536</td>\n",
       "    </tr>\n",
       "    <tr>\n",
       "      <th>...</th>\n",
       "      <td>...</td>\n",
       "      <td>...</td>\n",
       "    </tr>\n",
       "    <tr>\n",
       "      <th>125685</th>\n",
       "      <td>314218</td>\n",
       "      <td>24162.062198</td>\n",
       "    </tr>\n",
       "    <tr>\n",
       "      <th>125686</th>\n",
       "      <td>314219</td>\n",
       "      <td>47447.060782</td>\n",
       "    </tr>\n",
       "    <tr>\n",
       "      <th>125687</th>\n",
       "      <td>314220</td>\n",
       "      <td>18340.245061</td>\n",
       "    </tr>\n",
       "    <tr>\n",
       "      <th>125688</th>\n",
       "      <td>314221</td>\n",
       "      <td>15633.915284</td>\n",
       "    </tr>\n",
       "    <tr>\n",
       "      <th>125689</th>\n",
       "      <td>314222</td>\n",
       "      <td>37345.564597</td>\n",
       "    </tr>\n",
       "  </tbody>\n",
       "</table>\n",
       "<p>125690 rows × 2 columns</p>\n",
       "</div>"
      ],
      "text/plain": [
       "            id  predicted_price\n",
       "0       188533     19002.200667\n",
       "1       188534     68787.864958\n",
       "2       188535     54758.207685\n",
       "3       188536     23771.907100\n",
       "4       188537     29207.575536\n",
       "...        ...              ...\n",
       "125685  314218     24162.062198\n",
       "125686  314219     47447.060782\n",
       "125687  314220     18340.245061\n",
       "125688  314221     15633.915284\n",
       "125689  314222     37345.564597\n",
       "\n",
       "[125690 rows x 2 columns]"
      ]
     },
     "execution_count": 20,
     "metadata": {},
     "output_type": "execute_result"
    }
   ],
   "source": [
    "test_results"
   ]
  },
  {
   "cell_type": "code",
   "execution_count": 21,
   "id": "1dfdb684",
   "metadata": {
    "execution": {
     "iopub.execute_input": "2024-09-28T17:25:42.786543Z",
     "iopub.status.busy": "2024-09-28T17:25:42.786174Z",
     "iopub.status.idle": "2024-09-28T17:25:43.127308Z",
     "shell.execute_reply": "2024-09-28T17:25:43.126446Z"
    },
    "papermill": {
     "duration": 0.823244,
     "end_time": "2024-09-28T17:25:43.129763",
     "exception": false,
     "start_time": "2024-09-28T17:25:42.306519",
     "status": "completed"
    },
    "tags": []
   },
   "outputs": [],
   "source": [
    "# Save the predictions to a CSV file\n",
    "test_results.to_csv('submission.csv', index=False)"
   ]
  },
  {
   "cell_type": "code",
   "execution_count": null,
   "id": "acef5605",
   "metadata": {
    "papermill": {
     "duration": 0.433165,
     "end_time": "2024-09-28T17:25:44.006656",
     "exception": false,
     "start_time": "2024-09-28T17:25:43.573491",
     "status": "completed"
    },
    "tags": []
   },
   "outputs": [],
   "source": []
  }
 ],
 "metadata": {
  "kaggle": {
   "accelerator": "gpu",
   "dataSources": [
    {
     "databundleVersionId": 9057646,
     "sourceId": 76728,
     "sourceType": "competition"
    }
   ],
   "dockerImageVersionId": 30761,
   "isGpuEnabled": true,
   "isInternetEnabled": true,
   "language": "python",
   "sourceType": "notebook"
  },
  "kernelspec": {
   "display_name": "Python 3",
   "language": "python",
   "name": "python3"
  },
  "language_info": {
   "codemirror_mode": {
    "name": "ipython",
    "version": 3
   },
   "file_extension": ".py",
   "mimetype": "text/x-python",
   "name": "python",
   "nbconvert_exporter": "python",
   "pygments_lexer": "ipython3",
   "version": "3.10.14"
  },
  "papermill": {
   "default_parameters": {},
   "duration": 413.074448,
   "end_time": "2024-09-28T17:25:47.158082",
   "environment_variables": {},
   "exception": null,
   "input_path": "__notebook__.ipynb",
   "output_path": "__notebook__.ipynb",
   "parameters": {},
   "start_time": "2024-09-28T17:18:54.083634",
   "version": "2.6.0"
  }
 },
 "nbformat": 4,
 "nbformat_minor": 5
}
